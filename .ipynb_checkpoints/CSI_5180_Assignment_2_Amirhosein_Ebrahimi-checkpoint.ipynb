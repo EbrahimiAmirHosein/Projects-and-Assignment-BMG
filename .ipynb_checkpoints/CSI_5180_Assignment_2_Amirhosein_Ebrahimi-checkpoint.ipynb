{
 "cells": [
  {
   "cell_type": "markdown",
   "metadata": {
    "id": "ThZ3QiETyWJu"
   },
   "source": [
    "<div align=\"center\" style=\"padding: 20px; background-color: #f5f5f5; border-radius: 10px; box-shadow: 0px 4px 8px rgba(0,0,0,0.1);\">\n",
    "\n",
    "# 🎓 [**CSI 5180: Topics in Artificial Intelligence: Machine Learning for Bioinformatics**](https://turcotte.xyz/teaching/csi-5180/)  \n",
    "\n",
    "\n",
    "---\n",
    "\n",
    "## 📂 [**Assignment 2**](https://turcotte.xyz/teaching/csi-5180/evaluations/a2/)\n",
    "\n",
    "---\n",
    "\n",
    "### ✍️ **Amirhossein Ebrahimi**  \n",
    "🆔 **300396640**\n",
    "\n",
    "</div>\n"
   ]
  },
  {
   "cell_type": "markdown",
   "metadata": {
    "id": "OgeMRGsQCDEy"
   },
   "source": [
    "#  Loading Necessary Libraries\n",
    "\n",
    "\n",
    "---\n",
    "\n",
    "\n"
   ]
  },
  {
   "cell_type": "code",
   "execution_count": 1,
   "metadata": {
    "id": "OfUuvToR4tYd"
   },
   "outputs": [],
   "source": [
    "# uncomment if not installed\n",
    "# !pip install numpy\n",
    "# !pip install pandas\n",
    "# !pip install plotly\n",
    "# !pip install scikit-learn\n",
    "# !pip install imbalanced-learn\n",
    "# !pip install tqdm\n",
    "# !pip install requests\n",
    "# !pip install tensorflow\n",
    "# !pip install scikeras\n",
    "# !pip install torch\n",
    "# !pip install transformers"
   ]
  },
  {
   "cell_type": "code",
   "execution_count": null,
   "metadata": {
    "colab": {
     "base_uri": "https://localhost:8080/"
    },
    "id": "6janIS400Cpa",
    "outputId": "2f7dd1fe-fd95-4d7f-d1a1-ebdcf13ab7f3"
   },
   "outputs": [],
   "source": [
    "!pip install imbalanced-learn\n",
    "!pip install scikeras[tensorflow]"
   ]
  },
  {
   "cell_type": "code",
   "execution_count": 2,
   "metadata": {
    "id": "97UPcXwdB6TF"
   },
   "outputs": [],
   "source": [
    "import numpy as np\n",
    "import pandas as pd\n",
    "\n",
    "import plotly.express as px\n",
    "import plotly.graph_objects as go\n",
    "from plotly.subplots import make_subplots\n",
    "\n",
    "\n",
    "from sklearn.manifold import TSNE\n",
    "from sklearn.metrics import classification_report, confusion_matrix, balanced_accuracy_score, f1_score\n",
    "from sklearn.linear_model import LogisticRegression\n",
    "from sklearn.model_selection import train_test_split,  StratifiedKFold, KFold, GridSearchCV\n",
    "from sklearn.base import clone\n",
    "from imblearn.over_sampling import RandomOverSampler\n",
    "from sklearn.ensemble import RandomForestClassifier\n",
    "\n",
    "from datetime import datetime\n",
    "from tqdm import tqdm\n",
    "\n",
    "import itertools\n",
    "import requests\n",
    "import os\n",
    "\n",
    "import tensorflow as tf\n",
    "from tensorflow.keras import layers, models\n",
    "from tensorflow.keras import Sequential\n",
    "from tensorflow.keras.losses import BinaryCrossentropy\n",
    "from tensorflow.keras.layers import Conv1D, MaxPooling1D, GlobalMaxPooling1D, Dense, Dropout, LeakyReLU, LSTM\n",
    "from tensorflow.keras.optimizers import Adam, RMSprop, SGD, Adagrad"
   ]
  },
  {
   "cell_type": "code",
   "execution_count": 3,
   "metadata": {},
   "outputs": [
    {
     "data": {
      "text/html": [
       "        <script type=\"text/javascript\">\n",
       "        window.PlotlyConfig = {MathJaxConfig: 'local'};\n",
       "        if (window.MathJax && window.MathJax.Hub && window.MathJax.Hub.Config) {window.MathJax.Hub.Config({SVG: {font: \"STIX-Web\"}});}\n",
       "        </script>\n",
       "        <script type=\"module\">import \"https://cdn.plot.ly/plotly-3.0.0.min\"</script>\n",
       "        "
      ]
     },
     "metadata": {},
     "output_type": "display_data"
    }
   ],
   "source": [
    "from plotly.offline import init_notebook_mode\n",
    "import plotly.graph_objects as go\n",
    "init_notebook_mode(connected=True)"
   ]
  },
  {
   "cell_type": "code",
   "execution_count": 4,
   "metadata": {
    "id": "hcP0HB95CdIb"
   },
   "outputs": [],
   "source": [
    "url_1 = \"https://raw.githubusercontent.com/solovictor/CNNPromoterData/refs/heads/master/Arabidopsis_tata.fa\"\n",
    "url_2 = \"https://raw.githubusercontent.com/solovictor/CNNPromoterData/refs/heads/master/Arabidopsis_non_tata.fa\"\n",
    "url_3 = \"https://raw.githubusercontent.com/solovictor/CNNPromoterData/refs/heads/master/Arabidopsis_non_prom_big.fa\""
   ]
  },
  {
   "cell_type": "markdown",
   "metadata": {
    "id": "2EGI6qfeFEj-"
   },
   "source": [
    "# Reading data\n",
    "\n",
    "\n",
    "\n",
    "---\n",
    "\n"
   ]
  },
  {
   "cell_type": "code",
   "execution_count": 5,
   "metadata": {
    "id": "rhwhsJVhEaog"
   },
   "outputs": [],
   "source": [
    "def read_fasta(url):\n",
    "\n",
    "    response = requests.get(url, stream=True, timeout=10)\n",
    "    response.raise_for_status()\n",
    "\n",
    "    sequences = []\n",
    "    seq = \"\"\n",
    "    for line in response.iter_lines(decode_unicode=True):\n",
    "        line = line.strip()\n",
    "        if not line:\n",
    "            continue\n",
    "        if line.startswith('>'):\n",
    "            if seq:\n",
    "                sequences.append(seq)\n",
    "            seq = \"\"\n",
    "        else:\n",
    "            seq += line\n",
    "    if seq:\n",
    "        sequences.append(seq)\n",
    "\n",
    "    return np.array(sequences)"
   ]
  },
  {
   "cell_type": "code",
   "execution_count": 6,
   "metadata": {
    "id": "gphW5XdiF9yf"
   },
   "outputs": [],
   "source": [
    "Arabidopsis_tata = read_fasta(url_1)\n",
    "Arabidopsis_non_tata = read_fasta(url_2)\n",
    "Arabidopsis_non_prom_big = read_fasta(url_3)"
   ]
  },
  {
   "cell_type": "code",
   "execution_count": 7,
   "metadata": {
    "colab": {
     "base_uri": "https://localhost:8080/"
    },
    "id": "Xum9JCuEJ-0M",
    "outputId": "c3bc3bf0-e85c-4105-eade-045cfea4a886"
   },
   "outputs": [
    {
     "data": {
      "text/plain": [
       "((1497,), (5905,), (11459,))"
      ]
     },
     "execution_count": 7,
     "metadata": {},
     "output_type": "execute_result"
    }
   ],
   "source": [
    "Arabidopsis_tata.shape , Arabidopsis_non_tata.shape, Arabidopsis_non_prom_big.shape"
   ]
  },
  {
   "cell_type": "markdown",
   "metadata": {
    "id": "vz3O6e6uk730"
   },
   "source": [
    "####  Ensuring sequences only have ```'A' 'T' 'G' 'C' ``` values\n",
    "\n",
    "\n",
    "When I was processing these FASTA files later, I found some weird elements `N` in the `Arabidopsis_non_prom_big`. So i decided to remove them.\n",
    "\n",
    "It makes more sense to remove any subsequence that does not include ATGC, but I only checked `N`.\n",
    "\n",
    "\n",
    "---\n",
    "\n",
    "\n",
    "\n"
   ]
  },
  {
   "cell_type": "code",
   "execution_count": 8,
   "metadata": {
    "id": "ezYGMakcoJ81"
   },
   "outputs": [],
   "source": [
    "def remove_invalid(sequence):\n",
    "  for sec in sequence:\n",
    "    if 'N' in sec:\n",
    "      print(f\"Invalid char detected at {sec}\")\n",
    "      idx = np.where(sequence==sec)[0]\n",
    "      sequence = np.delete(sequence, idx)\n",
    "  return sequence"
   ]
  },
  {
   "cell_type": "code",
   "execution_count": 9,
   "metadata": {
    "colab": {
     "base_uri": "https://localhost:8080/"
    },
    "id": "TAyc4-w_m8A4",
    "outputId": "f632a263-5dcd-426c-b2eb-2b043cc470f6"
   },
   "outputs": [
    {
     "name": "stdout",
     "output_type": "stream",
     "text": [
      "Invalid char detected at GATATCGTCACCATCCATCTACTCATTGAAGTTGGCAAAATGTGGGCTGAAGATAAGCTTAGATGATTGGAAGCTAGCAGGGACCTACTACTATGATTCCATCGATCTGTCTGAAAACGAGATCTCAGGGAGTCCGGCTAAGTTCCTCAGCCAGANGAAGTATCTGATGGAGTTCCGAGCGGCAGGGAACAAACTCCGATTCGATTTGGGGAAGCTGACGTTTGTGAGGACTCTTGAAACCTTGGATTTGT\n",
      "Invalid char detected at AGGAATGAAGGAAGCAACTGATGGTTATGATGAGAACAGAATCTTGGGCCANGGAGGCCAAGGAACAGTCTACAAAGGTATATTACCGGACAACTCCATAGTTGCTATAAAGAAAGCTCGGCTTGGAGACAATAGCCAAGTAGAGCAGTTCATCAATGAAGTGCTTGTGCTTTCACAAATCAACCATAGGAACGTGGTCAAGCTCTTGGGCTGCTGTCTAGAGACTGAAGTTCCCTTGTTGGTCTATGAGT\n"
     ]
    }
   ],
   "source": [
    "Arabidopsis_tata = remove_invalid(Arabidopsis_tata)\n",
    "Arabidopsis_non_tata = remove_invalid(Arabidopsis_non_tata)\n",
    "Arabidopsis_non_prom_big = remove_invalid(Arabidopsis_non_prom_big)"
   ]
  },
  {
   "cell_type": "markdown",
   "metadata": {
    "id": "-mlSS9cjFB_0"
   },
   "source": [
    "# K-mer/one-hot Encoding\n",
    "\n",
    "\n",
    "---\n",
    "\n",
    "\n",
    "The `count_kmers` function iterates over each sequence and its subsequences, extracts k-length substrings (k-mers), and stores them in a dictionary as keys while incrementing their frequency upon subsequent occurrences.\n",
    "\n",
    "Based on the explanation of k-mer encoding in the [assignment page](https://turcotte.xyz/teaching/csi-5180/evaluations/a1/#:~:text=To%20illustrate%2C%20consider%20the%20sequence), I normalized each k-mer count by dividing it by the total possible number of k-mers in a sequence, calculated as:  \n",
    "\n",
    "```\n",
    "total k-mers = sequence length - k + 1\n",
    "\n",
    "```\n",
    "\n",
    "\n",
    "Once the k-mer encodings were generated, they needed to be converted into a feature space suitable for training. A simple dictionary format, such as `{\"ATTG\": 250}`, was not practical. Instead, I constructed a concatenated DataFrame of both positive and negative samples. Each row represents a sample, while each column corresponds to one of 256 unique k-mers. The features are the normalized k-mer encodings.\n",
    "\n",
    "\n",
    "\n",
    "\n",
    "---\n",
    "\n"
   ]
  },
  {
   "cell_type": "code",
   "execution_count": 10,
   "metadata": {
    "id": "11GfE58uzqSg"
   },
   "outputs": [],
   "source": [
    "def kmer_encode(sequence, k):\n",
    "    kmers = [''.join(p) for p in itertools.product('ACGT', repeat=k)]\n",
    "    kmer_idx = {kmer: idx for idx, kmer in enumerate(kmers)}\n",
    "    sequence = sequence.upper()\n",
    "    total_windows = len(sequence) - k + 1\n",
    "    if total_windows <= 0:\n",
    "        raise ValueError(f\"Sequence too short for k={k}: {sequence}\")\n",
    "    vec = np.zeros(len(kmers), dtype=float)\n",
    "    for i in range(total_windows):\n",
    "        kmer = sequence[i:i+k]\n",
    "        if all(base in 'ACGT' for base in kmer):\n",
    "            vec[kmer_idx[kmer]] += 1\n",
    "    vec /= total_windows\n",
    "    return vec\n",
    "\n",
    "def one_hot_encode(sequence):\n",
    "    base_map = {'A': 0, 'C': 1, 'G': 2, 'T': 3}\n",
    "\n",
    "    sequence = sequence.upper()\n",
    "    seq_len = len(sequence)\n",
    "\n",
    "    one_hot = np.zeros((4, seq_len), dtype=float)\n",
    "\n",
    "    for i, base in enumerate(sequence):\n",
    "        if base in base_map:\n",
    "            one_hot[base_map[base], i] = 1.0\n",
    "\n",
    "    return one_hot\n",
    "\n",
    "def encode_sequences(sequences, k=None, encoding = \"kmer\"):\n",
    "    return np.array([kmer_encode(seq, k) for seq in sequences]) if encoding == \"kmer\" else np.array([one_hot_encode(seq) for seq in sequences])"
   ]
  },
  {
   "cell_type": "code",
   "execution_count": 11,
   "metadata": {
    "colab": {
     "base_uri": "https://localhost:8080/"
    },
    "id": "hTlU3JEMI0YY",
    "outputId": "38199da7-b119-47e2-8a54-5a2567c670e1"
   },
   "outputs": [
    {
     "name": "stdout",
     "output_type": "stream",
     "text": [
      "Tata: 1497 Non-Tata: 5905 Non-Prom: 11457\n",
      "Exp1 Data Shape: (12954, 256) Labels Shape: (12954,)\n",
      "Exp2 Data Shape: (17362, 256) Labels Shape: (17362,)\n",
      "Exp3 Data Shape: (18859, 256) Labels Shape: (18859,)\n"
     ]
    }
   ],
   "source": [
    "k = 4\n",
    "tata_encoded = encode_sequences(Arabidopsis_tata, k, encoding = \"kmer\")\n",
    "non_tata_encoded = encode_sequences(Arabidopsis_non_tata, k, encoding = \"kmer\")\n",
    "non_prom_encoded = encode_sequences(Arabidopsis_non_prom_big, k, encoding = \"kmer\")\n",
    "\n",
    "exp1_data = np.vstack([tata_encoded, non_prom_encoded])\n",
    "exp1_labels = np.concatenate([np.ones(len(tata_encoded)), np.zeros(len(non_prom_encoded))])\n",
    "\n",
    "\n",
    "exp2_data = np.vstack([non_tata_encoded, non_prom_encoded])\n",
    "exp2_labels = np.concatenate([np.ones(len(non_tata_encoded)), np.zeros(len(non_prom_encoded))])\n",
    "\n",
    "\n",
    "exp3_data = np.vstack([tata_encoded, non_tata_encoded, non_prom_encoded])\n",
    "exp3_labels = np.concatenate([np.ones(len(tata_encoded)), np.ones(len(non_tata_encoded)), np.zeros(len(non_prom_encoded))])\n",
    "\n",
    "print(\"Tata:\", len(Arabidopsis_tata), \"Non-Tata:\", len(Arabidopsis_non_tata), \"Non-Prom:\", len(Arabidopsis_non_prom_big))\n",
    "print(\"Exp1 Data Shape:\", exp1_data.shape, \"Labels Shape:\", exp1_labels.shape)\n",
    "print(\"Exp2 Data Shape:\", exp2_data.shape, \"Labels Shape:\", exp2_labels.shape)\n",
    "print(\"Exp3 Data Shape:\", exp3_data.shape, \"Labels Shape:\", exp3_labels.shape)"
   ]
  },
  {
   "cell_type": "markdown",
   "metadata": {
    "id": "BqzITKlEjBY9"
   },
   "source": [
    "# **4. Class Imbalance**"
   ]
  },
  {
   "cell_type": "code",
   "execution_count": 12,
   "metadata": {
    "id": "VFqDuaCQjkV5"
   },
   "outputs": [],
   "source": [
    "def partition_data(data, labels, test_size=0.2, random_state=42):\n",
    "    X_train, X_test, y_train, y_test = train_test_split(data, labels, test_size=test_size, random_state=random_state, stratify=labels)\n",
    "    return X_train, X_test, y_train, y_test"
   ]
  },
  {
   "cell_type": "code",
   "execution_count": 13,
   "metadata": {
    "id": "-ePooSWLtpMJ"
   },
   "outputs": [],
   "source": [
    "def cross_validation_(\n",
    "    model,\n",
    "    data,\n",
    "    labels,\n",
    "    experiment=\"baseline\",\n",
    "    class_weight=\"default\",\n",
    "    random_state=42,\n",
    "    fold=10\n",
    "    ):\n",
    "    X_full_train, X_holdout, y_full_train, y_holdout = train_test_split(\n",
    "        data,\n",
    "        labels,\n",
    "        test_size=0.2,\n",
    "        random_state=random_state,\n",
    "        stratify=labels\n",
    "    )\n",
    "\n",
    "    experiment_type = experiment.split(\"-\")[0]\n",
    "\n",
    "    if experiment_type == \"class_weight\":\n",
    "        model.set_params(class_weight=\"balanced\")\n",
    "    elif experiment_type == \"random_oversampling\":\n",
    "        oversampler = RandomOverSampler(random_state=random_state)\n",
    "        X_full_train, y_full_train = oversampler.fit_resample(X_full_train, y_full_train)\n",
    "    elif experiment_type != \"baseline\":\n",
    "        raise ValueError(\"Experiment must be 'baseline', 'class_weight', or 'random_oversampling'\")\n",
    "\n",
    "    kfold = StratifiedKFold(n_splits=fold, shuffle=True, random_state=random_state)\n",
    "\n",
    "    balanced_accuracy_scores = []\n",
    "    macro_f1_scores = []\n",
    "    best_params = None\n",
    "\n",
    "    for train_indices, test_indices in tqdm(kfold.split(X_full_train, y_full_train), desc=\"Training folds\", total=fold):\n",
    "        X_train = X_full_train[train_indices]\n",
    "        X_test = X_full_train[test_indices]\n",
    "        y_train = y_full_train[train_indices]\n",
    "        y_test = y_full_train[test_indices]\n",
    "\n",
    "        fresh_model = clone(model)\n",
    "        fresh_model.fit(X_train, y_train)\n",
    "\n",
    "        predictions = fresh_model.predict(X_test)\n",
    "\n",
    "        balanced_accuracy_scores.append(balanced_accuracy_score(y_test, predictions))\n",
    "        macro_f1_scores.append(f1_score(y_test, predictions, average='macro'))\n",
    "\n",
    "    cv_results = calculate_cv_metrics(balanced_accuracy_scores, macro_f1_scores)\n",
    "\n",
    "    final_model = clone(model)\n",
    "\n",
    "    final_model.fit(X_full_train, y_full_train)\n",
    "\n",
    "    holdout_results = evaluate_holdout(final_model, X_holdout, y_holdout)\n",
    "\n",
    "\n",
    "\n",
    "    return {\n",
    "        \"experiment\": experiment,\n",
    "        **cv_results,\n",
    "        **holdout_results\n",
    "    }\n",
    "\n",
    "\n",
    "\n",
    "def calculate_cv_metrics(balanced_accuracy_scores, macro_f1_scores):\n",
    "    return {\n",
    "        \"mean_balanced_accuracy_cv\": f\"{np.mean(balanced_accuracy_scores):.2f}\",\n",
    "        \"std_balanced_accuracy_cv\": f\"{np.std(balanced_accuracy_scores):.2f}\",\n",
    "        \"mean_macro_f1_cv\": f\"{np.mean(macro_f1_scores):.2f}\",\n",
    "        \"std_macro_f1_cv\": f\"{np.std(macro_f1_scores):.2f}\"\n",
    "    }\n",
    "\n",
    "def evaluate_holdout(model, X_holdout, y_holdout):\n",
    "    predictions = model.predict(X_holdout)\n",
    "    return {\n",
    "        \"holdout_balanced_accuracy\": f\"{balanced_accuracy_score(y_holdout, predictions):.2f}\",\n",
    "        \"holdout_macro_f1\": f\"{f1_score(y_holdout, predictions, average='macro'):.2f}\"\n",
    "    }"
   ]
  },
  {
   "cell_type": "code",
   "execution_count": 14,
   "metadata": {
    "id": "E37nAdui57bw"
   },
   "outputs": [],
   "source": [
    "res_dic = []\n",
    "LR_model = LogisticRegression()"
   ]
  },
  {
   "cell_type": "markdown",
   "metadata": {
    "id": "zeVBf_sli6fc"
   },
   "source": [
    "## 1.  **Baseline Experiment:** No imbalance adjustment"
   ]
  },
  {
   "cell_type": "code",
   "execution_count": 15,
   "metadata": {
    "colab": {
     "base_uri": "https://localhost:8080/"
    },
    "id": "ZF6cSCHftyva",
    "outputId": "4dc4ea7c-e250-485b-e1a9-83e4680cae6d"
   },
   "outputs": [
    {
     "name": "stderr",
     "output_type": "stream",
     "text": [
      "Training folds: 100%|███████████████████████████| 10/10 [00:02<00:00,  3.51it/s]\n"
     ]
    }
   ],
   "source": [
    "res_dic.append(cross_validation_(LR_model, exp1_data, exp1_labels, experiment=\"baseline- dataset1\", random_state=42))"
   ]
  },
  {
   "cell_type": "code",
   "execution_count": 16,
   "metadata": {
    "colab": {
     "base_uri": "https://localhost:8080/"
    },
    "id": "lb1dCHSdt1fu",
    "outputId": "f927446f-327a-4de6-cfff-ffaecfd55398"
   },
   "outputs": [
    {
     "name": "stderr",
     "output_type": "stream",
     "text": [
      "Training folds: 100%|███████████████████████████| 10/10 [00:04<00:00,  2.11it/s]\n"
     ]
    },
    {
     "name": "stderr",
     "output_type": "stream",
     "text": [
      "Training folds: 100%|██████████| 10/10 [00:05<00:00,  1.98it/s]\n"
     ]
    }
   ],
   "source": [
    "res_dic.append(cross_validation_(LR_model, exp2_data, exp2_labels, experiment=\"baseline- dataset2\", random_state=42))"
   ]
  },
  {
   "cell_type": "code",
   "execution_count": 17,
   "metadata": {
    "colab": {
     "base_uri": "https://localhost:8080/"
    },
    "id": "jGz4WJE9t19E",
    "outputId": "8ffcdc59-7891-4e60-c2d0-c13efa1ea2fe"
   },
   "outputs": [
    {
     "name": "stderr",
     "output_type": "stream",
     "text": [
      "Training folds: 100%|███████████████████████████| 10/10 [00:03<00:00,  2.76it/s]\n"
     ]
    },
    {
     "name": "stderr",
     "output_type": "stream",
     "text": [
      "Training folds: 100%|██████████| 10/10 [00:04<00:00,  2.45it/s]\n"
     ]
    }
   ],
   "source": [
    "res_dic.append(cross_validation_(LR_model, exp3_data, exp3_labels, experiment=\"baseline- dataset3\", random_state=42))"
   ]
  },
  {
   "cell_type": "markdown",
   "metadata": {
    "id": "eGt-7kh8jORA"
   },
   "source": [
    "## 2.  **Class Weight Adjustment:**"
   ]
  },
  {
   "cell_type": "code",
   "execution_count": 18,
   "metadata": {
    "colab": {
     "base_uri": "https://localhost:8080/"
    },
    "id": "u4FvQ1vwuFLO",
    "outputId": "a9d8fa05-5087-4fc6-9730-bb59939a9fa1"
   },
   "outputs": [
    {
     "name": "stderr",
     "output_type": "stream",
     "text": [
      "Training folds: 100%|███████████████████████████| 10/10 [00:01<00:00,  5.55it/s]\n"
     ]
    },
    {
     "name": "stderr",
     "output_type": "stream",
     "text": [
      "Training folds: 100%|██████████| 10/10 [00:02<00:00,  4.49it/s]\n"
     ]
    }
   ],
   "source": [
    "res_dic.append(cross_validation_(LR_model, exp1_data, exp1_labels, experiment=\"class_weight- dataset1\", class_weight = \"balanced\", random_state=42))"
   ]
  },
  {
   "cell_type": "code",
   "execution_count": 19,
   "metadata": {
    "colab": {
     "base_uri": "https://localhost:8080/"
    },
    "id": "FDTvZns4uFFh",
    "outputId": "3b256a6e-82cb-432d-c771-b942d84e4718"
   },
   "outputs": [
    {
     "name": "stderr",
     "output_type": "stream",
     "text": [
      "Training folds: 100%|███████████████████████████| 10/10 [00:02<00:00,  4.13it/s]\n"
     ]
    },
    {
     "name": "stderr",
     "output_type": "stream",
     "text": [
      "Training folds: 100%|██████████| 10/10 [00:02<00:00,  3.78it/s]\n"
     ]
    }
   ],
   "source": [
    "res_dic.append(cross_validation_(LR_model, exp2_data, exp2_labels, experiment=\"class_weight- dataset2\", class_weight = \"balanced\", random_state=42))"
   ]
  },
  {
   "cell_type": "code",
   "execution_count": 20,
   "metadata": {
    "colab": {
     "base_uri": "https://localhost:8080/"
    },
    "id": "GHAnxUQquE-s",
    "outputId": "eb0e65fd-7b55-44ee-f99a-18786758904d"
   },
   "outputs": [
    {
     "name": "stderr",
     "output_type": "stream",
     "text": [
      "Training folds: 100%|███████████████████████████| 10/10 [00:02<00:00,  4.13it/s]\n"
     ]
    },
    {
     "name": "stderr",
     "output_type": "stream",
     "text": [
      "Training folds: 100%|██████████| 10/10 [00:03<00:00,  3.23it/s]\n"
     ]
    }
   ],
   "source": [
    "res_dic.append(cross_validation_(LR_model, exp3_data, exp3_labels, experiment=\"class_weight- dataset3\", class_weight = \"balanced\", random_state=42))"
   ]
  },
  {
   "cell_type": "markdown",
   "metadata": {
    "id": "0oBFkMPrjPMd"
   },
   "source": [
    "## 3.  **Random Oversampling:** No imbalance adjustment"
   ]
  },
  {
   "cell_type": "code",
   "execution_count": 21,
   "metadata": {
    "colab": {
     "base_uri": "https://localhost:8080/"
    },
    "id": "2L_Z54WEjWnf",
    "outputId": "34bbb485-f3e0-4bd6-9633-28c90f4080f6"
   },
   "outputs": [
    {
     "name": "stderr",
     "output_type": "stream",
     "text": [
      "Training folds: 100%|███████████████████████████| 10/10 [00:02<00:00,  4.19it/s]\n"
     ]
    }
   ],
   "source": [
    "res_dic.append(cross_validation_(LR_model, exp1_data, exp1_labels, experiment=\"random_oversampling- dataset1\", random_state=42))"
   ]
  },
  {
   "cell_type": "code",
   "execution_count": 22,
   "metadata": {
    "colab": {
     "base_uri": "https://localhost:8080/"
    },
    "id": "nTfG8PX_uLJF",
    "outputId": "6d3a94f9-377b-4308-cf90-6486e195099c"
   },
   "outputs": [
    {
     "name": "stderr",
     "output_type": "stream",
     "text": [
      "Training folds: 100%|███████████████████████████| 10/10 [00:03<00:00,  3.06it/s]\n"
     ]
    }
   ],
   "source": [
    "res_dic.append(cross_validation_(LR_model, exp2_data, exp2_labels, experiment=\"random_oversampling- dataset2\", random_state=42))"
   ]
  },
  {
   "cell_type": "code",
   "execution_count": 23,
   "metadata": {
    "colab": {
     "base_uri": "https://localhost:8080/"
    },
    "id": "UAxe23XZuL5Q",
    "outputId": "747c6e36-78af-4599-b608-9ee020a778d2"
   },
   "outputs": [
    {
     "name": "stderr",
     "output_type": "stream",
     "text": [
      "Training folds: 100%|███████████████████████████| 10/10 [00:02<00:00,  3.48it/s]\n"
     ]
    }
   ],
   "source": [
    "res_dic.append(cross_validation_(LR_model, exp3_data, exp3_labels, experiment=\"random_oversampling- dataset3\", random_state=42))"
   ]
  },
  {
   "cell_type": "markdown",
   "metadata": {
    "id": "ZBNwULnqesMG"
   },
   "source": [
    "###  My Observation"
   ]
  },
  {
   "cell_type": "code",
   "execution_count": 25,
   "metadata": {
    "colab": {
     "base_uri": "https://localhost:8080/",
     "height": 542
    },
    "id": "zOtwBln7AS8s",
    "outputId": "557f9ef1-7773-4be9-ad16-b15a829c796f"
   },
   "outputs": [
    {
     "data": {
      "application/vnd.plotly.v1+json": {
       "config": {
        "plotlyServerURL": "https://plot.ly"
       },
       "data": [
        {
         "line": {
          "color": "lightslategray"
         },
         "mode": "lines+markers",
         "name": "Mean Balanced Accuracy",
         "type": "scatter",
         "x": [
          "baseline- dataset1",
          "baseline- dataset2",
          "baseline- dataset3",
          "class_weight- dataset1",
          "class_weight- dataset2",
          "class_weight- dataset3",
          "random_oversampling- dataset1",
          "random_oversampling- dataset2",
          "random_oversampling- dataset3"
         ],
         "y": [
          0.5,
          0.76,
          0.82,
          0.89,
          0.88,
          0.88,
          0.89,
          0.88,
          0.88
         ]
        },
        {
         "line": {
          "color": "purple"
         },
         "mode": "lines+markers",
         "name": "Mean Macro F1",
         "type": "scatter",
         "x": [
          "baseline- dataset1",
          "baseline- dataset2",
          "baseline- dataset3",
          "class_weight- dataset1",
          "class_weight- dataset2",
          "class_weight- dataset3",
          "random_oversampling- dataset1",
          "random_oversampling- dataset2",
          "random_oversampling- dataset3"
         ],
         "y": [
          0.47,
          0.78,
          0.83,
          0.81,
          0.87,
          0.88,
          0.89,
          0.88,
          0.88
         ]
        },
        {
         "marker": {
          "color": "yellow",
          "opacity": 0.6,
          "size": 10,
          "symbol": "x"
         },
         "mode": "markers",
         "name": "Holdout Balanced Accuracy",
         "type": "scatter",
         "x": [
          "baseline- dataset1",
          "baseline- dataset2",
          "baseline- dataset3",
          "class_weight- dataset1",
          "class_weight- dataset2",
          "class_weight- dataset3",
          "random_oversampling- dataset1",
          "random_oversampling- dataset2",
          "random_oversampling- dataset3"
         ],
         "y": [
          0.51,
          0.77,
          0.83,
          0.89,
          0.88,
          0.89,
          0.9,
          0.88,
          0.89
         ]
        },
        {
         "marker": {
          "color": "darkgrey",
          "opacity": 0.6,
          "size": 10,
          "symbol": "triangle-up"
         },
         "mode": "markers",
         "name": "Holdout Macro F1",
         "type": "scatter",
         "x": [
          "baseline- dataset1",
          "baseline- dataset2",
          "baseline- dataset3",
          "class_weight- dataset1",
          "class_weight- dataset2",
          "class_weight- dataset3",
          "random_oversampling- dataset1",
          "random_oversampling- dataset2",
          "random_oversampling- dataset3"
         ],
         "y": [
          0.49,
          0.79,
          0.84,
          0.81,
          0.88,
          0.89,
          0.81,
          0.88,
          0.89
         ]
        }
       ],
       "layout": {
        "barmode": "group",
        "template": {
         "data": {
          "bar": [
           {
            "error_x": {
             "color": "#2a3f5f"
            },
            "error_y": {
             "color": "#2a3f5f"
            },
            "marker": {
             "line": {
              "color": "#E5ECF6",
              "width": 0.5
             },
             "pattern": {
              "fillmode": "overlay",
              "size": 10,
              "solidity": 0.2
             }
            },
            "type": "bar"
           }
          ],
          "barpolar": [
           {
            "marker": {
             "line": {
              "color": "#E5ECF6",
              "width": 0.5
             },
             "pattern": {
              "fillmode": "overlay",
              "size": 10,
              "solidity": 0.2
             }
            },
            "type": "barpolar"
           }
          ],
          "carpet": [
           {
            "aaxis": {
             "endlinecolor": "#2a3f5f",
             "gridcolor": "white",
             "linecolor": "white",
             "minorgridcolor": "white",
             "startlinecolor": "#2a3f5f"
            },
            "baxis": {
             "endlinecolor": "#2a3f5f",
             "gridcolor": "white",
             "linecolor": "white",
             "minorgridcolor": "white",
             "startlinecolor": "#2a3f5f"
            },
            "type": "carpet"
           }
          ],
          "choropleth": [
           {
            "colorbar": {
             "outlinewidth": 0,
             "ticks": ""
            },
            "type": "choropleth"
           }
          ],
          "contour": [
           {
            "colorbar": {
             "outlinewidth": 0,
             "ticks": ""
            },
            "colorscale": [
             [
              0,
              "#0d0887"
             ],
             [
              0.1111111111111111,
              "#46039f"
             ],
             [
              0.2222222222222222,
              "#7201a8"
             ],
             [
              0.3333333333333333,
              "#9c179e"
             ],
             [
              0.4444444444444444,
              "#bd3786"
             ],
             [
              0.5555555555555556,
              "#d8576b"
             ],
             [
              0.6666666666666666,
              "#ed7953"
             ],
             [
              0.7777777777777778,
              "#fb9f3a"
             ],
             [
              0.8888888888888888,
              "#fdca26"
             ],
             [
              1,
              "#f0f921"
             ]
            ],
            "type": "contour"
           }
          ],
          "contourcarpet": [
           {
            "colorbar": {
             "outlinewidth": 0,
             "ticks": ""
            },
            "type": "contourcarpet"
           }
          ],
          "heatmap": [
           {
            "colorbar": {
             "outlinewidth": 0,
             "ticks": ""
            },
            "colorscale": [
             [
              0,
              "#0d0887"
             ],
             [
              0.1111111111111111,
              "#46039f"
             ],
             [
              0.2222222222222222,
              "#7201a8"
             ],
             [
              0.3333333333333333,
              "#9c179e"
             ],
             [
              0.4444444444444444,
              "#bd3786"
             ],
             [
              0.5555555555555556,
              "#d8576b"
             ],
             [
              0.6666666666666666,
              "#ed7953"
             ],
             [
              0.7777777777777778,
              "#fb9f3a"
             ],
             [
              0.8888888888888888,
              "#fdca26"
             ],
             [
              1,
              "#f0f921"
             ]
            ],
            "type": "heatmap"
           }
          ],
          "histogram": [
           {
            "marker": {
             "pattern": {
              "fillmode": "overlay",
              "size": 10,
              "solidity": 0.2
             }
            },
            "type": "histogram"
           }
          ],
          "histogram2d": [
           {
            "colorbar": {
             "outlinewidth": 0,
             "ticks": ""
            },
            "colorscale": [
             [
              0,
              "#0d0887"
             ],
             [
              0.1111111111111111,
              "#46039f"
             ],
             [
              0.2222222222222222,
              "#7201a8"
             ],
             [
              0.3333333333333333,
              "#9c179e"
             ],
             [
              0.4444444444444444,
              "#bd3786"
             ],
             [
              0.5555555555555556,
              "#d8576b"
             ],
             [
              0.6666666666666666,
              "#ed7953"
             ],
             [
              0.7777777777777778,
              "#fb9f3a"
             ],
             [
              0.8888888888888888,
              "#fdca26"
             ],
             [
              1,
              "#f0f921"
             ]
            ],
            "type": "histogram2d"
           }
          ],
          "histogram2dcontour": [
           {
            "colorbar": {
             "outlinewidth": 0,
             "ticks": ""
            },
            "colorscale": [
             [
              0,
              "#0d0887"
             ],
             [
              0.1111111111111111,
              "#46039f"
             ],
             [
              0.2222222222222222,
              "#7201a8"
             ],
             [
              0.3333333333333333,
              "#9c179e"
             ],
             [
              0.4444444444444444,
              "#bd3786"
             ],
             [
              0.5555555555555556,
              "#d8576b"
             ],
             [
              0.6666666666666666,
              "#ed7953"
             ],
             [
              0.7777777777777778,
              "#fb9f3a"
             ],
             [
              0.8888888888888888,
              "#fdca26"
             ],
             [
              1,
              "#f0f921"
             ]
            ],
            "type": "histogram2dcontour"
           }
          ],
          "mesh3d": [
           {
            "colorbar": {
             "outlinewidth": 0,
             "ticks": ""
            },
            "type": "mesh3d"
           }
          ],
          "parcoords": [
           {
            "line": {
             "colorbar": {
              "outlinewidth": 0,
              "ticks": ""
             }
            },
            "type": "parcoords"
           }
          ],
          "pie": [
           {
            "automargin": true,
            "type": "pie"
           }
          ],
          "scatter": [
           {
            "fillpattern": {
             "fillmode": "overlay",
             "size": 10,
             "solidity": 0.2
            },
            "type": "scatter"
           }
          ],
          "scatter3d": [
           {
            "line": {
             "colorbar": {
              "outlinewidth": 0,
              "ticks": ""
             }
            },
            "marker": {
             "colorbar": {
              "outlinewidth": 0,
              "ticks": ""
             }
            },
            "type": "scatter3d"
           }
          ],
          "scattercarpet": [
           {
            "marker": {
             "colorbar": {
              "outlinewidth": 0,
              "ticks": ""
             }
            },
            "type": "scattercarpet"
           }
          ],
          "scattergeo": [
           {
            "marker": {
             "colorbar": {
              "outlinewidth": 0,
              "ticks": ""
             }
            },
            "type": "scattergeo"
           }
          ],
          "scattergl": [
           {
            "marker": {
             "colorbar": {
              "outlinewidth": 0,
              "ticks": ""
             }
            },
            "type": "scattergl"
           }
          ],
          "scattermap": [
           {
            "marker": {
             "colorbar": {
              "outlinewidth": 0,
              "ticks": ""
             }
            },
            "type": "scattermap"
           }
          ],
          "scattermapbox": [
           {
            "marker": {
             "colorbar": {
              "outlinewidth": 0,
              "ticks": ""
             }
            },
            "type": "scattermapbox"
           }
          ],
          "scatterpolar": [
           {
            "marker": {
             "colorbar": {
              "outlinewidth": 0,
              "ticks": ""
             }
            },
            "type": "scatterpolar"
           }
          ],
          "scatterpolargl": [
           {
            "marker": {
             "colorbar": {
              "outlinewidth": 0,
              "ticks": ""
             }
            },
            "type": "scatterpolargl"
           }
          ],
          "scatterternary": [
           {
            "marker": {
             "colorbar": {
              "outlinewidth": 0,
              "ticks": ""
             }
            },
            "type": "scatterternary"
           }
          ],
          "surface": [
           {
            "colorbar": {
             "outlinewidth": 0,
             "ticks": ""
            },
            "colorscale": [
             [
              0,
              "#0d0887"
             ],
             [
              0.1111111111111111,
              "#46039f"
             ],
             [
              0.2222222222222222,
              "#7201a8"
             ],
             [
              0.3333333333333333,
              "#9c179e"
             ],
             [
              0.4444444444444444,
              "#bd3786"
             ],
             [
              0.5555555555555556,
              "#d8576b"
             ],
             [
              0.6666666666666666,
              "#ed7953"
             ],
             [
              0.7777777777777778,
              "#fb9f3a"
             ],
             [
              0.8888888888888888,
              "#fdca26"
             ],
             [
              1,
              "#f0f921"
             ]
            ],
            "type": "surface"
           }
          ],
          "table": [
           {
            "cells": {
             "fill": {
              "color": "#EBF0F8"
             },
             "line": {
              "color": "white"
             }
            },
            "header": {
             "fill": {
              "color": "#C8D4E3"
             },
             "line": {
              "color": "white"
             }
            },
            "type": "table"
           }
          ]
         },
         "layout": {
          "annotationdefaults": {
           "arrowcolor": "#2a3f5f",
           "arrowhead": 0,
           "arrowwidth": 1
          },
          "autotypenumbers": "strict",
          "coloraxis": {
           "colorbar": {
            "outlinewidth": 0,
            "ticks": ""
           }
          },
          "colorscale": {
           "diverging": [
            [
             0,
             "#8e0152"
            ],
            [
             0.1,
             "#c51b7d"
            ],
            [
             0.2,
             "#de77ae"
            ],
            [
             0.3,
             "#f1b6da"
            ],
            [
             0.4,
             "#fde0ef"
            ],
            [
             0.5,
             "#f7f7f7"
            ],
            [
             0.6,
             "#e6f5d0"
            ],
            [
             0.7,
             "#b8e186"
            ],
            [
             0.8,
             "#7fbc41"
            ],
            [
             0.9,
             "#4d9221"
            ],
            [
             1,
             "#276419"
            ]
           ],
           "sequential": [
            [
             0,
             "#0d0887"
            ],
            [
             0.1111111111111111,
             "#46039f"
            ],
            [
             0.2222222222222222,
             "#7201a8"
            ],
            [
             0.3333333333333333,
             "#9c179e"
            ],
            [
             0.4444444444444444,
             "#bd3786"
            ],
            [
             0.5555555555555556,
             "#d8576b"
            ],
            [
             0.6666666666666666,
             "#ed7953"
            ],
            [
             0.7777777777777778,
             "#fb9f3a"
            ],
            [
             0.8888888888888888,
             "#fdca26"
            ],
            [
             1,
             "#f0f921"
            ]
           ],
           "sequentialminus": [
            [
             0,
             "#0d0887"
            ],
            [
             0.1111111111111111,
             "#46039f"
            ],
            [
             0.2222222222222222,
             "#7201a8"
            ],
            [
             0.3333333333333333,
             "#9c179e"
            ],
            [
             0.4444444444444444,
             "#bd3786"
            ],
            [
             0.5555555555555556,
             "#d8576b"
            ],
            [
             0.6666666666666666,
             "#ed7953"
            ],
            [
             0.7777777777777778,
             "#fb9f3a"
            ],
            [
             0.8888888888888888,
             "#fdca26"
            ],
            [
             1,
             "#f0f921"
            ]
           ]
          },
          "colorway": [
           "#636efa",
           "#EF553B",
           "#00cc96",
           "#ab63fa",
           "#FFA15A",
           "#19d3f3",
           "#FF6692",
           "#B6E880",
           "#FF97FF",
           "#FECB52"
          ],
          "font": {
           "color": "#2a3f5f"
          },
          "geo": {
           "bgcolor": "white",
           "lakecolor": "white",
           "landcolor": "#E5ECF6",
           "showlakes": true,
           "showland": true,
           "subunitcolor": "white"
          },
          "hoverlabel": {
           "align": "left"
          },
          "hovermode": "closest",
          "mapbox": {
           "style": "light"
          },
          "paper_bgcolor": "white",
          "plot_bgcolor": "#E5ECF6",
          "polar": {
           "angularaxis": {
            "gridcolor": "white",
            "linecolor": "white",
            "ticks": ""
           },
           "bgcolor": "#E5ECF6",
           "radialaxis": {
            "gridcolor": "white",
            "linecolor": "white",
            "ticks": ""
           }
          },
          "scene": {
           "xaxis": {
            "backgroundcolor": "#E5ECF6",
            "gridcolor": "white",
            "gridwidth": 2,
            "linecolor": "white",
            "showbackground": true,
            "ticks": "",
            "zerolinecolor": "white"
           },
           "yaxis": {
            "backgroundcolor": "#E5ECF6",
            "gridcolor": "white",
            "gridwidth": 2,
            "linecolor": "white",
            "showbackground": true,
            "ticks": "",
            "zerolinecolor": "white"
           },
           "zaxis": {
            "backgroundcolor": "#E5ECF6",
            "gridcolor": "white",
            "gridwidth": 2,
            "linecolor": "white",
            "showbackground": true,
            "ticks": "",
            "zerolinecolor": "white"
           }
          },
          "shapedefaults": {
           "line": {
            "color": "#2a3f5f"
           }
          },
          "ternary": {
           "aaxis": {
            "gridcolor": "white",
            "linecolor": "white",
            "ticks": ""
           },
           "baxis": {
            "gridcolor": "white",
            "linecolor": "white",
            "ticks": ""
           },
           "bgcolor": "#E5ECF6",
           "caxis": {
            "gridcolor": "white",
            "linecolor": "white",
            "ticks": ""
           }
          },
          "title": {
           "x": 0.05
          },
          "xaxis": {
           "automargin": true,
           "gridcolor": "white",
           "linecolor": "white",
           "ticks": "",
           "title": {
            "standoff": 15
           },
           "zerolinecolor": "white",
           "zerolinewidth": 2
          },
          "yaxis": {
           "automargin": true,
           "gridcolor": "white",
           "linecolor": "white",
           "ticks": "",
           "title": {
            "standoff": 15
           },
           "zerolinecolor": "white",
           "zerolinewidth": 2
          }
         }
        },
        "title": {
         "text": "Comparison of Mean Balanced Accuracy and Macro F1 Scores",
         "x": 0.5
        },
        "xaxis": {
         "tickmode": "array",
         "ticktext": [
          "baseline- dataset1",
          "baseline- dataset2",
          "baseline- dataset3",
          "class_weight- dataset1",
          "class_weight- dataset2",
          "class_weight- dataset3",
          "random_oversampling- dataset1",
          "random_oversampling- dataset2",
          "random_oversampling- dataset3"
         ],
         "tickvals": [
          "baseline- dataset1",
          "baseline- dataset2",
          "baseline- dataset3",
          "class_weight- dataset1",
          "class_weight- dataset2",
          "class_weight- dataset3",
          "random_oversampling- dataset1",
          "random_oversampling- dataset2",
          "random_oversampling- dataset3"
         ],
         "title": {
          "text": "Experiments"
         }
        },
        "yaxis": {
         "title": {
          "text": "Scores"
         }
        }
       }
      },
      "text/html": [
       "<div>            <script src=\"https://cdnjs.cloudflare.com/ajax/libs/mathjax/2.7.5/MathJax.js?config=TeX-AMS-MML_SVG\"></script><script type=\"text/javascript\">if (window.MathJax && window.MathJax.Hub && window.MathJax.Hub.Config) {window.MathJax.Hub.Config({SVG: {font: \"STIX-Web\"}});}</script>                <script type=\"text/javascript\">window.PlotlyConfig = {MathJaxConfig: 'local'};</script>\n",
       "        <script charset=\"utf-8\" src=\"https://cdn.plot.ly/plotly-3.0.0.min.js\"></script>                <div id=\"8df17c4d-12ef-4e73-a1bd-1ee829cdede3\" class=\"plotly-graph-div\" style=\"height:525px; width:100%;\"></div>            <script type=\"text/javascript\">                window.PLOTLYENV=window.PLOTLYENV || {};                                if (document.getElementById(\"8df17c4d-12ef-4e73-a1bd-1ee829cdede3\")) {                    Plotly.newPlot(                        \"8df17c4d-12ef-4e73-a1bd-1ee829cdede3\",                        [{\"line\":{\"color\":\"lightslategray\"},\"mode\":\"lines+markers\",\"name\":\"Mean Balanced Accuracy\",\"x\":[\"baseline- dataset1\",\"baseline- dataset2\",\"baseline- dataset3\",\"class_weight- dataset1\",\"class_weight- dataset2\",\"class_weight- dataset3\",\"random_oversampling- dataset1\",\"random_oversampling- dataset2\",\"random_oversampling- dataset3\"],\"y\":[0.5,0.76,0.82,0.89,0.88,0.88,0.89,0.88,0.88],\"type\":\"scatter\"},{\"line\":{\"color\":\"purple\"},\"mode\":\"lines+markers\",\"name\":\"Mean Macro F1\",\"x\":[\"baseline- dataset1\",\"baseline- dataset2\",\"baseline- dataset3\",\"class_weight- dataset1\",\"class_weight- dataset2\",\"class_weight- dataset3\",\"random_oversampling- dataset1\",\"random_oversampling- dataset2\",\"random_oversampling- dataset3\"],\"y\":[0.47,0.78,0.83,0.81,0.87,0.88,0.89,0.88,0.88],\"type\":\"scatter\"},{\"marker\":{\"color\":\"yellow\",\"opacity\":0.6,\"size\":10,\"symbol\":\"x\"},\"mode\":\"markers\",\"name\":\"Holdout Balanced Accuracy\",\"x\":[\"baseline- dataset1\",\"baseline- dataset2\",\"baseline- dataset3\",\"class_weight- dataset1\",\"class_weight- dataset2\",\"class_weight- dataset3\",\"random_oversampling- dataset1\",\"random_oversampling- dataset2\",\"random_oversampling- dataset3\"],\"y\":[0.51,0.77,0.83,0.89,0.88,0.89,0.9,0.88,0.89],\"type\":\"scatter\"},{\"marker\":{\"color\":\"darkgrey\",\"opacity\":0.6,\"size\":10,\"symbol\":\"triangle-up\"},\"mode\":\"markers\",\"name\":\"Holdout Macro F1\",\"x\":[\"baseline- dataset1\",\"baseline- dataset2\",\"baseline- dataset3\",\"class_weight- dataset1\",\"class_weight- dataset2\",\"class_weight- dataset3\",\"random_oversampling- dataset1\",\"random_oversampling- dataset2\",\"random_oversampling- dataset3\"],\"y\":[0.49,0.79,0.84,0.81,0.88,0.89,0.81,0.88,0.89],\"type\":\"scatter\"}],                        {\"template\":{\"data\":{\"histogram2dcontour\":[{\"type\":\"histogram2dcontour\",\"colorbar\":{\"outlinewidth\":0,\"ticks\":\"\"},\"colorscale\":[[0.0,\"#0d0887\"],[0.1111111111111111,\"#46039f\"],[0.2222222222222222,\"#7201a8\"],[0.3333333333333333,\"#9c179e\"],[0.4444444444444444,\"#bd3786\"],[0.5555555555555556,\"#d8576b\"],[0.6666666666666666,\"#ed7953\"],[0.7777777777777778,\"#fb9f3a\"],[0.8888888888888888,\"#fdca26\"],[1.0,\"#f0f921\"]]}],\"choropleth\":[{\"type\":\"choropleth\",\"colorbar\":{\"outlinewidth\":0,\"ticks\":\"\"}}],\"histogram2d\":[{\"type\":\"histogram2d\",\"colorbar\":{\"outlinewidth\":0,\"ticks\":\"\"},\"colorscale\":[[0.0,\"#0d0887\"],[0.1111111111111111,\"#46039f\"],[0.2222222222222222,\"#7201a8\"],[0.3333333333333333,\"#9c179e\"],[0.4444444444444444,\"#bd3786\"],[0.5555555555555556,\"#d8576b\"],[0.6666666666666666,\"#ed7953\"],[0.7777777777777778,\"#fb9f3a\"],[0.8888888888888888,\"#fdca26\"],[1.0,\"#f0f921\"]]}],\"heatmap\":[{\"type\":\"heatmap\",\"colorbar\":{\"outlinewidth\":0,\"ticks\":\"\"},\"colorscale\":[[0.0,\"#0d0887\"],[0.1111111111111111,\"#46039f\"],[0.2222222222222222,\"#7201a8\"],[0.3333333333333333,\"#9c179e\"],[0.4444444444444444,\"#bd3786\"],[0.5555555555555556,\"#d8576b\"],[0.6666666666666666,\"#ed7953\"],[0.7777777777777778,\"#fb9f3a\"],[0.8888888888888888,\"#fdca26\"],[1.0,\"#f0f921\"]]}],\"contourcarpet\":[{\"type\":\"contourcarpet\",\"colorbar\":{\"outlinewidth\":0,\"ticks\":\"\"}}],\"contour\":[{\"type\":\"contour\",\"colorbar\":{\"outlinewidth\":0,\"ticks\":\"\"},\"colorscale\":[[0.0,\"#0d0887\"],[0.1111111111111111,\"#46039f\"],[0.2222222222222222,\"#7201a8\"],[0.3333333333333333,\"#9c179e\"],[0.4444444444444444,\"#bd3786\"],[0.5555555555555556,\"#d8576b\"],[0.6666666666666666,\"#ed7953\"],[0.7777777777777778,\"#fb9f3a\"],[0.8888888888888888,\"#fdca26\"],[1.0,\"#f0f921\"]]}],\"surface\":[{\"type\":\"surface\",\"colorbar\":{\"outlinewidth\":0,\"ticks\":\"\"},\"colorscale\":[[0.0,\"#0d0887\"],[0.1111111111111111,\"#46039f\"],[0.2222222222222222,\"#7201a8\"],[0.3333333333333333,\"#9c179e\"],[0.4444444444444444,\"#bd3786\"],[0.5555555555555556,\"#d8576b\"],[0.6666666666666666,\"#ed7953\"],[0.7777777777777778,\"#fb9f3a\"],[0.8888888888888888,\"#fdca26\"],[1.0,\"#f0f921\"]]}],\"mesh3d\":[{\"type\":\"mesh3d\",\"colorbar\":{\"outlinewidth\":0,\"ticks\":\"\"}}],\"scatter\":[{\"fillpattern\":{\"fillmode\":\"overlay\",\"size\":10,\"solidity\":0.2},\"type\":\"scatter\"}],\"parcoords\":[{\"type\":\"parcoords\",\"line\":{\"colorbar\":{\"outlinewidth\":0,\"ticks\":\"\"}}}],\"scatterpolargl\":[{\"type\":\"scatterpolargl\",\"marker\":{\"colorbar\":{\"outlinewidth\":0,\"ticks\":\"\"}}}],\"bar\":[{\"error_x\":{\"color\":\"#2a3f5f\"},\"error_y\":{\"color\":\"#2a3f5f\"},\"marker\":{\"line\":{\"color\":\"#E5ECF6\",\"width\":0.5},\"pattern\":{\"fillmode\":\"overlay\",\"size\":10,\"solidity\":0.2}},\"type\":\"bar\"}],\"scattergeo\":[{\"type\":\"scattergeo\",\"marker\":{\"colorbar\":{\"outlinewidth\":0,\"ticks\":\"\"}}}],\"scatterpolar\":[{\"type\":\"scatterpolar\",\"marker\":{\"colorbar\":{\"outlinewidth\":0,\"ticks\":\"\"}}}],\"histogram\":[{\"marker\":{\"pattern\":{\"fillmode\":\"overlay\",\"size\":10,\"solidity\":0.2}},\"type\":\"histogram\"}],\"scattergl\":[{\"type\":\"scattergl\",\"marker\":{\"colorbar\":{\"outlinewidth\":0,\"ticks\":\"\"}}}],\"scatter3d\":[{\"type\":\"scatter3d\",\"line\":{\"colorbar\":{\"outlinewidth\":0,\"ticks\":\"\"}},\"marker\":{\"colorbar\":{\"outlinewidth\":0,\"ticks\":\"\"}}}],\"scattermap\":[{\"type\":\"scattermap\",\"marker\":{\"colorbar\":{\"outlinewidth\":0,\"ticks\":\"\"}}}],\"scattermapbox\":[{\"type\":\"scattermapbox\",\"marker\":{\"colorbar\":{\"outlinewidth\":0,\"ticks\":\"\"}}}],\"scatterternary\":[{\"type\":\"scatterternary\",\"marker\":{\"colorbar\":{\"outlinewidth\":0,\"ticks\":\"\"}}}],\"scattercarpet\":[{\"type\":\"scattercarpet\",\"marker\":{\"colorbar\":{\"outlinewidth\":0,\"ticks\":\"\"}}}],\"carpet\":[{\"aaxis\":{\"endlinecolor\":\"#2a3f5f\",\"gridcolor\":\"white\",\"linecolor\":\"white\",\"minorgridcolor\":\"white\",\"startlinecolor\":\"#2a3f5f\"},\"baxis\":{\"endlinecolor\":\"#2a3f5f\",\"gridcolor\":\"white\",\"linecolor\":\"white\",\"minorgridcolor\":\"white\",\"startlinecolor\":\"#2a3f5f\"},\"type\":\"carpet\"}],\"table\":[{\"cells\":{\"fill\":{\"color\":\"#EBF0F8\"},\"line\":{\"color\":\"white\"}},\"header\":{\"fill\":{\"color\":\"#C8D4E3\"},\"line\":{\"color\":\"white\"}},\"type\":\"table\"}],\"barpolar\":[{\"marker\":{\"line\":{\"color\":\"#E5ECF6\",\"width\":0.5},\"pattern\":{\"fillmode\":\"overlay\",\"size\":10,\"solidity\":0.2}},\"type\":\"barpolar\"}],\"pie\":[{\"automargin\":true,\"type\":\"pie\"}]},\"layout\":{\"autotypenumbers\":\"strict\",\"colorway\":[\"#636efa\",\"#EF553B\",\"#00cc96\",\"#ab63fa\",\"#FFA15A\",\"#19d3f3\",\"#FF6692\",\"#B6E880\",\"#FF97FF\",\"#FECB52\"],\"font\":{\"color\":\"#2a3f5f\"},\"hovermode\":\"closest\",\"hoverlabel\":{\"align\":\"left\"},\"paper_bgcolor\":\"white\",\"plot_bgcolor\":\"#E5ECF6\",\"polar\":{\"bgcolor\":\"#E5ECF6\",\"angularaxis\":{\"gridcolor\":\"white\",\"linecolor\":\"white\",\"ticks\":\"\"},\"radialaxis\":{\"gridcolor\":\"white\",\"linecolor\":\"white\",\"ticks\":\"\"}},\"ternary\":{\"bgcolor\":\"#E5ECF6\",\"aaxis\":{\"gridcolor\":\"white\",\"linecolor\":\"white\",\"ticks\":\"\"},\"baxis\":{\"gridcolor\":\"white\",\"linecolor\":\"white\",\"ticks\":\"\"},\"caxis\":{\"gridcolor\":\"white\",\"linecolor\":\"white\",\"ticks\":\"\"}},\"coloraxis\":{\"colorbar\":{\"outlinewidth\":0,\"ticks\":\"\"}},\"colorscale\":{\"sequential\":[[0.0,\"#0d0887\"],[0.1111111111111111,\"#46039f\"],[0.2222222222222222,\"#7201a8\"],[0.3333333333333333,\"#9c179e\"],[0.4444444444444444,\"#bd3786\"],[0.5555555555555556,\"#d8576b\"],[0.6666666666666666,\"#ed7953\"],[0.7777777777777778,\"#fb9f3a\"],[0.8888888888888888,\"#fdca26\"],[1.0,\"#f0f921\"]],\"sequentialminus\":[[0.0,\"#0d0887\"],[0.1111111111111111,\"#46039f\"],[0.2222222222222222,\"#7201a8\"],[0.3333333333333333,\"#9c179e\"],[0.4444444444444444,\"#bd3786\"],[0.5555555555555556,\"#d8576b\"],[0.6666666666666666,\"#ed7953\"],[0.7777777777777778,\"#fb9f3a\"],[0.8888888888888888,\"#fdca26\"],[1.0,\"#f0f921\"]],\"diverging\":[[0,\"#8e0152\"],[0.1,\"#c51b7d\"],[0.2,\"#de77ae\"],[0.3,\"#f1b6da\"],[0.4,\"#fde0ef\"],[0.5,\"#f7f7f7\"],[0.6,\"#e6f5d0\"],[0.7,\"#b8e186\"],[0.8,\"#7fbc41\"],[0.9,\"#4d9221\"],[1,\"#276419\"]]},\"xaxis\":{\"gridcolor\":\"white\",\"linecolor\":\"white\",\"ticks\":\"\",\"title\":{\"standoff\":15},\"zerolinecolor\":\"white\",\"automargin\":true,\"zerolinewidth\":2},\"yaxis\":{\"gridcolor\":\"white\",\"linecolor\":\"white\",\"ticks\":\"\",\"title\":{\"standoff\":15},\"zerolinecolor\":\"white\",\"automargin\":true,\"zerolinewidth\":2},\"scene\":{\"xaxis\":{\"backgroundcolor\":\"#E5ECF6\",\"gridcolor\":\"white\",\"linecolor\":\"white\",\"showbackground\":true,\"ticks\":\"\",\"zerolinecolor\":\"white\",\"gridwidth\":2},\"yaxis\":{\"backgroundcolor\":\"#E5ECF6\",\"gridcolor\":\"white\",\"linecolor\":\"white\",\"showbackground\":true,\"ticks\":\"\",\"zerolinecolor\":\"white\",\"gridwidth\":2},\"zaxis\":{\"backgroundcolor\":\"#E5ECF6\",\"gridcolor\":\"white\",\"linecolor\":\"white\",\"showbackground\":true,\"ticks\":\"\",\"zerolinecolor\":\"white\",\"gridwidth\":2}},\"shapedefaults\":{\"line\":{\"color\":\"#2a3f5f\"}},\"annotationdefaults\":{\"arrowcolor\":\"#2a3f5f\",\"arrowhead\":0,\"arrowwidth\":1},\"geo\":{\"bgcolor\":\"white\",\"landcolor\":\"#E5ECF6\",\"subunitcolor\":\"white\",\"showland\":true,\"showlakes\":true,\"lakecolor\":\"white\"},\"title\":{\"x\":0.05},\"mapbox\":{\"style\":\"light\"}}},\"title\":{\"text\":\"Comparison of Mean Balanced Accuracy and Macro F1 Scores\",\"x\":0.5},\"xaxis\":{\"title\":{\"text\":\"Experiments\"},\"tickmode\":\"array\",\"tickvals\":[\"baseline- dataset1\",\"baseline- dataset2\",\"baseline- dataset3\",\"class_weight- dataset1\",\"class_weight- dataset2\",\"class_weight- dataset3\",\"random_oversampling- dataset1\",\"random_oversampling- dataset2\",\"random_oversampling- dataset3\"],\"ticktext\":[\"baseline- dataset1\",\"baseline- dataset2\",\"baseline- dataset3\",\"class_weight- dataset1\",\"class_weight- dataset2\",\"class_weight- dataset3\",\"random_oversampling- dataset1\",\"random_oversampling- dataset2\",\"random_oversampling- dataset3\"]},\"yaxis\":{\"title\":{\"text\":\"Scores\"}},\"barmode\":\"group\"},                        {\"responsive\": true}                    ).then(function(){\n",
       "                            \n",
       "var gd = document.getElementById('8df17c4d-12ef-4e73-a1bd-1ee829cdede3');\n",
       "var x = new MutationObserver(function (mutations, observer) {{\n",
       "        var display = window.getComputedStyle(gd).display;\n",
       "        if (!display || display === 'none') {{\n",
       "            console.log([gd, 'removed!']);\n",
       "            Plotly.purge(gd);\n",
       "            observer.disconnect();\n",
       "        }}\n",
       "}});\n",
       "\n",
       "// Listen for the removal of the full notebook cells\n",
       "var notebookContainer = gd.closest('#notebook-container');\n",
       "if (notebookContainer) {{\n",
       "    x.observe(notebookContainer, {childList: true});\n",
       "}}\n",
       "\n",
       "// Listen for the clearing of the current output cell\n",
       "var outputEl = gd.closest('.output');\n",
       "if (outputEl) {{\n",
       "    x.observe(outputEl, {childList: true});\n",
       "}}\n",
       "\n",
       "                        })                };            </script>        </div>"
      ]
     },
     "metadata": {},
     "output_type": "display_data"
    }
   ],
   "source": [
    "experiments = [str(d[\"experiment\"]) for d in res_dic]\n",
    "mean_bal_acc = [float(d[\"mean_balanced_accuracy_cv\"]) for d in res_dic]\n",
    "mean_mac_f1 = [float(d[\"mean_macro_f1_cv\"]) for d in res_dic]\n",
    "holdout_mac_f1 = [float(d[\"holdout_macro_f1\"]) for d in res_dic]\n",
    "holdout_bal_acc = [float(d[\"holdout_balanced_accuracy\"]) for d in res_dic]\n",
    "\n",
    "fig = go.Figure()\n",
    "\n",
    "fig.add_trace(go.Scatter(\n",
    "    x=experiments,\n",
    "    y=mean_bal_acc,\n",
    "    mode='lines+markers',\n",
    "    name='Mean Balanced Accuracy',\n",
    "    line=dict(color='lightslategray')\n",
    "))\n",
    "\n",
    "fig.add_trace(go.Scatter(\n",
    "    x=experiments,\n",
    "    y=mean_mac_f1,\n",
    "    mode='lines+markers',\n",
    "    name='Mean Macro F1',\n",
    "    line=dict(color='purple')\n",
    "))\n",
    "\n",
    "fig.add_trace(go.Scatter(\n",
    "    x=experiments,\n",
    "    y=holdout_bal_acc,\n",
    "    mode='markers',\n",
    "    name='Holdout Balanced Accuracy',\n",
    "    marker=dict(symbol='x', color='yellow', size=10, opacity=0.6)\n",
    "))\n",
    "\n",
    "fig.add_trace(go.Scatter(\n",
    "    x=experiments,\n",
    "    y=holdout_mac_f1,\n",
    "    mode='markers',\n",
    "    name='Holdout Macro F1',\n",
    "    marker=dict(symbol='triangle-up', color='darkgrey', size=10, opacity=0.6)\n",
    "))\n",
    "\n",
    "fig.update_layout(\n",
    "    title=\"Comparison of Mean Balanced Accuracy and Macro F1 Scores\",\n",
    "    title_x=0.5,\n",
    "    xaxis_title=\"Experiments\",\n",
    "    yaxis_title=\"Scores\",\n",
    "    barmode='group',\n",
    "    xaxis=dict(\n",
    "        tickmode='array',\n",
    "        tickvals=experiments,\n",
    "        ticktext=experiments\n",
    "    )\n",
    ")\n",
    "\n",
    "fig.show()\n"
   ]
  },
  {
   "cell_type": "markdown",
   "metadata": {
    "id": "YxnN2rVAA5gx"
   },
   "source": [
    "1.  When our data suffers from a **class imbalance** (with the minority class\n",
    "constituting only 12% of the total data), we anticipate poor performance if the imbalance is not addressed. This is evident in the **baseline** results, as shown in the figure above.\n",
    "\n",
    "2.  By addressing the issue using **class weights**, the performance improves significantly compared to baseline.\n",
    "\n",
    "3.  By addressing the issue using **oversampling**, the performance improves compared to  **class weights**.\n",
    "\n",
    "---\n",
    "***Observations on Mean and STD for Balanced Accuracy and Macro F1 Score:***\n",
    "\n",
    "Oversampling improves both generalization (testing on the holdout set) and cross-validation performance. It yields consistent results across different datasets (1, 2, 3) with varying levels of class imbalance, demonstrating its effectiveness in handling class imbalance. However, **class weights** only improved generalization. Both method have almost same performance on the holdout test.\n",
    "\n",
    "**Reason?**:\n",
    "\n",
    "Random oversampling can outperform class weights because it directly increases the amount of minority class data the model sees, often leading to better learning of minority class patterns, while class weights only indirectly influence learning through loss adjustments without adding new information. The actual performance difference depends on the dataset, model, and imbalance severity. Again, Both methods had the same effect on the generalization (testing on the holdout set).\n",
    "\n",
    "\n",
    "\n",
    "\n",
    "\n",
    "\n",
    "\n",
    "\n"
   ]
  },
  {
   "cell_type": "markdown",
   "metadata": {
    "id": "Xb80lRm-DRy_"
   },
   "source": [
    "# **5. Best k**\n"
   ]
  },
  {
   "cell_type": "markdown",
   "metadata": {
    "id": "hPjMRzpqDdxp"
   },
   "source": [
    "\n",
    "\n",
    "*   Dataset 3\n",
    "*   **Oversampling**: most effective strategy\n",
    "\n"
   ]
  },
  {
   "cell_type": "code",
   "execution_count": 26,
   "metadata": {
    "colab": {
     "base_uri": "https://localhost:8080/"
    },
    "id": "OfC-r6JSAyHP",
    "outputId": "c92b7471-d1dc-435a-f251-7d86603fb9d5"
   },
   "outputs": [
    {
     "name": "stderr",
     "output_type": "stream",
     "text": [
      "Training folds: 100%|███████████████████████████| 10/10 [00:00<00:00, 20.89it/s]\n",
      "Training folds: 100%|███████████████████████████| 10/10 [00:04<00:00,  2.32it/s]\n",
      "Training folds: 100%|███████████████████████████| 10/10 [00:02<00:00,  3.65it/s]\n",
      "Training folds: 100%|███████████████████████████| 10/10 [00:03<00:00,  2.89it/s]\n",
      "Training folds: 100%|███████████████████████████| 10/10 [00:09<00:00,  1.06it/s]\n"
     ]
    }
   ],
   "source": [
    "k_res = []\n",
    "for k in range(2,7):\n",
    "\n",
    "  LR_model = clone(LR_model)\n",
    "\n",
    "  tata_encoded = encode_sequences(Arabidopsis_tata, k, encoding = \"kmer\")\n",
    "  non_tata_encoded = encode_sequences(Arabidopsis_non_tata, k, encoding = \"kmer\")\n",
    "  non_prom_encoded = encode_sequences(Arabidopsis_non_prom_big , k, encoding = \"kmer\")\n",
    "\n",
    "  exp3_data = np.vstack([tata_encoded, non_tata_encoded, non_prom_encoded])\n",
    "  exp3_labels = np.concatenate([np.ones(len(tata_encoded)), np.ones(len(non_tata_encoded)), np.zeros(len(non_prom_encoded))])\n",
    "\n",
    "\n",
    "  k_res.append((k, cross_validation_(LR_model, exp3_data, exp3_labels, experiment=\"random_oversampling- dataset3\", random_state=42)))\n",
    "\n"
   ]
  },
  {
   "cell_type": "code",
   "execution_count": 27,
   "metadata": {
    "colab": {
     "base_uri": "https://localhost:8080/"
    },
    "id": "eo_6Ax4o29_0",
    "outputId": "dc866c01-0455-4d1d-efbf-faa268cf745a"
   },
   "outputs": [
    {
     "name": "stdout",
     "output_type": "stream",
     "text": [
      "\t\t\t\t---------------- k-mer with k = 2 --------------------\n",
      "\n",
      "mean bal acc  : 0.86 , std ban acc  : 0.01, mean mac f1   : 0.86, std mac f1   : 0.01, hold_out bal acc  : 0.87, hold_out mac f1   : 0.86 \n",
      "\n",
      "\t\t\t\t---------------- k-mer with k = 3 --------------------\n",
      "\n",
      "mean bal acc  : 0.88 , std ban acc  : 0.01, mean mac f1   : 0.88, std mac f1   : 0.01, hold_out bal acc  : 0.89, hold_out mac f1   : 0.88 \n",
      "\n",
      "\t\t\t\t---------------- k-mer with k = 4 --------------------\n",
      "\n",
      "mean bal acc  : 0.88 , std ban acc  : 0.01, mean mac f1   : 0.88, std mac f1   : 0.01, hold_out bal acc  : 0.89, hold_out mac f1   : 0.89 \n",
      "\n",
      "\t\t\t\t---------------- k-mer with k = 5 --------------------\n",
      "\n",
      "mean bal acc  : 0.88 , std ban acc  : 0.01, mean mac f1   : 0.88, std mac f1   : 0.01, hold_out bal acc  : 0.89, hold_out mac f1   : 0.89 \n",
      "\n",
      "\t\t\t\t---------------- k-mer with k = 6 --------------------\n",
      "\n",
      "mean bal acc  : 0.87 , std ban acc  : 0.01, mean mac f1   : 0.87, std mac f1   : 0.01, hold_out bal acc  : 0.87, hold_out mac f1   : 0.87 \n",
      "\n"
     ]
    }
   ],
   "source": [
    "for res in k_res:\n",
    "  print(\"\\t\\t\\t\\t----------------\",f\"k-mer with k = {res[0]}\",\"--------------------\\n\")\n",
    "\n",
    "  print(f\"mean bal acc  : {res[1]['mean_balanced_accuracy_cv']} , std ban acc  : {res[1]['std_balanced_accuracy_cv']}, mean mac f1   : {res[1]['mean_macro_f1_cv']}, std mac f1   : {res[1]['std_macro_f1_cv']}, hold_out bal acc  : {res[1]['holdout_balanced_accuracy']}, hold_out mac f1   : {res[1]['holdout_macro_f1']} \\n\")\n"
   ]
  },
  {
   "cell_type": "code",
   "execution_count": 28,
   "metadata": {
    "colab": {
     "base_uri": "https://localhost:8080/",
     "height": 417
    },
    "id": "WSOgChlrTzSX",
    "outputId": "29c459f6-4397-44a2-dbc0-9e778135501c"
   },
   "outputs": [
    {
     "data": {
      "application/vnd.plotly.v1+json": {
       "config": {
        "plotlyServerURL": "https://plot.ly"
       },
       "data": [
        {
         "mode": "lines+markers",
         "name": "Mean Balanced Accuracy",
         "type": "scatter",
         "x": [
          2,
          3,
          4,
          5,
          6
         ],
         "xaxis": "x",
         "y": [
          0.86,
          0.88,
          0.88,
          0.88,
          0.87
         ],
         "yaxis": "y"
        },
        {
         "mode": "lines+markers",
         "name": "Mean Macro F1",
         "type": "scatter",
         "x": [
          2,
          3,
          4,
          5,
          6
         ],
         "xaxis": "x2",
         "y": [
          0.86,
          0.88,
          0.88,
          0.88,
          0.87
         ],
         "yaxis": "y2"
        },
        {
         "mode": "lines+markers",
         "name": "Holdout Balanced Accuracy",
         "type": "scatter",
         "x": [
          2,
          3,
          4,
          5,
          6
         ],
         "xaxis": "x3",
         "y": [
          0.87,
          0.89,
          0.89,
          0.89,
          0.87
         ],
         "yaxis": "y3"
        },
        {
         "mode": "lines+markers",
         "name": "Holdout Macro F1",
         "type": "scatter",
         "x": [
          2,
          3,
          4,
          5,
          6
         ],
         "xaxis": "x4",
         "y": [
          0.86,
          0.88,
          0.89,
          0.89,
          0.87
         ],
         "yaxis": "y4"
        }
       ],
       "layout": {
        "annotations": [
         {
          "font": {
           "size": 16
          },
          "showarrow": false,
          "text": "Mean Balanced Accuracy (CV)",
          "x": 0.10625,
          "xanchor": "center",
          "xref": "paper",
          "y": 1,
          "yanchor": "bottom",
          "yref": "paper"
         },
         {
          "font": {
           "size": 16
          },
          "showarrow": false,
          "text": "Mean Macro F1 (CV)",
          "x": 0.36875,
          "xanchor": "center",
          "xref": "paper",
          "y": 1,
          "yanchor": "bottom",
          "yref": "paper"
         },
         {
          "font": {
           "size": 16
          },
          "showarrow": false,
          "text": "Holdout Balanced Accuracy",
          "x": 0.6312500000000001,
          "xanchor": "center",
          "xref": "paper",
          "y": 1,
          "yanchor": "bottom",
          "yref": "paper"
         },
         {
          "font": {
           "size": 16
          },
          "showarrow": false,
          "text": "Holdout Macro F1",
          "x": 0.89375,
          "xanchor": "center",
          "xref": "paper",
          "y": 1,
          "yanchor": "bottom",
          "yref": "paper"
         }
        ],
        "height": 400,
        "showlegend": false,
        "template": {
         "data": {
          "bar": [
           {
            "error_x": {
             "color": "#2a3f5f"
            },
            "error_y": {
             "color": "#2a3f5f"
            },
            "marker": {
             "line": {
              "color": "#E5ECF6",
              "width": 0.5
             },
             "pattern": {
              "fillmode": "overlay",
              "size": 10,
              "solidity": 0.2
             }
            },
            "type": "bar"
           }
          ],
          "barpolar": [
           {
            "marker": {
             "line": {
              "color": "#E5ECF6",
              "width": 0.5
             },
             "pattern": {
              "fillmode": "overlay",
              "size": 10,
              "solidity": 0.2
             }
            },
            "type": "barpolar"
           }
          ],
          "carpet": [
           {
            "aaxis": {
             "endlinecolor": "#2a3f5f",
             "gridcolor": "white",
             "linecolor": "white",
             "minorgridcolor": "white",
             "startlinecolor": "#2a3f5f"
            },
            "baxis": {
             "endlinecolor": "#2a3f5f",
             "gridcolor": "white",
             "linecolor": "white",
             "minorgridcolor": "white",
             "startlinecolor": "#2a3f5f"
            },
            "type": "carpet"
           }
          ],
          "choropleth": [
           {
            "colorbar": {
             "outlinewidth": 0,
             "ticks": ""
            },
            "type": "choropleth"
           }
          ],
          "contour": [
           {
            "colorbar": {
             "outlinewidth": 0,
             "ticks": ""
            },
            "colorscale": [
             [
              0,
              "#0d0887"
             ],
             [
              0.1111111111111111,
              "#46039f"
             ],
             [
              0.2222222222222222,
              "#7201a8"
             ],
             [
              0.3333333333333333,
              "#9c179e"
             ],
             [
              0.4444444444444444,
              "#bd3786"
             ],
             [
              0.5555555555555556,
              "#d8576b"
             ],
             [
              0.6666666666666666,
              "#ed7953"
             ],
             [
              0.7777777777777778,
              "#fb9f3a"
             ],
             [
              0.8888888888888888,
              "#fdca26"
             ],
             [
              1,
              "#f0f921"
             ]
            ],
            "type": "contour"
           }
          ],
          "contourcarpet": [
           {
            "colorbar": {
             "outlinewidth": 0,
             "ticks": ""
            },
            "type": "contourcarpet"
           }
          ],
          "heatmap": [
           {
            "colorbar": {
             "outlinewidth": 0,
             "ticks": ""
            },
            "colorscale": [
             [
              0,
              "#0d0887"
             ],
             [
              0.1111111111111111,
              "#46039f"
             ],
             [
              0.2222222222222222,
              "#7201a8"
             ],
             [
              0.3333333333333333,
              "#9c179e"
             ],
             [
              0.4444444444444444,
              "#bd3786"
             ],
             [
              0.5555555555555556,
              "#d8576b"
             ],
             [
              0.6666666666666666,
              "#ed7953"
             ],
             [
              0.7777777777777778,
              "#fb9f3a"
             ],
             [
              0.8888888888888888,
              "#fdca26"
             ],
             [
              1,
              "#f0f921"
             ]
            ],
            "type": "heatmap"
           }
          ],
          "histogram": [
           {
            "marker": {
             "pattern": {
              "fillmode": "overlay",
              "size": 10,
              "solidity": 0.2
             }
            },
            "type": "histogram"
           }
          ],
          "histogram2d": [
           {
            "colorbar": {
             "outlinewidth": 0,
             "ticks": ""
            },
            "colorscale": [
             [
              0,
              "#0d0887"
             ],
             [
              0.1111111111111111,
              "#46039f"
             ],
             [
              0.2222222222222222,
              "#7201a8"
             ],
             [
              0.3333333333333333,
              "#9c179e"
             ],
             [
              0.4444444444444444,
              "#bd3786"
             ],
             [
              0.5555555555555556,
              "#d8576b"
             ],
             [
              0.6666666666666666,
              "#ed7953"
             ],
             [
              0.7777777777777778,
              "#fb9f3a"
             ],
             [
              0.8888888888888888,
              "#fdca26"
             ],
             [
              1,
              "#f0f921"
             ]
            ],
            "type": "histogram2d"
           }
          ],
          "histogram2dcontour": [
           {
            "colorbar": {
             "outlinewidth": 0,
             "ticks": ""
            },
            "colorscale": [
             [
              0,
              "#0d0887"
             ],
             [
              0.1111111111111111,
              "#46039f"
             ],
             [
              0.2222222222222222,
              "#7201a8"
             ],
             [
              0.3333333333333333,
              "#9c179e"
             ],
             [
              0.4444444444444444,
              "#bd3786"
             ],
             [
              0.5555555555555556,
              "#d8576b"
             ],
             [
              0.6666666666666666,
              "#ed7953"
             ],
             [
              0.7777777777777778,
              "#fb9f3a"
             ],
             [
              0.8888888888888888,
              "#fdca26"
             ],
             [
              1,
              "#f0f921"
             ]
            ],
            "type": "histogram2dcontour"
           }
          ],
          "mesh3d": [
           {
            "colorbar": {
             "outlinewidth": 0,
             "ticks": ""
            },
            "type": "mesh3d"
           }
          ],
          "parcoords": [
           {
            "line": {
             "colorbar": {
              "outlinewidth": 0,
              "ticks": ""
             }
            },
            "type": "parcoords"
           }
          ],
          "pie": [
           {
            "automargin": true,
            "type": "pie"
           }
          ],
          "scatter": [
           {
            "fillpattern": {
             "fillmode": "overlay",
             "size": 10,
             "solidity": 0.2
            },
            "type": "scatter"
           }
          ],
          "scatter3d": [
           {
            "line": {
             "colorbar": {
              "outlinewidth": 0,
              "ticks": ""
             }
            },
            "marker": {
             "colorbar": {
              "outlinewidth": 0,
              "ticks": ""
             }
            },
            "type": "scatter3d"
           }
          ],
          "scattercarpet": [
           {
            "marker": {
             "colorbar": {
              "outlinewidth": 0,
              "ticks": ""
             }
            },
            "type": "scattercarpet"
           }
          ],
          "scattergeo": [
           {
            "marker": {
             "colorbar": {
              "outlinewidth": 0,
              "ticks": ""
             }
            },
            "type": "scattergeo"
           }
          ],
          "scattergl": [
           {
            "marker": {
             "colorbar": {
              "outlinewidth": 0,
              "ticks": ""
             }
            },
            "type": "scattergl"
           }
          ],
          "scattermap": [
           {
            "marker": {
             "colorbar": {
              "outlinewidth": 0,
              "ticks": ""
             }
            },
            "type": "scattermap"
           }
          ],
          "scattermapbox": [
           {
            "marker": {
             "colorbar": {
              "outlinewidth": 0,
              "ticks": ""
             }
            },
            "type": "scattermapbox"
           }
          ],
          "scatterpolar": [
           {
            "marker": {
             "colorbar": {
              "outlinewidth": 0,
              "ticks": ""
             }
            },
            "type": "scatterpolar"
           }
          ],
          "scatterpolargl": [
           {
            "marker": {
             "colorbar": {
              "outlinewidth": 0,
              "ticks": ""
             }
            },
            "type": "scatterpolargl"
           }
          ],
          "scatterternary": [
           {
            "marker": {
             "colorbar": {
              "outlinewidth": 0,
              "ticks": ""
             }
            },
            "type": "scatterternary"
           }
          ],
          "surface": [
           {
            "colorbar": {
             "outlinewidth": 0,
             "ticks": ""
            },
            "colorscale": [
             [
              0,
              "#0d0887"
             ],
             [
              0.1111111111111111,
              "#46039f"
             ],
             [
              0.2222222222222222,
              "#7201a8"
             ],
             [
              0.3333333333333333,
              "#9c179e"
             ],
             [
              0.4444444444444444,
              "#bd3786"
             ],
             [
              0.5555555555555556,
              "#d8576b"
             ],
             [
              0.6666666666666666,
              "#ed7953"
             ],
             [
              0.7777777777777778,
              "#fb9f3a"
             ],
             [
              0.8888888888888888,
              "#fdca26"
             ],
             [
              1,
              "#f0f921"
             ]
            ],
            "type": "surface"
           }
          ],
          "table": [
           {
            "cells": {
             "fill": {
              "color": "#EBF0F8"
             },
             "line": {
              "color": "white"
             }
            },
            "header": {
             "fill": {
              "color": "#C8D4E3"
             },
             "line": {
              "color": "white"
             }
            },
            "type": "table"
           }
          ]
         },
         "layout": {
          "annotationdefaults": {
           "arrowcolor": "#2a3f5f",
           "arrowhead": 0,
           "arrowwidth": 1
          },
          "autotypenumbers": "strict",
          "coloraxis": {
           "colorbar": {
            "outlinewidth": 0,
            "ticks": ""
           }
          },
          "colorscale": {
           "diverging": [
            [
             0,
             "#8e0152"
            ],
            [
             0.1,
             "#c51b7d"
            ],
            [
             0.2,
             "#de77ae"
            ],
            [
             0.3,
             "#f1b6da"
            ],
            [
             0.4,
             "#fde0ef"
            ],
            [
             0.5,
             "#f7f7f7"
            ],
            [
             0.6,
             "#e6f5d0"
            ],
            [
             0.7,
             "#b8e186"
            ],
            [
             0.8,
             "#7fbc41"
            ],
            [
             0.9,
             "#4d9221"
            ],
            [
             1,
             "#276419"
            ]
           ],
           "sequential": [
            [
             0,
             "#0d0887"
            ],
            [
             0.1111111111111111,
             "#46039f"
            ],
            [
             0.2222222222222222,
             "#7201a8"
            ],
            [
             0.3333333333333333,
             "#9c179e"
            ],
            [
             0.4444444444444444,
             "#bd3786"
            ],
            [
             0.5555555555555556,
             "#d8576b"
            ],
            [
             0.6666666666666666,
             "#ed7953"
            ],
            [
             0.7777777777777778,
             "#fb9f3a"
            ],
            [
             0.8888888888888888,
             "#fdca26"
            ],
            [
             1,
             "#f0f921"
            ]
           ],
           "sequentialminus": [
            [
             0,
             "#0d0887"
            ],
            [
             0.1111111111111111,
             "#46039f"
            ],
            [
             0.2222222222222222,
             "#7201a8"
            ],
            [
             0.3333333333333333,
             "#9c179e"
            ],
            [
             0.4444444444444444,
             "#bd3786"
            ],
            [
             0.5555555555555556,
             "#d8576b"
            ],
            [
             0.6666666666666666,
             "#ed7953"
            ],
            [
             0.7777777777777778,
             "#fb9f3a"
            ],
            [
             0.8888888888888888,
             "#fdca26"
            ],
            [
             1,
             "#f0f921"
            ]
           ]
          },
          "colorway": [
           "#636efa",
           "#EF553B",
           "#00cc96",
           "#ab63fa",
           "#FFA15A",
           "#19d3f3",
           "#FF6692",
           "#B6E880",
           "#FF97FF",
           "#FECB52"
          ],
          "font": {
           "color": "#2a3f5f"
          },
          "geo": {
           "bgcolor": "white",
           "lakecolor": "white",
           "landcolor": "#E5ECF6",
           "showlakes": true,
           "showland": true,
           "subunitcolor": "white"
          },
          "hoverlabel": {
           "align": "left"
          },
          "hovermode": "closest",
          "mapbox": {
           "style": "light"
          },
          "paper_bgcolor": "white",
          "plot_bgcolor": "#E5ECF6",
          "polar": {
           "angularaxis": {
            "gridcolor": "white",
            "linecolor": "white",
            "ticks": ""
           },
           "bgcolor": "#E5ECF6",
           "radialaxis": {
            "gridcolor": "white",
            "linecolor": "white",
            "ticks": ""
           }
          },
          "scene": {
           "xaxis": {
            "backgroundcolor": "#E5ECF6",
            "gridcolor": "white",
            "gridwidth": 2,
            "linecolor": "white",
            "showbackground": true,
            "ticks": "",
            "zerolinecolor": "white"
           },
           "yaxis": {
            "backgroundcolor": "#E5ECF6",
            "gridcolor": "white",
            "gridwidth": 2,
            "linecolor": "white",
            "showbackground": true,
            "ticks": "",
            "zerolinecolor": "white"
           },
           "zaxis": {
            "backgroundcolor": "#E5ECF6",
            "gridcolor": "white",
            "gridwidth": 2,
            "linecolor": "white",
            "showbackground": true,
            "ticks": "",
            "zerolinecolor": "white"
           }
          },
          "shapedefaults": {
           "line": {
            "color": "#2a3f5f"
           }
          },
          "ternary": {
           "aaxis": {
            "gridcolor": "white",
            "linecolor": "white",
            "ticks": ""
           },
           "baxis": {
            "gridcolor": "white",
            "linecolor": "white",
            "ticks": ""
           },
           "bgcolor": "#E5ECF6",
           "caxis": {
            "gridcolor": "white",
            "linecolor": "white",
            "ticks": ""
           }
          },
          "title": {
           "x": 0.05
          },
          "xaxis": {
           "automargin": true,
           "gridcolor": "white",
           "linecolor": "white",
           "ticks": "",
           "title": {
            "standoff": 15
           },
           "zerolinecolor": "white",
           "zerolinewidth": 2
          },
          "yaxis": {
           "automargin": true,
           "gridcolor": "white",
           "linecolor": "white",
           "ticks": "",
           "title": {
            "standoff": 15
           },
           "zerolinecolor": "white",
           "zerolinewidth": 2
          }
         }
        },
        "title": {
         "text": "Metrics vs K"
        },
        "width": 1400,
        "xaxis": {
         "anchor": "y",
         "domain": [
          0,
          0.2125
         ]
        },
        "xaxis2": {
         "anchor": "y2",
         "domain": [
          0.2625,
          0.475
         ]
        },
        "xaxis3": {
         "anchor": "y3",
         "domain": [
          0.525,
          0.7375
         ]
        },
        "xaxis4": {
         "anchor": "y4",
         "domain": [
          0.7875,
          1
         ]
        },
        "yaxis": {
         "anchor": "x",
         "domain": [
          0,
          1
         ],
         "range": [
          0.817,
          0.924
         ]
        },
        "yaxis2": {
         "anchor": "x2",
         "domain": [
          0,
          1
         ],
         "range": [
          0.817,
          0.924
         ]
        },
        "yaxis3": {
         "anchor": "x3",
         "domain": [
          0,
          1
         ],
         "range": [
          0.8265,
          0.9345000000000001
         ]
        },
        "yaxis4": {
         "anchor": "x4",
         "domain": [
          0,
          1
         ],
         "range": [
          0.817,
          0.9345000000000001
         ]
        }
       }
      },
      "text/html": [
       "<div>            <script src=\"https://cdnjs.cloudflare.com/ajax/libs/mathjax/2.7.5/MathJax.js?config=TeX-AMS-MML_SVG\"></script><script type=\"text/javascript\">if (window.MathJax && window.MathJax.Hub && window.MathJax.Hub.Config) {window.MathJax.Hub.Config({SVG: {font: \"STIX-Web\"}});}</script>                <script type=\"text/javascript\">window.PlotlyConfig = {MathJaxConfig: 'local'};</script>\n",
       "        <script charset=\"utf-8\" src=\"https://cdn.plot.ly/plotly-3.0.0.min.js\"></script>                <div id=\"d71beaec-c3dd-43ad-8e84-3e6b20b8ecaa\" class=\"plotly-graph-div\" style=\"height:400px; width:1400px;\"></div>            <script type=\"text/javascript\">                window.PLOTLYENV=window.PLOTLYENV || {};                                if (document.getElementById(\"d71beaec-c3dd-43ad-8e84-3e6b20b8ecaa\")) {                    Plotly.newPlot(                        \"d71beaec-c3dd-43ad-8e84-3e6b20b8ecaa\",                        [{\"mode\":\"lines+markers\",\"name\":\"Mean Balanced Accuracy\",\"x\":[2,3,4,5,6],\"y\":[0.86,0.88,0.88,0.88,0.87],\"type\":\"scatter\",\"xaxis\":\"x\",\"yaxis\":\"y\"},{\"mode\":\"lines+markers\",\"name\":\"Mean Macro F1\",\"x\":[2,3,4,5,6],\"y\":[0.86,0.88,0.88,0.88,0.87],\"type\":\"scatter\",\"xaxis\":\"x2\",\"yaxis\":\"y2\"},{\"mode\":\"lines+markers\",\"name\":\"Holdout Balanced Accuracy\",\"x\":[2,3,4,5,6],\"y\":[0.87,0.89,0.89,0.89,0.87],\"type\":\"scatter\",\"xaxis\":\"x3\",\"yaxis\":\"y3\"},{\"mode\":\"lines+markers\",\"name\":\"Holdout Macro F1\",\"x\":[2,3,4,5,6],\"y\":[0.86,0.88,0.89,0.89,0.87],\"type\":\"scatter\",\"xaxis\":\"x4\",\"yaxis\":\"y4\"}],                        {\"template\":{\"data\":{\"histogram2dcontour\":[{\"type\":\"histogram2dcontour\",\"colorbar\":{\"outlinewidth\":0,\"ticks\":\"\"},\"colorscale\":[[0.0,\"#0d0887\"],[0.1111111111111111,\"#46039f\"],[0.2222222222222222,\"#7201a8\"],[0.3333333333333333,\"#9c179e\"],[0.4444444444444444,\"#bd3786\"],[0.5555555555555556,\"#d8576b\"],[0.6666666666666666,\"#ed7953\"],[0.7777777777777778,\"#fb9f3a\"],[0.8888888888888888,\"#fdca26\"],[1.0,\"#f0f921\"]]}],\"choropleth\":[{\"type\":\"choropleth\",\"colorbar\":{\"outlinewidth\":0,\"ticks\":\"\"}}],\"histogram2d\":[{\"type\":\"histogram2d\",\"colorbar\":{\"outlinewidth\":0,\"ticks\":\"\"},\"colorscale\":[[0.0,\"#0d0887\"],[0.1111111111111111,\"#46039f\"],[0.2222222222222222,\"#7201a8\"],[0.3333333333333333,\"#9c179e\"],[0.4444444444444444,\"#bd3786\"],[0.5555555555555556,\"#d8576b\"],[0.6666666666666666,\"#ed7953\"],[0.7777777777777778,\"#fb9f3a\"],[0.8888888888888888,\"#fdca26\"],[1.0,\"#f0f921\"]]}],\"heatmap\":[{\"type\":\"heatmap\",\"colorbar\":{\"outlinewidth\":0,\"ticks\":\"\"},\"colorscale\":[[0.0,\"#0d0887\"],[0.1111111111111111,\"#46039f\"],[0.2222222222222222,\"#7201a8\"],[0.3333333333333333,\"#9c179e\"],[0.4444444444444444,\"#bd3786\"],[0.5555555555555556,\"#d8576b\"],[0.6666666666666666,\"#ed7953\"],[0.7777777777777778,\"#fb9f3a\"],[0.8888888888888888,\"#fdca26\"],[1.0,\"#f0f921\"]]}],\"contourcarpet\":[{\"type\":\"contourcarpet\",\"colorbar\":{\"outlinewidth\":0,\"ticks\":\"\"}}],\"contour\":[{\"type\":\"contour\",\"colorbar\":{\"outlinewidth\":0,\"ticks\":\"\"},\"colorscale\":[[0.0,\"#0d0887\"],[0.1111111111111111,\"#46039f\"],[0.2222222222222222,\"#7201a8\"],[0.3333333333333333,\"#9c179e\"],[0.4444444444444444,\"#bd3786\"],[0.5555555555555556,\"#d8576b\"],[0.6666666666666666,\"#ed7953\"],[0.7777777777777778,\"#fb9f3a\"],[0.8888888888888888,\"#fdca26\"],[1.0,\"#f0f921\"]]}],\"surface\":[{\"type\":\"surface\",\"colorbar\":{\"outlinewidth\":0,\"ticks\":\"\"},\"colorscale\":[[0.0,\"#0d0887\"],[0.1111111111111111,\"#46039f\"],[0.2222222222222222,\"#7201a8\"],[0.3333333333333333,\"#9c179e\"],[0.4444444444444444,\"#bd3786\"],[0.5555555555555556,\"#d8576b\"],[0.6666666666666666,\"#ed7953\"],[0.7777777777777778,\"#fb9f3a\"],[0.8888888888888888,\"#fdca26\"],[1.0,\"#f0f921\"]]}],\"mesh3d\":[{\"type\":\"mesh3d\",\"colorbar\":{\"outlinewidth\":0,\"ticks\":\"\"}}],\"scatter\":[{\"fillpattern\":{\"fillmode\":\"overlay\",\"size\":10,\"solidity\":0.2},\"type\":\"scatter\"}],\"parcoords\":[{\"type\":\"parcoords\",\"line\":{\"colorbar\":{\"outlinewidth\":0,\"ticks\":\"\"}}}],\"scatterpolargl\":[{\"type\":\"scatterpolargl\",\"marker\":{\"colorbar\":{\"outlinewidth\":0,\"ticks\":\"\"}}}],\"bar\":[{\"error_x\":{\"color\":\"#2a3f5f\"},\"error_y\":{\"color\":\"#2a3f5f\"},\"marker\":{\"line\":{\"color\":\"#E5ECF6\",\"width\":0.5},\"pattern\":{\"fillmode\":\"overlay\",\"size\":10,\"solidity\":0.2}},\"type\":\"bar\"}],\"scattergeo\":[{\"type\":\"scattergeo\",\"marker\":{\"colorbar\":{\"outlinewidth\":0,\"ticks\":\"\"}}}],\"scatterpolar\":[{\"type\":\"scatterpolar\",\"marker\":{\"colorbar\":{\"outlinewidth\":0,\"ticks\":\"\"}}}],\"histogram\":[{\"marker\":{\"pattern\":{\"fillmode\":\"overlay\",\"size\":10,\"solidity\":0.2}},\"type\":\"histogram\"}],\"scattergl\":[{\"type\":\"scattergl\",\"marker\":{\"colorbar\":{\"outlinewidth\":0,\"ticks\":\"\"}}}],\"scatter3d\":[{\"type\":\"scatter3d\",\"line\":{\"colorbar\":{\"outlinewidth\":0,\"ticks\":\"\"}},\"marker\":{\"colorbar\":{\"outlinewidth\":0,\"ticks\":\"\"}}}],\"scattermap\":[{\"type\":\"scattermap\",\"marker\":{\"colorbar\":{\"outlinewidth\":0,\"ticks\":\"\"}}}],\"scattermapbox\":[{\"type\":\"scattermapbox\",\"marker\":{\"colorbar\":{\"outlinewidth\":0,\"ticks\":\"\"}}}],\"scatterternary\":[{\"type\":\"scatterternary\",\"marker\":{\"colorbar\":{\"outlinewidth\":0,\"ticks\":\"\"}}}],\"scattercarpet\":[{\"type\":\"scattercarpet\",\"marker\":{\"colorbar\":{\"outlinewidth\":0,\"ticks\":\"\"}}}],\"carpet\":[{\"aaxis\":{\"endlinecolor\":\"#2a3f5f\",\"gridcolor\":\"white\",\"linecolor\":\"white\",\"minorgridcolor\":\"white\",\"startlinecolor\":\"#2a3f5f\"},\"baxis\":{\"endlinecolor\":\"#2a3f5f\",\"gridcolor\":\"white\",\"linecolor\":\"white\",\"minorgridcolor\":\"white\",\"startlinecolor\":\"#2a3f5f\"},\"type\":\"carpet\"}],\"table\":[{\"cells\":{\"fill\":{\"color\":\"#EBF0F8\"},\"line\":{\"color\":\"white\"}},\"header\":{\"fill\":{\"color\":\"#C8D4E3\"},\"line\":{\"color\":\"white\"}},\"type\":\"table\"}],\"barpolar\":[{\"marker\":{\"line\":{\"color\":\"#E5ECF6\",\"width\":0.5},\"pattern\":{\"fillmode\":\"overlay\",\"size\":10,\"solidity\":0.2}},\"type\":\"barpolar\"}],\"pie\":[{\"automargin\":true,\"type\":\"pie\"}]},\"layout\":{\"autotypenumbers\":\"strict\",\"colorway\":[\"#636efa\",\"#EF553B\",\"#00cc96\",\"#ab63fa\",\"#FFA15A\",\"#19d3f3\",\"#FF6692\",\"#B6E880\",\"#FF97FF\",\"#FECB52\"],\"font\":{\"color\":\"#2a3f5f\"},\"hovermode\":\"closest\",\"hoverlabel\":{\"align\":\"left\"},\"paper_bgcolor\":\"white\",\"plot_bgcolor\":\"#E5ECF6\",\"polar\":{\"bgcolor\":\"#E5ECF6\",\"angularaxis\":{\"gridcolor\":\"white\",\"linecolor\":\"white\",\"ticks\":\"\"},\"radialaxis\":{\"gridcolor\":\"white\",\"linecolor\":\"white\",\"ticks\":\"\"}},\"ternary\":{\"bgcolor\":\"#E5ECF6\",\"aaxis\":{\"gridcolor\":\"white\",\"linecolor\":\"white\",\"ticks\":\"\"},\"baxis\":{\"gridcolor\":\"white\",\"linecolor\":\"white\",\"ticks\":\"\"},\"caxis\":{\"gridcolor\":\"white\",\"linecolor\":\"white\",\"ticks\":\"\"}},\"coloraxis\":{\"colorbar\":{\"outlinewidth\":0,\"ticks\":\"\"}},\"colorscale\":{\"sequential\":[[0.0,\"#0d0887\"],[0.1111111111111111,\"#46039f\"],[0.2222222222222222,\"#7201a8\"],[0.3333333333333333,\"#9c179e\"],[0.4444444444444444,\"#bd3786\"],[0.5555555555555556,\"#d8576b\"],[0.6666666666666666,\"#ed7953\"],[0.7777777777777778,\"#fb9f3a\"],[0.8888888888888888,\"#fdca26\"],[1.0,\"#f0f921\"]],\"sequentialminus\":[[0.0,\"#0d0887\"],[0.1111111111111111,\"#46039f\"],[0.2222222222222222,\"#7201a8\"],[0.3333333333333333,\"#9c179e\"],[0.4444444444444444,\"#bd3786\"],[0.5555555555555556,\"#d8576b\"],[0.6666666666666666,\"#ed7953\"],[0.7777777777777778,\"#fb9f3a\"],[0.8888888888888888,\"#fdca26\"],[1.0,\"#f0f921\"]],\"diverging\":[[0,\"#8e0152\"],[0.1,\"#c51b7d\"],[0.2,\"#de77ae\"],[0.3,\"#f1b6da\"],[0.4,\"#fde0ef\"],[0.5,\"#f7f7f7\"],[0.6,\"#e6f5d0\"],[0.7,\"#b8e186\"],[0.8,\"#7fbc41\"],[0.9,\"#4d9221\"],[1,\"#276419\"]]},\"xaxis\":{\"gridcolor\":\"white\",\"linecolor\":\"white\",\"ticks\":\"\",\"title\":{\"standoff\":15},\"zerolinecolor\":\"white\",\"automargin\":true,\"zerolinewidth\":2},\"yaxis\":{\"gridcolor\":\"white\",\"linecolor\":\"white\",\"ticks\":\"\",\"title\":{\"standoff\":15},\"zerolinecolor\":\"white\",\"automargin\":true,\"zerolinewidth\":2},\"scene\":{\"xaxis\":{\"backgroundcolor\":\"#E5ECF6\",\"gridcolor\":\"white\",\"linecolor\":\"white\",\"showbackground\":true,\"ticks\":\"\",\"zerolinecolor\":\"white\",\"gridwidth\":2},\"yaxis\":{\"backgroundcolor\":\"#E5ECF6\",\"gridcolor\":\"white\",\"linecolor\":\"white\",\"showbackground\":true,\"ticks\":\"\",\"zerolinecolor\":\"white\",\"gridwidth\":2},\"zaxis\":{\"backgroundcolor\":\"#E5ECF6\",\"gridcolor\":\"white\",\"linecolor\":\"white\",\"showbackground\":true,\"ticks\":\"\",\"zerolinecolor\":\"white\",\"gridwidth\":2}},\"shapedefaults\":{\"line\":{\"color\":\"#2a3f5f\"}},\"annotationdefaults\":{\"arrowcolor\":\"#2a3f5f\",\"arrowhead\":0,\"arrowwidth\":1},\"geo\":{\"bgcolor\":\"white\",\"landcolor\":\"#E5ECF6\",\"subunitcolor\":\"white\",\"showland\":true,\"showlakes\":true,\"lakecolor\":\"white\"},\"title\":{\"x\":0.05},\"mapbox\":{\"style\":\"light\"}}},\"xaxis\":{\"anchor\":\"y\",\"domain\":[0.0,0.2125]},\"yaxis\":{\"anchor\":\"x\",\"domain\":[0.0,1.0],\"range\":[0.817,0.924]},\"xaxis2\":{\"anchor\":\"y2\",\"domain\":[0.2625,0.475]},\"yaxis2\":{\"anchor\":\"x2\",\"domain\":[0.0,1.0],\"range\":[0.817,0.924]},\"xaxis3\":{\"anchor\":\"y3\",\"domain\":[0.525,0.7375]},\"yaxis3\":{\"anchor\":\"x3\",\"domain\":[0.0,1.0],\"range\":[0.8265,0.9345000000000001]},\"xaxis4\":{\"anchor\":\"y4\",\"domain\":[0.7875,1.0]},\"yaxis4\":{\"anchor\":\"x4\",\"domain\":[0.0,1.0],\"range\":[0.817,0.9345000000000001]},\"annotations\":[{\"font\":{\"size\":16},\"showarrow\":false,\"text\":\"Mean Balanced Accuracy (CV)\",\"x\":0.10625,\"xanchor\":\"center\",\"xref\":\"paper\",\"y\":1.0,\"yanchor\":\"bottom\",\"yref\":\"paper\"},{\"font\":{\"size\":16},\"showarrow\":false,\"text\":\"Mean Macro F1 (CV)\",\"x\":0.36875,\"xanchor\":\"center\",\"xref\":\"paper\",\"y\":1.0,\"yanchor\":\"bottom\",\"yref\":\"paper\"},{\"font\":{\"size\":16},\"showarrow\":false,\"text\":\"Holdout Balanced Accuracy\",\"x\":0.6312500000000001,\"xanchor\":\"center\",\"xref\":\"paper\",\"y\":1.0,\"yanchor\":\"bottom\",\"yref\":\"paper\"},{\"font\":{\"size\":16},\"showarrow\":false,\"text\":\"Holdout Macro F1\",\"x\":0.89375,\"xanchor\":\"center\",\"xref\":\"paper\",\"y\":1.0,\"yanchor\":\"bottom\",\"yref\":\"paper\"}],\"title\":{\"text\":\"Metrics vs K\"},\"height\":400,\"width\":1400,\"showlegend\":false},                        {\"responsive\": true}                    ).then(function(){\n",
       "                            \n",
       "var gd = document.getElementById('d71beaec-c3dd-43ad-8e84-3e6b20b8ecaa');\n",
       "var x = new MutationObserver(function (mutations, observer) {{\n",
       "        var display = window.getComputedStyle(gd).display;\n",
       "        if (!display || display === 'none') {{\n",
       "            console.log([gd, 'removed!']);\n",
       "            Plotly.purge(gd);\n",
       "            observer.disconnect();\n",
       "        }}\n",
       "}});\n",
       "\n",
       "// Listen for the removal of the full notebook cells\n",
       "var notebookContainer = gd.closest('#notebook-container');\n",
       "if (notebookContainer) {{\n",
       "    x.observe(notebookContainer, {childList: true});\n",
       "}}\n",
       "\n",
       "// Listen for the clearing of the current output cell\n",
       "var outputEl = gd.closest('.output');\n",
       "if (outputEl) {{\n",
       "    x.observe(outputEl, {childList: true});\n",
       "}}\n",
       "\n",
       "                        })                };            </script>        </div>"
      ]
     },
     "metadata": {},
     "output_type": "display_data"
    }
   ],
   "source": [
    "k_values = [res[0] for res in k_res]\n",
    "mean_balanced_accuracy_cv = [float(res[1]['mean_balanced_accuracy_cv']) for res in k_res]\n",
    "mean_macro_f1_cv = [float(res[1]['mean_macro_f1_cv']) for res in k_res]\n",
    "holdout_balanced_accuracy = [float(res[1]['holdout_balanced_accuracy']) for res in k_res]\n",
    "holdout_macro_f1 = [float(res[1]['holdout_macro_f1']) for res in k_res]\n",
    "\n",
    "fig = make_subplots(rows=1, cols=4, subplot_titles=[\n",
    "    \"Mean Balanced Accuracy (CV)\",\n",
    "    \"Mean Macro F1 (CV)\",\n",
    "    \"Holdout Balanced Accuracy\",\n",
    "    \"Holdout Macro F1\"\n",
    "])\n",
    "\n",
    "fig.add_trace(go.Scatter(\n",
    "    x=k_values,\n",
    "    y=mean_balanced_accuracy_cv,\n",
    "    mode='lines+markers',\n",
    "    name=\"Mean Balanced Accuracy\"\n",
    "), row=1, col=1)\n",
    "\n",
    "fig.add_trace(go.Scatter(\n",
    "    x=k_values,\n",
    "    y=mean_macro_f1_cv,\n",
    "    mode='lines+markers',\n",
    "    name=\"Mean Macro F1\"\n",
    "), row=1, col=2)\n",
    "\n",
    "fig.add_trace(go.Scatter(\n",
    "    x=k_values,\n",
    "    y=holdout_balanced_accuracy,\n",
    "    mode='lines+markers',\n",
    "    name=\"Holdout Balanced Accuracy\"\n",
    "), row=1, col=3)\n",
    "\n",
    "fig.add_trace(go.Scatter(\n",
    "    x=k_values,\n",
    "    y=holdout_macro_f1,\n",
    "    mode='lines+markers',\n",
    "    name=\"Holdout Macro F1\"\n",
    "), row=1, col=4)\n",
    "\n",
    "fig.update_yaxes(range=[min(mean_balanced_accuracy_cv) * 0.95, max(mean_balanced_accuracy_cv) * 1.05], row=1, col=1)\n",
    "fig.update_yaxes(range=[min(mean_macro_f1_cv) * 0.95, max(mean_macro_f1_cv) * 1.05], row=1, col=2)\n",
    "fig.update_yaxes(range=[min(holdout_balanced_accuracy) * 0.95, max(holdout_balanced_accuracy) * 1.05], row=1, col=3)\n",
    "fig.update_yaxes(range=[min(holdout_macro_f1) * 0.95, max(holdout_macro_f1) * 1.05], row=1, col=4)\n",
    "\n",
    "fig.update_layout(\n",
    "    title_text=\"Metrics vs K\",\n",
    "    height=400,\n",
    "    width=1400,\n",
    "    showlegend=False\n",
    ")\n",
    "\n",
    "fig.show()"
   ]
  },
  {
   "cell_type": "markdown",
   "metadata": {
    "id": "-sCoDH1MCt0U"
   },
   "source": [
    "Based on the above analysis, k=4 and  k=5 yield the best performance in both training and test sets.\n",
    "\n",
    "Increasing k beyond this point leads to a drop in performance.\n",
    "\n",
    "I believe small value for k loses distinguishing power and for Large k reduces generalization.\n",
    "\n"
   ]
  },
  {
   "cell_type": "markdown",
   "metadata": {
    "id": "g7FlTdbMChtT"
   },
   "source": [
    "# **6. Hyperparameter optimization**\n"
   ]
  },
  {
   "cell_type": "code",
   "execution_count": 31,
   "metadata": {
    "id": "BuBlV7VjVxF0"
   },
   "outputs": [],
   "source": [
    "LR_model = LogisticRegression()\n",
    "\n",
    "RF_model = RandomForestClassifier()"
   ]
  },
  {
   "cell_type": "code",
   "execution_count": 32,
   "metadata": {
    "id": "a4DEpEHjEO5U"
   },
   "outputs": [],
   "source": [
    "LR_param_grid = [\n",
    "    {'solver': ['lbfgs'], 'penalty': ['l2'], 'C': [0.1, 1, 5], 'max_iter': [10000,1000]},\n",
    "    {'solver': ['saga'], 'penalty': ['l1', 'l2', 'elasticnet'], 'C': [0.1, 1, 5], 'max_iter': [10000,1000], 'l1_ratio': [0.1, 0.5, 0.9]},\n",
    "]\n",
    "\n",
    "\n",
    "\n",
    "RF_param_grid = {\n",
    "    'n_estimators': [50, 100, 200],\n",
    "    'max_depth': [None, 10, 30],\n",
    "    'min_samples_split': [2, 5, 10],\n",
    "    'bootstrap': [True, False],\n",
    "    'criterion': ['gini', 'entropy']\n",
    "}"
   ]
  },
  {
   "cell_type": "markdown",
   "metadata": {
    "id": "w4l0neGZZP9J"
   },
   "source": [
    "**LR**\n",
    "\n",
    "\n",
    "  1.  **max_iter** – Maximum number of iterations for convergence. Higher values help when the model struggles to converge.\n",
    "\n",
    "  2.  **C** – Inverse of regularization strength. Smaller values increase regularization, reducing overfitting.\n",
    "\n",
    "  3.  **penalty** – Type of regularization (l2, elasticnet, l1) to prevent overfitting.\n",
    "\n",
    "  4.  **solver** – Optimization algorithm, depends on the penalty type.\n",
    "----\n",
    "**RF**\n",
    "1.  **n_estimators** – Number of decision trees. More trees improve performance but increase computation time.\n",
    "\n",
    "2.  **max_depth** – Maximum depth of each tree.\n",
    "\n",
    "3.  **min_samples_split** – Minimum samples required to split a node. Higher values prevent overfitting.\n",
    "\n",
    "4.  **bootstrap** – If True, samples data with replacement for each tree. Improves robustness.\n",
    "\n",
    "5.  **criterion** – Metric to measure split quality (gini for impurity, entropy for information gain)."
   ]
  },
  {
   "cell_type": "code",
   "execution_count": 28,
   "metadata": {
    "id": "TojnLGCCdhE2"
   },
   "outputs": [],
   "source": [
    "def run_grid_search(model, param_grid, fold,  Arabidopsis_tata, Arabidopsis_non_tata, Arabidopsis_non_prom_big):\n",
    "    kfold = StratifiedKFold(n_splits=fold, shuffle=True, random_state=42)\n",
    "\n",
    "    scoring = {\n",
    "        'balanced_accuracy': 'balanced_accuracy',\n",
    "        'f1_macro': 'f1_macro'\n",
    "    }\n",
    "\n",
    "    grid_search = GridSearchCV(\n",
    "        estimator=model,\n",
    "        param_grid=param_grid,\n",
    "        cv=kfold,\n",
    "        n_jobs=-1,\n",
    "        verbose=0,\n",
    "        scoring=scoring,\n",
    "        refit='balanced_accuracy'\n",
    "    )\n",
    "\n",
    "    tata_encoded = encode_sequences(Arabidopsis_tata, k=5, encoding=\"kmer\")\n",
    "    non_tata_encoded = encode_sequences(Arabidopsis_non_tata, k=5, encoding=\"kmer\")\n",
    "    non_prom_encoded = encode_sequences(Arabidopsis_non_prom_big, k=5, encoding=\"kmer\")\n",
    "\n",
    "    exp3_data = np.vstack([tata_encoded, non_tata_encoded, non_prom_encoded])\n",
    "    exp3_labels = np.concatenate([\n",
    "        np.ones(len(tata_encoded)),\n",
    "        np.ones(len(non_tata_encoded)),\n",
    "        np.zeros(len(non_prom_encoded))\n",
    "    ])\n",
    "\n",
    "    X_full_train, X_holdout, y_full_train, y_holdout = train_test_split(\n",
    "        exp3_data,\n",
    "        exp3_labels,\n",
    "        test_size=0.2,\n",
    "        random_state=42,\n",
    "        stratify=exp3_labels\n",
    "    )\n",
    "\n",
    "    grid_search.fit(X_full_train, y_full_train)\n",
    "    fresh_model = grid_search.best_estimator_\n",
    "    best_params = grid_search.best_params_\n",
    "    fresh_model.set_params(**best_params)\n",
    "\n",
    "    holdout_results = evaluate_holdout(fresh_model, X_holdout, y_holdout)\n",
    "\n",
    "    mean_bal_acc = grid_search.cv_results_['mean_test_balanced_accuracy'].mean()\n",
    "    std_bal_acc = grid_search.cv_results_['mean_test_balanced_accuracy'].std()\n",
    "\n",
    "    mean_f1_macro = grid_search.cv_results_['mean_test_f1_macro'].mean()\n",
    "    std_f1_macro = grid_search.cv_results_['mean_test_f1_macro'].std()\n",
    "\n",
    "    print(f\"Mean Balanced Accuracy: {mean_bal_acc:.4f} , {std_bal_acc:.4f}\")\n",
    "    print(f\"Mean F1 Macro: {mean_f1_macro:.4f} , {std_f1_macro:.4f}\")\n",
    "    print(\"Holdout evaluation:\", holdout_results)\n",
    "    print(\"Best Parameters:\", best_params)\n",
    "\n",
    "    return fresh_model, holdout_results, best_params"
   ]
  },
  {
   "cell_type": "markdown",
   "metadata": {
    "id": "EFEHvxd2gS8f"
   },
   "source": [
    "## LogisticRegression"
   ]
  },
  {
   "cell_type": "code",
   "execution_count": null,
   "metadata": {
    "colab": {
     "base_uri": "https://localhost:8080/"
    },
    "id": "orm5vepnIXQ9",
    "outputId": "f731f166-eaa3-4164-cd03-24919f9d6bf4"
   },
   "outputs": [
    {
     "name": "stderr",
     "output_type": "stream",
     "text": [
      "/usr/local/lib/python3.11/dist-packages/sklearn/linear_model/_logistic.py:1196: UserWarning:\n",
      "\n",
      "l1_ratio parameter is only used when penalty is 'elasticnet'. Got (penalty=l1)\n",
      "\n"
     ]
    },
    {
     "name": "stdout",
     "output_type": "stream",
     "text": [
      "Mean Balanced Accuracy: 0.8162 ± 0.0891\n",
      "Mean F1 Macro: 0.8182 ± 0.0933\n",
      "Holdout evaluation: {'holdout_balanced_accuracy': '0.90', 'holdout_macro_f1': '0.90'}\n",
      "Best Parameters: {'C': 5, 'l1_ratio': 0.1, 'max_iter': 10000, 'penalty': 'l1', 'solver': 'saga'}\n"
     ]
    }
   ],
   "source": [
    "fresh_model, holdout_results, best_params = run_grid_search(\n",
    "                                              LR_model,\n",
    "                                              LR_param_grid,\n",
    "                                              fold = 5,\n",
    "                                              Arabidopsis_tata = Arabidopsis_tata,\n",
    "                                              Arabidopsis_non_tata = Arabidopsis_non_tata,\n",
    "                                              Arabidopsis_non_prom_big = Arabidopsis_non_prom_big)"
   ]
  },
  {
   "cell_type": "markdown",
   "metadata": {},
   "source": [
    "### My observation\n",
    "---\n",
    "\n",
    "The logistic regression model with L1 penalty (penalty=l1, solver=saga) and moderate regularization strength (C=5) achieved strong performance, with a mean balanced accuracy of 0.816 and mean F1 macro of 0.818 across folds. Notably, it generalized well to the holdout set, achieving 0.90 in both balanced accuracy and F1 macro, suggesting robustness.\n",
    "\n",
    "The choice of L1 regularization (l1_ratio=0.1) likely aided **feature selection**, while the high max_iter=10000 ensured **convergence**. The low variance in cross-validation metrics indicates stable performance. This configuration shows a good balance between bias and variance."
   ]
  },
  {
   "cell_type": "markdown",
   "metadata": {
    "id": "6aMiIVvihAnr"
   },
   "source": [
    "## RandomForestClassifier"
   ]
  },
  {
   "cell_type": "code",
   "execution_count": null,
   "metadata": {
    "colab": {
     "background_save": true
    },
    "id": "_dPC587MJYl4",
    "outputId": "065e8139-1dc7-445a-f4b9-a9bac4b3c317"
   },
   "outputs": [
    {
     "name": "stdout",
     "output_type": "stream",
     "text": [
      "Mean Balanced Accuracy: 0.8875 ± 0.0036\n",
      "Mean F1 Macro: 0.8893 ± 0.0036\n",
      "Holdout evaluation: {'holdout_balanced_accuracy': '0.91', 'holdout_macro_f1': '0.91'}\n",
      "Best Parameters: {'bootstrap': False, 'criterion': 'entropy', 'max_depth': None, 'min_samples_split': 5, 'n_estimators': 200}\n"
     ]
    }
   ],
   "source": [
    "fresh_model, holdout_results, best_params = run_grid_search(\n",
    "                                              RF_model,\n",
    "                                              RF_param_grid,\n",
    "                                              fold = 5,\n",
    "                                              Arabidopsis_tata = Arabidopsis_tata,\n",
    "                                              Arabidopsis_non_tata = Arabidopsis_non_tata,\n",
    "                                              Arabidopsis_non_prom_big = Arabidopsis_non_prom_big)"
   ]
  },
  {
   "cell_type": "markdown",
   "metadata": {},
   "source": [
    "### My observation\n",
    "---\n",
    "\n",
    "The Random Forest model outperformed logistic regression, achieving a higher mean balanced accuracy 0.888 and mean F1 macro 0.889 with very low variance, indicating exceptional stability. The holdout performance was even stronger (0.91 in both metrics), confirming excellent generalization.\n",
    "\n",
    "\n",
    "*  **No bootstrap (bootstrap=False**) – Using the full dataset worked best for training trees.\n",
    "\n",
    "*  **Entropy splitting (criterion='entropy')** – Helped handle class imbalances better than Gini.\n",
    "\n",
    "*  **Unlimited depth (max_depth=None) + 200 trees** – Balanced strong learning without overfitting.\n",
    "\n",
    "*  **Minimum 5 samples to split (min_samples_split=5)** – Stopped trees from splitting too much, keeping them generalizable."
   ]
  },
  {
   "cell_type": "markdown",
   "metadata": {
    "id": "Giqk190OtZlx"
   },
   "source": [
    "# **7. One-hot encoding**"
   ]
  },
  {
   "cell_type": "code",
   "execution_count": 29,
   "metadata": {
    "id": "iE_BA4pntaJp"
   },
   "outputs": [],
   "source": [
    "tata_encoded = encode_sequences(Arabidopsis_tata, encoding=\"onehot\")\n",
    "non_tata_encoded = encode_sequences(Arabidopsis_non_tata, encoding=\"onehot\")\n",
    "non_prom_encoded = encode_sequences(Arabidopsis_non_prom_big, encoding=\"onehot\")\n",
    "\n",
    "exp3_data = np.vstack([tata_encoded, non_tata_encoded, non_prom_encoded])\n",
    "exp3_labels = np.concatenate([\n",
    "    np.ones(len(tata_encoded)),\n",
    "    np.ones(len(non_tata_encoded)),\n",
    "    np.zeros(len(non_prom_encoded))\n",
    "])"
   ]
  },
  {
   "cell_type": "markdown",
   "metadata": {
    "id": "s0iEQAJryTNS"
   },
   "source": [
    "# **8.  Convolutional neural networks (CNNs)**"
   ]
  },
  {
   "cell_type": "code",
   "execution_count": 30,
   "metadata": {
    "id": "_hj3Q7H7xaP5"
   },
   "outputs": [],
   "source": [
    "def create_cnn_model():\n",
    "  model = Sequential([\n",
    "      Conv1D(32, 5, activation='relu'),\n",
    "      MaxPooling1D(2),\n",
    "      Conv1D(32, 5, activation='relu'),\n",
    "      GlobalMaxPooling1D(),\n",
    "      Dense(64, activation='relu'),\n",
    "      Dropout(0.5),\n",
    "      Dense(1, activation='sigmoid')\n",
    "  ])\n",
    "  return model"
   ]
  },
  {
   "cell_type": "code",
   "execution_count": 34,
   "metadata": {
    "id": "7brs36qbKjUw"
   },
   "outputs": [],
   "source": [
    "X_train, X_test, y_train, y_test = train_test_split(\n",
    "    exp3_data,\n",
    "    exp3_labels,\n",
    "    test_size=0.2,\n",
    "    random_state=42,\n",
    "    stratify=exp3_labels\n",
    ")\n",
    "X_train = X_train.transpose(0, 2, 1)  #  (, 251, 4)\n",
    "X_test = X_test.transpose(0, 2, 1)    #  (, 251, 4)"
   ]
  },
  {
   "cell_type": "code",
   "execution_count": 38,
   "metadata": {
    "colab": {
     "base_uri": "https://localhost:8080/",
     "height": 1000
    },
    "id": "VgRw_DxnwxEJ",
    "outputId": "1a95bc05-28ab-4f96-8eb6-5406cf7a42d3"
   },
   "outputs": [
    {
     "name": "stdout",
     "output_type": "stream",
     "text": [
      "Epoch 1/30\n",
      "\u001b[1m425/425\u001b[0m \u001b[32m━━━━━━━━━━━━━━━━━━━━\u001b[0m\u001b[37m\u001b[0m \u001b[1m4s\u001b[0m 5ms/step - accuracy: 0.6925 - loss: 0.5752 - val_accuracy: 0.8668 - val_loss: 0.3454\n",
      "Epoch 2/30\n",
      "\u001b[1m425/425\u001b[0m \u001b[32m━━━━━━━━━━━━━━━━━━━━\u001b[0m\u001b[37m\u001b[0m \u001b[1m2s\u001b[0m 4ms/step - accuracy: 0.8581 - loss: 0.3375 - val_accuracy: 0.8754 - val_loss: 0.3075\n",
      "Epoch 3/30\n",
      "\u001b[1m425/425\u001b[0m \u001b[32m━━━━━━━━━━━━━━━━━━━━\u001b[0m\u001b[37m\u001b[0m \u001b[1m2s\u001b[0m 5ms/step - accuracy: 0.8860 - loss: 0.2830 - val_accuracy: 0.8926 - val_loss: 0.2622\n",
      "Epoch 4/30\n",
      "\u001b[1m425/425\u001b[0m \u001b[32m━━━━━━━━━━━━━━━━━━━━\u001b[0m\u001b[37m\u001b[0m \u001b[1m2s\u001b[0m 4ms/step - accuracy: 0.9049 - loss: 0.2399 - val_accuracy: 0.8913 - val_loss: 0.2659\n",
      "Epoch 5/30\n",
      "\u001b[1m425/425\u001b[0m \u001b[32m━━━━━━━━━━━━━━━━━━━━\u001b[0m\u001b[37m\u001b[0m \u001b[1m2s\u001b[0m 4ms/step - accuracy: 0.9130 - loss: 0.2178 - val_accuracy: 0.8854 - val_loss: 0.2738\n",
      "Epoch 6/30\n",
      "\u001b[1m425/425\u001b[0m \u001b[32m━━━━━━━━━━━━━━━━━━━━\u001b[0m\u001b[37m\u001b[0m \u001b[1m2s\u001b[0m 4ms/step - accuracy: 0.9150 - loss: 0.2188 - val_accuracy: 0.8979 - val_loss: 0.2497\n",
      "Epoch 7/30\n",
      "\u001b[1m425/425\u001b[0m \u001b[32m━━━━━━━━━━━━━━━━━━━━\u001b[0m\u001b[37m\u001b[0m \u001b[1m2s\u001b[0m 4ms/step - accuracy: 0.9256 - loss: 0.1960 - val_accuracy: 0.9019 - val_loss: 0.2424\n",
      "Epoch 8/30\n",
      "\u001b[1m425/425\u001b[0m \u001b[32m━━━━━━━━━━━━━━━━━━━━\u001b[0m\u001b[37m\u001b[0m \u001b[1m2s\u001b[0m 4ms/step - accuracy: 0.9290 - loss: 0.1818 - val_accuracy: 0.8979 - val_loss: 0.2589\n",
      "Epoch 9/30\n",
      "\u001b[1m425/425\u001b[0m \u001b[32m━━━━━━━━━━━━━━━━━━━━\u001b[0m\u001b[37m\u001b[0m \u001b[1m2s\u001b[0m 4ms/step - accuracy: 0.9285 - loss: 0.1853 - val_accuracy: 0.8960 - val_loss: 0.2491\n",
      "Epoch 10/30\n",
      "\u001b[1m425/425\u001b[0m \u001b[32m━━━━━━━━━━━━━━━━━━━━\u001b[0m\u001b[37m\u001b[0m \u001b[1m2s\u001b[0m 4ms/step - accuracy: 0.9325 - loss: 0.1716 - val_accuracy: 0.8953 - val_loss: 0.2711\n",
      "Epoch 11/30\n",
      "\u001b[1m425/425\u001b[0m \u001b[32m━━━━━━━━━━━━━━━━━━━━\u001b[0m\u001b[37m\u001b[0m \u001b[1m2s\u001b[0m 4ms/step - accuracy: 0.9335 - loss: 0.1691 - val_accuracy: 0.8999 - val_loss: 0.2575\n",
      "Epoch 12/30\n",
      "\u001b[1m425/425\u001b[0m \u001b[32m━━━━━━━━━━━━━━━━━━━━\u001b[0m\u001b[37m\u001b[0m \u001b[1m2s\u001b[0m 4ms/step - accuracy: 0.9392 - loss: 0.1580 - val_accuracy: 0.9006 - val_loss: 0.2572\n",
      "Epoch 13/30\n",
      "\u001b[1m425/425\u001b[0m \u001b[32m━━━━━━━━━━━━━━━━━━━━\u001b[0m\u001b[37m\u001b[0m \u001b[1m2s\u001b[0m 4ms/step - accuracy: 0.9448 - loss: 0.1478 - val_accuracy: 0.8993 - val_loss: 0.2788\n",
      "Epoch 14/30\n",
      "\u001b[1m425/425\u001b[0m \u001b[32m━━━━━━━━━━━━━━━━━━━━\u001b[0m\u001b[37m\u001b[0m \u001b[1m2s\u001b[0m 4ms/step - accuracy: 0.9422 - loss: 0.1477 - val_accuracy: 0.9059 - val_loss: 0.2681\n",
      "Epoch 15/30\n",
      "\u001b[1m425/425\u001b[0m \u001b[32m━━━━━━━━━━━━━━━━━━━━\u001b[0m\u001b[37m\u001b[0m \u001b[1m2s\u001b[0m 4ms/step - accuracy: 0.9481 - loss: 0.1370 - val_accuracy: 0.9013 - val_loss: 0.2743\n",
      "Epoch 16/30\n",
      "\u001b[1m425/425\u001b[0m \u001b[32m━━━━━━━━━━━━━━━━━━━━\u001b[0m\u001b[37m\u001b[0m \u001b[1m2s\u001b[0m 4ms/step - accuracy: 0.9516 - loss: 0.1293 - val_accuracy: 0.9032 - val_loss: 0.2694\n",
      "Epoch 17/30\n",
      "\u001b[1m425/425\u001b[0m \u001b[32m━━━━━━━━━━━━━━━━━━━━\u001b[0m\u001b[37m\u001b[0m \u001b[1m2s\u001b[0m 4ms/step - accuracy: 0.9501 - loss: 0.1266 - val_accuracy: 0.8728 - val_loss: 0.3572\n",
      "Epoch 18/30\n",
      "\u001b[1m425/425\u001b[0m \u001b[32m━━━━━━━━━━━━━━━━━━━━\u001b[0m\u001b[37m\u001b[0m \u001b[1m2s\u001b[0m 4ms/step - accuracy: 0.9528 - loss: 0.1283 - val_accuracy: 0.9039 - val_loss: 0.2881\n",
      "Epoch 19/30\n",
      "\u001b[1m425/425\u001b[0m \u001b[32m━━━━━━━━━━━━━━━━━━━━\u001b[0m\u001b[37m\u001b[0m \u001b[1m2s\u001b[0m 4ms/step - accuracy: 0.9588 - loss: 0.1100 - val_accuracy: 0.8701 - val_loss: 0.3015\n",
      "Epoch 20/30\n",
      "\u001b[1m425/425\u001b[0m \u001b[32m━━━━━━━━━━━━━━━━━━━━\u001b[0m\u001b[37m\u001b[0m \u001b[1m2s\u001b[0m 4ms/step - accuracy: 0.9510 - loss: 0.1237 - val_accuracy: 0.9006 - val_loss: 0.3180\n",
      "Epoch 21/30\n",
      "\u001b[1m425/425\u001b[0m \u001b[32m━━━━━━━━━━━━━━━━━━━━\u001b[0m\u001b[37m\u001b[0m \u001b[1m2s\u001b[0m 4ms/step - accuracy: 0.9638 - loss: 0.0984 - val_accuracy: 0.9052 - val_loss: 0.3015\n",
      "Epoch 22/30\n",
      "\u001b[1m425/425\u001b[0m \u001b[32m━━━━━━━━━━━━━━━━━━━━\u001b[0m\u001b[37m\u001b[0m \u001b[1m2s\u001b[0m 4ms/step - accuracy: 0.9651 - loss: 0.0955 - val_accuracy: 0.8820 - val_loss: 0.3920\n",
      "Epoch 23/30\n",
      "\u001b[1m425/425\u001b[0m \u001b[32m━━━━━━━━━━━━━━━━━━━━\u001b[0m\u001b[37m\u001b[0m \u001b[1m2s\u001b[0m 4ms/step - accuracy: 0.9653 - loss: 0.0911 - val_accuracy: 0.8873 - val_loss: 0.3586\n",
      "Epoch 24/30\n",
      "\u001b[1m425/425\u001b[0m \u001b[32m━━━━━━━━━━━━━━━━━━━━\u001b[0m\u001b[37m\u001b[0m \u001b[1m2s\u001b[0m 4ms/step - accuracy: 0.9641 - loss: 0.0934 - val_accuracy: 0.9006 - val_loss: 0.3370\n",
      "Epoch 25/30\n",
      "\u001b[1m425/425\u001b[0m \u001b[32m━━━━━━━━━━━━━━━━━━━━\u001b[0m\u001b[37m\u001b[0m \u001b[1m2s\u001b[0m 4ms/step - accuracy: 0.9649 - loss: 0.0956 - val_accuracy: 0.9032 - val_loss: 0.3237\n",
      "Epoch 26/30\n",
      "\u001b[1m425/425\u001b[0m \u001b[32m━━━━━━━━━━━━━━━━━━━━\u001b[0m\u001b[37m\u001b[0m \u001b[1m2s\u001b[0m 4ms/step - accuracy: 0.9665 - loss: 0.0909 - val_accuracy: 0.8946 - val_loss: 0.3496\n",
      "Epoch 27/30\n",
      "\u001b[1m425/425\u001b[0m \u001b[32m━━━━━━━━━━━━━━━━━━━━\u001b[0m\u001b[37m\u001b[0m \u001b[1m2s\u001b[0m 4ms/step - accuracy: 0.9726 - loss: 0.0768 - val_accuracy: 0.8834 - val_loss: 0.4122\n",
      "Epoch 28/30\n",
      "\u001b[1m425/425\u001b[0m \u001b[32m━━━━━━━━━━━━━━━━━━━━\u001b[0m\u001b[37m\u001b[0m \u001b[1m2s\u001b[0m 4ms/step - accuracy: 0.9741 - loss: 0.0705 - val_accuracy: 0.8926 - val_loss: 0.3249\n",
      "Epoch 29/30\n",
      "\u001b[1m425/425\u001b[0m \u001b[32m━━━━━━━━━━━━━━━━━━━━\u001b[0m\u001b[37m\u001b[0m \u001b[1m2s\u001b[0m 4ms/step - accuracy: 0.9746 - loss: 0.0720 - val_accuracy: 0.8900 - val_loss: 0.4024\n",
      "Epoch 30/30\n",
      "\u001b[1m425/425\u001b[0m \u001b[32m━━━━━━━━━━━━━━━━━━━━\u001b[0m\u001b[37m\u001b[0m \u001b[1m2s\u001b[0m 4ms/step - accuracy: 0.9779 - loss: 0.0599 - val_accuracy: 0.8926 - val_loss: 0.3675\n"
     ]
    },
    {
     "data": {
      "application/vnd.plotly.v1+json": {
       "config": {
        "plotlyServerURL": "https://plot.ly"
       },
       "data": [
        {
         "mode": "lines",
         "name": "Training Loss",
         "type": "scatter",
         "y": [
          0.4788097143173218,
          0.3203904628753662,
          0.27118703722953796,
          0.2485274374485016,
          0.22469517588615417,
          0.21127104759216309,
          0.20404107868671417,
          0.1936476230621338,
          0.19143259525299072,
          0.17268450558185577,
          0.17228052020072937,
          0.16447055339813232,
          0.15318438410758972,
          0.15275736153125763,
          0.14320579171180725,
          0.13285991549491882,
          0.12727175652980804,
          0.12403567135334015,
          0.12312031537294388,
          0.11999131739139557,
          0.10670512169599533,
          0.10424398630857468,
          0.0996255874633789,
          0.10075512528419495,
          0.09262488037347794,
          0.09036979079246521,
          0.07985321432352066,
          0.08132513612508774,
          0.06837078928947449,
          0.06534330546855927
         ]
        },
        {
         "mode": "lines",
         "name": "Validation Loss",
         "type": "scatter",
         "y": [
          0.34538280963897705,
          0.3075190484523773,
          0.2621803283691406,
          0.2659466862678528,
          0.2738363742828369,
          0.24970246851444244,
          0.24244184792041779,
          0.2588718831539154,
          0.24907489120960236,
          0.271050363779068,
          0.25749653577804565,
          0.25722241401672363,
          0.27878251671791077,
          0.2681044936180115,
          0.2742701470851898,
          0.26943960785865784,
          0.35719120502471924,
          0.28808507323265076,
          0.301480233669281,
          0.3180297017097473,
          0.3015139102935791,
          0.39203110337257385,
          0.35863637924194336,
          0.3370210528373718,
          0.32365894317626953,
          0.3496191203594208,
          0.41221883893013,
          0.32494354248046875,
          0.40241923928260803,
          0.3675425946712494
         ]
        }
       ],
       "layout": {
        "template": {
         "data": {
          "bar": [
           {
            "error_x": {
             "color": "#2a3f5f"
            },
            "error_y": {
             "color": "#2a3f5f"
            },
            "marker": {
             "line": {
              "color": "#E5ECF6",
              "width": 0.5
             },
             "pattern": {
              "fillmode": "overlay",
              "size": 10,
              "solidity": 0.2
             }
            },
            "type": "bar"
           }
          ],
          "barpolar": [
           {
            "marker": {
             "line": {
              "color": "#E5ECF6",
              "width": 0.5
             },
             "pattern": {
              "fillmode": "overlay",
              "size": 10,
              "solidity": 0.2
             }
            },
            "type": "barpolar"
           }
          ],
          "carpet": [
           {
            "aaxis": {
             "endlinecolor": "#2a3f5f",
             "gridcolor": "white",
             "linecolor": "white",
             "minorgridcolor": "white",
             "startlinecolor": "#2a3f5f"
            },
            "baxis": {
             "endlinecolor": "#2a3f5f",
             "gridcolor": "white",
             "linecolor": "white",
             "minorgridcolor": "white",
             "startlinecolor": "#2a3f5f"
            },
            "type": "carpet"
           }
          ],
          "choropleth": [
           {
            "colorbar": {
             "outlinewidth": 0,
             "ticks": ""
            },
            "type": "choropleth"
           }
          ],
          "contour": [
           {
            "colorbar": {
             "outlinewidth": 0,
             "ticks": ""
            },
            "colorscale": [
             [
              0,
              "#0d0887"
             ],
             [
              0.1111111111111111,
              "#46039f"
             ],
             [
              0.2222222222222222,
              "#7201a8"
             ],
             [
              0.3333333333333333,
              "#9c179e"
             ],
             [
              0.4444444444444444,
              "#bd3786"
             ],
             [
              0.5555555555555556,
              "#d8576b"
             ],
             [
              0.6666666666666666,
              "#ed7953"
             ],
             [
              0.7777777777777778,
              "#fb9f3a"
             ],
             [
              0.8888888888888888,
              "#fdca26"
             ],
             [
              1,
              "#f0f921"
             ]
            ],
            "type": "contour"
           }
          ],
          "contourcarpet": [
           {
            "colorbar": {
             "outlinewidth": 0,
             "ticks": ""
            },
            "type": "contourcarpet"
           }
          ],
          "heatmap": [
           {
            "colorbar": {
             "outlinewidth": 0,
             "ticks": ""
            },
            "colorscale": [
             [
              0,
              "#0d0887"
             ],
             [
              0.1111111111111111,
              "#46039f"
             ],
             [
              0.2222222222222222,
              "#7201a8"
             ],
             [
              0.3333333333333333,
              "#9c179e"
             ],
             [
              0.4444444444444444,
              "#bd3786"
             ],
             [
              0.5555555555555556,
              "#d8576b"
             ],
             [
              0.6666666666666666,
              "#ed7953"
             ],
             [
              0.7777777777777778,
              "#fb9f3a"
             ],
             [
              0.8888888888888888,
              "#fdca26"
             ],
             [
              1,
              "#f0f921"
             ]
            ],
            "type": "heatmap"
           }
          ],
          "histogram": [
           {
            "marker": {
             "pattern": {
              "fillmode": "overlay",
              "size": 10,
              "solidity": 0.2
             }
            },
            "type": "histogram"
           }
          ],
          "histogram2d": [
           {
            "colorbar": {
             "outlinewidth": 0,
             "ticks": ""
            },
            "colorscale": [
             [
              0,
              "#0d0887"
             ],
             [
              0.1111111111111111,
              "#46039f"
             ],
             [
              0.2222222222222222,
              "#7201a8"
             ],
             [
              0.3333333333333333,
              "#9c179e"
             ],
             [
              0.4444444444444444,
              "#bd3786"
             ],
             [
              0.5555555555555556,
              "#d8576b"
             ],
             [
              0.6666666666666666,
              "#ed7953"
             ],
             [
              0.7777777777777778,
              "#fb9f3a"
             ],
             [
              0.8888888888888888,
              "#fdca26"
             ],
             [
              1,
              "#f0f921"
             ]
            ],
            "type": "histogram2d"
           }
          ],
          "histogram2dcontour": [
           {
            "colorbar": {
             "outlinewidth": 0,
             "ticks": ""
            },
            "colorscale": [
             [
              0,
              "#0d0887"
             ],
             [
              0.1111111111111111,
              "#46039f"
             ],
             [
              0.2222222222222222,
              "#7201a8"
             ],
             [
              0.3333333333333333,
              "#9c179e"
             ],
             [
              0.4444444444444444,
              "#bd3786"
             ],
             [
              0.5555555555555556,
              "#d8576b"
             ],
             [
              0.6666666666666666,
              "#ed7953"
             ],
             [
              0.7777777777777778,
              "#fb9f3a"
             ],
             [
              0.8888888888888888,
              "#fdca26"
             ],
             [
              1,
              "#f0f921"
             ]
            ],
            "type": "histogram2dcontour"
           }
          ],
          "mesh3d": [
           {
            "colorbar": {
             "outlinewidth": 0,
             "ticks": ""
            },
            "type": "mesh3d"
           }
          ],
          "parcoords": [
           {
            "line": {
             "colorbar": {
              "outlinewidth": 0,
              "ticks": ""
             }
            },
            "type": "parcoords"
           }
          ],
          "pie": [
           {
            "automargin": true,
            "type": "pie"
           }
          ],
          "scatter": [
           {
            "fillpattern": {
             "fillmode": "overlay",
             "size": 10,
             "solidity": 0.2
            },
            "type": "scatter"
           }
          ],
          "scatter3d": [
           {
            "line": {
             "colorbar": {
              "outlinewidth": 0,
              "ticks": ""
             }
            },
            "marker": {
             "colorbar": {
              "outlinewidth": 0,
              "ticks": ""
             }
            },
            "type": "scatter3d"
           }
          ],
          "scattercarpet": [
           {
            "marker": {
             "colorbar": {
              "outlinewidth": 0,
              "ticks": ""
             }
            },
            "type": "scattercarpet"
           }
          ],
          "scattergeo": [
           {
            "marker": {
             "colorbar": {
              "outlinewidth": 0,
              "ticks": ""
             }
            },
            "type": "scattergeo"
           }
          ],
          "scattergl": [
           {
            "marker": {
             "colorbar": {
              "outlinewidth": 0,
              "ticks": ""
             }
            },
            "type": "scattergl"
           }
          ],
          "scattermap": [
           {
            "marker": {
             "colorbar": {
              "outlinewidth": 0,
              "ticks": ""
             }
            },
            "type": "scattermap"
           }
          ],
          "scattermapbox": [
           {
            "marker": {
             "colorbar": {
              "outlinewidth": 0,
              "ticks": ""
             }
            },
            "type": "scattermapbox"
           }
          ],
          "scatterpolar": [
           {
            "marker": {
             "colorbar": {
              "outlinewidth": 0,
              "ticks": ""
             }
            },
            "type": "scatterpolar"
           }
          ],
          "scatterpolargl": [
           {
            "marker": {
             "colorbar": {
              "outlinewidth": 0,
              "ticks": ""
             }
            },
            "type": "scatterpolargl"
           }
          ],
          "scatterternary": [
           {
            "marker": {
             "colorbar": {
              "outlinewidth": 0,
              "ticks": ""
             }
            },
            "type": "scatterternary"
           }
          ],
          "surface": [
           {
            "colorbar": {
             "outlinewidth": 0,
             "ticks": ""
            },
            "colorscale": [
             [
              0,
              "#0d0887"
             ],
             [
              0.1111111111111111,
              "#46039f"
             ],
             [
              0.2222222222222222,
              "#7201a8"
             ],
             [
              0.3333333333333333,
              "#9c179e"
             ],
             [
              0.4444444444444444,
              "#bd3786"
             ],
             [
              0.5555555555555556,
              "#d8576b"
             ],
             [
              0.6666666666666666,
              "#ed7953"
             ],
             [
              0.7777777777777778,
              "#fb9f3a"
             ],
             [
              0.8888888888888888,
              "#fdca26"
             ],
             [
              1,
              "#f0f921"
             ]
            ],
            "type": "surface"
           }
          ],
          "table": [
           {
            "cells": {
             "fill": {
              "color": "#EBF0F8"
             },
             "line": {
              "color": "white"
             }
            },
            "header": {
             "fill": {
              "color": "#C8D4E3"
             },
             "line": {
              "color": "white"
             }
            },
            "type": "table"
           }
          ]
         },
         "layout": {
          "annotationdefaults": {
           "arrowcolor": "#2a3f5f",
           "arrowhead": 0,
           "arrowwidth": 1
          },
          "autotypenumbers": "strict",
          "coloraxis": {
           "colorbar": {
            "outlinewidth": 0,
            "ticks": ""
           }
          },
          "colorscale": {
           "diverging": [
            [
             0,
             "#8e0152"
            ],
            [
             0.1,
             "#c51b7d"
            ],
            [
             0.2,
             "#de77ae"
            ],
            [
             0.3,
             "#f1b6da"
            ],
            [
             0.4,
             "#fde0ef"
            ],
            [
             0.5,
             "#f7f7f7"
            ],
            [
             0.6,
             "#e6f5d0"
            ],
            [
             0.7,
             "#b8e186"
            ],
            [
             0.8,
             "#7fbc41"
            ],
            [
             0.9,
             "#4d9221"
            ],
            [
             1,
             "#276419"
            ]
           ],
           "sequential": [
            [
             0,
             "#0d0887"
            ],
            [
             0.1111111111111111,
             "#46039f"
            ],
            [
             0.2222222222222222,
             "#7201a8"
            ],
            [
             0.3333333333333333,
             "#9c179e"
            ],
            [
             0.4444444444444444,
             "#bd3786"
            ],
            [
             0.5555555555555556,
             "#d8576b"
            ],
            [
             0.6666666666666666,
             "#ed7953"
            ],
            [
             0.7777777777777778,
             "#fb9f3a"
            ],
            [
             0.8888888888888888,
             "#fdca26"
            ],
            [
             1,
             "#f0f921"
            ]
           ],
           "sequentialminus": [
            [
             0,
             "#0d0887"
            ],
            [
             0.1111111111111111,
             "#46039f"
            ],
            [
             0.2222222222222222,
             "#7201a8"
            ],
            [
             0.3333333333333333,
             "#9c179e"
            ],
            [
             0.4444444444444444,
             "#bd3786"
            ],
            [
             0.5555555555555556,
             "#d8576b"
            ],
            [
             0.6666666666666666,
             "#ed7953"
            ],
            [
             0.7777777777777778,
             "#fb9f3a"
            ],
            [
             0.8888888888888888,
             "#fdca26"
            ],
            [
             1,
             "#f0f921"
            ]
           ]
          },
          "colorway": [
           "#636efa",
           "#EF553B",
           "#00cc96",
           "#ab63fa",
           "#FFA15A",
           "#19d3f3",
           "#FF6692",
           "#B6E880",
           "#FF97FF",
           "#FECB52"
          ],
          "font": {
           "color": "#2a3f5f"
          },
          "geo": {
           "bgcolor": "white",
           "lakecolor": "white",
           "landcolor": "#E5ECF6",
           "showlakes": true,
           "showland": true,
           "subunitcolor": "white"
          },
          "hoverlabel": {
           "align": "left"
          },
          "hovermode": "closest",
          "mapbox": {
           "style": "light"
          },
          "paper_bgcolor": "white",
          "plot_bgcolor": "#E5ECF6",
          "polar": {
           "angularaxis": {
            "gridcolor": "white",
            "linecolor": "white",
            "ticks": ""
           },
           "bgcolor": "#E5ECF6",
           "radialaxis": {
            "gridcolor": "white",
            "linecolor": "white",
            "ticks": ""
           }
          },
          "scene": {
           "xaxis": {
            "backgroundcolor": "#E5ECF6",
            "gridcolor": "white",
            "gridwidth": 2,
            "linecolor": "white",
            "showbackground": true,
            "ticks": "",
            "zerolinecolor": "white"
           },
           "yaxis": {
            "backgroundcolor": "#E5ECF6",
            "gridcolor": "white",
            "gridwidth": 2,
            "linecolor": "white",
            "showbackground": true,
            "ticks": "",
            "zerolinecolor": "white"
           },
           "zaxis": {
            "backgroundcolor": "#E5ECF6",
            "gridcolor": "white",
            "gridwidth": 2,
            "linecolor": "white",
            "showbackground": true,
            "ticks": "",
            "zerolinecolor": "white"
           }
          },
          "shapedefaults": {
           "line": {
            "color": "#2a3f5f"
           }
          },
          "ternary": {
           "aaxis": {
            "gridcolor": "white",
            "linecolor": "white",
            "ticks": ""
           },
           "baxis": {
            "gridcolor": "white",
            "linecolor": "white",
            "ticks": ""
           },
           "bgcolor": "#E5ECF6",
           "caxis": {
            "gridcolor": "white",
            "linecolor": "white",
            "ticks": ""
           }
          },
          "title": {
           "x": 0.05
          },
          "xaxis": {
           "automargin": true,
           "gridcolor": "white",
           "linecolor": "white",
           "ticks": "",
           "title": {
            "standoff": 15
           },
           "zerolinecolor": "white",
           "zerolinewidth": 2
          },
          "yaxis": {
           "automargin": true,
           "gridcolor": "white",
           "linecolor": "white",
           "ticks": "",
           "title": {
            "standoff": 15
           },
           "zerolinecolor": "white",
           "zerolinewidth": 2
          }
         }
        },
        "title": {
         "text": "Training vs Validation Loss"
        },
        "xaxis": {
         "title": {
          "text": "Epochs"
         }
        },
        "yaxis": {
         "title": {
          "text": "Loss"
         }
        }
       }
      },
      "text/html": [
       "<div>            <script src=\"https://cdnjs.cloudflare.com/ajax/libs/mathjax/2.7.5/MathJax.js?config=TeX-AMS-MML_SVG\"></script><script type=\"text/javascript\">if (window.MathJax && window.MathJax.Hub && window.MathJax.Hub.Config) {window.MathJax.Hub.Config({SVG: {font: \"STIX-Web\"}});}</script>                <script type=\"text/javascript\">window.PlotlyConfig = {MathJaxConfig: 'local'};</script>\n",
       "        <script charset=\"utf-8\" src=\"https://cdn.plot.ly/plotly-3.0.0.min.js\"></script>                <div id=\"56b12966-bad5-4523-80f8-483689aa532f\" class=\"plotly-graph-div\" style=\"height:525px; width:100%;\"></div>            <script type=\"text/javascript\">                window.PLOTLYENV=window.PLOTLYENV || {};                                if (document.getElementById(\"56b12966-bad5-4523-80f8-483689aa532f\")) {                    Plotly.newPlot(                        \"56b12966-bad5-4523-80f8-483689aa532f\",                        [{\"mode\":\"lines\",\"name\":\"Training Loss\",\"y\":[0.4788097143173218,0.3203904628753662,0.27118703722953796,0.2485274374485016,0.22469517588615417,0.21127104759216309,0.20404107868671417,0.1936476230621338,0.19143259525299072,0.17268450558185577,0.17228052020072937,0.16447055339813232,0.15318438410758972,0.15275736153125763,0.14320579171180725,0.13285991549491882,0.12727175652980804,0.12403567135334015,0.12312031537294388,0.11999131739139557,0.10670512169599533,0.10424398630857468,0.0996255874633789,0.10075512528419495,0.09262488037347794,0.09036979079246521,0.07985321432352066,0.08132513612508774,0.06837078928947449,0.06534330546855927],\"type\":\"scatter\"},{\"mode\":\"lines\",\"name\":\"Validation Loss\",\"y\":[0.34538280963897705,0.3075190484523773,0.2621803283691406,0.2659466862678528,0.2738363742828369,0.24970246851444244,0.24244184792041779,0.2588718831539154,0.24907489120960236,0.271050363779068,0.25749653577804565,0.25722241401672363,0.27878251671791077,0.2681044936180115,0.2742701470851898,0.26943960785865784,0.35719120502471924,0.28808507323265076,0.301480233669281,0.3180297017097473,0.3015139102935791,0.39203110337257385,0.35863637924194336,0.3370210528373718,0.32365894317626953,0.3496191203594208,0.41221883893013,0.32494354248046875,0.40241923928260803,0.3675425946712494],\"type\":\"scatter\"}],                        {\"template\":{\"data\":{\"histogram2dcontour\":[{\"type\":\"histogram2dcontour\",\"colorbar\":{\"outlinewidth\":0,\"ticks\":\"\"},\"colorscale\":[[0.0,\"#0d0887\"],[0.1111111111111111,\"#46039f\"],[0.2222222222222222,\"#7201a8\"],[0.3333333333333333,\"#9c179e\"],[0.4444444444444444,\"#bd3786\"],[0.5555555555555556,\"#d8576b\"],[0.6666666666666666,\"#ed7953\"],[0.7777777777777778,\"#fb9f3a\"],[0.8888888888888888,\"#fdca26\"],[1.0,\"#f0f921\"]]}],\"choropleth\":[{\"type\":\"choropleth\",\"colorbar\":{\"outlinewidth\":0,\"ticks\":\"\"}}],\"histogram2d\":[{\"type\":\"histogram2d\",\"colorbar\":{\"outlinewidth\":0,\"ticks\":\"\"},\"colorscale\":[[0.0,\"#0d0887\"],[0.1111111111111111,\"#46039f\"],[0.2222222222222222,\"#7201a8\"],[0.3333333333333333,\"#9c179e\"],[0.4444444444444444,\"#bd3786\"],[0.5555555555555556,\"#d8576b\"],[0.6666666666666666,\"#ed7953\"],[0.7777777777777778,\"#fb9f3a\"],[0.8888888888888888,\"#fdca26\"],[1.0,\"#f0f921\"]]}],\"heatmap\":[{\"type\":\"heatmap\",\"colorbar\":{\"outlinewidth\":0,\"ticks\":\"\"},\"colorscale\":[[0.0,\"#0d0887\"],[0.1111111111111111,\"#46039f\"],[0.2222222222222222,\"#7201a8\"],[0.3333333333333333,\"#9c179e\"],[0.4444444444444444,\"#bd3786\"],[0.5555555555555556,\"#d8576b\"],[0.6666666666666666,\"#ed7953\"],[0.7777777777777778,\"#fb9f3a\"],[0.8888888888888888,\"#fdca26\"],[1.0,\"#f0f921\"]]}],\"contourcarpet\":[{\"type\":\"contourcarpet\",\"colorbar\":{\"outlinewidth\":0,\"ticks\":\"\"}}],\"contour\":[{\"type\":\"contour\",\"colorbar\":{\"outlinewidth\":0,\"ticks\":\"\"},\"colorscale\":[[0.0,\"#0d0887\"],[0.1111111111111111,\"#46039f\"],[0.2222222222222222,\"#7201a8\"],[0.3333333333333333,\"#9c179e\"],[0.4444444444444444,\"#bd3786\"],[0.5555555555555556,\"#d8576b\"],[0.6666666666666666,\"#ed7953\"],[0.7777777777777778,\"#fb9f3a\"],[0.8888888888888888,\"#fdca26\"],[1.0,\"#f0f921\"]]}],\"surface\":[{\"type\":\"surface\",\"colorbar\":{\"outlinewidth\":0,\"ticks\":\"\"},\"colorscale\":[[0.0,\"#0d0887\"],[0.1111111111111111,\"#46039f\"],[0.2222222222222222,\"#7201a8\"],[0.3333333333333333,\"#9c179e\"],[0.4444444444444444,\"#bd3786\"],[0.5555555555555556,\"#d8576b\"],[0.6666666666666666,\"#ed7953\"],[0.7777777777777778,\"#fb9f3a\"],[0.8888888888888888,\"#fdca26\"],[1.0,\"#f0f921\"]]}],\"mesh3d\":[{\"type\":\"mesh3d\",\"colorbar\":{\"outlinewidth\":0,\"ticks\":\"\"}}],\"scatter\":[{\"fillpattern\":{\"fillmode\":\"overlay\",\"size\":10,\"solidity\":0.2},\"type\":\"scatter\"}],\"parcoords\":[{\"type\":\"parcoords\",\"line\":{\"colorbar\":{\"outlinewidth\":0,\"ticks\":\"\"}}}],\"scatterpolargl\":[{\"type\":\"scatterpolargl\",\"marker\":{\"colorbar\":{\"outlinewidth\":0,\"ticks\":\"\"}}}],\"bar\":[{\"error_x\":{\"color\":\"#2a3f5f\"},\"error_y\":{\"color\":\"#2a3f5f\"},\"marker\":{\"line\":{\"color\":\"#E5ECF6\",\"width\":0.5},\"pattern\":{\"fillmode\":\"overlay\",\"size\":10,\"solidity\":0.2}},\"type\":\"bar\"}],\"scattergeo\":[{\"type\":\"scattergeo\",\"marker\":{\"colorbar\":{\"outlinewidth\":0,\"ticks\":\"\"}}}],\"scatterpolar\":[{\"type\":\"scatterpolar\",\"marker\":{\"colorbar\":{\"outlinewidth\":0,\"ticks\":\"\"}}}],\"histogram\":[{\"marker\":{\"pattern\":{\"fillmode\":\"overlay\",\"size\":10,\"solidity\":0.2}},\"type\":\"histogram\"}],\"scattergl\":[{\"type\":\"scattergl\",\"marker\":{\"colorbar\":{\"outlinewidth\":0,\"ticks\":\"\"}}}],\"scatter3d\":[{\"type\":\"scatter3d\",\"line\":{\"colorbar\":{\"outlinewidth\":0,\"ticks\":\"\"}},\"marker\":{\"colorbar\":{\"outlinewidth\":0,\"ticks\":\"\"}}}],\"scattermap\":[{\"type\":\"scattermap\",\"marker\":{\"colorbar\":{\"outlinewidth\":0,\"ticks\":\"\"}}}],\"scattermapbox\":[{\"type\":\"scattermapbox\",\"marker\":{\"colorbar\":{\"outlinewidth\":0,\"ticks\":\"\"}}}],\"scatterternary\":[{\"type\":\"scatterternary\",\"marker\":{\"colorbar\":{\"outlinewidth\":0,\"ticks\":\"\"}}}],\"scattercarpet\":[{\"type\":\"scattercarpet\",\"marker\":{\"colorbar\":{\"outlinewidth\":0,\"ticks\":\"\"}}}],\"carpet\":[{\"aaxis\":{\"endlinecolor\":\"#2a3f5f\",\"gridcolor\":\"white\",\"linecolor\":\"white\",\"minorgridcolor\":\"white\",\"startlinecolor\":\"#2a3f5f\"},\"baxis\":{\"endlinecolor\":\"#2a3f5f\",\"gridcolor\":\"white\",\"linecolor\":\"white\",\"minorgridcolor\":\"white\",\"startlinecolor\":\"#2a3f5f\"},\"type\":\"carpet\"}],\"table\":[{\"cells\":{\"fill\":{\"color\":\"#EBF0F8\"},\"line\":{\"color\":\"white\"}},\"header\":{\"fill\":{\"color\":\"#C8D4E3\"},\"line\":{\"color\":\"white\"}},\"type\":\"table\"}],\"barpolar\":[{\"marker\":{\"line\":{\"color\":\"#E5ECF6\",\"width\":0.5},\"pattern\":{\"fillmode\":\"overlay\",\"size\":10,\"solidity\":0.2}},\"type\":\"barpolar\"}],\"pie\":[{\"automargin\":true,\"type\":\"pie\"}]},\"layout\":{\"autotypenumbers\":\"strict\",\"colorway\":[\"#636efa\",\"#EF553B\",\"#00cc96\",\"#ab63fa\",\"#FFA15A\",\"#19d3f3\",\"#FF6692\",\"#B6E880\",\"#FF97FF\",\"#FECB52\"],\"font\":{\"color\":\"#2a3f5f\"},\"hovermode\":\"closest\",\"hoverlabel\":{\"align\":\"left\"},\"paper_bgcolor\":\"white\",\"plot_bgcolor\":\"#E5ECF6\",\"polar\":{\"bgcolor\":\"#E5ECF6\",\"angularaxis\":{\"gridcolor\":\"white\",\"linecolor\":\"white\",\"ticks\":\"\"},\"radialaxis\":{\"gridcolor\":\"white\",\"linecolor\":\"white\",\"ticks\":\"\"}},\"ternary\":{\"bgcolor\":\"#E5ECF6\",\"aaxis\":{\"gridcolor\":\"white\",\"linecolor\":\"white\",\"ticks\":\"\"},\"baxis\":{\"gridcolor\":\"white\",\"linecolor\":\"white\",\"ticks\":\"\"},\"caxis\":{\"gridcolor\":\"white\",\"linecolor\":\"white\",\"ticks\":\"\"}},\"coloraxis\":{\"colorbar\":{\"outlinewidth\":0,\"ticks\":\"\"}},\"colorscale\":{\"sequential\":[[0.0,\"#0d0887\"],[0.1111111111111111,\"#46039f\"],[0.2222222222222222,\"#7201a8\"],[0.3333333333333333,\"#9c179e\"],[0.4444444444444444,\"#bd3786\"],[0.5555555555555556,\"#d8576b\"],[0.6666666666666666,\"#ed7953\"],[0.7777777777777778,\"#fb9f3a\"],[0.8888888888888888,\"#fdca26\"],[1.0,\"#f0f921\"]],\"sequentialminus\":[[0.0,\"#0d0887\"],[0.1111111111111111,\"#46039f\"],[0.2222222222222222,\"#7201a8\"],[0.3333333333333333,\"#9c179e\"],[0.4444444444444444,\"#bd3786\"],[0.5555555555555556,\"#d8576b\"],[0.6666666666666666,\"#ed7953\"],[0.7777777777777778,\"#fb9f3a\"],[0.8888888888888888,\"#fdca26\"],[1.0,\"#f0f921\"]],\"diverging\":[[0,\"#8e0152\"],[0.1,\"#c51b7d\"],[0.2,\"#de77ae\"],[0.3,\"#f1b6da\"],[0.4,\"#fde0ef\"],[0.5,\"#f7f7f7\"],[0.6,\"#e6f5d0\"],[0.7,\"#b8e186\"],[0.8,\"#7fbc41\"],[0.9,\"#4d9221\"],[1,\"#276419\"]]},\"xaxis\":{\"gridcolor\":\"white\",\"linecolor\":\"white\",\"ticks\":\"\",\"title\":{\"standoff\":15},\"zerolinecolor\":\"white\",\"automargin\":true,\"zerolinewidth\":2},\"yaxis\":{\"gridcolor\":\"white\",\"linecolor\":\"white\",\"ticks\":\"\",\"title\":{\"standoff\":15},\"zerolinecolor\":\"white\",\"automargin\":true,\"zerolinewidth\":2},\"scene\":{\"xaxis\":{\"backgroundcolor\":\"#E5ECF6\",\"gridcolor\":\"white\",\"linecolor\":\"white\",\"showbackground\":true,\"ticks\":\"\",\"zerolinecolor\":\"white\",\"gridwidth\":2},\"yaxis\":{\"backgroundcolor\":\"#E5ECF6\",\"gridcolor\":\"white\",\"linecolor\":\"white\",\"showbackground\":true,\"ticks\":\"\",\"zerolinecolor\":\"white\",\"gridwidth\":2},\"zaxis\":{\"backgroundcolor\":\"#E5ECF6\",\"gridcolor\":\"white\",\"linecolor\":\"white\",\"showbackground\":true,\"ticks\":\"\",\"zerolinecolor\":\"white\",\"gridwidth\":2}},\"shapedefaults\":{\"line\":{\"color\":\"#2a3f5f\"}},\"annotationdefaults\":{\"arrowcolor\":\"#2a3f5f\",\"arrowhead\":0,\"arrowwidth\":1},\"geo\":{\"bgcolor\":\"white\",\"landcolor\":\"#E5ECF6\",\"subunitcolor\":\"white\",\"showland\":true,\"showlakes\":true,\"lakecolor\":\"white\"},\"title\":{\"x\":0.05},\"mapbox\":{\"style\":\"light\"}}},\"xaxis\":{\"title\":{\"text\":\"Epochs\"}},\"yaxis\":{\"title\":{\"text\":\"Loss\"}},\"title\":{\"text\":\"Training vs Validation Loss\"}},                        {\"responsive\": true}                    ).then(function(){\n",
       "                            \n",
       "var gd = document.getElementById('56b12966-bad5-4523-80f8-483689aa532f');\n",
       "var x = new MutationObserver(function (mutations, observer) {{\n",
       "        var display = window.getComputedStyle(gd).display;\n",
       "        if (!display || display === 'none') {{\n",
       "            console.log([gd, 'removed!']);\n",
       "            Plotly.purge(gd);\n",
       "            observer.disconnect();\n",
       "        }}\n",
       "}});\n",
       "\n",
       "// Listen for the removal of the full notebook cells\n",
       "var notebookContainer = gd.closest('#notebook-container');\n",
       "if (notebookContainer) {{\n",
       "    x.observe(notebookContainer, {childList: true});\n",
       "}}\n",
       "\n",
       "// Listen for the clearing of the current output cell\n",
       "var outputEl = gd.closest('.output');\n",
       "if (outputEl) {{\n",
       "    x.observe(outputEl, {childList: true});\n",
       "}}\n",
       "\n",
       "                        })                };            </script>        </div>"
      ]
     },
     "metadata": {},
     "output_type": "display_data"
    }
   ],
   "source": [
    "cnn_model = create_cnn_model()\n",
    "\n",
    "cnn_model.compile(optimizer=Adam(), loss=BinaryCrossentropy(), metrics=['accuracy'])\n",
    "\n",
    "history = cnn_model.fit(X_train, y_train, epochs=30, batch_size=32, validation_split=0.1)\n",
    "\n",
    "fig = go.Figure()\n",
    "fig.add_trace(go.Scatter(y=history.history['loss'], mode='lines', name='Training Loss'))\n",
    "fig.add_trace(go.Scatter(y=history.history['val_loss'], mode='lines', name='Validation Loss'))\n",
    "fig.update_layout(xaxis_title='Epochs', yaxis_title='Loss', title='Training vs Validation Loss')\n",
    "fig.show()"
   ]
  },
  {
   "cell_type": "code",
   "execution_count": 39,
   "metadata": {
    "colab": {
     "base_uri": "https://localhost:8080/"
    },
    "id": "XGSon1e98yQo",
    "outputId": "b4b73932-4e34-4367-e7a6-515019e55576"
   },
   "outputs": [
    {
     "name": "stdout",
     "output_type": "stream",
     "text": [
      "7\n"
     ]
    }
   ],
   "source": [
    "optimal_epochs = np.argmin(history.history['val_loss']) + 1\n",
    "print(optimal_epochs)"
   ]
  },
  {
   "cell_type": "code",
   "execution_count": 40,
   "metadata": {
    "colab": {
     "base_uri": "https://localhost:8080/"
    },
    "id": "IalcjgZ-Mr16",
    "outputId": "ce5c002d-6bb6-4665-9cfa-1b655e398462"
   },
   "outputs": [
    {
     "name": "stdout",
     "output_type": "stream",
     "text": [
      "Epoch 1/7\n",
      "\u001b[1m425/425\u001b[0m \u001b[32m━━━━━━━━━━━━━━━━━━━━\u001b[0m\u001b[37m\u001b[0m \u001b[1m3s\u001b[0m 5ms/step - accuracy: 0.6763 - loss: 0.5834 - val_accuracy: 0.8615 - val_loss: 0.3253\n",
      "Epoch 2/7\n",
      "\u001b[1m425/425\u001b[0m \u001b[32m━━━━━━━━━━━━━━━━━━━━\u001b[0m\u001b[37m\u001b[0m \u001b[1m2s\u001b[0m 5ms/step - accuracy: 0.8641 - loss: 0.3190 - val_accuracy: 0.8860 - val_loss: 0.2703\n",
      "Epoch 3/7\n",
      "\u001b[1m425/425\u001b[0m \u001b[32m━━━━━━━━━━━━━━━━━━━━\u001b[0m\u001b[37m\u001b[0m \u001b[1m2s\u001b[0m 5ms/step - accuracy: 0.8904 - loss: 0.2719 - val_accuracy: 0.8820 - val_loss: 0.2712\n",
      "Epoch 4/7\n",
      "\u001b[1m425/425\u001b[0m \u001b[32m━━━━━━━━━━━━━━━━━━━━\u001b[0m\u001b[37m\u001b[0m \u001b[1m2s\u001b[0m 4ms/step - accuracy: 0.9080 - loss: 0.2412 - val_accuracy: 0.8960 - val_loss: 0.2482\n",
      "Epoch 5/7\n",
      "\u001b[1m425/425\u001b[0m \u001b[32m━━━━━━━━━━━━━━━━━━━━\u001b[0m\u001b[37m\u001b[0m \u001b[1m2s\u001b[0m 4ms/step - accuracy: 0.9104 - loss: 0.2312 - val_accuracy: 0.8993 - val_loss: 0.2430\n",
      "Epoch 6/7\n",
      "\u001b[1m425/425\u001b[0m \u001b[32m━━━━━━━━━━━━━━━━━━━━\u001b[0m\u001b[37m\u001b[0m \u001b[1m2s\u001b[0m 4ms/step - accuracy: 0.9188 - loss: 0.2089 - val_accuracy: 0.9072 - val_loss: 0.2371\n",
      "Epoch 7/7\n",
      "\u001b[1m425/425\u001b[0m \u001b[32m━━━━━━━━━━━━━━━━━━━━\u001b[0m\u001b[37m\u001b[0m \u001b[1m2s\u001b[0m 4ms/step - accuracy: 0.9221 - loss: 0.2068 - val_accuracy: 0.9032 - val_loss: 0.2359\n",
      "\u001b[1m118/118\u001b[0m \u001b[32m━━━━━━━━━━━━━━━━━━━━\u001b[0m\u001b[37m\u001b[0m \u001b[1m0s\u001b[0m 2ms/step - accuracy: 0.9057 - loss: 0.2415 \n",
      "Test Loss: 0.2374, Test Accuracy: 0.9008\n"
     ]
    }
   ],
   "source": [
    "cnn_model = create_cnn_model()\n",
    "\n",
    "cnn_model.compile(optimizer=Adam(), loss=BinaryCrossentropy(), metrics=['accuracy'])\n",
    "\n",
    "cnn_model.fit(X_train, y_train, epochs=optimal_epochs, batch_size=32, validation_split=0.1)\n",
    "\n",
    "results = cnn_model.evaluate(X_test, y_test)\n",
    "\n",
    "print(f'Test Loss: {results[0]:.4f}, Test Accuracy: {results[1]:.4f}')"
   ]
  },
  {
   "cell_type": "markdown",
   "metadata": {},
   "source": [
    "### My Observation \n",
    "---\n",
    "\n",
    "*  Optimal Epochs = 7 (determined by minimum validation loss: 0.2424).\n",
    "\n",
    "Final Training Metrics **(Epoch 7)**:\n",
    "\n",
    "1.  Accuracy: 90.57% | Loss: 0.2415\n",
    "\n",
    "2.  Validation Accuracy: 90.32% | Loss: 0.2359\n",
    "\n",
    "**Overfitting Trend:** After epoch 7, validation loss increased (reaching 0.4 by epoch 30) while training accuracy climbed to 97, indicating the model began memorizing training data, or let's say overfitting.\n",
    "\n",
    "Test Set Performance\n",
    "\n",
    "1.  Test Accuracy: 90.08% (consistent with validation results).\n",
    "\n",
    "2.  Test Loss: 0.2347 (aligns with validation loss at epoch 7).\n",
    "\n",
    "**Early Stopping Optimization:** Training beyond 7 epochs resulted in reduced generalization performance.\n",
    "\n",
    "\n",
    "**Model Robustness:** Achieved 90% accuracy on all splits (train/val/test), suggesting good fit without underfitting.\n",
    "\n",
    "**Architecture:** The predefined CNN structure handled the problem well, though minor tuning (L2 regularization, dropout rate) could further handle overfitting. Which is discussed in the next section."
   ]
  },
  {
   "cell_type": "markdown",
   "metadata": {
    "id": "-q4b30T7ycla"
   },
   "source": [
    "# **9. Hyperparameter Tuning for Convolutional Networks**\n",
    "---\n",
    "\n",
    "*  Adjust the number of convolutional layers to explore their impact on model performance.\n",
    "*  Modify the number of kernels per layer to assess how it influences feature extraction capabilities.\n",
    "*  Experiment with different filter sizes to determine their effect on capturing spatial hierarchies.\n",
    "*  Evaluate various activation functions to identify their role in non-linear transformations.\n",
    "*  Alter dropout probabilities to investigate their efficacy in mitigating overfitting."
   ]
  },
  {
   "cell_type": "code",
   "execution_count": 41,
   "metadata": {
    "id": "d4vl59VP_4gW"
   },
   "outputs": [],
   "source": [
    "def create_customized_cnn_model(\n",
    "    num_conv_layers=2,\n",
    "    kernels_per_layer=32,\n",
    "    filter_size=5,\n",
    "    activation='relu',\n",
    "    dropout_rate=0.5,\n",
    "    l2reg=False\n",
    "):\n",
    "    model = Sequential()\n",
    "    for i in range(num_conv_layers):\n",
    "        if i == 0:\n",
    "            model.add(Conv1D(\n",
    "                filters=kernels_per_layer,\n",
    "                kernel_size=filter_size,\n",
    "                activation=activation,\n",
    "                kernel_regularizer= tf.keras.regularizers.L2(l2=0.01) if l2reg else None\n",
    "                ))\n",
    "        else:\n",
    "            model.add(Conv1D(\n",
    "                filters=kernels_per_layer,\n",
    "                kernel_size=filter_size,\n",
    "                activation=activation,\n",
    "                kernel_regularizer= tf.keras.regularizers.L2(l2=0.01) if l2reg else None\n",
    "\n",
    "            ))\n",
    "        model.add(MaxPooling1D(2))\n",
    "\n",
    "    model.add(GlobalMaxPooling1D())\n",
    "    model.add(Dense(64, activation=activation))\n",
    "    model.add(Dropout(dropout_rate))\n",
    "    model.add(Dense(1, activation='sigmoid'))\n",
    "    return model"
   ]
  },
  {
   "cell_type": "code",
   "execution_count": 42,
   "metadata": {
    "colab": {
     "base_uri": "https://localhost:8080/"
    },
    "id": "h2YgKzn8_6Lk",
    "outputId": "d2bd65a1-4e13-4f0a-b620-85bc31690b2c"
   },
   "outputs": [
    {
     "name": "stdout",
     "output_type": "stream",
     "text": [
      "NO GPU\n"
     ]
    }
   ],
   "source": [
    "gpus = tf.config.experimental.list_physical_devices('GPU')\n",
    "if gpus:\n",
    "    print(\"GPU yay\")\n",
    "    try:\n",
    "        for gpu in gpus:\n",
    "            tf.config.experimental.set_memory_growth(gpu, True)\n",
    "    except RuntimeError as e:\n",
    "        print(f\"Error: {e}\")\n",
    "else:\n",
    "    print(\"NO GPU\")"
   ]
  },
  {
   "cell_type": "code",
   "execution_count": 43,
   "metadata": {
    "id": "7Oh_vAqL_8Iu"
   },
   "outputs": [],
   "source": [
    "X_train, X_test, y_train, y_test = train_test_split(\n",
    "    exp3_data,\n",
    "    exp3_labels,\n",
    "    test_size=0.2,\n",
    "    random_state=42,\n",
    "    stratify=exp3_labels\n",
    ")\n",
    "X_train = X_train.transpose(0, 2, 1)  # (, 251, 4)\n",
    "X_test = X_test.transpose(0, 2, 1)    # (, 251, 4)\n",
    "\n",
    "conv_layers_options = [2, 3]\n",
    "kernels_options = [16, 32]\n",
    "filter_sizes = [3, 5]\n",
    "activations = ['relu', 'tanh']\n",
    "dropout_rates = [0.1, 0.3, 0.6]\n",
    "l2reg_options = [True, False]"
   ]
  },
  {
   "cell_type": "code",
   "execution_count": 44,
   "metadata": {
    "id": "qSAX0DtoAMj_"
   },
   "outputs": [],
   "source": [
    "early_stopping = tf.keras.callbacks.EarlyStopping(\n",
    "    monitor='val_loss',\n",
    "    patience=5,\n",
    "    restore_best_weights=True\n",
    ")"
   ]
  },
  {
   "cell_type": "code",
   "execution_count": null,
   "metadata": {
    "colab": {
     "base_uri": "https://localhost:8080/"
    },
    "id": "QhO-SZbHuBrA",
    "outputId": "834d434b-01a0-432a-fbb8-9bab96a23f32"
   },
   "outputs": [
    {
     "name": "stderr",
     "output_type": "stream",
     "text": [
      "2025-03-24 13:03:23.388193: I external/local_xla/xla/tsl/profiler/rpc/profiler_server.cc:46] Profiler server listening on [::]:0 selected port:39769\n"
     ]
    },
    {
     "name": "stdout",
     "output_type": "stream",
     "text": [
      "\n",
      "Training: | 2  Conv layers | Kernels : 16 | Filter Size : 3 | Activation : relu | Drop Rate :0.1 | L2 Regularization : True |\n",
      "Test Loss: 0.3181, Test Accuracy: 0.8865\n",
      "\n",
      "Training: | 2  Conv layers | Kernels : 16 | Filter Size : 3 | Activation : relu | Drop Rate :0.1 | L2 Regularization : False |\n",
      "Test Loss: 0.2914, Test Accuracy: 0.8812\n",
      "\n",
      "Training: | 2  Conv layers | Kernels : 16 | Filter Size : 3 | Activation : relu | Drop Rate :0.3 | L2 Regularization : True |\n",
      "Test Loss: 0.3018, Test Accuracy: 0.8945\n",
      "\n",
      "Training: | 2  Conv layers | Kernels : 16 | Filter Size : 3 | Activation : relu | Drop Rate :0.3 | L2 Regularization : False |\n",
      "Test Loss: 0.2762, Test Accuracy: 0.8868\n",
      "\n",
      "Training: | 2  Conv layers | Kernels : 16 | Filter Size : 3 | Activation : relu | Drop Rate :0.6 | L2 Regularization : True |\n",
      "Test Loss: 0.3195, Test Accuracy: 0.8799\n",
      "\n",
      "Training: | 2  Conv layers | Kernels : 16 | Filter Size : 3 | Activation : relu | Drop Rate :0.6 | L2 Regularization : False |\n",
      "Test Loss: 0.2739, Test Accuracy: 0.8828\n",
      "\n",
      "Training: | 2  Conv layers | Kernels : 16 | Filter Size : 3 | Activation : tanh | Drop Rate :0.1 | L2 Regularization : True |\n",
      "Test Loss: 0.3173, Test Accuracy: 0.8852\n",
      "\n",
      "Training: | 2  Conv layers | Kernels : 16 | Filter Size : 3 | Activation : tanh | Drop Rate :0.1 | L2 Regularization : False |\n",
      "Test Loss: 0.2988, Test Accuracy: 0.8709\n",
      "\n",
      "Training: | 2  Conv layers | Kernels : 16 | Filter Size : 3 | Activation : tanh | Drop Rate :0.3 | L2 Regularization : True |\n",
      "Test Loss: 0.2956, Test Accuracy: 0.8921\n",
      "\n",
      "Training: | 2  Conv layers | Kernels : 16 | Filter Size : 3 | Activation : tanh | Drop Rate :0.3 | L2 Regularization : False |\n",
      "Test Loss: 0.2656, Test Accuracy: 0.8879\n",
      "\n",
      "Training: | 2  Conv layers | Kernels : 16 | Filter Size : 3 | Activation : tanh | Drop Rate :0.6 | L2 Regularization : True |\n",
      "Test Loss: 0.2926, Test Accuracy: 0.8934\n",
      "\n",
      "Training: | 2  Conv layers | Kernels : 16 | Filter Size : 3 | Activation : tanh | Drop Rate :0.6 | L2 Regularization : False |\n",
      "Test Loss: 0.2942, Test Accuracy: 0.8826\n",
      "\n",
      "Training: | 2  Conv layers | Kernels : 16 | Filter Size : 5 | Activation : relu | Drop Rate :0.1 | L2 Regularization : True |\n",
      "Test Loss: 0.2866, Test Accuracy: 0.9001\n",
      "\n",
      "Training: | 2  Conv layers | Kernels : 16 | Filter Size : 5 | Activation : relu | Drop Rate :0.1 | L2 Regularization : False |\n",
      "Test Loss: 0.2524, Test Accuracy: 0.8961\n",
      "\n",
      "Training: | 2  Conv layers | Kernels : 16 | Filter Size : 5 | Activation : relu | Drop Rate :0.3 | L2 Regularization : True |\n",
      "Test Loss: 0.2928, Test Accuracy: 0.9022\n",
      "\n",
      "Training: | 2  Conv layers | Kernels : 16 | Filter Size : 5 | Activation : relu | Drop Rate :0.3 | L2 Regularization : False |\n",
      "Test Loss: 0.2645, Test Accuracy: 0.8871\n",
      "\n",
      "Training: | 2  Conv layers | Kernels : 16 | Filter Size : 5 | Activation : relu | Drop Rate :0.6 | L2 Regularization : True |\n",
      "Test Loss: 0.2899, Test Accuracy: 0.9022\n",
      "\n",
      "Training: | 2  Conv layers | Kernels : 16 | Filter Size : 5 | Activation : relu | Drop Rate :0.6 | L2 Regularization : False |\n",
      "Test Loss: 0.2567, Test Accuracy: 0.8955\n",
      "\n",
      "Training: | 2  Conv layers | Kernels : 16 | Filter Size : 5 | Activation : tanh | Drop Rate :0.1 | L2 Regularization : True |\n",
      "Test Loss: 0.3013, Test Accuracy: 0.8937\n",
      "\n",
      "Training: | 2  Conv layers | Kernels : 16 | Filter Size : 5 | Activation : tanh | Drop Rate :0.1 | L2 Regularization : False |\n",
      "Test Loss: 0.2593, Test Accuracy: 0.8940\n",
      "\n",
      "Training: | 2  Conv layers | Kernels : 16 | Filter Size : 5 | Activation : tanh | Drop Rate :0.3 | L2 Regularization : True |\n",
      "Test Loss: 0.2957, Test Accuracy: 0.8945\n",
      "\n",
      "Training: | 2  Conv layers | Kernels : 16 | Filter Size : 5 | Activation : tanh | Drop Rate :0.3 | L2 Regularization : False |\n",
      "Test Loss: 0.2632, Test Accuracy: 0.8942\n",
      "\n",
      "Training: | 2  Conv layers | Kernels : 16 | Filter Size : 5 | Activation : tanh | Drop Rate :0.6 | L2 Regularization : True |\n",
      "Test Loss: 0.2823, Test Accuracy: 0.9088\n",
      "\n",
      "Training: | 2  Conv layers | Kernels : 16 | Filter Size : 5 | Activation : tanh | Drop Rate :0.6 | L2 Regularization : False |\n",
      "Test Loss: 0.2777, Test Accuracy: 0.8897\n",
      "\n",
      "Training: | 2  Conv layers | Kernels : 32 | Filter Size : 3 | Activation : relu | Drop Rate :0.1 | L2 Regularization : True |\n",
      "Test Loss: 0.2899, Test Accuracy: 0.9032\n",
      "\n",
      "Training: | 2  Conv layers | Kernels : 32 | Filter Size : 3 | Activation : relu | Drop Rate :0.1 | L2 Regularization : False |\n",
      "Test Loss: 0.2459, Test Accuracy: 0.9022\n",
      "\n",
      "Training: | 2  Conv layers | Kernels : 32 | Filter Size : 3 | Activation : relu | Drop Rate :0.3 | L2 Regularization : True |\n",
      "Test Loss: 0.2912, Test Accuracy: 0.9019\n",
      "\n",
      "Training: | 2  Conv layers | Kernels : 32 | Filter Size : 3 | Activation : relu | Drop Rate :0.3 | L2 Regularization : False |\n",
      "Test Loss: 0.2313, Test Accuracy: 0.9093\n",
      "\n",
      "Training: | 2  Conv layers | Kernels : 32 | Filter Size : 3 | Activation : relu | Drop Rate :0.6 | L2 Regularization : True |\n",
      "Test Loss: 0.2960, Test Accuracy: 0.9014\n",
      "\n",
      "Training: | 2  Conv layers | Kernels : 32 | Filter Size : 3 | Activation : relu | Drop Rate :0.6 | L2 Regularization : False |\n",
      "Test Loss: 0.2383, Test Accuracy: 0.9080\n",
      "\n",
      "Training: | 2  Conv layers | Kernels : 32 | Filter Size : 3 | Activation : tanh | Drop Rate :0.1 | L2 Regularization : True |\n",
      "Test Loss: 0.2868, Test Accuracy: 0.9043\n",
      "\n",
      "Training: | 2  Conv layers | Kernels : 32 | Filter Size : 3 | Activation : tanh | Drop Rate :0.1 | L2 Regularization : False |\n",
      "Test Loss: 0.2495, Test Accuracy: 0.8998\n",
      "\n",
      "Training: | 2  Conv layers | Kernels : 32 | Filter Size : 3 | Activation : tanh | Drop Rate :0.3 | L2 Regularization : True |\n",
      "Test Loss: 0.2944, Test Accuracy: 0.8993\n",
      "\n",
      "Training: | 2  Conv layers | Kernels : 32 | Filter Size : 3 | Activation : tanh | Drop Rate :0.3 | L2 Regularization : False |\n",
      "Test Loss: 0.2422, Test Accuracy: 0.9016\n",
      "\n",
      "Training: | 2  Conv layers | Kernels : 32 | Filter Size : 3 | Activation : tanh | Drop Rate :0.6 | L2 Regularization : True |\n",
      "Test Loss: 0.2859, Test Accuracy: 0.9024\n",
      "\n",
      "Training: | 2  Conv layers | Kernels : 32 | Filter Size : 3 | Activation : tanh | Drop Rate :0.6 | L2 Regularization : False |\n",
      "Test Loss: 0.2602, Test Accuracy: 0.8969\n",
      "\n",
      "Training: | 2  Conv layers | Kernels : 32 | Filter Size : 5 | Activation : relu | Drop Rate :0.1 | L2 Regularization : True |\n",
      "Test Loss: 0.2867, Test Accuracy: 0.9130\n",
      "\n",
      "Training: | 2  Conv layers | Kernels : 32 | Filter Size : 5 | Activation : relu | Drop Rate :0.1 | L2 Regularization : False |\n",
      "Test Loss: 0.2261, Test Accuracy: 0.9099\n",
      "\n",
      "Training: | 2  Conv layers | Kernels : 32 | Filter Size : 5 | Activation : relu | Drop Rate :0.3 | L2 Regularization : True |\n",
      "Test Loss: 0.2730, Test Accuracy: 0.9128\n",
      "\n",
      "Training: | 2  Conv layers | Kernels : 32 | Filter Size : 5 | Activation : relu | Drop Rate :0.3 | L2 Regularization : False |\n",
      "Test Loss: 0.2224, Test Accuracy: 0.9083\n",
      "\n",
      "Training: | 2  Conv layers | Kernels : 32 | Filter Size : 5 | Activation : relu | Drop Rate :0.6 | L2 Regularization : True |\n",
      "Test Loss: 0.2770, Test Accuracy: 0.9170\n",
      "\n",
      "Training: | 2  Conv layers | Kernels : 32 | Filter Size : 5 | Activation : relu | Drop Rate :0.6 | L2 Regularization : False |\n",
      "Test Loss: 0.2466, Test Accuracy: 0.9032\n",
      "\n",
      "Training: | 2  Conv layers | Kernels : 32 | Filter Size : 5 | Activation : tanh | Drop Rate :0.1 | L2 Regularization : True |\n",
      "Test Loss: 0.2933, Test Accuracy: 0.9069\n",
      "\n",
      "Training: | 2  Conv layers | Kernels : 32 | Filter Size : 5 | Activation : tanh | Drop Rate :0.1 | L2 Regularization : False |\n",
      "Test Loss: 0.2345, Test Accuracy: 0.9069\n",
      "\n",
      "Training: | 2  Conv layers | Kernels : 32 | Filter Size : 5 | Activation : tanh | Drop Rate :0.3 | L2 Regularization : True |\n",
      "Test Loss: 0.2982, Test Accuracy: 0.9101\n",
      "\n",
      "Training: | 2  Conv layers | Kernels : 32 | Filter Size : 5 | Activation : tanh | Drop Rate :0.3 | L2 Regularization : False |\n",
      "Test Loss: 0.2388, Test Accuracy: 0.9080\n",
      "\n",
      "Training: | 2  Conv layers | Kernels : 32 | Filter Size : 5 | Activation : tanh | Drop Rate :0.6 | L2 Regularization : True |\n",
      "Test Loss: 0.2980, Test Accuracy: 0.9043\n",
      "\n",
      "Training: | 2  Conv layers | Kernels : 32 | Filter Size : 5 | Activation : tanh | Drop Rate :0.6 | L2 Regularization : False |\n",
      "Test Loss: 0.2441, Test Accuracy: 0.9062\n",
      "\n",
      "Training: | 3  Conv layers | Kernels : 16 | Filter Size : 3 | Activation : relu | Drop Rate :0.1 | L2 Regularization : True |\n",
      "Test Loss: 0.3579, Test Accuracy: 0.8677\n",
      "\n",
      "Training: | 3  Conv layers | Kernels : 16 | Filter Size : 3 | Activation : relu | Drop Rate :0.1 | L2 Regularization : False |\n",
      "Test Loss: 0.2532, Test Accuracy: 0.8966\n",
      "\n",
      "Training: | 3  Conv layers | Kernels : 16 | Filter Size : 3 | Activation : relu | Drop Rate :0.3 | L2 Regularization : True |\n",
      "Test Loss: 0.3519, Test Accuracy: 0.8757\n",
      "\n",
      "Training: | 3  Conv layers | Kernels : 16 | Filter Size : 3 | Activation : relu | Drop Rate :0.3 | L2 Regularization : False |\n",
      "Test Loss: 0.2632, Test Accuracy: 0.8879\n",
      "\n",
      "Training: | 3  Conv layers | Kernels : 16 | Filter Size : 3 | Activation : relu | Drop Rate :0.6 | L2 Regularization : True |\n",
      "Test Loss: 0.3410, Test Accuracy: 0.8735\n",
      "\n",
      "Training: | 3  Conv layers | Kernels : 16 | Filter Size : 3 | Activation : relu | Drop Rate :0.6 | L2 Regularization : False |\n",
      "Test Loss: 0.2599, Test Accuracy: 0.8948\n",
      "\n",
      "Training: | 3  Conv layers | Kernels : 16 | Filter Size : 3 | Activation : tanh | Drop Rate :0.1 | L2 Regularization : True |\n",
      "Test Loss: 0.3074, Test Accuracy: 0.8982\n",
      "\n",
      "Training: | 3  Conv layers | Kernels : 16 | Filter Size : 3 | Activation : tanh | Drop Rate :0.1 | L2 Regularization : False |\n",
      "Test Loss: 0.2809, Test Accuracy: 0.8834\n",
      "\n",
      "Training: | 3  Conv layers | Kernels : 16 | Filter Size : 3 | Activation : tanh | Drop Rate :0.3 | L2 Regularization : True |\n",
      "Test Loss: 0.3175, Test Accuracy: 0.8924\n",
      "\n",
      "Training: | 3  Conv layers | Kernels : 16 | Filter Size : 3 | Activation : tanh | Drop Rate :0.3 | L2 Regularization : False |\n",
      "Test Loss: 0.2697, Test Accuracy: 0.8879\n",
      "\n",
      "Training: | 3  Conv layers | Kernels : 16 | Filter Size : 3 | Activation : tanh | Drop Rate :0.6 | L2 Regularization : True |\n",
      "Test Loss: 0.3073, Test Accuracy: 0.8982\n",
      "\n",
      "Training: | 3  Conv layers | Kernels : 16 | Filter Size : 3 | Activation : tanh | Drop Rate :0.6 | L2 Regularization : False |\n",
      "Test Loss: 0.2727, Test Accuracy: 0.8881\n",
      "\n",
      "Training: | 3  Conv layers | Kernels : 16 | Filter Size : 5 | Activation : relu | Drop Rate :0.1 | L2 Regularization : True |\n",
      "Test Loss: 0.3067, Test Accuracy: 0.8918\n",
      "\n",
      "Training: | 3  Conv layers | Kernels : 16 | Filter Size : 5 | Activation : relu | Drop Rate :0.1 | L2 Regularization : False |\n",
      "Test Loss: 0.2488, Test Accuracy: 0.8979\n",
      "\n",
      "Training: | 3  Conv layers | Kernels : 16 | Filter Size : 5 | Activation : relu | Drop Rate :0.3 | L2 Regularization : True |\n",
      "Test Loss: 0.3166, Test Accuracy: 0.8873\n",
      "\n",
      "Training: | 3  Conv layers | Kernels : 16 | Filter Size : 5 | Activation : relu | Drop Rate :0.3 | L2 Regularization : False |\n",
      "Test Loss: 0.2638, Test Accuracy: 0.8902\n",
      "\n",
      "Training: | 3  Conv layers | Kernels : 16 | Filter Size : 5 | Activation : relu | Drop Rate :0.6 | L2 Regularization : True |\n",
      "Test Loss: 0.2981, Test Accuracy: 0.8985\n",
      "\n",
      "Training: | 3  Conv layers | Kernels : 16 | Filter Size : 5 | Activation : relu | Drop Rate :0.6 | L2 Regularization : False |\n",
      "Test Loss: 0.2359, Test Accuracy: 0.9024\n",
      "\n",
      "Training: | 3  Conv layers | Kernels : 16 | Filter Size : 5 | Activation : tanh | Drop Rate :0.1 | L2 Regularization : True |\n",
      "Test Loss: 0.3146, Test Accuracy: 0.9008\n",
      "\n",
      "Training: | 3  Conv layers | Kernels : 16 | Filter Size : 5 | Activation : tanh | Drop Rate :0.1 | L2 Regularization : False |\n",
      "Test Loss: 0.2579, Test Accuracy: 0.8934\n",
      "\n",
      "Training: | 3  Conv layers | Kernels : 16 | Filter Size : 5 | Activation : tanh | Drop Rate :0.3 | L2 Regularization : True |\n",
      "Test Loss: 0.3067, Test Accuracy: 0.8998\n",
      "\n",
      "Training: | 3  Conv layers | Kernels : 16 | Filter Size : 5 | Activation : tanh | Drop Rate :0.3 | L2 Regularization : False |\n",
      "Test Loss: 0.2559, Test Accuracy: 0.8963\n",
      "\n",
      "Training: | 3  Conv layers | Kernels : 16 | Filter Size : 5 | Activation : tanh | Drop Rate :0.6 | L2 Regularization : True |\n",
      "Test Loss: 0.3086, Test Accuracy: 0.8990\n",
      "\n",
      "Training: | 3  Conv layers | Kernels : 16 | Filter Size : 5 | Activation : tanh | Drop Rate :0.6 | L2 Regularization : False |\n",
      "Test Loss: 0.2512, Test Accuracy: 0.8993\n",
      "\n",
      "Training: | 3  Conv layers | Kernels : 32 | Filter Size : 3 | Activation : relu | Drop Rate :0.1 | L2 Regularization : True |\n",
      "Test Loss: 0.3162, Test Accuracy: 0.8932\n",
      "\n",
      "Training: | 3  Conv layers | Kernels : 32 | Filter Size : 3 | Activation : relu | Drop Rate :0.1 | L2 Regularization : False |\n",
      "Test Loss: 0.2421, Test Accuracy: 0.9030\n",
      "\n",
      "Training: | 3  Conv layers | Kernels : 32 | Filter Size : 3 | Activation : relu | Drop Rate :0.3 | L2 Regularization : True |\n",
      "Test Loss: 0.3185, Test Accuracy: 0.8924\n",
      "\n",
      "Training: | 3  Conv layers | Kernels : 32 | Filter Size : 3 | Activation : relu | Drop Rate :0.3 | L2 Regularization : False |\n",
      "Test Loss: 0.2380, Test Accuracy: 0.9040\n",
      "\n",
      "Training: | 3  Conv layers | Kernels : 32 | Filter Size : 3 | Activation : relu | Drop Rate :0.6 | L2 Regularization : True |\n",
      "Test Loss: 0.3342, Test Accuracy: 0.8868\n",
      "\n",
      "Training: | 3  Conv layers | Kernels : 32 | Filter Size : 3 | Activation : relu | Drop Rate :0.6 | L2 Regularization : False |\n",
      "Test Loss: 0.2439, Test Accuracy: 0.9027\n",
      "\n",
      "Training: | 3  Conv layers | Kernels : 32 | Filter Size : 3 | Activation : tanh | Drop Rate :0.1 | L2 Regularization : True |\n",
      "Test Loss: 0.3158, Test Accuracy: 0.8977\n",
      "\n",
      "Training: | 3  Conv layers | Kernels : 32 | Filter Size : 3 | Activation : tanh | Drop Rate :0.1 | L2 Regularization : False |\n",
      "Test Loss: 0.2395, Test Accuracy: 0.9024\n",
      "\n",
      "Training: | 3  Conv layers | Kernels : 32 | Filter Size : 3 | Activation : tanh | Drop Rate :0.3 | L2 Regularization : True |\n",
      "Test Loss: 0.3133, Test Accuracy: 0.9043\n",
      "\n",
      "Training: | 3  Conv layers | Kernels : 32 | Filter Size : 3 | Activation : tanh | Drop Rate :0.3 | L2 Regularization : False |\n",
      "Test Loss: 0.2377, Test Accuracy: 0.9035\n",
      "\n",
      "Training: | 3  Conv layers | Kernels : 32 | Filter Size : 3 | Activation : tanh | Drop Rate :0.6 | L2 Regularization : True |\n",
      "Test Loss: 0.3171, Test Accuracy: 0.8945\n",
      "\n",
      "Training: | 3  Conv layers | Kernels : 32 | Filter Size : 3 | Activation : tanh | Drop Rate :0.6 | L2 Regularization : False |\n",
      "Test Loss: 0.2454, Test Accuracy: 0.9006\n",
      "\n",
      "Training: | 3  Conv layers | Kernels : 32 | Filter Size : 5 | Activation : relu | Drop Rate :0.1 | L2 Regularization : True |\n",
      "Test Loss: 0.2820, Test Accuracy: 0.9115\n",
      "\n",
      "Training: | 3  Conv layers | Kernels : 32 | Filter Size : 5 | Activation : relu | Drop Rate :0.1 | L2 Regularization : False |\n",
      "Test Loss: 0.2132, Test Accuracy: 0.9154\n",
      "\n",
      "Training: | 3  Conv layers | Kernels : 32 | Filter Size : 5 | Activation : relu | Drop Rate :0.3 | L2 Regularization : True |\n",
      "Test Loss: 0.2726, Test Accuracy: 0.9130\n",
      "\n",
      "Training: | 3  Conv layers | Kernels : 32 | Filter Size : 5 | Activation : relu | Drop Rate :0.3 | L2 Regularization : False |\n",
      "Test Loss: 0.2248, Test Accuracy: 0.9099\n",
      "\n",
      "Training: | 3  Conv layers | Kernels : 32 | Filter Size : 5 | Activation : relu | Drop Rate :0.6 | L2 Regularization : True |\n",
      "Test Loss: 0.3034, Test Accuracy: 0.8937\n",
      "\n",
      "Training: | 3  Conv layers | Kernels : 32 | Filter Size : 5 | Activation : relu | Drop Rate :0.6 | L2 Regularization : False |\n",
      "Test Loss: 0.2144, Test Accuracy: 0.9202\n",
      "\n",
      "Training: | 3  Conv layers | Kernels : 32 | Filter Size : 5 | Activation : tanh | Drop Rate :0.1 | L2 Regularization : True |\n",
      "Test Loss: 0.3011, Test Accuracy: 0.9130\n",
      "\n",
      "Training: | 3  Conv layers | Kernels : 32 | Filter Size : 5 | Activation : tanh | Drop Rate :0.1 | L2 Regularization : False |\n",
      "Test Loss: 0.2375, Test Accuracy: 0.9062\n",
      "\n",
      "Training: | 3  Conv layers | Kernels : 32 | Filter Size : 5 | Activation : tanh | Drop Rate :0.3 | L2 Regularization : True |\n",
      "Test Loss: 0.3003, Test Accuracy: 0.9115\n",
      "\n",
      "Training: | 3  Conv layers | Kernels : 32 | Filter Size : 5 | Activation : tanh | Drop Rate :0.3 | L2 Regularization : False |\n",
      "Test Loss: 0.2409, Test Accuracy: 0.9040\n",
      "\n",
      "Training: | 3  Conv layers | Kernels : 32 | Filter Size : 5 | Activation : tanh | Drop Rate :0.6 | L2 Regularization : True |\n",
      "Test Loss: 0.3000, Test Accuracy: 0.9030\n",
      "\n",
      "Training: | 3  Conv layers | Kernels : 32 | Filter Size : 5 | Activation : tanh | Drop Rate :0.6 | L2 Regularization : False |\n",
      "Test Loss: 0.2445, Test Accuracy: 0.8979\n"
     ]
    }
   ],
   "source": [
    "tf.profiler.experimental.server.start(0)\n",
    "for conv_layers in conv_layers_options:\n",
    "    for kernels in kernels_options:\n",
    "        for filter_size in filter_sizes:\n",
    "            for activation in activations:\n",
    "                for dropout in dropout_rates:\n",
    "                    for l2reg in l2reg_options:\n",
    "                        config_name = f\"| {conv_layers}  Conv layers | Kernels : {kernels} | Filter Size : {filter_size} | Activation : {activation} | Drop Rate :{dropout} | L2 Regularization : {l2reg} |\"\n",
    "                        current_log_dir = os.path.join(log_dir, config_name)\n",
    "\n",
    "                        model = create_customized_cnn_model(\n",
    "                            num_conv_layers=conv_layers,\n",
    "                            kernels_per_layer=kernels,\n",
    "                            filter_size=filter_size,\n",
    "                            activation=activation,\n",
    "                            dropout_rate=dropout,\n",
    "                            l2reg=l2reg\n",
    "                        )\n",
    "\n",
    "                        model.compile(\n",
    "                            optimizer=Adam(),\n",
    "                            loss=BinaryCrossentropy(),\n",
    "                            metrics=['accuracy']\n",
    "                        )\n",
    "\n",
    "                        print(f\"\\nTraining: {config_name}\")\n",
    "                        history = model.fit(\n",
    "                            X_train,\n",
    "                            y_train,\n",
    "                            epochs=30,\n",
    "                            batch_size=32,\n",
    "                            validation_split=0.1,\n",
    "                            callbacks=[early_stopping],\n",
    "                            verbose=0\n",
    "                        )\n",
    "\n",
    "                        results = model.evaluate(X_test, y_test, verbose=0)\n",
    "                        print(f'Test Loss: {results[0]:.4f}, Test Accuracy: {results[1]:.4f}')"
   ]
  },
  {
   "cell_type": "markdown",
   "metadata": {
    "id": "cvQ0csHhX5oJ"
   },
   "source": [
    "### My Observations:\n",
    "\n",
    "---\n",
    "\n",
    "128 different models tested.\n",
    "\n",
    "1. **Effect of Dropout:** Higher dropout (e.g., 0.6) reduces test loss in some cases but not always; moderate dropout (0.3) often performs better, especially without L2.\n",
    "2. **Effect of Filter Size:** Larger filter sizes (5 vs. 3) consistently improve test loss and accuracy, capturing broader patterns.\n",
    "3. **Activation Function (ReLU vs. Tanh):** ReLU usually outperforms Tanh in test loss and accuracy, though Tanh remains competitive in some setups.\n",
    "4. **Effect of Kernel Size:** More kernels (32 vs. 16) enhance performance, improving feature extraction.\n",
    "5. **Effect of Increasing Conv Layers:** Adding layers (2 to 3) doesn’t always help; 3 layers excel without L2, but 2 layers can perform better with L2.\n",
    "6. **Effect of L2 Regularization:** L2 increases test loss slightly but helps accuracy, reducing overfitting.\n",
    "\n",
    "**Best Model:** Moderate dropout, larger filter size, more kernels, ReLU, 3 layers, and no L2 perform best.\n",
    "\n",
    "***Training***: | 3 Conv layers | Kernels num 32 | Filter size 5 | Activation ReLU | Dropout 0.6 | L2 Regularization False |  \n",
    "Test Loss: 0.2144, Test Accuracy: 0.9202 \n",
    "\n",
    "\n",
    "*Hyper-tuning helped and test loss decreased from 0.23 to 0.21 and accuracy increased from 90 to 92.*"
   ]
  },
  {
   "cell_type": "markdown",
   "metadata": {
    "id": "vKUCz58lykK0"
   },
   "source": [
    "# **10. Long Short-Term Memory (LSTM)**"
   ]
  },
  {
   "cell_type": "code",
   "execution_count": 45,
   "metadata": {
    "id": "gzEd8KmhJzeZ"
   },
   "outputs": [],
   "source": [
    "tata_encoded = encode_sequences(Arabidopsis_tata, encoding=\"onehot\")\n",
    "non_tata_encoded = encode_sequences(Arabidopsis_non_tata, encoding=\"onehot\")\n",
    "non_prom_encoded = encode_sequences(Arabidopsis_non_prom_big, encoding=\"onehot\")\n",
    "\n",
    "exp3_data = np.vstack([tata_encoded, non_tata_encoded, non_prom_encoded])\n",
    "exp3_labels = np.concatenate([\n",
    "    np.ones(len(tata_encoded)),\n",
    "    np.ones(len(non_tata_encoded)),\n",
    "    np.zeros(len(non_prom_encoded))\n",
    "])"
   ]
  },
  {
   "cell_type": "code",
   "execution_count": 46,
   "metadata": {
    "id": "YsrRY7GtB5A2"
   },
   "outputs": [],
   "source": [
    "def create_lstm_model():\n",
    "    model = Sequential([\n",
    "        LSTM(64),\n",
    "        Dense(32, activation='relu'),\n",
    "        Dropout(0.5),\n",
    "        Dense(1, activation='sigmoid')\n",
    "    ])\n",
    "    return model"
   ]
  },
  {
   "cell_type": "code",
   "execution_count": 47,
   "metadata": {
    "colab": {
     "base_uri": "https://localhost:8080/",
     "height": 1000
    },
    "id": "re2miwo3ynhh",
    "outputId": "7b3eb6dd-8d90-481b-bd66-41456c67a9ce"
   },
   "outputs": [
    {
     "name": "stdout",
     "output_type": "stream",
     "text": [
      "Epoch 1/30\n",
      "\u001b[1m425/425\u001b[0m \u001b[32m━━━━━━━━━━━━━━━━━━━━\u001b[0m\u001b[37m\u001b[0m \u001b[1m4s\u001b[0m 5ms/step - accuracy: 0.6312 - loss: 0.6327 - val_accuracy: 0.8516 - val_loss: 0.3486\n",
      "Epoch 2/30\n",
      "\u001b[1m425/425\u001b[0m \u001b[32m━━━━━━━━━━━━━━━━━━━━\u001b[0m\u001b[37m\u001b[0m \u001b[1m2s\u001b[0m 4ms/step - accuracy: 0.8734 - loss: 0.3141 - val_accuracy: 0.8429 - val_loss: 0.3611\n",
      "Epoch 3/30\n",
      "\u001b[1m425/425\u001b[0m \u001b[32m━━━━━━━━━━━━━━━━━━━━\u001b[0m\u001b[37m\u001b[0m \u001b[1m2s\u001b[0m 4ms/step - accuracy: 0.9076 - loss: 0.2510 - val_accuracy: 0.8860 - val_loss: 0.2794\n",
      "Epoch 4/30\n",
      "\u001b[1m425/425\u001b[0m \u001b[32m━━━━━━━━━━━━━━━━━━━━\u001b[0m\u001b[37m\u001b[0m \u001b[1m2s\u001b[0m 4ms/step - accuracy: 0.9240 - loss: 0.2135 - val_accuracy: 0.8668 - val_loss: 0.3479\n",
      "Epoch 5/30\n",
      "\u001b[1m425/425\u001b[0m \u001b[32m━━━━━━━━━━━━━━━━━━━━\u001b[0m\u001b[37m\u001b[0m \u001b[1m2s\u001b[0m 4ms/step - accuracy: 0.9428 - loss: 0.1684 - val_accuracy: 0.8840 - val_loss: 0.2983\n",
      "Epoch 6/30\n",
      "\u001b[1m425/425\u001b[0m \u001b[32m━━━━━━━━━━━━━━━━━━━━\u001b[0m\u001b[37m\u001b[0m \u001b[1m2s\u001b[0m 4ms/step - accuracy: 0.9581 - loss: 0.1275 - val_accuracy: 0.8880 - val_loss: 0.3180\n",
      "Epoch 7/30\n",
      "\u001b[1m425/425\u001b[0m \u001b[32m━━━━━━━━━━━━━━━━━━━━\u001b[0m\u001b[37m\u001b[0m \u001b[1m2s\u001b[0m 4ms/step - accuracy: 0.9711 - loss: 0.0909 - val_accuracy: 0.8675 - val_loss: 0.4381\n",
      "Epoch 8/30\n",
      "\u001b[1m425/425\u001b[0m \u001b[32m━━━━━━━━━━━━━━━━━━━━\u001b[0m\u001b[37m\u001b[0m \u001b[1m2s\u001b[0m 4ms/step - accuracy: 0.9861 - loss: 0.0464 - val_accuracy: 0.8827 - val_loss: 0.4450\n",
      "Epoch 9/30\n",
      "\u001b[1m425/425\u001b[0m \u001b[32m━━━━━━━━━━━━━━━━━━━━\u001b[0m\u001b[37m\u001b[0m \u001b[1m2s\u001b[0m 4ms/step - accuracy: 0.9919 - loss: 0.0288 - val_accuracy: 0.8860 - val_loss: 0.4267\n",
      "Epoch 10/30\n",
      "\u001b[1m425/425\u001b[0m \u001b[32m━━━━━━━━━━━━━━━━━━━━\u001b[0m\u001b[37m\u001b[0m \u001b[1m2s\u001b[0m 4ms/step - accuracy: 0.9930 - loss: 0.0259 - val_accuracy: 0.8814 - val_loss: 0.5186\n",
      "Epoch 11/30\n",
      "\u001b[1m425/425\u001b[0m \u001b[32m━━━━━━━━━━━━━━━━━━━━\u001b[0m\u001b[37m\u001b[0m \u001b[1m2s\u001b[0m 4ms/step - accuracy: 0.9948 - loss: 0.0184 - val_accuracy: 0.8814 - val_loss: 0.5947\n",
      "Epoch 12/30\n",
      "\u001b[1m425/425\u001b[0m \u001b[32m━━━━━━━━━━━━━━━━━━━━\u001b[0m\u001b[37m\u001b[0m \u001b[1m2s\u001b[0m 4ms/step - accuracy: 0.9960 - loss: 0.0158 - val_accuracy: 0.8854 - val_loss: 0.5604\n",
      "Epoch 13/30\n",
      "\u001b[1m425/425\u001b[0m \u001b[32m━━━━━━━━━━━━━━━━━━━━\u001b[0m\u001b[37m\u001b[0m \u001b[1m2s\u001b[0m 4ms/step - accuracy: 0.9971 - loss: 0.0111 - val_accuracy: 0.8801 - val_loss: 0.6142\n",
      "Epoch 14/30\n",
      "\u001b[1m425/425\u001b[0m \u001b[32m━━━━━━━━━━━━━━━━━━━━\u001b[0m\u001b[37m\u001b[0m \u001b[1m2s\u001b[0m 4ms/step - accuracy: 0.9943 - loss: 0.0150 - val_accuracy: 0.8794 - val_loss: 0.6422\n",
      "Epoch 15/30\n",
      "\u001b[1m425/425\u001b[0m \u001b[32m━━━━━━━━━━━━━━━━━━━━\u001b[0m\u001b[37m\u001b[0m \u001b[1m2s\u001b[0m 4ms/step - accuracy: 0.9979 - loss: 0.0075 - val_accuracy: 0.8787 - val_loss: 0.6952\n",
      "Epoch 16/30\n",
      "\u001b[1m425/425\u001b[0m \u001b[32m━━━━━━━━━━━━━━━━━━━━\u001b[0m\u001b[37m\u001b[0m \u001b[1m2s\u001b[0m 4ms/step - accuracy: 0.9970 - loss: 0.0085 - val_accuracy: 0.8834 - val_loss: 0.7892\n",
      "Epoch 17/30\n",
      "\u001b[1m425/425\u001b[0m \u001b[32m━━━━━━━━━━━━━━━━━━━━\u001b[0m\u001b[37m\u001b[0m \u001b[1m2s\u001b[0m 4ms/step - accuracy: 0.9936 - loss: 0.0202 - val_accuracy: 0.8860 - val_loss: 0.6523\n",
      "Epoch 18/30\n",
      "\u001b[1m425/425\u001b[0m \u001b[32m━━━━━━━━━━━━━━━━━━━━\u001b[0m\u001b[37m\u001b[0m \u001b[1m2s\u001b[0m 4ms/step - accuracy: 0.9970 - loss: 0.0098 - val_accuracy: 0.8814 - val_loss: 0.6749\n",
      "Epoch 19/30\n",
      "\u001b[1m425/425\u001b[0m \u001b[32m━━━━━━━━━━━━━━━━━━━━\u001b[0m\u001b[37m\u001b[0m \u001b[1m2s\u001b[0m 4ms/step - accuracy: 0.9979 - loss: 0.0081 - val_accuracy: 0.8887 - val_loss: 0.7017\n",
      "Epoch 20/30\n",
      "\u001b[1m425/425\u001b[0m \u001b[32m━━━━━━━━━━━━━━━━━━━━\u001b[0m\u001b[37m\u001b[0m \u001b[1m2s\u001b[0m 4ms/step - accuracy: 0.9974 - loss: 0.0086 - val_accuracy: 0.8840 - val_loss: 0.7208\n",
      "Epoch 21/30\n",
      "\u001b[1m425/425\u001b[0m \u001b[32m━━━━━━━━━━━━━━━━━━━━\u001b[0m\u001b[37m\u001b[0m \u001b[1m2s\u001b[0m 4ms/step - accuracy: 0.9957 - loss: 0.0128 - val_accuracy: 0.8880 - val_loss: 0.7535\n",
      "Epoch 22/30\n",
      "\u001b[1m425/425\u001b[0m \u001b[32m━━━━━━━━━━━━━━━━━━━━\u001b[0m\u001b[37m\u001b[0m \u001b[1m2s\u001b[0m 4ms/step - accuracy: 0.9994 - loss: 0.0047 - val_accuracy: 0.8781 - val_loss: 0.8875\n",
      "Epoch 23/30\n",
      "\u001b[1m425/425\u001b[0m \u001b[32m━━━━━━━━━━━━━━━━━━━━\u001b[0m\u001b[37m\u001b[0m \u001b[1m2s\u001b[0m 4ms/step - accuracy: 0.9996 - loss: 0.0020 - val_accuracy: 0.8655 - val_loss: 0.9153\n",
      "Epoch 24/30\n",
      "\u001b[1m425/425\u001b[0m \u001b[32m━━━━━━━━━━━━━━━━━━━━\u001b[0m\u001b[37m\u001b[0m \u001b[1m2s\u001b[0m 4ms/step - accuracy: 0.9973 - loss: 0.0082 - val_accuracy: 0.8820 - val_loss: 0.8169\n",
      "Epoch 25/30\n",
      "\u001b[1m425/425\u001b[0m \u001b[32m━━━━━━━━━━━━━━━━━━━━\u001b[0m\u001b[37m\u001b[0m \u001b[1m2s\u001b[0m 4ms/step - accuracy: 0.9979 - loss: 0.0073 - val_accuracy: 0.8860 - val_loss: 0.6758\n",
      "Epoch 26/30\n",
      "\u001b[1m425/425\u001b[0m \u001b[32m━━━━━━━━━━━━━━━━━━━━\u001b[0m\u001b[37m\u001b[0m \u001b[1m2s\u001b[0m 4ms/step - accuracy: 0.9989 - loss: 0.0045 - val_accuracy: 0.8807 - val_loss: 0.8847\n",
      "Epoch 27/30\n",
      "\u001b[1m425/425\u001b[0m \u001b[32m━━━━━━━━━━━━━━━━━━━━\u001b[0m\u001b[37m\u001b[0m \u001b[1m2s\u001b[0m 4ms/step - accuracy: 0.9939 - loss: 0.0156 - val_accuracy: 0.8907 - val_loss: 0.8010\n",
      "Epoch 28/30\n",
      "\u001b[1m425/425\u001b[0m \u001b[32m━━━━━━━━━━━━━━━━━━━━\u001b[0m\u001b[37m\u001b[0m \u001b[1m2s\u001b[0m 4ms/step - accuracy: 0.9985 - loss: 0.0064 - val_accuracy: 0.8887 - val_loss: 0.8713\n",
      "Epoch 29/30\n",
      "\u001b[1m425/425\u001b[0m \u001b[32m━━━━━━━━━━━━━━━━━━━━\u001b[0m\u001b[37m\u001b[0m \u001b[1m2s\u001b[0m 4ms/step - accuracy: 0.9963 - loss: 0.0119 - val_accuracy: 0.8827 - val_loss: 0.7984\n",
      "Epoch 30/30\n",
      "\u001b[1m425/425\u001b[0m \u001b[32m━━━━━━━━━━━━━━━━━━━━\u001b[0m\u001b[37m\u001b[0m \u001b[1m2s\u001b[0m 4ms/step - accuracy: 0.9990 - loss: 0.0035 - val_accuracy: 0.8840 - val_loss: 1.0207\n"
     ]
    },
    {
     "data": {
      "application/vnd.plotly.v1+json": {
       "config": {
        "plotlyServerURL": "https://plot.ly"
       },
       "data": [
        {
         "mode": "lines",
         "name": "Training Loss",
         "type": "scatter",
         "y": [
          0.5437849760055542,
          0.3031006157398224,
          0.2553595006465912,
          0.22496289014816284,
          0.1797671914100647,
          0.12636137008666992,
          0.09351998567581177,
          0.05458837002515793,
          0.03937002643942833,
          0.030882952734827995,
          0.021272577345371246,
          0.025759421288967133,
          0.014065437018871307,
          0.018788445740938187,
          0.012672207318246365,
          0.012885729782283306,
          0.017587289214134216,
          0.014166675508022308,
          0.011070205830037594,
          0.011860983446240425,
          0.013858375139534473,
          0.004200557712465525,
          0.00562059273943305,
          0.01004438940435648,
          0.014905260875821114,
          0.006675021257251501,
          0.014843984507024288,
          0.006063869688659906,
          0.013863460160791874,
          0.002682624850422144
         ]
        },
        {
         "mode": "lines",
         "name": "Validation Loss",
         "type": "scatter",
         "y": [
          0.34863007068634033,
          0.3611423373222351,
          0.27942782640457153,
          0.3479296863079071,
          0.2983395457267761,
          0.3180215656757355,
          0.4381248652935028,
          0.44502463936805725,
          0.4267144203186035,
          0.5186347961425781,
          0.5947170257568359,
          0.560417652130127,
          0.6141762733459473,
          0.6422093510627747,
          0.6951858997344971,
          0.7892250418663025,
          0.6523095965385437,
          0.6748971343040466,
          0.7017112970352173,
          0.7208432555198669,
          0.7535257935523987,
          0.8874660730361938,
          0.9153268933296204,
          0.8169220089912415,
          0.6757571697235107,
          0.8847495913505554,
          0.8010005354881287,
          0.8712681531906128,
          0.7983658313751221,
          1.0206689834594727
         ]
        }
       ],
       "layout": {
        "template": {
         "data": {
          "bar": [
           {
            "error_x": {
             "color": "#2a3f5f"
            },
            "error_y": {
             "color": "#2a3f5f"
            },
            "marker": {
             "line": {
              "color": "#E5ECF6",
              "width": 0.5
             },
             "pattern": {
              "fillmode": "overlay",
              "size": 10,
              "solidity": 0.2
             }
            },
            "type": "bar"
           }
          ],
          "barpolar": [
           {
            "marker": {
             "line": {
              "color": "#E5ECF6",
              "width": 0.5
             },
             "pattern": {
              "fillmode": "overlay",
              "size": 10,
              "solidity": 0.2
             }
            },
            "type": "barpolar"
           }
          ],
          "carpet": [
           {
            "aaxis": {
             "endlinecolor": "#2a3f5f",
             "gridcolor": "white",
             "linecolor": "white",
             "minorgridcolor": "white",
             "startlinecolor": "#2a3f5f"
            },
            "baxis": {
             "endlinecolor": "#2a3f5f",
             "gridcolor": "white",
             "linecolor": "white",
             "minorgridcolor": "white",
             "startlinecolor": "#2a3f5f"
            },
            "type": "carpet"
           }
          ],
          "choropleth": [
           {
            "colorbar": {
             "outlinewidth": 0,
             "ticks": ""
            },
            "type": "choropleth"
           }
          ],
          "contour": [
           {
            "colorbar": {
             "outlinewidth": 0,
             "ticks": ""
            },
            "colorscale": [
             [
              0,
              "#0d0887"
             ],
             [
              0.1111111111111111,
              "#46039f"
             ],
             [
              0.2222222222222222,
              "#7201a8"
             ],
             [
              0.3333333333333333,
              "#9c179e"
             ],
             [
              0.4444444444444444,
              "#bd3786"
             ],
             [
              0.5555555555555556,
              "#d8576b"
             ],
             [
              0.6666666666666666,
              "#ed7953"
             ],
             [
              0.7777777777777778,
              "#fb9f3a"
             ],
             [
              0.8888888888888888,
              "#fdca26"
             ],
             [
              1,
              "#f0f921"
             ]
            ],
            "type": "contour"
           }
          ],
          "contourcarpet": [
           {
            "colorbar": {
             "outlinewidth": 0,
             "ticks": ""
            },
            "type": "contourcarpet"
           }
          ],
          "heatmap": [
           {
            "colorbar": {
             "outlinewidth": 0,
             "ticks": ""
            },
            "colorscale": [
             [
              0,
              "#0d0887"
             ],
             [
              0.1111111111111111,
              "#46039f"
             ],
             [
              0.2222222222222222,
              "#7201a8"
             ],
             [
              0.3333333333333333,
              "#9c179e"
             ],
             [
              0.4444444444444444,
              "#bd3786"
             ],
             [
              0.5555555555555556,
              "#d8576b"
             ],
             [
              0.6666666666666666,
              "#ed7953"
             ],
             [
              0.7777777777777778,
              "#fb9f3a"
             ],
             [
              0.8888888888888888,
              "#fdca26"
             ],
             [
              1,
              "#f0f921"
             ]
            ],
            "type": "heatmap"
           }
          ],
          "histogram": [
           {
            "marker": {
             "pattern": {
              "fillmode": "overlay",
              "size": 10,
              "solidity": 0.2
             }
            },
            "type": "histogram"
           }
          ],
          "histogram2d": [
           {
            "colorbar": {
             "outlinewidth": 0,
             "ticks": ""
            },
            "colorscale": [
             [
              0,
              "#0d0887"
             ],
             [
              0.1111111111111111,
              "#46039f"
             ],
             [
              0.2222222222222222,
              "#7201a8"
             ],
             [
              0.3333333333333333,
              "#9c179e"
             ],
             [
              0.4444444444444444,
              "#bd3786"
             ],
             [
              0.5555555555555556,
              "#d8576b"
             ],
             [
              0.6666666666666666,
              "#ed7953"
             ],
             [
              0.7777777777777778,
              "#fb9f3a"
             ],
             [
              0.8888888888888888,
              "#fdca26"
             ],
             [
              1,
              "#f0f921"
             ]
            ],
            "type": "histogram2d"
           }
          ],
          "histogram2dcontour": [
           {
            "colorbar": {
             "outlinewidth": 0,
             "ticks": ""
            },
            "colorscale": [
             [
              0,
              "#0d0887"
             ],
             [
              0.1111111111111111,
              "#46039f"
             ],
             [
              0.2222222222222222,
              "#7201a8"
             ],
             [
              0.3333333333333333,
              "#9c179e"
             ],
             [
              0.4444444444444444,
              "#bd3786"
             ],
             [
              0.5555555555555556,
              "#d8576b"
             ],
             [
              0.6666666666666666,
              "#ed7953"
             ],
             [
              0.7777777777777778,
              "#fb9f3a"
             ],
             [
              0.8888888888888888,
              "#fdca26"
             ],
             [
              1,
              "#f0f921"
             ]
            ],
            "type": "histogram2dcontour"
           }
          ],
          "mesh3d": [
           {
            "colorbar": {
             "outlinewidth": 0,
             "ticks": ""
            },
            "type": "mesh3d"
           }
          ],
          "parcoords": [
           {
            "line": {
             "colorbar": {
              "outlinewidth": 0,
              "ticks": ""
             }
            },
            "type": "parcoords"
           }
          ],
          "pie": [
           {
            "automargin": true,
            "type": "pie"
           }
          ],
          "scatter": [
           {
            "fillpattern": {
             "fillmode": "overlay",
             "size": 10,
             "solidity": 0.2
            },
            "type": "scatter"
           }
          ],
          "scatter3d": [
           {
            "line": {
             "colorbar": {
              "outlinewidth": 0,
              "ticks": ""
             }
            },
            "marker": {
             "colorbar": {
              "outlinewidth": 0,
              "ticks": ""
             }
            },
            "type": "scatter3d"
           }
          ],
          "scattercarpet": [
           {
            "marker": {
             "colorbar": {
              "outlinewidth": 0,
              "ticks": ""
             }
            },
            "type": "scattercarpet"
           }
          ],
          "scattergeo": [
           {
            "marker": {
             "colorbar": {
              "outlinewidth": 0,
              "ticks": ""
             }
            },
            "type": "scattergeo"
           }
          ],
          "scattergl": [
           {
            "marker": {
             "colorbar": {
              "outlinewidth": 0,
              "ticks": ""
             }
            },
            "type": "scattergl"
           }
          ],
          "scattermap": [
           {
            "marker": {
             "colorbar": {
              "outlinewidth": 0,
              "ticks": ""
             }
            },
            "type": "scattermap"
           }
          ],
          "scattermapbox": [
           {
            "marker": {
             "colorbar": {
              "outlinewidth": 0,
              "ticks": ""
             }
            },
            "type": "scattermapbox"
           }
          ],
          "scatterpolar": [
           {
            "marker": {
             "colorbar": {
              "outlinewidth": 0,
              "ticks": ""
             }
            },
            "type": "scatterpolar"
           }
          ],
          "scatterpolargl": [
           {
            "marker": {
             "colorbar": {
              "outlinewidth": 0,
              "ticks": ""
             }
            },
            "type": "scatterpolargl"
           }
          ],
          "scatterternary": [
           {
            "marker": {
             "colorbar": {
              "outlinewidth": 0,
              "ticks": ""
             }
            },
            "type": "scatterternary"
           }
          ],
          "surface": [
           {
            "colorbar": {
             "outlinewidth": 0,
             "ticks": ""
            },
            "colorscale": [
             [
              0,
              "#0d0887"
             ],
             [
              0.1111111111111111,
              "#46039f"
             ],
             [
              0.2222222222222222,
              "#7201a8"
             ],
             [
              0.3333333333333333,
              "#9c179e"
             ],
             [
              0.4444444444444444,
              "#bd3786"
             ],
             [
              0.5555555555555556,
              "#d8576b"
             ],
             [
              0.6666666666666666,
              "#ed7953"
             ],
             [
              0.7777777777777778,
              "#fb9f3a"
             ],
             [
              0.8888888888888888,
              "#fdca26"
             ],
             [
              1,
              "#f0f921"
             ]
            ],
            "type": "surface"
           }
          ],
          "table": [
           {
            "cells": {
             "fill": {
              "color": "#EBF0F8"
             },
             "line": {
              "color": "white"
             }
            },
            "header": {
             "fill": {
              "color": "#C8D4E3"
             },
             "line": {
              "color": "white"
             }
            },
            "type": "table"
           }
          ]
         },
         "layout": {
          "annotationdefaults": {
           "arrowcolor": "#2a3f5f",
           "arrowhead": 0,
           "arrowwidth": 1
          },
          "autotypenumbers": "strict",
          "coloraxis": {
           "colorbar": {
            "outlinewidth": 0,
            "ticks": ""
           }
          },
          "colorscale": {
           "diverging": [
            [
             0,
             "#8e0152"
            ],
            [
             0.1,
             "#c51b7d"
            ],
            [
             0.2,
             "#de77ae"
            ],
            [
             0.3,
             "#f1b6da"
            ],
            [
             0.4,
             "#fde0ef"
            ],
            [
             0.5,
             "#f7f7f7"
            ],
            [
             0.6,
             "#e6f5d0"
            ],
            [
             0.7,
             "#b8e186"
            ],
            [
             0.8,
             "#7fbc41"
            ],
            [
             0.9,
             "#4d9221"
            ],
            [
             1,
             "#276419"
            ]
           ],
           "sequential": [
            [
             0,
             "#0d0887"
            ],
            [
             0.1111111111111111,
             "#46039f"
            ],
            [
             0.2222222222222222,
             "#7201a8"
            ],
            [
             0.3333333333333333,
             "#9c179e"
            ],
            [
             0.4444444444444444,
             "#bd3786"
            ],
            [
             0.5555555555555556,
             "#d8576b"
            ],
            [
             0.6666666666666666,
             "#ed7953"
            ],
            [
             0.7777777777777778,
             "#fb9f3a"
            ],
            [
             0.8888888888888888,
             "#fdca26"
            ],
            [
             1,
             "#f0f921"
            ]
           ],
           "sequentialminus": [
            [
             0,
             "#0d0887"
            ],
            [
             0.1111111111111111,
             "#46039f"
            ],
            [
             0.2222222222222222,
             "#7201a8"
            ],
            [
             0.3333333333333333,
             "#9c179e"
            ],
            [
             0.4444444444444444,
             "#bd3786"
            ],
            [
             0.5555555555555556,
             "#d8576b"
            ],
            [
             0.6666666666666666,
             "#ed7953"
            ],
            [
             0.7777777777777778,
             "#fb9f3a"
            ],
            [
             0.8888888888888888,
             "#fdca26"
            ],
            [
             1,
             "#f0f921"
            ]
           ]
          },
          "colorway": [
           "#636efa",
           "#EF553B",
           "#00cc96",
           "#ab63fa",
           "#FFA15A",
           "#19d3f3",
           "#FF6692",
           "#B6E880",
           "#FF97FF",
           "#FECB52"
          ],
          "font": {
           "color": "#2a3f5f"
          },
          "geo": {
           "bgcolor": "white",
           "lakecolor": "white",
           "landcolor": "#E5ECF6",
           "showlakes": true,
           "showland": true,
           "subunitcolor": "white"
          },
          "hoverlabel": {
           "align": "left"
          },
          "hovermode": "closest",
          "mapbox": {
           "style": "light"
          },
          "paper_bgcolor": "white",
          "plot_bgcolor": "#E5ECF6",
          "polar": {
           "angularaxis": {
            "gridcolor": "white",
            "linecolor": "white",
            "ticks": ""
           },
           "bgcolor": "#E5ECF6",
           "radialaxis": {
            "gridcolor": "white",
            "linecolor": "white",
            "ticks": ""
           }
          },
          "scene": {
           "xaxis": {
            "backgroundcolor": "#E5ECF6",
            "gridcolor": "white",
            "gridwidth": 2,
            "linecolor": "white",
            "showbackground": true,
            "ticks": "",
            "zerolinecolor": "white"
           },
           "yaxis": {
            "backgroundcolor": "#E5ECF6",
            "gridcolor": "white",
            "gridwidth": 2,
            "linecolor": "white",
            "showbackground": true,
            "ticks": "",
            "zerolinecolor": "white"
           },
           "zaxis": {
            "backgroundcolor": "#E5ECF6",
            "gridcolor": "white",
            "gridwidth": 2,
            "linecolor": "white",
            "showbackground": true,
            "ticks": "",
            "zerolinecolor": "white"
           }
          },
          "shapedefaults": {
           "line": {
            "color": "#2a3f5f"
           }
          },
          "ternary": {
           "aaxis": {
            "gridcolor": "white",
            "linecolor": "white",
            "ticks": ""
           },
           "baxis": {
            "gridcolor": "white",
            "linecolor": "white",
            "ticks": ""
           },
           "bgcolor": "#E5ECF6",
           "caxis": {
            "gridcolor": "white",
            "linecolor": "white",
            "ticks": ""
           }
          },
          "title": {
           "x": 0.05
          },
          "xaxis": {
           "automargin": true,
           "gridcolor": "white",
           "linecolor": "white",
           "ticks": "",
           "title": {
            "standoff": 15
           },
           "zerolinecolor": "white",
           "zerolinewidth": 2
          },
          "yaxis": {
           "automargin": true,
           "gridcolor": "white",
           "linecolor": "white",
           "ticks": "",
           "title": {
            "standoff": 15
           },
           "zerolinecolor": "white",
           "zerolinewidth": 2
          }
         }
        },
        "title": {
         "text": "Training vs Validation Loss"
        },
        "xaxis": {
         "title": {
          "text": "Epochs"
         }
        },
        "yaxis": {
         "title": {
          "text": "Loss"
         }
        }
       }
      },
      "text/html": [
       "<div>            <script src=\"https://cdnjs.cloudflare.com/ajax/libs/mathjax/2.7.5/MathJax.js?config=TeX-AMS-MML_SVG\"></script><script type=\"text/javascript\">if (window.MathJax && window.MathJax.Hub && window.MathJax.Hub.Config) {window.MathJax.Hub.Config({SVG: {font: \"STIX-Web\"}});}</script>                <script type=\"text/javascript\">window.PlotlyConfig = {MathJaxConfig: 'local'};</script>\n",
       "        <script charset=\"utf-8\" src=\"https://cdn.plot.ly/plotly-3.0.0.min.js\"></script>                <div id=\"a589c91e-ff3e-4f48-bc0d-1f6040b21bde\" class=\"plotly-graph-div\" style=\"height:525px; width:100%;\"></div>            <script type=\"text/javascript\">                window.PLOTLYENV=window.PLOTLYENV || {};                                if (document.getElementById(\"a589c91e-ff3e-4f48-bc0d-1f6040b21bde\")) {                    Plotly.newPlot(                        \"a589c91e-ff3e-4f48-bc0d-1f6040b21bde\",                        [{\"mode\":\"lines\",\"name\":\"Training Loss\",\"y\":[0.5437849760055542,0.3031006157398224,0.2553595006465912,0.22496289014816284,0.1797671914100647,0.12636137008666992,0.09351998567581177,0.05458837002515793,0.03937002643942833,0.030882952734827995,0.021272577345371246,0.025759421288967133,0.014065437018871307,0.018788445740938187,0.012672207318246365,0.012885729782283306,0.017587289214134216,0.014166675508022308,0.011070205830037594,0.011860983446240425,0.013858375139534473,0.004200557712465525,0.00562059273943305,0.01004438940435648,0.014905260875821114,0.006675021257251501,0.014843984507024288,0.006063869688659906,0.013863460160791874,0.002682624850422144],\"type\":\"scatter\"},{\"mode\":\"lines\",\"name\":\"Validation Loss\",\"y\":[0.34863007068634033,0.3611423373222351,0.27942782640457153,0.3479296863079071,0.2983395457267761,0.3180215656757355,0.4381248652935028,0.44502463936805725,0.4267144203186035,0.5186347961425781,0.5947170257568359,0.560417652130127,0.6141762733459473,0.6422093510627747,0.6951858997344971,0.7892250418663025,0.6523095965385437,0.6748971343040466,0.7017112970352173,0.7208432555198669,0.7535257935523987,0.8874660730361938,0.9153268933296204,0.8169220089912415,0.6757571697235107,0.8847495913505554,0.8010005354881287,0.8712681531906128,0.7983658313751221,1.0206689834594727],\"type\":\"scatter\"}],                        {\"template\":{\"data\":{\"histogram2dcontour\":[{\"type\":\"histogram2dcontour\",\"colorbar\":{\"outlinewidth\":0,\"ticks\":\"\"},\"colorscale\":[[0.0,\"#0d0887\"],[0.1111111111111111,\"#46039f\"],[0.2222222222222222,\"#7201a8\"],[0.3333333333333333,\"#9c179e\"],[0.4444444444444444,\"#bd3786\"],[0.5555555555555556,\"#d8576b\"],[0.6666666666666666,\"#ed7953\"],[0.7777777777777778,\"#fb9f3a\"],[0.8888888888888888,\"#fdca26\"],[1.0,\"#f0f921\"]]}],\"choropleth\":[{\"type\":\"choropleth\",\"colorbar\":{\"outlinewidth\":0,\"ticks\":\"\"}}],\"histogram2d\":[{\"type\":\"histogram2d\",\"colorbar\":{\"outlinewidth\":0,\"ticks\":\"\"},\"colorscale\":[[0.0,\"#0d0887\"],[0.1111111111111111,\"#46039f\"],[0.2222222222222222,\"#7201a8\"],[0.3333333333333333,\"#9c179e\"],[0.4444444444444444,\"#bd3786\"],[0.5555555555555556,\"#d8576b\"],[0.6666666666666666,\"#ed7953\"],[0.7777777777777778,\"#fb9f3a\"],[0.8888888888888888,\"#fdca26\"],[1.0,\"#f0f921\"]]}],\"heatmap\":[{\"type\":\"heatmap\",\"colorbar\":{\"outlinewidth\":0,\"ticks\":\"\"},\"colorscale\":[[0.0,\"#0d0887\"],[0.1111111111111111,\"#46039f\"],[0.2222222222222222,\"#7201a8\"],[0.3333333333333333,\"#9c179e\"],[0.4444444444444444,\"#bd3786\"],[0.5555555555555556,\"#d8576b\"],[0.6666666666666666,\"#ed7953\"],[0.7777777777777778,\"#fb9f3a\"],[0.8888888888888888,\"#fdca26\"],[1.0,\"#f0f921\"]]}],\"contourcarpet\":[{\"type\":\"contourcarpet\",\"colorbar\":{\"outlinewidth\":0,\"ticks\":\"\"}}],\"contour\":[{\"type\":\"contour\",\"colorbar\":{\"outlinewidth\":0,\"ticks\":\"\"},\"colorscale\":[[0.0,\"#0d0887\"],[0.1111111111111111,\"#46039f\"],[0.2222222222222222,\"#7201a8\"],[0.3333333333333333,\"#9c179e\"],[0.4444444444444444,\"#bd3786\"],[0.5555555555555556,\"#d8576b\"],[0.6666666666666666,\"#ed7953\"],[0.7777777777777778,\"#fb9f3a\"],[0.8888888888888888,\"#fdca26\"],[1.0,\"#f0f921\"]]}],\"surface\":[{\"type\":\"surface\",\"colorbar\":{\"outlinewidth\":0,\"ticks\":\"\"},\"colorscale\":[[0.0,\"#0d0887\"],[0.1111111111111111,\"#46039f\"],[0.2222222222222222,\"#7201a8\"],[0.3333333333333333,\"#9c179e\"],[0.4444444444444444,\"#bd3786\"],[0.5555555555555556,\"#d8576b\"],[0.6666666666666666,\"#ed7953\"],[0.7777777777777778,\"#fb9f3a\"],[0.8888888888888888,\"#fdca26\"],[1.0,\"#f0f921\"]]}],\"mesh3d\":[{\"type\":\"mesh3d\",\"colorbar\":{\"outlinewidth\":0,\"ticks\":\"\"}}],\"scatter\":[{\"fillpattern\":{\"fillmode\":\"overlay\",\"size\":10,\"solidity\":0.2},\"type\":\"scatter\"}],\"parcoords\":[{\"type\":\"parcoords\",\"line\":{\"colorbar\":{\"outlinewidth\":0,\"ticks\":\"\"}}}],\"scatterpolargl\":[{\"type\":\"scatterpolargl\",\"marker\":{\"colorbar\":{\"outlinewidth\":0,\"ticks\":\"\"}}}],\"bar\":[{\"error_x\":{\"color\":\"#2a3f5f\"},\"error_y\":{\"color\":\"#2a3f5f\"},\"marker\":{\"line\":{\"color\":\"#E5ECF6\",\"width\":0.5},\"pattern\":{\"fillmode\":\"overlay\",\"size\":10,\"solidity\":0.2}},\"type\":\"bar\"}],\"scattergeo\":[{\"type\":\"scattergeo\",\"marker\":{\"colorbar\":{\"outlinewidth\":0,\"ticks\":\"\"}}}],\"scatterpolar\":[{\"type\":\"scatterpolar\",\"marker\":{\"colorbar\":{\"outlinewidth\":0,\"ticks\":\"\"}}}],\"histogram\":[{\"marker\":{\"pattern\":{\"fillmode\":\"overlay\",\"size\":10,\"solidity\":0.2}},\"type\":\"histogram\"}],\"scattergl\":[{\"type\":\"scattergl\",\"marker\":{\"colorbar\":{\"outlinewidth\":0,\"ticks\":\"\"}}}],\"scatter3d\":[{\"type\":\"scatter3d\",\"line\":{\"colorbar\":{\"outlinewidth\":0,\"ticks\":\"\"}},\"marker\":{\"colorbar\":{\"outlinewidth\":0,\"ticks\":\"\"}}}],\"scattermap\":[{\"type\":\"scattermap\",\"marker\":{\"colorbar\":{\"outlinewidth\":0,\"ticks\":\"\"}}}],\"scattermapbox\":[{\"type\":\"scattermapbox\",\"marker\":{\"colorbar\":{\"outlinewidth\":0,\"ticks\":\"\"}}}],\"scatterternary\":[{\"type\":\"scatterternary\",\"marker\":{\"colorbar\":{\"outlinewidth\":0,\"ticks\":\"\"}}}],\"scattercarpet\":[{\"type\":\"scattercarpet\",\"marker\":{\"colorbar\":{\"outlinewidth\":0,\"ticks\":\"\"}}}],\"carpet\":[{\"aaxis\":{\"endlinecolor\":\"#2a3f5f\",\"gridcolor\":\"white\",\"linecolor\":\"white\",\"minorgridcolor\":\"white\",\"startlinecolor\":\"#2a3f5f\"},\"baxis\":{\"endlinecolor\":\"#2a3f5f\",\"gridcolor\":\"white\",\"linecolor\":\"white\",\"minorgridcolor\":\"white\",\"startlinecolor\":\"#2a3f5f\"},\"type\":\"carpet\"}],\"table\":[{\"cells\":{\"fill\":{\"color\":\"#EBF0F8\"},\"line\":{\"color\":\"white\"}},\"header\":{\"fill\":{\"color\":\"#C8D4E3\"},\"line\":{\"color\":\"white\"}},\"type\":\"table\"}],\"barpolar\":[{\"marker\":{\"line\":{\"color\":\"#E5ECF6\",\"width\":0.5},\"pattern\":{\"fillmode\":\"overlay\",\"size\":10,\"solidity\":0.2}},\"type\":\"barpolar\"}],\"pie\":[{\"automargin\":true,\"type\":\"pie\"}]},\"layout\":{\"autotypenumbers\":\"strict\",\"colorway\":[\"#636efa\",\"#EF553B\",\"#00cc96\",\"#ab63fa\",\"#FFA15A\",\"#19d3f3\",\"#FF6692\",\"#B6E880\",\"#FF97FF\",\"#FECB52\"],\"font\":{\"color\":\"#2a3f5f\"},\"hovermode\":\"closest\",\"hoverlabel\":{\"align\":\"left\"},\"paper_bgcolor\":\"white\",\"plot_bgcolor\":\"#E5ECF6\",\"polar\":{\"bgcolor\":\"#E5ECF6\",\"angularaxis\":{\"gridcolor\":\"white\",\"linecolor\":\"white\",\"ticks\":\"\"},\"radialaxis\":{\"gridcolor\":\"white\",\"linecolor\":\"white\",\"ticks\":\"\"}},\"ternary\":{\"bgcolor\":\"#E5ECF6\",\"aaxis\":{\"gridcolor\":\"white\",\"linecolor\":\"white\",\"ticks\":\"\"},\"baxis\":{\"gridcolor\":\"white\",\"linecolor\":\"white\",\"ticks\":\"\"},\"caxis\":{\"gridcolor\":\"white\",\"linecolor\":\"white\",\"ticks\":\"\"}},\"coloraxis\":{\"colorbar\":{\"outlinewidth\":0,\"ticks\":\"\"}},\"colorscale\":{\"sequential\":[[0.0,\"#0d0887\"],[0.1111111111111111,\"#46039f\"],[0.2222222222222222,\"#7201a8\"],[0.3333333333333333,\"#9c179e\"],[0.4444444444444444,\"#bd3786\"],[0.5555555555555556,\"#d8576b\"],[0.6666666666666666,\"#ed7953\"],[0.7777777777777778,\"#fb9f3a\"],[0.8888888888888888,\"#fdca26\"],[1.0,\"#f0f921\"]],\"sequentialminus\":[[0.0,\"#0d0887\"],[0.1111111111111111,\"#46039f\"],[0.2222222222222222,\"#7201a8\"],[0.3333333333333333,\"#9c179e\"],[0.4444444444444444,\"#bd3786\"],[0.5555555555555556,\"#d8576b\"],[0.6666666666666666,\"#ed7953\"],[0.7777777777777778,\"#fb9f3a\"],[0.8888888888888888,\"#fdca26\"],[1.0,\"#f0f921\"]],\"diverging\":[[0,\"#8e0152\"],[0.1,\"#c51b7d\"],[0.2,\"#de77ae\"],[0.3,\"#f1b6da\"],[0.4,\"#fde0ef\"],[0.5,\"#f7f7f7\"],[0.6,\"#e6f5d0\"],[0.7,\"#b8e186\"],[0.8,\"#7fbc41\"],[0.9,\"#4d9221\"],[1,\"#276419\"]]},\"xaxis\":{\"gridcolor\":\"white\",\"linecolor\":\"white\",\"ticks\":\"\",\"title\":{\"standoff\":15},\"zerolinecolor\":\"white\",\"automargin\":true,\"zerolinewidth\":2},\"yaxis\":{\"gridcolor\":\"white\",\"linecolor\":\"white\",\"ticks\":\"\",\"title\":{\"standoff\":15},\"zerolinecolor\":\"white\",\"automargin\":true,\"zerolinewidth\":2},\"scene\":{\"xaxis\":{\"backgroundcolor\":\"#E5ECF6\",\"gridcolor\":\"white\",\"linecolor\":\"white\",\"showbackground\":true,\"ticks\":\"\",\"zerolinecolor\":\"white\",\"gridwidth\":2},\"yaxis\":{\"backgroundcolor\":\"#E5ECF6\",\"gridcolor\":\"white\",\"linecolor\":\"white\",\"showbackground\":true,\"ticks\":\"\",\"zerolinecolor\":\"white\",\"gridwidth\":2},\"zaxis\":{\"backgroundcolor\":\"#E5ECF6\",\"gridcolor\":\"white\",\"linecolor\":\"white\",\"showbackground\":true,\"ticks\":\"\",\"zerolinecolor\":\"white\",\"gridwidth\":2}},\"shapedefaults\":{\"line\":{\"color\":\"#2a3f5f\"}},\"annotationdefaults\":{\"arrowcolor\":\"#2a3f5f\",\"arrowhead\":0,\"arrowwidth\":1},\"geo\":{\"bgcolor\":\"white\",\"landcolor\":\"#E5ECF6\",\"subunitcolor\":\"white\",\"showland\":true,\"showlakes\":true,\"lakecolor\":\"white\"},\"title\":{\"x\":0.05},\"mapbox\":{\"style\":\"light\"}}},\"xaxis\":{\"title\":{\"text\":\"Epochs\"}},\"yaxis\":{\"title\":{\"text\":\"Loss\"}},\"title\":{\"text\":\"Training vs Validation Loss\"}},                        {\"responsive\": true}                    ).then(function(){\n",
       "                            \n",
       "var gd = document.getElementById('a589c91e-ff3e-4f48-bc0d-1f6040b21bde');\n",
       "var x = new MutationObserver(function (mutations, observer) {{\n",
       "        var display = window.getComputedStyle(gd).display;\n",
       "        if (!display || display === 'none') {{\n",
       "            console.log([gd, 'removed!']);\n",
       "            Plotly.purge(gd);\n",
       "            observer.disconnect();\n",
       "        }}\n",
       "}});\n",
       "\n",
       "// Listen for the removal of the full notebook cells\n",
       "var notebookContainer = gd.closest('#notebook-container');\n",
       "if (notebookContainer) {{\n",
       "    x.observe(notebookContainer, {childList: true});\n",
       "}}\n",
       "\n",
       "// Listen for the clearing of the current output cell\n",
       "var outputEl = gd.closest('.output');\n",
       "if (outputEl) {{\n",
       "    x.observe(outputEl, {childList: true});\n",
       "}}\n",
       "\n",
       "                        })                };            </script>        </div>"
      ]
     },
     "metadata": {},
     "output_type": "display_data"
    }
   ],
   "source": [
    "X_train, X_test, y_train, y_test = train_test_split(\n",
    "    exp3_data,\n",
    "    exp3_labels,\n",
    "    test_size=0.2,\n",
    "    random_state=42,\n",
    "    stratify=exp3_labels\n",
    ")\n",
    "\n",
    "\n",
    "\n",
    "lstm_model = create_lstm_model()\n",
    "lstm_model.compile(\n",
    "    optimizer=Adam(),\n",
    "    loss=BinaryCrossentropy(),\n",
    "    metrics=['accuracy']\n",
    ")\n",
    "\n",
    "history = lstm_model.fit(\n",
    "    X_train,\n",
    "    y_train,\n",
    "    epochs=30,\n",
    "    batch_size=32,\n",
    "    validation_split=0.1,\n",
    "    verbose=1\n",
    ")\n",
    "\n",
    "fig = go.Figure()\n",
    "fig.add_trace(go.Scatter(y=history.history['loss'], mode='lines', name='Training Loss'))\n",
    "fig.add_trace(go.Scatter(y=history.history['val_loss'], mode='lines', name='Validation Loss'))\n",
    "fig.update_layout(\n",
    "    xaxis_title='Epochs',\n",
    "    yaxis_title='Loss',\n",
    "    title='Training vs Validation Loss'\n",
    ")\n",
    "fig.show()"
   ]
  },
  {
   "cell_type": "code",
   "execution_count": 48,
   "metadata": {},
   "outputs": [
    {
     "name": "stdout",
     "output_type": "stream",
     "text": [
      "3\n"
     ]
    }
   ],
   "source": [
    "optimal_epochs = np.argmin(history.history['val_loss']) + 1\n",
    "print(optimal_epochs)"
   ]
  },
  {
   "cell_type": "code",
   "execution_count": 49,
   "metadata": {
    "colab": {
     "base_uri": "https://localhost:8080/"
    },
    "id": "cbAouQnGCEKP",
    "outputId": "82093d0a-73f5-4820-9811-18a2f77b7524"
   },
   "outputs": [
    {
     "name": "stdout",
     "output_type": "stream",
     "text": [
      "Epoch 1/3\n",
      "\u001b[1m425/425\u001b[0m \u001b[32m━━━━━━━━━━━━━━━━━━━━\u001b[0m\u001b[37m\u001b[0m \u001b[1m4s\u001b[0m 5ms/step - accuracy: 0.6384 - loss: 0.6290 - val_accuracy: 0.8622 - val_loss: 0.3363\n",
      "Epoch 2/3\n",
      "\u001b[1m425/425\u001b[0m \u001b[32m━━━━━━━━━━━━━━━━━━━━\u001b[0m\u001b[37m\u001b[0m \u001b[1m2s\u001b[0m 4ms/step - accuracy: 0.8696 - loss: 0.3326 - val_accuracy: 0.8867 - val_loss: 0.2841\n",
      "Epoch 3/3\n",
      "\u001b[1m425/425\u001b[0m \u001b[32m━━━━━━━━━━━━━━━━━━━━\u001b[0m\u001b[37m\u001b[0m \u001b[1m2s\u001b[0m 4ms/step - accuracy: 0.9066 - loss: 0.2534 - val_accuracy: 0.8893 - val_loss: 0.2779\n",
      "Test Loss: 0.2640\n",
      "Test Accuracy: 0.8852\n"
     ]
    }
   ],
   "source": [
    "optimal_epochs = 3\n",
    "\n",
    "final_model = create_lstm_model()\n",
    "final_model.compile(\n",
    "    optimizer=Adam(),\n",
    "    loss=BinaryCrossentropy(),\n",
    "    metrics=['accuracy']\n",
    ")\n",
    "\n",
    "final_history = final_model.fit(\n",
    "    X_train,\n",
    "    y_train,\n",
    "    epochs=optimal_epochs,\n",
    "    batch_size=32,\n",
    "    validation_split=0.1,\n",
    "    verbose=1\n",
    ")\n",
    "\n",
    "test_results = final_model.evaluate(X_test, y_test, verbose=0)\n",
    "print(f\"Test Loss: {test_results[0]:.4f}\")\n",
    "print(f\"Test Accuracy: {test_results[1]:.4f}\")"
   ]
  },
  {
   "cell_type": "markdown",
   "metadata": {},
   "source": [
    "**Current Model Behavior (Without L2):**\n",
    "\n",
    "**Severe Overfitting:** Training accuracy 99.9% (loss: 0.003), while validation accuracy plateaus at 88% (loss: 1.1)\n",
    "\n",
    "**Early Stopping at Epoch 3:** The optimal epoch was determined by minimum validation loss, but performance degrades quickly afterward.\n",
    "\n",
    "**Test Accuracy:** Likely around 87-89% (similar to validation), indicating the model generalizes moderately but could improve.\n",
    "\n",
    "\n",
    "**Now let's add L2 to see the effect:**\n"
   ]
  },
  {
   "cell_type": "code",
   "execution_count": 50,
   "metadata": {},
   "outputs": [],
   "source": [
    "def create_lstm_with_l2_model():\n",
    "    model = Sequential([\n",
    "        LSTM(6, kernel_regularizer = tf.keras.regularizers.L2(l2=0.01)),\n",
    "        Dense(32, activation='relu', kernel_regularizer = tf.keras.regularizers.L2(l2=0.01)),\n",
    "        Dropout(0.5),\n",
    "        Dense(1, activation='sigmoid')\n",
    "        \n",
    "    ])\n",
    "    return model"
   ]
  },
  {
   "cell_type": "code",
   "execution_count": 51,
   "metadata": {},
   "outputs": [
    {
     "name": "stdout",
     "output_type": "stream",
     "text": [
      "Epoch 1/30\n",
      "\u001b[1m425/425\u001b[0m \u001b[32m━━━━━━━━━━━━━━━━━━━━\u001b[0m\u001b[37m\u001b[0m \u001b[1m3s\u001b[0m 3ms/step - accuracy: 0.6116 - loss: 0.8822 - val_accuracy: 0.6030 - val_loss: 0.6515\n",
      "Epoch 2/30\n",
      "\u001b[1m425/425\u001b[0m \u001b[32m━━━━━━━━━━━━━━━━━━━━\u001b[0m\u001b[37m\u001b[0m \u001b[1m1s\u001b[0m 3ms/step - accuracy: 0.7270 - loss: 0.5696 - val_accuracy: 0.8370 - val_loss: 0.4443\n",
      "Epoch 3/30\n",
      "\u001b[1m425/425\u001b[0m \u001b[32m━━━━━━━━━━━━━━━━━━━━\u001b[0m\u001b[37m\u001b[0m \u001b[1m1s\u001b[0m 3ms/step - accuracy: 0.8736 - loss: 0.3935 - val_accuracy: 0.8761 - val_loss: 0.3601\n",
      "Epoch 4/30\n",
      "\u001b[1m425/425\u001b[0m \u001b[32m━━━━━━━━━━━━━━━━━━━━\u001b[0m\u001b[37m\u001b[0m \u001b[1m1s\u001b[0m 3ms/step - accuracy: 0.8902 - loss: 0.3659 - val_accuracy: 0.8668 - val_loss: 0.3899\n",
      "Epoch 5/30\n",
      "\u001b[1m425/425\u001b[0m \u001b[32m━━━━━━━━━━━━━━━━━━━━\u001b[0m\u001b[37m\u001b[0m \u001b[1m1s\u001b[0m 3ms/step - accuracy: 0.8884 - loss: 0.3612 - val_accuracy: 0.8807 - val_loss: 0.3462\n",
      "Epoch 6/30\n",
      "\u001b[1m425/425\u001b[0m \u001b[32m━━━━━━━━━━━━━━━━━━━━\u001b[0m\u001b[37m\u001b[0m \u001b[1m1s\u001b[0m 3ms/step - accuracy: 0.8935 - loss: 0.3410 - val_accuracy: 0.8714 - val_loss: 0.3668\n",
      "Epoch 7/30\n",
      "\u001b[1m425/425\u001b[0m \u001b[32m━━━━━━━━━━━━━━━━━━━━\u001b[0m\u001b[37m\u001b[0m \u001b[1m1s\u001b[0m 3ms/step - accuracy: 0.9015 - loss: 0.3328 - val_accuracy: 0.8801 - val_loss: 0.3482\n",
      "Epoch 8/30\n",
      "\u001b[1m425/425\u001b[0m \u001b[32m━━━━━━━━━━━━━━━━━━━━\u001b[0m\u001b[37m\u001b[0m \u001b[1m1s\u001b[0m 3ms/step - accuracy: 0.8971 - loss: 0.3376 - val_accuracy: 0.8827 - val_loss: 0.3400\n",
      "Epoch 9/30\n",
      "\u001b[1m425/425\u001b[0m \u001b[32m━━━━━━━━━━━━━━━━━━━━\u001b[0m\u001b[37m\u001b[0m \u001b[1m1s\u001b[0m 3ms/step - accuracy: 0.9008 - loss: 0.3277 - val_accuracy: 0.8761 - val_loss: 0.3410\n",
      "Epoch 10/30\n",
      "\u001b[1m425/425\u001b[0m \u001b[32m━━━━━━━━━━━━━━━━━━━━\u001b[0m\u001b[37m\u001b[0m \u001b[1m1s\u001b[0m 3ms/step - accuracy: 0.8987 - loss: 0.3250 - val_accuracy: 0.8774 - val_loss: 0.3426\n",
      "Epoch 11/30\n",
      "\u001b[1m425/425\u001b[0m \u001b[32m━━━━━━━━━━━━━━━━━━━━\u001b[0m\u001b[37m\u001b[0m \u001b[1m1s\u001b[0m 3ms/step - accuracy: 0.9021 - loss: 0.3214 - val_accuracy: 0.8754 - val_loss: 0.3462\n",
      "Epoch 12/30\n",
      "\u001b[1m425/425\u001b[0m \u001b[32m━━━━━━━━━━━━━━━━━━━━\u001b[0m\u001b[37m\u001b[0m \u001b[1m1s\u001b[0m 3ms/step - accuracy: 0.9045 - loss: 0.3157 - val_accuracy: 0.8708 - val_loss: 0.3522\n",
      "Epoch 13/30\n",
      "\u001b[1m425/425\u001b[0m \u001b[32m━━━━━━━━━━━━━━━━━━━━\u001b[0m\u001b[37m\u001b[0m \u001b[1m1s\u001b[0m 3ms/step - accuracy: 0.9028 - loss: 0.3209 - val_accuracy: 0.8781 - val_loss: 0.3445\n",
      "Epoch 14/30\n",
      "\u001b[1m425/425\u001b[0m \u001b[32m━━━━━━━━━━━━━━━━━━━━\u001b[0m\u001b[37m\u001b[0m \u001b[1m1s\u001b[0m 3ms/step - accuracy: 0.9033 - loss: 0.3223 - val_accuracy: 0.8681 - val_loss: 0.3564\n",
      "Epoch 15/30\n",
      "\u001b[1m425/425\u001b[0m \u001b[32m━━━━━━━━━━━━━━━━━━━━\u001b[0m\u001b[37m\u001b[0m \u001b[1m1s\u001b[0m 3ms/step - accuracy: 0.9030 - loss: 0.3115 - val_accuracy: 0.8754 - val_loss: 0.3421\n",
      "Epoch 16/30\n",
      "\u001b[1m425/425\u001b[0m \u001b[32m━━━━━━━━━━━━━━━━━━━━\u001b[0m\u001b[37m\u001b[0m \u001b[1m1s\u001b[0m 3ms/step - accuracy: 0.9072 - loss: 0.3075 - val_accuracy: 0.8794 - val_loss: 0.3368\n",
      "Epoch 17/30\n",
      "\u001b[1m425/425\u001b[0m \u001b[32m━━━━━━━━━━━━━━━━━━━━\u001b[0m\u001b[37m\u001b[0m \u001b[1m1s\u001b[0m 3ms/step - accuracy: 0.9012 - loss: 0.3171 - val_accuracy: 0.8728 - val_loss: 0.3596\n",
      "Epoch 18/30\n",
      "\u001b[1m425/425\u001b[0m \u001b[32m━━━━━━━━━━━━━━━━━━━━\u001b[0m\u001b[37m\u001b[0m \u001b[1m1s\u001b[0m 3ms/step - accuracy: 0.9024 - loss: 0.3069 - val_accuracy: 0.8834 - val_loss: 0.3389\n",
      "Epoch 19/30\n",
      "\u001b[1m425/425\u001b[0m \u001b[32m━━━━━━━━━━━━━━━━━━━━\u001b[0m\u001b[37m\u001b[0m \u001b[1m1s\u001b[0m 3ms/step - accuracy: 0.9060 - loss: 0.3077 - val_accuracy: 0.8767 - val_loss: 0.3503\n",
      "Epoch 20/30\n",
      "\u001b[1m425/425\u001b[0m \u001b[32m━━━━━━━━━━━━━━━━━━━━\u001b[0m\u001b[37m\u001b[0m \u001b[1m1s\u001b[0m 3ms/step - accuracy: 0.9104 - loss: 0.3042 - val_accuracy: 0.8854 - val_loss: 0.3380\n",
      "Epoch 21/30\n",
      "\u001b[1m425/425\u001b[0m \u001b[32m━━━━━━━━━━━━━━━━━━━━\u001b[0m\u001b[37m\u001b[0m \u001b[1m1s\u001b[0m 3ms/step - accuracy: 0.9052 - loss: 0.3033 - val_accuracy: 0.8807 - val_loss: 0.3335\n",
      "Epoch 22/30\n",
      "\u001b[1m425/425\u001b[0m \u001b[32m━━━━━━━━━━━━━━━━━━━━\u001b[0m\u001b[37m\u001b[0m \u001b[1m1s\u001b[0m 3ms/step - accuracy: 0.9068 - loss: 0.3041 - val_accuracy: 0.8880 - val_loss: 0.3385\n",
      "Epoch 23/30\n",
      "\u001b[1m425/425\u001b[0m \u001b[32m━━━━━━━━━━━━━━━━━━━━\u001b[0m\u001b[37m\u001b[0m \u001b[1m1s\u001b[0m 3ms/step - accuracy: 0.9139 - loss: 0.2943 - val_accuracy: 0.8794 - val_loss: 0.3373\n",
      "Epoch 24/30\n",
      "\u001b[1m425/425\u001b[0m \u001b[32m━━━━━━━━━━━━━━━━━━━━\u001b[0m\u001b[37m\u001b[0m \u001b[1m1s\u001b[0m 3ms/step - accuracy: 0.9124 - loss: 0.2940 - val_accuracy: 0.8827 - val_loss: 0.3328\n",
      "Epoch 25/30\n",
      "\u001b[1m425/425\u001b[0m \u001b[32m━━━━━━━━━━━━━━━━━━━━\u001b[0m\u001b[37m\u001b[0m \u001b[1m1s\u001b[0m 3ms/step - accuracy: 0.9120 - loss: 0.2954 - val_accuracy: 0.8867 - val_loss: 0.3298\n",
      "Epoch 26/30\n",
      "\u001b[1m425/425\u001b[0m \u001b[32m━━━━━━━━━━━━━━━━━━━━\u001b[0m\u001b[37m\u001b[0m \u001b[1m1s\u001b[0m 3ms/step - accuracy: 0.9111 - loss: 0.2994 - val_accuracy: 0.8847 - val_loss: 0.3408\n",
      "Epoch 27/30\n",
      "\u001b[1m425/425\u001b[0m \u001b[32m━━━━━━━━━━━━━━━━━━━━\u001b[0m\u001b[37m\u001b[0m \u001b[1m1s\u001b[0m 3ms/step - accuracy: 0.9093 - loss: 0.3012 - val_accuracy: 0.8794 - val_loss: 0.3458\n",
      "Epoch 28/30\n",
      "\u001b[1m425/425\u001b[0m \u001b[32m━━━━━━━━━━━━━━━━━━━━\u001b[0m\u001b[37m\u001b[0m \u001b[1m1s\u001b[0m 3ms/step - accuracy: 0.9117 - loss: 0.2906 - val_accuracy: 0.8807 - val_loss: 0.3364\n",
      "Epoch 29/30\n",
      "\u001b[1m425/425\u001b[0m \u001b[32m━━━━━━━━━━━━━━━━━━━━\u001b[0m\u001b[37m\u001b[0m \u001b[1m1s\u001b[0m 3ms/step - accuracy: 0.9100 - loss: 0.2990 - val_accuracy: 0.8781 - val_loss: 0.3415\n",
      "Epoch 30/30\n",
      "\u001b[1m425/425\u001b[0m \u001b[32m━━━━━━━━━━━━━━━━━━━━\u001b[0m\u001b[37m\u001b[0m \u001b[1m1s\u001b[0m 3ms/step - accuracy: 0.9142 - loss: 0.2924 - val_accuracy: 0.8767 - val_loss: 0.3493\n"
     ]
    },
    {
     "data": {
      "application/vnd.plotly.v1+json": {
       "config": {
        "plotlyServerURL": "https://plot.ly"
       },
       "data": [
        {
         "mode": "lines",
         "name": "Training Loss",
         "type": "scatter",
         "y": [
          0.7619491219520569,
          0.5061909556388855,
          0.3963555693626404,
          0.3726678490638733,
          0.35649487376213074,
          0.34924137592315674,
          0.3455328047275543,
          0.34379494190216064,
          0.3382904827594757,
          0.33375775814056396,
          0.3282468616962433,
          0.32851511240005493,
          0.32627594470977783,
          0.32829588651657104,
          0.3226170837879181,
          0.31925687193870544,
          0.31806230545043945,
          0.31745508313179016,
          0.3129083812236786,
          0.31627777218818665,
          0.3128754794597626,
          0.3137313723564148,
          0.3111506700515747,
          0.313735693693161,
          0.309525728225708,
          0.3049090504646301,
          0.3059840798377991,
          0.30689191818237305,
          0.30564090609550476,
          0.3030385971069336
         ]
        },
        {
         "mode": "lines",
         "name": "Validation Loss",
         "type": "scatter",
         "y": [
          0.6515387892723083,
          0.44432470202445984,
          0.3601008951663971,
          0.3898589611053467,
          0.3462381958961487,
          0.36677879095077515,
          0.3481643795967102,
          0.33995118737220764,
          0.3410368263721466,
          0.3425982594490051,
          0.34619665145874023,
          0.3522419035434723,
          0.3444851338863373,
          0.35642489790916443,
          0.3421248197555542,
          0.3368317186832428,
          0.3596310615539551,
          0.3389154374599457,
          0.3502601683139801,
          0.3379991352558136,
          0.33345210552215576,
          0.3385131061077118,
          0.33730828762054443,
          0.3328093886375427,
          0.32984834909439087,
          0.34077227115631104,
          0.3457965552806854,
          0.33641037344932556,
          0.3414698839187622,
          0.34931859374046326
         ]
        }
       ],
       "layout": {
        "template": {
         "data": {
          "bar": [
           {
            "error_x": {
             "color": "#2a3f5f"
            },
            "error_y": {
             "color": "#2a3f5f"
            },
            "marker": {
             "line": {
              "color": "#E5ECF6",
              "width": 0.5
             },
             "pattern": {
              "fillmode": "overlay",
              "size": 10,
              "solidity": 0.2
             }
            },
            "type": "bar"
           }
          ],
          "barpolar": [
           {
            "marker": {
             "line": {
              "color": "#E5ECF6",
              "width": 0.5
             },
             "pattern": {
              "fillmode": "overlay",
              "size": 10,
              "solidity": 0.2
             }
            },
            "type": "barpolar"
           }
          ],
          "carpet": [
           {
            "aaxis": {
             "endlinecolor": "#2a3f5f",
             "gridcolor": "white",
             "linecolor": "white",
             "minorgridcolor": "white",
             "startlinecolor": "#2a3f5f"
            },
            "baxis": {
             "endlinecolor": "#2a3f5f",
             "gridcolor": "white",
             "linecolor": "white",
             "minorgridcolor": "white",
             "startlinecolor": "#2a3f5f"
            },
            "type": "carpet"
           }
          ],
          "choropleth": [
           {
            "colorbar": {
             "outlinewidth": 0,
             "ticks": ""
            },
            "type": "choropleth"
           }
          ],
          "contour": [
           {
            "colorbar": {
             "outlinewidth": 0,
             "ticks": ""
            },
            "colorscale": [
             [
              0,
              "#0d0887"
             ],
             [
              0.1111111111111111,
              "#46039f"
             ],
             [
              0.2222222222222222,
              "#7201a8"
             ],
             [
              0.3333333333333333,
              "#9c179e"
             ],
             [
              0.4444444444444444,
              "#bd3786"
             ],
             [
              0.5555555555555556,
              "#d8576b"
             ],
             [
              0.6666666666666666,
              "#ed7953"
             ],
             [
              0.7777777777777778,
              "#fb9f3a"
             ],
             [
              0.8888888888888888,
              "#fdca26"
             ],
             [
              1,
              "#f0f921"
             ]
            ],
            "type": "contour"
           }
          ],
          "contourcarpet": [
           {
            "colorbar": {
             "outlinewidth": 0,
             "ticks": ""
            },
            "type": "contourcarpet"
           }
          ],
          "heatmap": [
           {
            "colorbar": {
             "outlinewidth": 0,
             "ticks": ""
            },
            "colorscale": [
             [
              0,
              "#0d0887"
             ],
             [
              0.1111111111111111,
              "#46039f"
             ],
             [
              0.2222222222222222,
              "#7201a8"
             ],
             [
              0.3333333333333333,
              "#9c179e"
             ],
             [
              0.4444444444444444,
              "#bd3786"
             ],
             [
              0.5555555555555556,
              "#d8576b"
             ],
             [
              0.6666666666666666,
              "#ed7953"
             ],
             [
              0.7777777777777778,
              "#fb9f3a"
             ],
             [
              0.8888888888888888,
              "#fdca26"
             ],
             [
              1,
              "#f0f921"
             ]
            ],
            "type": "heatmap"
           }
          ],
          "histogram": [
           {
            "marker": {
             "pattern": {
              "fillmode": "overlay",
              "size": 10,
              "solidity": 0.2
             }
            },
            "type": "histogram"
           }
          ],
          "histogram2d": [
           {
            "colorbar": {
             "outlinewidth": 0,
             "ticks": ""
            },
            "colorscale": [
             [
              0,
              "#0d0887"
             ],
             [
              0.1111111111111111,
              "#46039f"
             ],
             [
              0.2222222222222222,
              "#7201a8"
             ],
             [
              0.3333333333333333,
              "#9c179e"
             ],
             [
              0.4444444444444444,
              "#bd3786"
             ],
             [
              0.5555555555555556,
              "#d8576b"
             ],
             [
              0.6666666666666666,
              "#ed7953"
             ],
             [
              0.7777777777777778,
              "#fb9f3a"
             ],
             [
              0.8888888888888888,
              "#fdca26"
             ],
             [
              1,
              "#f0f921"
             ]
            ],
            "type": "histogram2d"
           }
          ],
          "histogram2dcontour": [
           {
            "colorbar": {
             "outlinewidth": 0,
             "ticks": ""
            },
            "colorscale": [
             [
              0,
              "#0d0887"
             ],
             [
              0.1111111111111111,
              "#46039f"
             ],
             [
              0.2222222222222222,
              "#7201a8"
             ],
             [
              0.3333333333333333,
              "#9c179e"
             ],
             [
              0.4444444444444444,
              "#bd3786"
             ],
             [
              0.5555555555555556,
              "#d8576b"
             ],
             [
              0.6666666666666666,
              "#ed7953"
             ],
             [
              0.7777777777777778,
              "#fb9f3a"
             ],
             [
              0.8888888888888888,
              "#fdca26"
             ],
             [
              1,
              "#f0f921"
             ]
            ],
            "type": "histogram2dcontour"
           }
          ],
          "mesh3d": [
           {
            "colorbar": {
             "outlinewidth": 0,
             "ticks": ""
            },
            "type": "mesh3d"
           }
          ],
          "parcoords": [
           {
            "line": {
             "colorbar": {
              "outlinewidth": 0,
              "ticks": ""
             }
            },
            "type": "parcoords"
           }
          ],
          "pie": [
           {
            "automargin": true,
            "type": "pie"
           }
          ],
          "scatter": [
           {
            "fillpattern": {
             "fillmode": "overlay",
             "size": 10,
             "solidity": 0.2
            },
            "type": "scatter"
           }
          ],
          "scatter3d": [
           {
            "line": {
             "colorbar": {
              "outlinewidth": 0,
              "ticks": ""
             }
            },
            "marker": {
             "colorbar": {
              "outlinewidth": 0,
              "ticks": ""
             }
            },
            "type": "scatter3d"
           }
          ],
          "scattercarpet": [
           {
            "marker": {
             "colorbar": {
              "outlinewidth": 0,
              "ticks": ""
             }
            },
            "type": "scattercarpet"
           }
          ],
          "scattergeo": [
           {
            "marker": {
             "colorbar": {
              "outlinewidth": 0,
              "ticks": ""
             }
            },
            "type": "scattergeo"
           }
          ],
          "scattergl": [
           {
            "marker": {
             "colorbar": {
              "outlinewidth": 0,
              "ticks": ""
             }
            },
            "type": "scattergl"
           }
          ],
          "scattermap": [
           {
            "marker": {
             "colorbar": {
              "outlinewidth": 0,
              "ticks": ""
             }
            },
            "type": "scattermap"
           }
          ],
          "scattermapbox": [
           {
            "marker": {
             "colorbar": {
              "outlinewidth": 0,
              "ticks": ""
             }
            },
            "type": "scattermapbox"
           }
          ],
          "scatterpolar": [
           {
            "marker": {
             "colorbar": {
              "outlinewidth": 0,
              "ticks": ""
             }
            },
            "type": "scatterpolar"
           }
          ],
          "scatterpolargl": [
           {
            "marker": {
             "colorbar": {
              "outlinewidth": 0,
              "ticks": ""
             }
            },
            "type": "scatterpolargl"
           }
          ],
          "scatterternary": [
           {
            "marker": {
             "colorbar": {
              "outlinewidth": 0,
              "ticks": ""
             }
            },
            "type": "scatterternary"
           }
          ],
          "surface": [
           {
            "colorbar": {
             "outlinewidth": 0,
             "ticks": ""
            },
            "colorscale": [
             [
              0,
              "#0d0887"
             ],
             [
              0.1111111111111111,
              "#46039f"
             ],
             [
              0.2222222222222222,
              "#7201a8"
             ],
             [
              0.3333333333333333,
              "#9c179e"
             ],
             [
              0.4444444444444444,
              "#bd3786"
             ],
             [
              0.5555555555555556,
              "#d8576b"
             ],
             [
              0.6666666666666666,
              "#ed7953"
             ],
             [
              0.7777777777777778,
              "#fb9f3a"
             ],
             [
              0.8888888888888888,
              "#fdca26"
             ],
             [
              1,
              "#f0f921"
             ]
            ],
            "type": "surface"
           }
          ],
          "table": [
           {
            "cells": {
             "fill": {
              "color": "#EBF0F8"
             },
             "line": {
              "color": "white"
             }
            },
            "header": {
             "fill": {
              "color": "#C8D4E3"
             },
             "line": {
              "color": "white"
             }
            },
            "type": "table"
           }
          ]
         },
         "layout": {
          "annotationdefaults": {
           "arrowcolor": "#2a3f5f",
           "arrowhead": 0,
           "arrowwidth": 1
          },
          "autotypenumbers": "strict",
          "coloraxis": {
           "colorbar": {
            "outlinewidth": 0,
            "ticks": ""
           }
          },
          "colorscale": {
           "diverging": [
            [
             0,
             "#8e0152"
            ],
            [
             0.1,
             "#c51b7d"
            ],
            [
             0.2,
             "#de77ae"
            ],
            [
             0.3,
             "#f1b6da"
            ],
            [
             0.4,
             "#fde0ef"
            ],
            [
             0.5,
             "#f7f7f7"
            ],
            [
             0.6,
             "#e6f5d0"
            ],
            [
             0.7,
             "#b8e186"
            ],
            [
             0.8,
             "#7fbc41"
            ],
            [
             0.9,
             "#4d9221"
            ],
            [
             1,
             "#276419"
            ]
           ],
           "sequential": [
            [
             0,
             "#0d0887"
            ],
            [
             0.1111111111111111,
             "#46039f"
            ],
            [
             0.2222222222222222,
             "#7201a8"
            ],
            [
             0.3333333333333333,
             "#9c179e"
            ],
            [
             0.4444444444444444,
             "#bd3786"
            ],
            [
             0.5555555555555556,
             "#d8576b"
            ],
            [
             0.6666666666666666,
             "#ed7953"
            ],
            [
             0.7777777777777778,
             "#fb9f3a"
            ],
            [
             0.8888888888888888,
             "#fdca26"
            ],
            [
             1,
             "#f0f921"
            ]
           ],
           "sequentialminus": [
            [
             0,
             "#0d0887"
            ],
            [
             0.1111111111111111,
             "#46039f"
            ],
            [
             0.2222222222222222,
             "#7201a8"
            ],
            [
             0.3333333333333333,
             "#9c179e"
            ],
            [
             0.4444444444444444,
             "#bd3786"
            ],
            [
             0.5555555555555556,
             "#d8576b"
            ],
            [
             0.6666666666666666,
             "#ed7953"
            ],
            [
             0.7777777777777778,
             "#fb9f3a"
            ],
            [
             0.8888888888888888,
             "#fdca26"
            ],
            [
             1,
             "#f0f921"
            ]
           ]
          },
          "colorway": [
           "#636efa",
           "#EF553B",
           "#00cc96",
           "#ab63fa",
           "#FFA15A",
           "#19d3f3",
           "#FF6692",
           "#B6E880",
           "#FF97FF",
           "#FECB52"
          ],
          "font": {
           "color": "#2a3f5f"
          },
          "geo": {
           "bgcolor": "white",
           "lakecolor": "white",
           "landcolor": "#E5ECF6",
           "showlakes": true,
           "showland": true,
           "subunitcolor": "white"
          },
          "hoverlabel": {
           "align": "left"
          },
          "hovermode": "closest",
          "mapbox": {
           "style": "light"
          },
          "paper_bgcolor": "white",
          "plot_bgcolor": "#E5ECF6",
          "polar": {
           "angularaxis": {
            "gridcolor": "white",
            "linecolor": "white",
            "ticks": ""
           },
           "bgcolor": "#E5ECF6",
           "radialaxis": {
            "gridcolor": "white",
            "linecolor": "white",
            "ticks": ""
           }
          },
          "scene": {
           "xaxis": {
            "backgroundcolor": "#E5ECF6",
            "gridcolor": "white",
            "gridwidth": 2,
            "linecolor": "white",
            "showbackground": true,
            "ticks": "",
            "zerolinecolor": "white"
           },
           "yaxis": {
            "backgroundcolor": "#E5ECF6",
            "gridcolor": "white",
            "gridwidth": 2,
            "linecolor": "white",
            "showbackground": true,
            "ticks": "",
            "zerolinecolor": "white"
           },
           "zaxis": {
            "backgroundcolor": "#E5ECF6",
            "gridcolor": "white",
            "gridwidth": 2,
            "linecolor": "white",
            "showbackground": true,
            "ticks": "",
            "zerolinecolor": "white"
           }
          },
          "shapedefaults": {
           "line": {
            "color": "#2a3f5f"
           }
          },
          "ternary": {
           "aaxis": {
            "gridcolor": "white",
            "linecolor": "white",
            "ticks": ""
           },
           "baxis": {
            "gridcolor": "white",
            "linecolor": "white",
            "ticks": ""
           },
           "bgcolor": "#E5ECF6",
           "caxis": {
            "gridcolor": "white",
            "linecolor": "white",
            "ticks": ""
           }
          },
          "title": {
           "x": 0.05
          },
          "xaxis": {
           "automargin": true,
           "gridcolor": "white",
           "linecolor": "white",
           "ticks": "",
           "title": {
            "standoff": 15
           },
           "zerolinecolor": "white",
           "zerolinewidth": 2
          },
          "yaxis": {
           "automargin": true,
           "gridcolor": "white",
           "linecolor": "white",
           "ticks": "",
           "title": {
            "standoff": 15
           },
           "zerolinecolor": "white",
           "zerolinewidth": 2
          }
         }
        },
        "title": {
         "text": "Training vs Validation Loss"
        },
        "xaxis": {
         "title": {
          "text": "Epochs"
         }
        },
        "yaxis": {
         "title": {
          "text": "Loss"
         }
        }
       }
      },
      "text/html": [
       "<div>            <script src=\"https://cdnjs.cloudflare.com/ajax/libs/mathjax/2.7.5/MathJax.js?config=TeX-AMS-MML_SVG\"></script><script type=\"text/javascript\">if (window.MathJax && window.MathJax.Hub && window.MathJax.Hub.Config) {window.MathJax.Hub.Config({SVG: {font: \"STIX-Web\"}});}</script>                <script type=\"text/javascript\">window.PlotlyConfig = {MathJaxConfig: 'local'};</script>\n",
       "        <script charset=\"utf-8\" src=\"https://cdn.plot.ly/plotly-3.0.0.min.js\"></script>                <div id=\"67c0a930-2845-4bac-9fe2-9516ea4835b9\" class=\"plotly-graph-div\" style=\"height:525px; width:100%;\"></div>            <script type=\"text/javascript\">                window.PLOTLYENV=window.PLOTLYENV || {};                                if (document.getElementById(\"67c0a930-2845-4bac-9fe2-9516ea4835b9\")) {                    Plotly.newPlot(                        \"67c0a930-2845-4bac-9fe2-9516ea4835b9\",                        [{\"mode\":\"lines\",\"name\":\"Training Loss\",\"y\":[0.7619491219520569,0.5061909556388855,0.3963555693626404,0.3726678490638733,0.35649487376213074,0.34924137592315674,0.3455328047275543,0.34379494190216064,0.3382904827594757,0.33375775814056396,0.3282468616962433,0.32851511240005493,0.32627594470977783,0.32829588651657104,0.3226170837879181,0.31925687193870544,0.31806230545043945,0.31745508313179016,0.3129083812236786,0.31627777218818665,0.3128754794597626,0.3137313723564148,0.3111506700515747,0.313735693693161,0.309525728225708,0.3049090504646301,0.3059840798377991,0.30689191818237305,0.30564090609550476,0.3030385971069336],\"type\":\"scatter\"},{\"mode\":\"lines\",\"name\":\"Validation Loss\",\"y\":[0.6515387892723083,0.44432470202445984,0.3601008951663971,0.3898589611053467,0.3462381958961487,0.36677879095077515,0.3481643795967102,0.33995118737220764,0.3410368263721466,0.3425982594490051,0.34619665145874023,0.3522419035434723,0.3444851338863373,0.35642489790916443,0.3421248197555542,0.3368317186832428,0.3596310615539551,0.3389154374599457,0.3502601683139801,0.3379991352558136,0.33345210552215576,0.3385131061077118,0.33730828762054443,0.3328093886375427,0.32984834909439087,0.34077227115631104,0.3457965552806854,0.33641037344932556,0.3414698839187622,0.34931859374046326],\"type\":\"scatter\"}],                        {\"template\":{\"data\":{\"histogram2dcontour\":[{\"type\":\"histogram2dcontour\",\"colorbar\":{\"outlinewidth\":0,\"ticks\":\"\"},\"colorscale\":[[0.0,\"#0d0887\"],[0.1111111111111111,\"#46039f\"],[0.2222222222222222,\"#7201a8\"],[0.3333333333333333,\"#9c179e\"],[0.4444444444444444,\"#bd3786\"],[0.5555555555555556,\"#d8576b\"],[0.6666666666666666,\"#ed7953\"],[0.7777777777777778,\"#fb9f3a\"],[0.8888888888888888,\"#fdca26\"],[1.0,\"#f0f921\"]]}],\"choropleth\":[{\"type\":\"choropleth\",\"colorbar\":{\"outlinewidth\":0,\"ticks\":\"\"}}],\"histogram2d\":[{\"type\":\"histogram2d\",\"colorbar\":{\"outlinewidth\":0,\"ticks\":\"\"},\"colorscale\":[[0.0,\"#0d0887\"],[0.1111111111111111,\"#46039f\"],[0.2222222222222222,\"#7201a8\"],[0.3333333333333333,\"#9c179e\"],[0.4444444444444444,\"#bd3786\"],[0.5555555555555556,\"#d8576b\"],[0.6666666666666666,\"#ed7953\"],[0.7777777777777778,\"#fb9f3a\"],[0.8888888888888888,\"#fdca26\"],[1.0,\"#f0f921\"]]}],\"heatmap\":[{\"type\":\"heatmap\",\"colorbar\":{\"outlinewidth\":0,\"ticks\":\"\"},\"colorscale\":[[0.0,\"#0d0887\"],[0.1111111111111111,\"#46039f\"],[0.2222222222222222,\"#7201a8\"],[0.3333333333333333,\"#9c179e\"],[0.4444444444444444,\"#bd3786\"],[0.5555555555555556,\"#d8576b\"],[0.6666666666666666,\"#ed7953\"],[0.7777777777777778,\"#fb9f3a\"],[0.8888888888888888,\"#fdca26\"],[1.0,\"#f0f921\"]]}],\"contourcarpet\":[{\"type\":\"contourcarpet\",\"colorbar\":{\"outlinewidth\":0,\"ticks\":\"\"}}],\"contour\":[{\"type\":\"contour\",\"colorbar\":{\"outlinewidth\":0,\"ticks\":\"\"},\"colorscale\":[[0.0,\"#0d0887\"],[0.1111111111111111,\"#46039f\"],[0.2222222222222222,\"#7201a8\"],[0.3333333333333333,\"#9c179e\"],[0.4444444444444444,\"#bd3786\"],[0.5555555555555556,\"#d8576b\"],[0.6666666666666666,\"#ed7953\"],[0.7777777777777778,\"#fb9f3a\"],[0.8888888888888888,\"#fdca26\"],[1.0,\"#f0f921\"]]}],\"surface\":[{\"type\":\"surface\",\"colorbar\":{\"outlinewidth\":0,\"ticks\":\"\"},\"colorscale\":[[0.0,\"#0d0887\"],[0.1111111111111111,\"#46039f\"],[0.2222222222222222,\"#7201a8\"],[0.3333333333333333,\"#9c179e\"],[0.4444444444444444,\"#bd3786\"],[0.5555555555555556,\"#d8576b\"],[0.6666666666666666,\"#ed7953\"],[0.7777777777777778,\"#fb9f3a\"],[0.8888888888888888,\"#fdca26\"],[1.0,\"#f0f921\"]]}],\"mesh3d\":[{\"type\":\"mesh3d\",\"colorbar\":{\"outlinewidth\":0,\"ticks\":\"\"}}],\"scatter\":[{\"fillpattern\":{\"fillmode\":\"overlay\",\"size\":10,\"solidity\":0.2},\"type\":\"scatter\"}],\"parcoords\":[{\"type\":\"parcoords\",\"line\":{\"colorbar\":{\"outlinewidth\":0,\"ticks\":\"\"}}}],\"scatterpolargl\":[{\"type\":\"scatterpolargl\",\"marker\":{\"colorbar\":{\"outlinewidth\":0,\"ticks\":\"\"}}}],\"bar\":[{\"error_x\":{\"color\":\"#2a3f5f\"},\"error_y\":{\"color\":\"#2a3f5f\"},\"marker\":{\"line\":{\"color\":\"#E5ECF6\",\"width\":0.5},\"pattern\":{\"fillmode\":\"overlay\",\"size\":10,\"solidity\":0.2}},\"type\":\"bar\"}],\"scattergeo\":[{\"type\":\"scattergeo\",\"marker\":{\"colorbar\":{\"outlinewidth\":0,\"ticks\":\"\"}}}],\"scatterpolar\":[{\"type\":\"scatterpolar\",\"marker\":{\"colorbar\":{\"outlinewidth\":0,\"ticks\":\"\"}}}],\"histogram\":[{\"marker\":{\"pattern\":{\"fillmode\":\"overlay\",\"size\":10,\"solidity\":0.2}},\"type\":\"histogram\"}],\"scattergl\":[{\"type\":\"scattergl\",\"marker\":{\"colorbar\":{\"outlinewidth\":0,\"ticks\":\"\"}}}],\"scatter3d\":[{\"type\":\"scatter3d\",\"line\":{\"colorbar\":{\"outlinewidth\":0,\"ticks\":\"\"}},\"marker\":{\"colorbar\":{\"outlinewidth\":0,\"ticks\":\"\"}}}],\"scattermap\":[{\"type\":\"scattermap\",\"marker\":{\"colorbar\":{\"outlinewidth\":0,\"ticks\":\"\"}}}],\"scattermapbox\":[{\"type\":\"scattermapbox\",\"marker\":{\"colorbar\":{\"outlinewidth\":0,\"ticks\":\"\"}}}],\"scatterternary\":[{\"type\":\"scatterternary\",\"marker\":{\"colorbar\":{\"outlinewidth\":0,\"ticks\":\"\"}}}],\"scattercarpet\":[{\"type\":\"scattercarpet\",\"marker\":{\"colorbar\":{\"outlinewidth\":0,\"ticks\":\"\"}}}],\"carpet\":[{\"aaxis\":{\"endlinecolor\":\"#2a3f5f\",\"gridcolor\":\"white\",\"linecolor\":\"white\",\"minorgridcolor\":\"white\",\"startlinecolor\":\"#2a3f5f\"},\"baxis\":{\"endlinecolor\":\"#2a3f5f\",\"gridcolor\":\"white\",\"linecolor\":\"white\",\"minorgridcolor\":\"white\",\"startlinecolor\":\"#2a3f5f\"},\"type\":\"carpet\"}],\"table\":[{\"cells\":{\"fill\":{\"color\":\"#EBF0F8\"},\"line\":{\"color\":\"white\"}},\"header\":{\"fill\":{\"color\":\"#C8D4E3\"},\"line\":{\"color\":\"white\"}},\"type\":\"table\"}],\"barpolar\":[{\"marker\":{\"line\":{\"color\":\"#E5ECF6\",\"width\":0.5},\"pattern\":{\"fillmode\":\"overlay\",\"size\":10,\"solidity\":0.2}},\"type\":\"barpolar\"}],\"pie\":[{\"automargin\":true,\"type\":\"pie\"}]},\"layout\":{\"autotypenumbers\":\"strict\",\"colorway\":[\"#636efa\",\"#EF553B\",\"#00cc96\",\"#ab63fa\",\"#FFA15A\",\"#19d3f3\",\"#FF6692\",\"#B6E880\",\"#FF97FF\",\"#FECB52\"],\"font\":{\"color\":\"#2a3f5f\"},\"hovermode\":\"closest\",\"hoverlabel\":{\"align\":\"left\"},\"paper_bgcolor\":\"white\",\"plot_bgcolor\":\"#E5ECF6\",\"polar\":{\"bgcolor\":\"#E5ECF6\",\"angularaxis\":{\"gridcolor\":\"white\",\"linecolor\":\"white\",\"ticks\":\"\"},\"radialaxis\":{\"gridcolor\":\"white\",\"linecolor\":\"white\",\"ticks\":\"\"}},\"ternary\":{\"bgcolor\":\"#E5ECF6\",\"aaxis\":{\"gridcolor\":\"white\",\"linecolor\":\"white\",\"ticks\":\"\"},\"baxis\":{\"gridcolor\":\"white\",\"linecolor\":\"white\",\"ticks\":\"\"},\"caxis\":{\"gridcolor\":\"white\",\"linecolor\":\"white\",\"ticks\":\"\"}},\"coloraxis\":{\"colorbar\":{\"outlinewidth\":0,\"ticks\":\"\"}},\"colorscale\":{\"sequential\":[[0.0,\"#0d0887\"],[0.1111111111111111,\"#46039f\"],[0.2222222222222222,\"#7201a8\"],[0.3333333333333333,\"#9c179e\"],[0.4444444444444444,\"#bd3786\"],[0.5555555555555556,\"#d8576b\"],[0.6666666666666666,\"#ed7953\"],[0.7777777777777778,\"#fb9f3a\"],[0.8888888888888888,\"#fdca26\"],[1.0,\"#f0f921\"]],\"sequentialminus\":[[0.0,\"#0d0887\"],[0.1111111111111111,\"#46039f\"],[0.2222222222222222,\"#7201a8\"],[0.3333333333333333,\"#9c179e\"],[0.4444444444444444,\"#bd3786\"],[0.5555555555555556,\"#d8576b\"],[0.6666666666666666,\"#ed7953\"],[0.7777777777777778,\"#fb9f3a\"],[0.8888888888888888,\"#fdca26\"],[1.0,\"#f0f921\"]],\"diverging\":[[0,\"#8e0152\"],[0.1,\"#c51b7d\"],[0.2,\"#de77ae\"],[0.3,\"#f1b6da\"],[0.4,\"#fde0ef\"],[0.5,\"#f7f7f7\"],[0.6,\"#e6f5d0\"],[0.7,\"#b8e186\"],[0.8,\"#7fbc41\"],[0.9,\"#4d9221\"],[1,\"#276419\"]]},\"xaxis\":{\"gridcolor\":\"white\",\"linecolor\":\"white\",\"ticks\":\"\",\"title\":{\"standoff\":15},\"zerolinecolor\":\"white\",\"automargin\":true,\"zerolinewidth\":2},\"yaxis\":{\"gridcolor\":\"white\",\"linecolor\":\"white\",\"ticks\":\"\",\"title\":{\"standoff\":15},\"zerolinecolor\":\"white\",\"automargin\":true,\"zerolinewidth\":2},\"scene\":{\"xaxis\":{\"backgroundcolor\":\"#E5ECF6\",\"gridcolor\":\"white\",\"linecolor\":\"white\",\"showbackground\":true,\"ticks\":\"\",\"zerolinecolor\":\"white\",\"gridwidth\":2},\"yaxis\":{\"backgroundcolor\":\"#E5ECF6\",\"gridcolor\":\"white\",\"linecolor\":\"white\",\"showbackground\":true,\"ticks\":\"\",\"zerolinecolor\":\"white\",\"gridwidth\":2},\"zaxis\":{\"backgroundcolor\":\"#E5ECF6\",\"gridcolor\":\"white\",\"linecolor\":\"white\",\"showbackground\":true,\"ticks\":\"\",\"zerolinecolor\":\"white\",\"gridwidth\":2}},\"shapedefaults\":{\"line\":{\"color\":\"#2a3f5f\"}},\"annotationdefaults\":{\"arrowcolor\":\"#2a3f5f\",\"arrowhead\":0,\"arrowwidth\":1},\"geo\":{\"bgcolor\":\"white\",\"landcolor\":\"#E5ECF6\",\"subunitcolor\":\"white\",\"showland\":true,\"showlakes\":true,\"lakecolor\":\"white\"},\"title\":{\"x\":0.05},\"mapbox\":{\"style\":\"light\"}}},\"xaxis\":{\"title\":{\"text\":\"Epochs\"}},\"yaxis\":{\"title\":{\"text\":\"Loss\"}},\"title\":{\"text\":\"Training vs Validation Loss\"}},                        {\"responsive\": true}                    ).then(function(){\n",
       "                            \n",
       "var gd = document.getElementById('67c0a930-2845-4bac-9fe2-9516ea4835b9');\n",
       "var x = new MutationObserver(function (mutations, observer) {{\n",
       "        var display = window.getComputedStyle(gd).display;\n",
       "        if (!display || display === 'none') {{\n",
       "            console.log([gd, 'removed!']);\n",
       "            Plotly.purge(gd);\n",
       "            observer.disconnect();\n",
       "        }}\n",
       "}});\n",
       "\n",
       "// Listen for the removal of the full notebook cells\n",
       "var notebookContainer = gd.closest('#notebook-container');\n",
       "if (notebookContainer) {{\n",
       "    x.observe(notebookContainer, {childList: true});\n",
       "}}\n",
       "\n",
       "// Listen for the clearing of the current output cell\n",
       "var outputEl = gd.closest('.output');\n",
       "if (outputEl) {{\n",
       "    x.observe(outputEl, {childList: true});\n",
       "}}\n",
       "\n",
       "                        })                };            </script>        </div>"
      ]
     },
     "metadata": {},
     "output_type": "display_data"
    }
   ],
   "source": [
    "lstm_model_l2 = create_lstm_with_l2_model()\n",
    "lstm_model_l2.compile(\n",
    "    optimizer=Adam(),\n",
    "    loss=BinaryCrossentropy(),\n",
    "    metrics=['accuracy']\n",
    ")\n",
    "\n",
    "history = lstm_model_l2.fit(\n",
    "    X_train,\n",
    "    y_train,\n",
    "    epochs=30,\n",
    "    batch_size=32,\n",
    "    validation_split=0.1,\n",
    "    verbose=1\n",
    ")\n",
    "\n",
    "fig = go.Figure()\n",
    "fig.add_trace(go.Scatter(y=history.history['loss'], mode='lines', name='Training Loss'))\n",
    "fig.add_trace(go.Scatter(y=history.history['val_loss'], mode='lines', name='Validation Loss'))\n",
    "fig.update_layout(\n",
    "    xaxis_title='Epochs',\n",
    "    yaxis_title='Loss',\n",
    "    title='Training vs Validation Loss'\n",
    ")\n",
    "fig.show()"
   ]
  },
  {
   "cell_type": "code",
   "execution_count": 97,
   "metadata": {},
   "outputs": [
    {
     "data": {
      "text/plain": [
       "np.int64(25)"
      ]
     },
     "execution_count": 97,
     "metadata": {},
     "output_type": "execute_result"
    }
   ],
   "source": [
    "optimal_epochs = np.argmin(history.history['val_loss']) + 1\n",
    "optimal_epochs"
   ]
  },
  {
   "cell_type": "code",
   "execution_count": 53,
   "metadata": {},
   "outputs": [
    {
     "name": "stdout",
     "output_type": "stream",
     "text": [
      "Epoch 1/25\n",
      "\u001b[1m425/425\u001b[0m \u001b[32m━━━━━━━━━━━━━━━━━━━━\u001b[0m\u001b[37m\u001b[0m \u001b[1m3s\u001b[0m 4ms/step - accuracy: 0.6048 - loss: 0.8836 - val_accuracy: 0.6030 - val_loss: 0.6617\n",
      "Epoch 2/25\n",
      "\u001b[1m425/425\u001b[0m \u001b[32m━━━━━━━━━━━━━━━━━━━━\u001b[0m\u001b[37m\u001b[0m \u001b[1m1s\u001b[0m 3ms/step - accuracy: 0.7327 - loss: 0.5833 - val_accuracy: 0.8436 - val_loss: 0.4375\n",
      "Epoch 3/25\n",
      "\u001b[1m425/425\u001b[0m \u001b[32m━━━━━━━━━━━━━━━━━━━━\u001b[0m\u001b[37m\u001b[0m \u001b[1m1s\u001b[0m 3ms/step - accuracy: 0.8487 - loss: 0.4412 - val_accuracy: 0.8761 - val_loss: 0.3850\n",
      "Epoch 4/25\n",
      "\u001b[1m425/425\u001b[0m \u001b[32m━━━━━━━━━━━━━━━━━━━━\u001b[0m\u001b[37m\u001b[0m \u001b[1m1s\u001b[0m 3ms/step - accuracy: 0.8705 - loss: 0.3966 - val_accuracy: 0.8741 - val_loss: 0.3694\n",
      "Epoch 5/25\n",
      "\u001b[1m425/425\u001b[0m \u001b[32m━━━━━━━━━━━━━━━━━━━━\u001b[0m\u001b[37m\u001b[0m \u001b[1m1s\u001b[0m 3ms/step - accuracy: 0.8835 - loss: 0.3607 - val_accuracy: 0.8767 - val_loss: 0.3541\n",
      "Epoch 6/25\n",
      "\u001b[1m425/425\u001b[0m \u001b[32m━━━━━━━━━━━━━━━━━━━━\u001b[0m\u001b[37m\u001b[0m \u001b[1m1s\u001b[0m 3ms/step - accuracy: 0.8890 - loss: 0.3485 - val_accuracy: 0.8794 - val_loss: 0.3456\n",
      "Epoch 7/25\n",
      "\u001b[1m425/425\u001b[0m \u001b[32m━━━━━━━━━━━━━━━━━━━━\u001b[0m\u001b[37m\u001b[0m \u001b[1m1s\u001b[0m 3ms/step - accuracy: 0.8934 - loss: 0.3423 - val_accuracy: 0.8781 - val_loss: 0.3470\n",
      "Epoch 8/25\n",
      "\u001b[1m425/425\u001b[0m \u001b[32m━━━━━━━━━━━━━━━━━━━━\u001b[0m\u001b[37m\u001b[0m \u001b[1m1s\u001b[0m 3ms/step - accuracy: 0.8950 - loss: 0.3386 - val_accuracy: 0.8794 - val_loss: 0.3487\n",
      "Epoch 9/25\n",
      "\u001b[1m425/425\u001b[0m \u001b[32m━━━━━━━━━━━━━━━━━━━━\u001b[0m\u001b[37m\u001b[0m \u001b[1m1s\u001b[0m 3ms/step - accuracy: 0.8958 - loss: 0.3377 - val_accuracy: 0.8774 - val_loss: 0.3515\n",
      "Epoch 10/25\n",
      "\u001b[1m425/425\u001b[0m \u001b[32m━━━━━━━━━━━━━━━━━━━━\u001b[0m\u001b[37m\u001b[0m \u001b[1m1s\u001b[0m 3ms/step - accuracy: 0.8856 - loss: 0.3501 - val_accuracy: 0.8794 - val_loss: 0.3424\n",
      "Epoch 11/25\n",
      "\u001b[1m425/425\u001b[0m \u001b[32m━━━━━━━━━━━━━━━━━━━━\u001b[0m\u001b[37m\u001b[0m \u001b[1m1s\u001b[0m 3ms/step - accuracy: 0.8941 - loss: 0.3387 - val_accuracy: 0.8767 - val_loss: 0.3473\n",
      "Epoch 12/25\n",
      "\u001b[1m425/425\u001b[0m \u001b[32m━━━━━━━━━━━━━━━━━━━━\u001b[0m\u001b[37m\u001b[0m \u001b[1m1s\u001b[0m 3ms/step - accuracy: 0.8960 - loss: 0.3357 - val_accuracy: 0.8787 - val_loss: 0.3408\n",
      "Epoch 13/25\n",
      "\u001b[1m425/425\u001b[0m \u001b[32m━━━━━━━━━━━━━━━━━━━━\u001b[0m\u001b[37m\u001b[0m \u001b[1m1s\u001b[0m 3ms/step - accuracy: 0.9000 - loss: 0.3293 - val_accuracy: 0.8854 - val_loss: 0.3388\n",
      "Epoch 14/25\n",
      "\u001b[1m425/425\u001b[0m \u001b[32m━━━━━━━━━━━━━━━━━━━━\u001b[0m\u001b[37m\u001b[0m \u001b[1m1s\u001b[0m 3ms/step - accuracy: 0.9022 - loss: 0.3281 - val_accuracy: 0.8588 - val_loss: 0.3903\n",
      "Epoch 15/25\n",
      "\u001b[1m425/425\u001b[0m \u001b[32m━━━━━━━━━━━━━━━━━━━━\u001b[0m\u001b[37m\u001b[0m \u001b[1m1s\u001b[0m 3ms/step - accuracy: 0.9040 - loss: 0.3311 - val_accuracy: 0.8734 - val_loss: 0.3459\n",
      "Epoch 16/25\n",
      "\u001b[1m425/425\u001b[0m \u001b[32m━━━━━━━━━━━━━━━━━━━━\u001b[0m\u001b[37m\u001b[0m \u001b[1m1s\u001b[0m 3ms/step - accuracy: 0.9010 - loss: 0.3246 - val_accuracy: 0.8754 - val_loss: 0.3418\n",
      "Epoch 17/25\n",
      "\u001b[1m425/425\u001b[0m \u001b[32m━━━━━━━━━━━━━━━━━━━━\u001b[0m\u001b[37m\u001b[0m \u001b[1m1s\u001b[0m 3ms/step - accuracy: 0.9049 - loss: 0.3211 - val_accuracy: 0.8767 - val_loss: 0.3470\n",
      "Epoch 18/25\n",
      "\u001b[1m425/425\u001b[0m \u001b[32m━━━━━━━━━━━━━━━━━━━━\u001b[0m\u001b[37m\u001b[0m \u001b[1m1s\u001b[0m 3ms/step - accuracy: 0.9053 - loss: 0.3169 - val_accuracy: 0.8734 - val_loss: 0.3443\n",
      "Epoch 19/25\n",
      "\u001b[1m425/425\u001b[0m \u001b[32m━━━━━━━━━━━━━━━━━━━━\u001b[0m\u001b[37m\u001b[0m \u001b[1m1s\u001b[0m 3ms/step - accuracy: 0.8980 - loss: 0.3325 - val_accuracy: 0.8781 - val_loss: 0.3404\n",
      "Epoch 20/25\n",
      "\u001b[1m425/425\u001b[0m \u001b[32m━━━━━━━━━━━━━━━━━━━━\u001b[0m\u001b[37m\u001b[0m \u001b[1m1s\u001b[0m 3ms/step - accuracy: 0.9066 - loss: 0.3153 - val_accuracy: 0.8728 - val_loss: 0.3467\n",
      "Epoch 21/25\n",
      "\u001b[1m425/425\u001b[0m \u001b[32m━━━━━━━━━━━━━━━━━━━━\u001b[0m\u001b[37m\u001b[0m \u001b[1m1s\u001b[0m 3ms/step - accuracy: 0.8992 - loss: 0.3273 - val_accuracy: 0.8767 - val_loss: 0.3378\n",
      "Epoch 22/25\n",
      "\u001b[1m425/425\u001b[0m \u001b[32m━━━━━━━━━━━━━━━━━━━━\u001b[0m\u001b[37m\u001b[0m \u001b[1m1s\u001b[0m 3ms/step - accuracy: 0.9067 - loss: 0.3149 - val_accuracy: 0.8721 - val_loss: 0.3564\n",
      "Epoch 23/25\n",
      "\u001b[1m425/425\u001b[0m \u001b[32m━━━━━━━━━━━━━━━━━━━━\u001b[0m\u001b[37m\u001b[0m \u001b[1m1s\u001b[0m 3ms/step - accuracy: 0.9064 - loss: 0.3126 - val_accuracy: 0.8741 - val_loss: 0.3384\n",
      "Epoch 24/25\n",
      "\u001b[1m425/425\u001b[0m \u001b[32m━━━━━━━━━━━━━━━━━━━━\u001b[0m\u001b[37m\u001b[0m \u001b[1m1s\u001b[0m 3ms/step - accuracy: 0.9031 - loss: 0.3177 - val_accuracy: 0.8714 - val_loss: 0.3409\n",
      "Epoch 25/25\n",
      "\u001b[1m425/425\u001b[0m \u001b[32m━━━━━━━━━━━━━━━━━━━━\u001b[0m\u001b[37m\u001b[0m \u001b[1m1s\u001b[0m 3ms/step - accuracy: 0.9086 - loss: 0.3196 - val_accuracy: 0.8741 - val_loss: 0.3619\n",
      "Test Loss: 0.3375\n",
      "Test Accuracy: 0.8810\n"
     ]
    }
   ],
   "source": [
    "optimal_epochs = 25\n",
    "\n",
    "final_model = create_lstm_with_l2_model()\n",
    "final_model.compile(\n",
    "    optimizer=Adam(),\n",
    "    loss=BinaryCrossentropy(),\n",
    "    metrics=['accuracy']\n",
    ")\n",
    "\n",
    "final_history = final_model.fit(\n",
    "    X_train,\n",
    "    y_train,\n",
    "    epochs=optimal_epochs,\n",
    "    batch_size=32,\n",
    "    validation_split=0.1,\n",
    "    verbose=1\n",
    ")\n",
    "\n",
    "test_results = final_model.evaluate(X_test, y_test, verbose=0)\n",
    "print(f\"Test Loss: {test_results[0]:.4f}\")\n",
    "print(f\"Test Accuracy: {test_results[1]:.4f}\")"
   ]
  },
  {
   "cell_type": "markdown",
   "metadata": {},
   "source": [
    "**Training Dynamics Changed Significantly**\n",
    "\n",
    "1.  **Without L2:** Model overfit severely (99.9% train accuracy vs 88% val)\n",
    "\n",
    "2.  **With L2:** Much better controlled (91.4% train vs 87.0% val at epoch 30)\n",
    "\n",
    "\n",
    "\n",
    "Optimal epochs increased from 2 to 25, showing more stable learning\n",
    "\n",
    "\n",
    "\n",
    "**Validation Performance**\n",
    "\n",
    "**Best validation accuracy:** 88.7% (vs 89.3% without L2)\n",
    "\n",
    "Validation loss more stable (0.34 final vs 0.936 without L2)\n",
    "\n",
    "No longer shows dramatic overfitting after early epochs\n",
    "\n",
    "\n",
    "\n",
    "**Test Set Results**\n",
    "\n",
    "**Final test accuracy:** 87% (comparable to validation)\n",
    "\n",
    "**Test loss:** 0.34 (better than 0.936 unregularized)\n",
    "\n",
    "\n",
    "\n",
    "Impact of L2 Regularization\n",
    "\n",
    "\n",
    "*  Successfully Controlled Overfitting"
   ]
  },
  {
   "cell_type": "markdown",
   "metadata": {
    "id": "mhR07kRjysAs"
   },
   "source": [
    "# **11. Embedding**"
   ]
  },
  {
   "cell_type": "markdown",
   "metadata": {
    "id": "EXsm-qlO-ryr"
   },
   "source": [
    "![Screenshot from 2025-03-22 18-30-27.png](data:image/png;base64,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)"
   ]
  },
  {
   "cell_type": "code",
   "execution_count": 54,
   "metadata": {
    "id": "r86drGc9yvIS"
   },
   "outputs": [],
   "source": [
    "class Autoencoder(tf.keras.Model):\n",
    "    def __init__(self, input_size):\n",
    "        super(Autoencoder, self).__init__()\n",
    "\n",
    "        self.encoder = models.Sequential([\n",
    "            layers.Input(shape=(input_size,)), #256\n",
    "            layers.Dense(512, activation='tanh'),\n",
    "            layers.Dense(256, activation='tanh')\n",
    "        ])\n",
    "\n",
    "        self.decoder = models.Sequential([\n",
    "            layers.Dense(256, activation='tanh'),\n",
    "            layers.Dense(512, activation='tanh'),\n",
    "            layers.Dense(input_size, activation='sigmoid')\n",
    "        ])\n",
    "\n",
    "    def call(self, inputs, training=False):\n",
    "        embedding = self.encoder(inputs)\n",
    "        reconstructed = self.decoder(embedding)\n",
    "        return reconstructed\n",
    "\n",
    "    def get_embeddings(self, inputs):\n",
    "        return self.encoder(inputs)\n",
    "\n",
    "def train_autoencoder(data, input_size=256, epochs=15, batch_size=32):\n",
    "    autoencoder = Autoencoder(input_size)\n",
    "\n",
    "    autoencoder.compile(optimizer=tf.keras.optimizers.SGD(learning_rate=0.001),loss=tf.keras.losses.Poisson())\n",
    "\n",
    "    history = autoencoder.fit(data, data,\n",
    "                              epochs=epochs,\n",
    "                              batch_size=batch_size,\n",
    "                              shuffle=True,\n",
    "                              verbose=0)\n",
    "\n",
    "    for epoch in tqdm(range(epochs), desc=\"Training Autoencoder\"):\n",
    "        loss = history.history['loss'][epoch]\n",
    "        print(f\"Epoch {epoch+1}/{epochs}, Loss: {loss:.6f}\")\n",
    "\n",
    "    embeddings = autoencoder.get_embeddings(data)\n",
    "\n",
    "    return autoencoder, embeddings"
   ]
  },
  {
   "cell_type": "code",
   "execution_count": 55,
   "metadata": {
    "colab": {
     "base_uri": "https://localhost:8080/"
    },
    "id": "G321zRHXmFOz",
    "outputId": "2fe246bf-1137-43d7-eb96-4118b2f2e5af"
   },
   "outputs": [
    {
     "name": "stdout",
     "output_type": "stream",
     "text": [
      "256\n"
     ]
    },
    {
     "name": "stderr",
     "output_type": "stream",
     "text": [
      "Training Autoencoder: 100%|███████████████| 100/100 [00:00<00:00, 126182.43it/s]"
     ]
    },
    {
     "name": "stdout",
     "output_type": "stream",
     "text": [
      "Epoch 1/100, Loss: 0.502326\n",
      "Epoch 2/100, Loss: 0.501633\n",
      "Epoch 3/100, Loss: 0.500935\n",
      "Epoch 4/100, Loss: 0.500232\n",
      "Epoch 5/100, Loss: 0.499521\n",
      "Epoch 6/100, Loss: 0.498800\n",
      "Epoch 7/100, Loss: 0.498065\n",
      "Epoch 8/100, Loss: 0.497316\n",
      "Epoch 9/100, Loss: 0.496548\n",
      "Epoch 10/100, Loss: 0.495758\n",
      "Epoch 11/100, Loss: 0.494945\n",
      "Epoch 12/100, Loss: 0.494104\n",
      "Epoch 13/100, Loss: 0.493232\n",
      "Epoch 14/100, Loss: 0.492324\n",
      "Epoch 15/100, Loss: 0.491376\n",
      "Epoch 16/100, Loss: 0.490384\n",
      "Epoch 17/100, Loss: 0.489342\n",
      "Epoch 18/100, Loss: 0.488244\n",
      "Epoch 19/100, Loss: 0.487084\n",
      "Epoch 20/100, Loss: 0.485855\n",
      "Epoch 21/100, Loss: 0.484547\n",
      "Epoch 22/100, Loss: 0.483153\n",
      "Epoch 23/100, Loss: 0.481662\n",
      "Epoch 24/100, Loss: 0.480061\n",
      "Epoch 25/100, Loss: 0.478339\n",
      "Epoch 26/100, Loss: 0.476480\n",
      "Epoch 27/100, Loss: 0.474467\n",
      "Epoch 28/100, Loss: 0.472280\n",
      "Epoch 29/100, Loss: 0.469899\n",
      "Epoch 30/100, Loss: 0.467296\n",
      "Epoch 31/100, Loss: 0.464446\n",
      "Epoch 32/100, Loss: 0.461314\n",
      "Epoch 33/100, Loss: 0.457864\n",
      "Epoch 34/100, Loss: 0.454054\n",
      "Epoch 35/100, Loss: 0.449837\n",
      "Epoch 36/100, Loss: 0.445160\n",
      "Epoch 37/100, Loss: 0.439965\n",
      "Epoch 38/100, Loss: 0.434187\n",
      "Epoch 39/100, Loss: 0.427757\n",
      "Epoch 40/100, Loss: 0.420604\n",
      "Epoch 41/100, Loss: 0.412657\n",
      "Epoch 42/100, Loss: 0.403846\n",
      "Epoch 43/100, Loss: 0.394114\n",
      "Epoch 44/100, Loss: 0.383419\n",
      "Epoch 45/100, Loss: 0.371745\n",
      "Epoch 46/100, Loss: 0.359109\n",
      "Epoch 47/100, Loss: 0.345568\n",
      "Epoch 48/100, Loss: 0.331225\n",
      "Epoch 49/100, Loss: 0.316225\n",
      "Epoch 50/100, Loss: 0.300752\n",
      "Epoch 51/100, Loss: 0.285012\n",
      "Epoch 52/100, Loss: 0.269225\n",
      "Epoch 53/100, Loss: 0.253606\n",
      "Epoch 54/100, Loss: 0.238350\n",
      "Epoch 55/100, Loss: 0.223625\n",
      "Epoch 56/100, Loss: 0.209564\n",
      "Epoch 57/100, Loss: 0.196265\n",
      "Epoch 58/100, Loss: 0.183790\n",
      "Epoch 59/100, Loss: 0.172170\n",
      "Epoch 60/100, Loss: 0.161409\n",
      "Epoch 61/100, Loss: 0.151491\n",
      "Epoch 62/100, Loss: 0.142384\n",
      "Epoch 63/100, Loss: 0.134046\n",
      "Epoch 64/100, Loss: 0.126426\n",
      "Epoch 65/100, Loss: 0.119471\n",
      "Epoch 66/100, Loss: 0.113128\n",
      "Epoch 67/100, Loss: 0.107343\n",
      "Epoch 68/100, Loss: 0.102065\n",
      "Epoch 69/100, Loss: 0.097247\n",
      "Epoch 70/100, Loss: 0.092844\n",
      "Epoch 71/100, Loss: 0.088816\n",
      "Epoch 72/100, Loss: 0.085125\n",
      "Epoch 73/100, Loss: 0.081739\n",
      "Epoch 74/100, Loss: 0.078626\n",
      "Epoch 75/100, Loss: 0.075760\n",
      "Epoch 76/100, Loss: 0.073118\n",
      "Epoch 77/100, Loss: 0.070677\n",
      "Epoch 78/100, Loss: 0.068418\n",
      "Epoch 79/100, Loss: 0.066324\n",
      "Epoch 80/100, Loss: 0.064380\n",
      "Epoch 81/100, Loss: 0.062572\n",
      "Epoch 82/100, Loss: 0.060887\n",
      "Epoch 83/100, Loss: 0.059316\n",
      "Epoch 84/100, Loss: 0.057847\n",
      "Epoch 85/100, Loss: 0.056473\n",
      "Epoch 86/100, Loss: 0.055185\n",
      "Epoch 87/100, Loss: 0.053976\n",
      "Epoch 88/100, Loss: 0.052839\n",
      "Epoch 89/100, Loss: 0.051770\n",
      "Epoch 90/100, Loss: 0.050763\n",
      "Epoch 91/100, Loss: 0.049812\n",
      "Epoch 92/100, Loss: 0.048915\n",
      "Epoch 93/100, Loss: 0.048066\n",
      "Epoch 94/100, Loss: 0.047262\n",
      "Epoch 95/100, Loss: 0.046501\n",
      "Epoch 96/100, Loss: 0.045779\n",
      "Epoch 97/100, Loss: 0.045093\n",
      "Epoch 98/100, Loss: 0.044441\n",
      "Epoch 99/100, Loss: 0.043821\n",
      "Epoch 100/100, Loss: 0.043230\n",
      "Exp3 Data Shape: (18859, 256) Labels Shape: (18859,)\n"
     ]
    },
    {
     "name": "stderr",
     "output_type": "stream",
     "text": [
      "\n"
     ]
    }
   ],
   "source": [
    "k = 4\n",
    "tata_encoded = encode_sequences(Arabidopsis_tata, k, encoding=\"kmer\")\n",
    "non_tata_encoded = encode_sequences(Arabidopsis_non_tata, k, encoding=\"kmer\")\n",
    "non_prom_encoded = encode_sequences(Arabidopsis_non_prom_big, k, encoding=\"kmer\")\n",
    "\n",
    "all_data = np.vstack([tata_encoded, non_tata_encoded, non_prom_encoded])\n",
    "\n",
    "input_size = tata_encoded.shape[1]\n",
    "print(input_size)\n",
    "autoencoder, all_embeddings = train_autoencoder(all_data, input_size=input_size, epochs=100, batch_size=32)\n",
    "\n",
    "tata_embeddings = all_embeddings[:len(Arabidopsis_tata)]\n",
    "non_tata_embeddings = all_embeddings[len(Arabidopsis_tata):len(Arabidopsis_tata) + len(Arabidopsis_non_tata)]\n",
    "non_prom_embeddings = all_embeddings[len(Arabidopsis_tata) + len(Arabidopsis_non_tata):]\n",
    "\n",
    "exp3_embeded_data = np.vstack([tata_embeddings, non_tata_embeddings, non_prom_embeddings])\n",
    "exp3_embeded_labels = np.concatenate([np.ones(len(tata_embeddings)), np.ones(len(non_tata_embeddings)), np.zeros(len(non_prom_embeddings))])\n",
    "\n",
    "print(\"Exp3 Data Shape:\", exp3_embeded_data.shape, \"Labels Shape:\", exp3_embeded_labels.shape)"
   ]
  },
  {
   "cell_type": "markdown",
   "metadata": {
    "id": "OCa9z9Xpx2dA"
   },
   "source": [
    "## Using embeddings for CNN:"
   ]
  },
  {
   "cell_type": "code",
   "execution_count": 56,
   "metadata": {
    "colab": {
     "base_uri": "https://localhost:8080/",
     "height": 1000
    },
    "id": "IYE0Rmrkx7Pu",
    "outputId": "829a9747-9ef4-4a88-9cc8-13bced5c683f"
   },
   "outputs": [
    {
     "name": "stdout",
     "output_type": "stream",
     "text": [
      "Epoch 1/50\n",
      "\u001b[1m425/425\u001b[0m \u001b[32m━━━━━━━━━━━━━━━━━━━━\u001b[0m\u001b[37m\u001b[0m \u001b[1m3s\u001b[0m 5ms/step - accuracy: 0.6091 - loss: 0.6722 - val_accuracy: 0.6030 - val_loss: 0.6722\n",
      "Epoch 2/50\n",
      "\u001b[1m425/425\u001b[0m \u001b[32m━━━━━━━━━━━━━━━━━━━━\u001b[0m\u001b[37m\u001b[0m \u001b[1m2s\u001b[0m 5ms/step - accuracy: 0.6114 - loss: 0.6706 - val_accuracy: 0.6030 - val_loss: 0.6715\n",
      "Epoch 3/50\n",
      "\u001b[1m425/425\u001b[0m \u001b[32m━━━━━━━━━━━━━━━━━━━━\u001b[0m\u001b[37m\u001b[0m \u001b[1m2s\u001b[0m 4ms/step - accuracy: 0.6123 - loss: 0.6685 - val_accuracy: 0.6030 - val_loss: 0.6733\n",
      "Epoch 4/50\n",
      "\u001b[1m425/425\u001b[0m \u001b[32m━━━━━━━━━━━━━━━━━━━━\u001b[0m\u001b[37m\u001b[0m \u001b[1m2s\u001b[0m 4ms/step - accuracy: 0.6147 - loss: 0.6674 - val_accuracy: 0.6030 - val_loss: 0.6704\n",
      "Epoch 5/50\n",
      "\u001b[1m425/425\u001b[0m \u001b[32m━━━━━━━━━━━━━━━━━━━━\u001b[0m\u001b[37m\u001b[0m \u001b[1m2s\u001b[0m 4ms/step - accuracy: 0.6071 - loss: 0.6694 - val_accuracy: 0.6030 - val_loss: 0.6691\n",
      "Epoch 6/50\n",
      "\u001b[1m425/425\u001b[0m \u001b[32m━━━━━━━━━━━━━━━━━━━━\u001b[0m\u001b[37m\u001b[0m \u001b[1m2s\u001b[0m 4ms/step - accuracy: 0.6087 - loss: 0.6673 - val_accuracy: 0.6030 - val_loss: 0.6666\n",
      "Epoch 7/50\n",
      "\u001b[1m425/425\u001b[0m \u001b[32m━━━━━━━━━━━━━━━━━━━━\u001b[0m\u001b[37m\u001b[0m \u001b[1m2s\u001b[0m 4ms/step - accuracy: 0.6085 - loss: 0.6652 - val_accuracy: 0.6030 - val_loss: 0.6583\n",
      "Epoch 8/50\n",
      "\u001b[1m425/425\u001b[0m \u001b[32m━━━━━━━━━━━━━━━━━━━━\u001b[0m\u001b[37m\u001b[0m \u001b[1m2s\u001b[0m 4ms/step - accuracy: 0.6084 - loss: 0.6549 - val_accuracy: 0.8390 - val_loss: 0.6362\n",
      "Epoch 9/50\n",
      "\u001b[1m425/425\u001b[0m \u001b[32m━━━━━━━━━━━━━━━━━━━━\u001b[0m\u001b[37m\u001b[0m \u001b[1m2s\u001b[0m 4ms/step - accuracy: 0.6777 - loss: 0.6068 - val_accuracy: 0.6508 - val_loss: 0.5561\n",
      "Epoch 10/50\n",
      "\u001b[1m425/425\u001b[0m \u001b[32m━━━━━━━━━━━━━━━━━━━━\u001b[0m\u001b[37m\u001b[0m \u001b[1m2s\u001b[0m 4ms/step - accuracy: 0.7486 - loss: 0.5285 - val_accuracy: 0.7966 - val_loss: 0.4834\n",
      "Epoch 11/50\n",
      "\u001b[1m425/425\u001b[0m \u001b[32m━━━━━━━━━━━━━━━━━━━━\u001b[0m\u001b[37m\u001b[0m \u001b[1m2s\u001b[0m 4ms/step - accuracy: 0.7881 - loss: 0.4638 - val_accuracy: 0.7025 - val_loss: 0.5474\n",
      "Epoch 12/50\n",
      "\u001b[1m425/425\u001b[0m \u001b[32m━━━━━━━━━━━━━━━━━━━━\u001b[0m\u001b[37m\u001b[0m \u001b[1m2s\u001b[0m 4ms/step - accuracy: 0.8053 - loss: 0.4385 - val_accuracy: 0.7568 - val_loss: 0.4864\n",
      "Epoch 13/50\n",
      "\u001b[1m425/425\u001b[0m \u001b[32m━━━━━━━━━━━━━━━━━━━━\u001b[0m\u001b[37m\u001b[0m \u001b[1m2s\u001b[0m 4ms/step - accuracy: 0.8162 - loss: 0.4157 - val_accuracy: 0.8549 - val_loss: 0.3845\n",
      "Epoch 14/50\n",
      "\u001b[1m425/425\u001b[0m \u001b[32m━━━━━━━━━━━━━━━━━━━━\u001b[0m\u001b[37m\u001b[0m \u001b[1m2s\u001b[0m 4ms/step - accuracy: 0.8241 - loss: 0.4055 - val_accuracy: 0.8562 - val_loss: 0.3766\n",
      "Epoch 15/50\n",
      "\u001b[1m425/425\u001b[0m \u001b[32m━━━━━━━━━━━━━━━━━━━━\u001b[0m\u001b[37m\u001b[0m \u001b[1m2s\u001b[0m 4ms/step - accuracy: 0.8261 - loss: 0.4022 - val_accuracy: 0.8118 - val_loss: 0.4167\n",
      "Epoch 16/50\n",
      "\u001b[1m425/425\u001b[0m \u001b[32m━━━━━━━━━━━━━━━━━━━━\u001b[0m\u001b[37m\u001b[0m \u001b[1m2s\u001b[0m 5ms/step - accuracy: 0.8243 - loss: 0.4019 - val_accuracy: 0.8111 - val_loss: 0.4270\n",
      "Epoch 17/50\n",
      "\u001b[1m425/425\u001b[0m \u001b[32m━━━━━━━━━━━━━━━━━━━━\u001b[0m\u001b[37m\u001b[0m \u001b[1m2s\u001b[0m 5ms/step - accuracy: 0.8233 - loss: 0.4092 - val_accuracy: 0.8542 - val_loss: 0.3689\n",
      "Epoch 18/50\n",
      "\u001b[1m425/425\u001b[0m \u001b[32m━━━━━━━━━━━━━━━━━━━━\u001b[0m\u001b[37m\u001b[0m \u001b[1m2s\u001b[0m 4ms/step - accuracy: 0.8297 - loss: 0.3989 - val_accuracy: 0.8370 - val_loss: 0.3825\n",
      "Epoch 19/50\n",
      "\u001b[1m425/425\u001b[0m \u001b[32m━━━━━━━━━━━━━━━━━━━━\u001b[0m\u001b[37m\u001b[0m \u001b[1m2s\u001b[0m 4ms/step - accuracy: 0.8329 - loss: 0.3995 - val_accuracy: 0.8555 - val_loss: 0.3591\n",
      "Epoch 20/50\n",
      "\u001b[1m425/425\u001b[0m \u001b[32m━━━━━━━━━━━━━━━━━━━━\u001b[0m\u001b[37m\u001b[0m \u001b[1m2s\u001b[0m 4ms/step - accuracy: 0.8361 - loss: 0.3805 - val_accuracy: 0.8615 - val_loss: 0.3564\n",
      "Epoch 21/50\n",
      "\u001b[1m425/425\u001b[0m \u001b[32m━━━━━━━━━━━━━━━━━━━━\u001b[0m\u001b[37m\u001b[0m \u001b[1m2s\u001b[0m 5ms/step - accuracy: 0.8383 - loss: 0.3883 - val_accuracy: 0.8628 - val_loss: 0.3595\n",
      "Epoch 22/50\n",
      "\u001b[1m425/425\u001b[0m \u001b[32m━━━━━━━━━━━━━━━━━━━━\u001b[0m\u001b[37m\u001b[0m \u001b[1m2s\u001b[0m 4ms/step - accuracy: 0.8374 - loss: 0.3754 - val_accuracy: 0.8350 - val_loss: 0.3864\n",
      "Epoch 23/50\n",
      "\u001b[1m425/425\u001b[0m \u001b[32m━━━━━━━━━━━━━━━━━━━━\u001b[0m\u001b[37m\u001b[0m \u001b[1m2s\u001b[0m 4ms/step - accuracy: 0.8271 - loss: 0.3965 - val_accuracy: 0.8496 - val_loss: 0.3638\n",
      "Epoch 24/50\n",
      "\u001b[1m425/425\u001b[0m \u001b[32m━━━━━━━━━━━━━━━━━━━━\u001b[0m\u001b[37m\u001b[0m \u001b[1m2s\u001b[0m 5ms/step - accuracy: 0.8394 - loss: 0.3790 - val_accuracy: 0.8390 - val_loss: 0.3837\n",
      "Epoch 25/50\n",
      "\u001b[1m425/425\u001b[0m \u001b[32m━━━━━━━━━━━━━━━━━━━━\u001b[0m\u001b[37m\u001b[0m \u001b[1m2s\u001b[0m 4ms/step - accuracy: 0.8380 - loss: 0.3857 - val_accuracy: 0.8635 - val_loss: 0.3503\n",
      "Epoch 26/50\n",
      "\u001b[1m425/425\u001b[0m \u001b[32m━━━━━━━━━━━━━━━━━━━━\u001b[0m\u001b[37m\u001b[0m \u001b[1m2s\u001b[0m 4ms/step - accuracy: 0.8365 - loss: 0.3812 - val_accuracy: 0.8502 - val_loss: 0.3630\n",
      "Epoch 27/50\n",
      "\u001b[1m425/425\u001b[0m \u001b[32m━━━━━━━━━━━━━━━━━━━━\u001b[0m\u001b[37m\u001b[0m \u001b[1m2s\u001b[0m 4ms/step - accuracy: 0.8361 - loss: 0.3906 - val_accuracy: 0.8648 - val_loss: 0.3518\n",
      "Epoch 28/50\n",
      "\u001b[1m425/425\u001b[0m \u001b[32m━━━━━━━━━━━━━━━━━━━━\u001b[0m\u001b[37m\u001b[0m \u001b[1m2s\u001b[0m 4ms/step - accuracy: 0.8429 - loss: 0.3818 - val_accuracy: 0.8648 - val_loss: 0.3506\n",
      "Epoch 29/50\n",
      "\u001b[1m425/425\u001b[0m \u001b[32m━━━━━━━━━━━━━━━━━━━━\u001b[0m\u001b[37m\u001b[0m \u001b[1m2s\u001b[0m 4ms/step - accuracy: 0.8375 - loss: 0.3857 - val_accuracy: 0.8641 - val_loss: 0.3468\n",
      "Epoch 30/50\n",
      "\u001b[1m425/425\u001b[0m \u001b[32m━━━━━━━━━━━━━━━━━━━━\u001b[0m\u001b[37m\u001b[0m \u001b[1m2s\u001b[0m 4ms/step - accuracy: 0.8420 - loss: 0.3768 - val_accuracy: 0.8661 - val_loss: 0.3552\n",
      "Epoch 31/50\n",
      "\u001b[1m425/425\u001b[0m \u001b[32m━━━━━━━━━━━━━━━━━━━━\u001b[0m\u001b[37m\u001b[0m \u001b[1m2s\u001b[0m 4ms/step - accuracy: 0.8460 - loss: 0.3664 - val_accuracy: 0.8582 - val_loss: 0.3469\n",
      "Epoch 32/50\n",
      "\u001b[1m425/425\u001b[0m \u001b[32m━━━━━━━━━━━━━━━━━━━━\u001b[0m\u001b[37m\u001b[0m \u001b[1m2s\u001b[0m 4ms/step - accuracy: 0.8395 - loss: 0.3797 - val_accuracy: 0.8641 - val_loss: 0.3465\n",
      "Epoch 33/50\n",
      "\u001b[1m425/425\u001b[0m \u001b[32m━━━━━━━━━━━━━━━━━━━━\u001b[0m\u001b[37m\u001b[0m \u001b[1m2s\u001b[0m 4ms/step - accuracy: 0.8376 - loss: 0.3827 - val_accuracy: 0.7985 - val_loss: 0.4291\n",
      "Epoch 34/50\n",
      "\u001b[1m425/425\u001b[0m \u001b[32m━━━━━━━━━━━━━━━━━━━━\u001b[0m\u001b[37m\u001b[0m \u001b[1m2s\u001b[0m 4ms/step - accuracy: 0.8403 - loss: 0.3673 - val_accuracy: 0.8509 - val_loss: 0.3614\n",
      "Epoch 35/50\n",
      "\u001b[1m425/425\u001b[0m \u001b[32m━━━━━━━━━━━━━━━━━━━━\u001b[0m\u001b[37m\u001b[0m \u001b[1m2s\u001b[0m 4ms/step - accuracy: 0.8351 - loss: 0.3845 - val_accuracy: 0.8582 - val_loss: 0.3469\n",
      "Epoch 36/50\n",
      "\u001b[1m425/425\u001b[0m \u001b[32m━━━━━━━━━━━━━━━━━━━━\u001b[0m\u001b[37m\u001b[0m \u001b[1m2s\u001b[0m 4ms/step - accuracy: 0.8408 - loss: 0.3757 - val_accuracy: 0.7548 - val_loss: 0.5754\n",
      "Epoch 37/50\n",
      "\u001b[1m425/425\u001b[0m \u001b[32m━━━━━━━━━━━━━━━━━━━━\u001b[0m\u001b[37m\u001b[0m \u001b[1m2s\u001b[0m 4ms/step - accuracy: 0.8436 - loss: 0.3727 - val_accuracy: 0.8595 - val_loss: 0.3457\n",
      "Epoch 38/50\n",
      "\u001b[1m425/425\u001b[0m \u001b[32m━━━━━━━━━━━━━━━━━━━━\u001b[0m\u001b[37m\u001b[0m \u001b[1m2s\u001b[0m 4ms/step - accuracy: 0.8381 - loss: 0.3835 - val_accuracy: 0.8522 - val_loss: 0.3578\n",
      "Epoch 39/50\n",
      "\u001b[1m425/425\u001b[0m \u001b[32m━━━━━━━━━━━━━━━━━━━━\u001b[0m\u001b[37m\u001b[0m \u001b[1m2s\u001b[0m 4ms/step - accuracy: 0.8494 - loss: 0.3687 - val_accuracy: 0.8622 - val_loss: 0.3420\n",
      "Epoch 40/50\n",
      "\u001b[1m425/425\u001b[0m \u001b[32m━━━━━━━━━━━━━━━━━━━━\u001b[0m\u001b[37m\u001b[0m \u001b[1m2s\u001b[0m 4ms/step - accuracy: 0.8487 - loss: 0.3643 - val_accuracy: 0.8635 - val_loss: 0.3411\n",
      "Epoch 41/50\n",
      "\u001b[1m425/425\u001b[0m \u001b[32m━━━━━━━━━━━━━━━━━━━━\u001b[0m\u001b[37m\u001b[0m \u001b[1m2s\u001b[0m 5ms/step - accuracy: 0.8405 - loss: 0.3768 - val_accuracy: 0.8694 - val_loss: 0.3403\n",
      "Epoch 42/50\n",
      "\u001b[1m425/425\u001b[0m \u001b[32m━━━━━━━━━━━━━━━━━━━━\u001b[0m\u001b[37m\u001b[0m \u001b[1m2s\u001b[0m 4ms/step - accuracy: 0.8451 - loss: 0.3743 - val_accuracy: 0.8588 - val_loss: 0.3460\n",
      "Epoch 43/50\n",
      "\u001b[1m425/425\u001b[0m \u001b[32m━━━━━━━━━━━━━━━━━━━━\u001b[0m\u001b[37m\u001b[0m \u001b[1m2s\u001b[0m 4ms/step - accuracy: 0.8493 - loss: 0.3531 - val_accuracy: 0.8569 - val_loss: 0.3630\n",
      "Epoch 44/50\n",
      "\u001b[1m425/425\u001b[0m \u001b[32m━━━━━━━━━━━━━━━━━━━━\u001b[0m\u001b[37m\u001b[0m \u001b[1m2s\u001b[0m 4ms/step - accuracy: 0.8419 - loss: 0.3771 - val_accuracy: 0.8608 - val_loss: 0.3378\n",
      "Epoch 45/50\n",
      "\u001b[1m425/425\u001b[0m \u001b[32m━━━━━━━━━━━━━━━━━━━━\u001b[0m\u001b[37m\u001b[0m \u001b[1m2s\u001b[0m 4ms/step - accuracy: 0.8512 - loss: 0.3557 - val_accuracy: 0.8416 - val_loss: 0.3729\n",
      "Epoch 46/50\n",
      "\u001b[1m425/425\u001b[0m \u001b[32m━━━━━━━━━━━━━━━━━━━━\u001b[0m\u001b[37m\u001b[0m \u001b[1m2s\u001b[0m 4ms/step - accuracy: 0.8529 - loss: 0.3601 - val_accuracy: 0.8502 - val_loss: 0.3624\n",
      "Epoch 47/50\n",
      "\u001b[1m425/425\u001b[0m \u001b[32m━━━━━━━━━━━━━━━━━━━━\u001b[0m\u001b[37m\u001b[0m \u001b[1m2s\u001b[0m 4ms/step - accuracy: 0.8485 - loss: 0.3607 - val_accuracy: 0.8694 - val_loss: 0.3505\n",
      "Epoch 48/50\n",
      "\u001b[1m425/425\u001b[0m \u001b[32m━━━━━━━━━━━━━━━━━━━━\u001b[0m\u001b[37m\u001b[0m \u001b[1m2s\u001b[0m 4ms/step - accuracy: 0.8470 - loss: 0.3676 - val_accuracy: 0.8562 - val_loss: 0.3548\n",
      "Epoch 49/50\n",
      "\u001b[1m425/425\u001b[0m \u001b[32m━━━━━━━━━━━━━━━━━━━━\u001b[0m\u001b[37m\u001b[0m \u001b[1m2s\u001b[0m 4ms/step - accuracy: 0.8501 - loss: 0.3638 - val_accuracy: 0.8423 - val_loss: 0.3687\n",
      "Epoch 50/50\n",
      "\u001b[1m425/425\u001b[0m \u001b[32m━━━━━━━━━━━━━━━━━━━━\u001b[0m\u001b[37m\u001b[0m \u001b[1m2s\u001b[0m 4ms/step - accuracy: 0.8487 - loss: 0.3527 - val_accuracy: 0.8330 - val_loss: 0.3842\n"
     ]
    },
    {
     "data": {
      "application/vnd.plotly.v1+json": {
       "config": {
        "plotlyServerURL": "https://plot.ly"
       },
       "data": [
        {
         "mode": "lines",
         "name": "Training Loss",
         "type": "scatter",
         "y": [
          0.6725658178329468,
          0.6709709167480469,
          0.6702667474746704,
          0.6697841286659241,
          0.6688900589942932,
          0.6669082641601562,
          0.6646518111228943,
          0.6475291848182678,
          0.5880393981933594,
          0.5066745281219482,
          0.4488072693347931,
          0.43150728940963745,
          0.41559505462646484,
          0.40532147884368896,
          0.4035044014453888,
          0.3974379301071167,
          0.4094512164592743,
          0.39630791544914246,
          0.3999963104724884,
          0.3840683698654175,
          0.38800761103630066,
          0.3851166069507599,
          0.3931523561477661,
          0.3834069073200226,
          0.3784782886505127,
          0.3859066963195801,
          0.3813965320587158,
          0.37690284848213196,
          0.38506269454956055,
          0.37354329228401184,
          0.3737131357192993,
          0.36910679936408997,
          0.3762660026550293,
          0.369858056306839,
          0.37179768085479736,
          0.3736274540424347,
          0.3712674379348755,
          0.3714221119880676,
          0.3647218942642212,
          0.36943715810775757,
          0.3655650317668915,
          0.3615833818912506,
          0.36065950989723206,
          0.3749387860298157,
          0.3596990704536438,
          0.3619139790534973,
          0.3658379018306732,
          0.3633010983467102,
          0.36061397194862366,
          0.3515465259552002
         ]
        },
        {
         "mode": "lines",
         "name": "Validation Loss",
         "type": "scatter",
         "y": [
          0.6722123026847839,
          0.671467125415802,
          0.6733019351959229,
          0.6704038977622986,
          0.6690706014633179,
          0.6665887832641602,
          0.6582857370376587,
          0.6362181901931763,
          0.5560839772224426,
          0.48341065645217896,
          0.5473828911781311,
          0.486432284116745,
          0.38454991579055786,
          0.3766140639781952,
          0.4167156219482422,
          0.42699769139289856,
          0.36889514327049255,
          0.382520467042923,
          0.35905587673187256,
          0.35644403100013733,
          0.35947564244270325,
          0.3863915205001831,
          0.3638346195220947,
          0.3836880326271057,
          0.35034266114234924,
          0.362953782081604,
          0.35180920362472534,
          0.3505738377571106,
          0.34676000475883484,
          0.35520607233047485,
          0.34691888093948364,
          0.3465319275856018,
          0.42905324697494507,
          0.3613659739494324,
          0.34694111347198486,
          0.5754023194313049,
          0.34568342566490173,
          0.35780271887779236,
          0.34204021096229553,
          0.341142475605011,
          0.34030550718307495,
          0.3460157513618469,
          0.36303815245628357,
          0.337780237197876,
          0.37285366654396057,
          0.36240559816360474,
          0.3505134582519531,
          0.35483431816101074,
          0.3686705529689789,
          0.3842296302318573
         ]
        }
       ],
       "layout": {
        "template": {
         "data": {
          "bar": [
           {
            "error_x": {
             "color": "#2a3f5f"
            },
            "error_y": {
             "color": "#2a3f5f"
            },
            "marker": {
             "line": {
              "color": "#E5ECF6",
              "width": 0.5
             },
             "pattern": {
              "fillmode": "overlay",
              "size": 10,
              "solidity": 0.2
             }
            },
            "type": "bar"
           }
          ],
          "barpolar": [
           {
            "marker": {
             "line": {
              "color": "#E5ECF6",
              "width": 0.5
             },
             "pattern": {
              "fillmode": "overlay",
              "size": 10,
              "solidity": 0.2
             }
            },
            "type": "barpolar"
           }
          ],
          "carpet": [
           {
            "aaxis": {
             "endlinecolor": "#2a3f5f",
             "gridcolor": "white",
             "linecolor": "white",
             "minorgridcolor": "white",
             "startlinecolor": "#2a3f5f"
            },
            "baxis": {
             "endlinecolor": "#2a3f5f",
             "gridcolor": "white",
             "linecolor": "white",
             "minorgridcolor": "white",
             "startlinecolor": "#2a3f5f"
            },
            "type": "carpet"
           }
          ],
          "choropleth": [
           {
            "colorbar": {
             "outlinewidth": 0,
             "ticks": ""
            },
            "type": "choropleth"
           }
          ],
          "contour": [
           {
            "colorbar": {
             "outlinewidth": 0,
             "ticks": ""
            },
            "colorscale": [
             [
              0,
              "#0d0887"
             ],
             [
              0.1111111111111111,
              "#46039f"
             ],
             [
              0.2222222222222222,
              "#7201a8"
             ],
             [
              0.3333333333333333,
              "#9c179e"
             ],
             [
              0.4444444444444444,
              "#bd3786"
             ],
             [
              0.5555555555555556,
              "#d8576b"
             ],
             [
              0.6666666666666666,
              "#ed7953"
             ],
             [
              0.7777777777777778,
              "#fb9f3a"
             ],
             [
              0.8888888888888888,
              "#fdca26"
             ],
             [
              1,
              "#f0f921"
             ]
            ],
            "type": "contour"
           }
          ],
          "contourcarpet": [
           {
            "colorbar": {
             "outlinewidth": 0,
             "ticks": ""
            },
            "type": "contourcarpet"
           }
          ],
          "heatmap": [
           {
            "colorbar": {
             "outlinewidth": 0,
             "ticks": ""
            },
            "colorscale": [
             [
              0,
              "#0d0887"
             ],
             [
              0.1111111111111111,
              "#46039f"
             ],
             [
              0.2222222222222222,
              "#7201a8"
             ],
             [
              0.3333333333333333,
              "#9c179e"
             ],
             [
              0.4444444444444444,
              "#bd3786"
             ],
             [
              0.5555555555555556,
              "#d8576b"
             ],
             [
              0.6666666666666666,
              "#ed7953"
             ],
             [
              0.7777777777777778,
              "#fb9f3a"
             ],
             [
              0.8888888888888888,
              "#fdca26"
             ],
             [
              1,
              "#f0f921"
             ]
            ],
            "type": "heatmap"
           }
          ],
          "histogram": [
           {
            "marker": {
             "pattern": {
              "fillmode": "overlay",
              "size": 10,
              "solidity": 0.2
             }
            },
            "type": "histogram"
           }
          ],
          "histogram2d": [
           {
            "colorbar": {
             "outlinewidth": 0,
             "ticks": ""
            },
            "colorscale": [
             [
              0,
              "#0d0887"
             ],
             [
              0.1111111111111111,
              "#46039f"
             ],
             [
              0.2222222222222222,
              "#7201a8"
             ],
             [
              0.3333333333333333,
              "#9c179e"
             ],
             [
              0.4444444444444444,
              "#bd3786"
             ],
             [
              0.5555555555555556,
              "#d8576b"
             ],
             [
              0.6666666666666666,
              "#ed7953"
             ],
             [
              0.7777777777777778,
              "#fb9f3a"
             ],
             [
              0.8888888888888888,
              "#fdca26"
             ],
             [
              1,
              "#f0f921"
             ]
            ],
            "type": "histogram2d"
           }
          ],
          "histogram2dcontour": [
           {
            "colorbar": {
             "outlinewidth": 0,
             "ticks": ""
            },
            "colorscale": [
             [
              0,
              "#0d0887"
             ],
             [
              0.1111111111111111,
              "#46039f"
             ],
             [
              0.2222222222222222,
              "#7201a8"
             ],
             [
              0.3333333333333333,
              "#9c179e"
             ],
             [
              0.4444444444444444,
              "#bd3786"
             ],
             [
              0.5555555555555556,
              "#d8576b"
             ],
             [
              0.6666666666666666,
              "#ed7953"
             ],
             [
              0.7777777777777778,
              "#fb9f3a"
             ],
             [
              0.8888888888888888,
              "#fdca26"
             ],
             [
              1,
              "#f0f921"
             ]
            ],
            "type": "histogram2dcontour"
           }
          ],
          "mesh3d": [
           {
            "colorbar": {
             "outlinewidth": 0,
             "ticks": ""
            },
            "type": "mesh3d"
           }
          ],
          "parcoords": [
           {
            "line": {
             "colorbar": {
              "outlinewidth": 0,
              "ticks": ""
             }
            },
            "type": "parcoords"
           }
          ],
          "pie": [
           {
            "automargin": true,
            "type": "pie"
           }
          ],
          "scatter": [
           {
            "fillpattern": {
             "fillmode": "overlay",
             "size": 10,
             "solidity": 0.2
            },
            "type": "scatter"
           }
          ],
          "scatter3d": [
           {
            "line": {
             "colorbar": {
              "outlinewidth": 0,
              "ticks": ""
             }
            },
            "marker": {
             "colorbar": {
              "outlinewidth": 0,
              "ticks": ""
             }
            },
            "type": "scatter3d"
           }
          ],
          "scattercarpet": [
           {
            "marker": {
             "colorbar": {
              "outlinewidth": 0,
              "ticks": ""
             }
            },
            "type": "scattercarpet"
           }
          ],
          "scattergeo": [
           {
            "marker": {
             "colorbar": {
              "outlinewidth": 0,
              "ticks": ""
             }
            },
            "type": "scattergeo"
           }
          ],
          "scattergl": [
           {
            "marker": {
             "colorbar": {
              "outlinewidth": 0,
              "ticks": ""
             }
            },
            "type": "scattergl"
           }
          ],
          "scattermap": [
           {
            "marker": {
             "colorbar": {
              "outlinewidth": 0,
              "ticks": ""
             }
            },
            "type": "scattermap"
           }
          ],
          "scattermapbox": [
           {
            "marker": {
             "colorbar": {
              "outlinewidth": 0,
              "ticks": ""
             }
            },
            "type": "scattermapbox"
           }
          ],
          "scatterpolar": [
           {
            "marker": {
             "colorbar": {
              "outlinewidth": 0,
              "ticks": ""
             }
            },
            "type": "scatterpolar"
           }
          ],
          "scatterpolargl": [
           {
            "marker": {
             "colorbar": {
              "outlinewidth": 0,
              "ticks": ""
             }
            },
            "type": "scatterpolargl"
           }
          ],
          "scatterternary": [
           {
            "marker": {
             "colorbar": {
              "outlinewidth": 0,
              "ticks": ""
             }
            },
            "type": "scatterternary"
           }
          ],
          "surface": [
           {
            "colorbar": {
             "outlinewidth": 0,
             "ticks": ""
            },
            "colorscale": [
             [
              0,
              "#0d0887"
             ],
             [
              0.1111111111111111,
              "#46039f"
             ],
             [
              0.2222222222222222,
              "#7201a8"
             ],
             [
              0.3333333333333333,
              "#9c179e"
             ],
             [
              0.4444444444444444,
              "#bd3786"
             ],
             [
              0.5555555555555556,
              "#d8576b"
             ],
             [
              0.6666666666666666,
              "#ed7953"
             ],
             [
              0.7777777777777778,
              "#fb9f3a"
             ],
             [
              0.8888888888888888,
              "#fdca26"
             ],
             [
              1,
              "#f0f921"
             ]
            ],
            "type": "surface"
           }
          ],
          "table": [
           {
            "cells": {
             "fill": {
              "color": "#EBF0F8"
             },
             "line": {
              "color": "white"
             }
            },
            "header": {
             "fill": {
              "color": "#C8D4E3"
             },
             "line": {
              "color": "white"
             }
            },
            "type": "table"
           }
          ]
         },
         "layout": {
          "annotationdefaults": {
           "arrowcolor": "#2a3f5f",
           "arrowhead": 0,
           "arrowwidth": 1
          },
          "autotypenumbers": "strict",
          "coloraxis": {
           "colorbar": {
            "outlinewidth": 0,
            "ticks": ""
           }
          },
          "colorscale": {
           "diverging": [
            [
             0,
             "#8e0152"
            ],
            [
             0.1,
             "#c51b7d"
            ],
            [
             0.2,
             "#de77ae"
            ],
            [
             0.3,
             "#f1b6da"
            ],
            [
             0.4,
             "#fde0ef"
            ],
            [
             0.5,
             "#f7f7f7"
            ],
            [
             0.6,
             "#e6f5d0"
            ],
            [
             0.7,
             "#b8e186"
            ],
            [
             0.8,
             "#7fbc41"
            ],
            [
             0.9,
             "#4d9221"
            ],
            [
             1,
             "#276419"
            ]
           ],
           "sequential": [
            [
             0,
             "#0d0887"
            ],
            [
             0.1111111111111111,
             "#46039f"
            ],
            [
             0.2222222222222222,
             "#7201a8"
            ],
            [
             0.3333333333333333,
             "#9c179e"
            ],
            [
             0.4444444444444444,
             "#bd3786"
            ],
            [
             0.5555555555555556,
             "#d8576b"
            ],
            [
             0.6666666666666666,
             "#ed7953"
            ],
            [
             0.7777777777777778,
             "#fb9f3a"
            ],
            [
             0.8888888888888888,
             "#fdca26"
            ],
            [
             1,
             "#f0f921"
            ]
           ],
           "sequentialminus": [
            [
             0,
             "#0d0887"
            ],
            [
             0.1111111111111111,
             "#46039f"
            ],
            [
             0.2222222222222222,
             "#7201a8"
            ],
            [
             0.3333333333333333,
             "#9c179e"
            ],
            [
             0.4444444444444444,
             "#bd3786"
            ],
            [
             0.5555555555555556,
             "#d8576b"
            ],
            [
             0.6666666666666666,
             "#ed7953"
            ],
            [
             0.7777777777777778,
             "#fb9f3a"
            ],
            [
             0.8888888888888888,
             "#fdca26"
            ],
            [
             1,
             "#f0f921"
            ]
           ]
          },
          "colorway": [
           "#636efa",
           "#EF553B",
           "#00cc96",
           "#ab63fa",
           "#FFA15A",
           "#19d3f3",
           "#FF6692",
           "#B6E880",
           "#FF97FF",
           "#FECB52"
          ],
          "font": {
           "color": "#2a3f5f"
          },
          "geo": {
           "bgcolor": "white",
           "lakecolor": "white",
           "landcolor": "#E5ECF6",
           "showlakes": true,
           "showland": true,
           "subunitcolor": "white"
          },
          "hoverlabel": {
           "align": "left"
          },
          "hovermode": "closest",
          "mapbox": {
           "style": "light"
          },
          "paper_bgcolor": "white",
          "plot_bgcolor": "#E5ECF6",
          "polar": {
           "angularaxis": {
            "gridcolor": "white",
            "linecolor": "white",
            "ticks": ""
           },
           "bgcolor": "#E5ECF6",
           "radialaxis": {
            "gridcolor": "white",
            "linecolor": "white",
            "ticks": ""
           }
          },
          "scene": {
           "xaxis": {
            "backgroundcolor": "#E5ECF6",
            "gridcolor": "white",
            "gridwidth": 2,
            "linecolor": "white",
            "showbackground": true,
            "ticks": "",
            "zerolinecolor": "white"
           },
           "yaxis": {
            "backgroundcolor": "#E5ECF6",
            "gridcolor": "white",
            "gridwidth": 2,
            "linecolor": "white",
            "showbackground": true,
            "ticks": "",
            "zerolinecolor": "white"
           },
           "zaxis": {
            "backgroundcolor": "#E5ECF6",
            "gridcolor": "white",
            "gridwidth": 2,
            "linecolor": "white",
            "showbackground": true,
            "ticks": "",
            "zerolinecolor": "white"
           }
          },
          "shapedefaults": {
           "line": {
            "color": "#2a3f5f"
           }
          },
          "ternary": {
           "aaxis": {
            "gridcolor": "white",
            "linecolor": "white",
            "ticks": ""
           },
           "baxis": {
            "gridcolor": "white",
            "linecolor": "white",
            "ticks": ""
           },
           "bgcolor": "#E5ECF6",
           "caxis": {
            "gridcolor": "white",
            "linecolor": "white",
            "ticks": ""
           }
          },
          "title": {
           "x": 0.05
          },
          "xaxis": {
           "automargin": true,
           "gridcolor": "white",
           "linecolor": "white",
           "ticks": "",
           "title": {
            "standoff": 15
           },
           "zerolinecolor": "white",
           "zerolinewidth": 2
          },
          "yaxis": {
           "automargin": true,
           "gridcolor": "white",
           "linecolor": "white",
           "ticks": "",
           "title": {
            "standoff": 15
           },
           "zerolinecolor": "white",
           "zerolinewidth": 2
          }
         }
        },
        "title": {
         "text": "Training vs Validation Loss"
        },
        "xaxis": {
         "title": {
          "text": "Epochs"
         }
        },
        "yaxis": {
         "title": {
          "text": "Loss"
         }
        }
       }
      },
      "text/html": [
       "<div>            <script src=\"https://cdnjs.cloudflare.com/ajax/libs/mathjax/2.7.5/MathJax.js?config=TeX-AMS-MML_SVG\"></script><script type=\"text/javascript\">if (window.MathJax && window.MathJax.Hub && window.MathJax.Hub.Config) {window.MathJax.Hub.Config({SVG: {font: \"STIX-Web\"}});}</script>                <script type=\"text/javascript\">window.PlotlyConfig = {MathJaxConfig: 'local'};</script>\n",
       "        <script charset=\"utf-8\" src=\"https://cdn.plot.ly/plotly-3.0.0.min.js\"></script>                <div id=\"f67d03de-a5c7-4112-a454-c411ad64e97f\" class=\"plotly-graph-div\" style=\"height:525px; width:100%;\"></div>            <script type=\"text/javascript\">                window.PLOTLYENV=window.PLOTLYENV || {};                                if (document.getElementById(\"f67d03de-a5c7-4112-a454-c411ad64e97f\")) {                    Plotly.newPlot(                        \"f67d03de-a5c7-4112-a454-c411ad64e97f\",                        [{\"mode\":\"lines\",\"name\":\"Training Loss\",\"y\":[0.6725658178329468,0.6709709167480469,0.6702667474746704,0.6697841286659241,0.6688900589942932,0.6669082641601562,0.6646518111228943,0.6475291848182678,0.5880393981933594,0.5066745281219482,0.4488072693347931,0.43150728940963745,0.41559505462646484,0.40532147884368896,0.4035044014453888,0.3974379301071167,0.4094512164592743,0.39630791544914246,0.3999963104724884,0.3840683698654175,0.38800761103630066,0.3851166069507599,0.3931523561477661,0.3834069073200226,0.3784782886505127,0.3859066963195801,0.3813965320587158,0.37690284848213196,0.38506269454956055,0.37354329228401184,0.3737131357192993,0.36910679936408997,0.3762660026550293,0.369858056306839,0.37179768085479736,0.3736274540424347,0.3712674379348755,0.3714221119880676,0.3647218942642212,0.36943715810775757,0.3655650317668915,0.3615833818912506,0.36065950989723206,0.3749387860298157,0.3596990704536438,0.3619139790534973,0.3658379018306732,0.3633010983467102,0.36061397194862366,0.3515465259552002],\"type\":\"scatter\"},{\"mode\":\"lines\",\"name\":\"Validation Loss\",\"y\":[0.6722123026847839,0.671467125415802,0.6733019351959229,0.6704038977622986,0.6690706014633179,0.6665887832641602,0.6582857370376587,0.6362181901931763,0.5560839772224426,0.48341065645217896,0.5473828911781311,0.486432284116745,0.38454991579055786,0.3766140639781952,0.4167156219482422,0.42699769139289856,0.36889514327049255,0.382520467042923,0.35905587673187256,0.35644403100013733,0.35947564244270325,0.3863915205001831,0.3638346195220947,0.3836880326271057,0.35034266114234924,0.362953782081604,0.35180920362472534,0.3505738377571106,0.34676000475883484,0.35520607233047485,0.34691888093948364,0.3465319275856018,0.42905324697494507,0.3613659739494324,0.34694111347198486,0.5754023194313049,0.34568342566490173,0.35780271887779236,0.34204021096229553,0.341142475605011,0.34030550718307495,0.3460157513618469,0.36303815245628357,0.337780237197876,0.37285366654396057,0.36240559816360474,0.3505134582519531,0.35483431816101074,0.3686705529689789,0.3842296302318573],\"type\":\"scatter\"}],                        {\"template\":{\"data\":{\"histogram2dcontour\":[{\"type\":\"histogram2dcontour\",\"colorbar\":{\"outlinewidth\":0,\"ticks\":\"\"},\"colorscale\":[[0.0,\"#0d0887\"],[0.1111111111111111,\"#46039f\"],[0.2222222222222222,\"#7201a8\"],[0.3333333333333333,\"#9c179e\"],[0.4444444444444444,\"#bd3786\"],[0.5555555555555556,\"#d8576b\"],[0.6666666666666666,\"#ed7953\"],[0.7777777777777778,\"#fb9f3a\"],[0.8888888888888888,\"#fdca26\"],[1.0,\"#f0f921\"]]}],\"choropleth\":[{\"type\":\"choropleth\",\"colorbar\":{\"outlinewidth\":0,\"ticks\":\"\"}}],\"histogram2d\":[{\"type\":\"histogram2d\",\"colorbar\":{\"outlinewidth\":0,\"ticks\":\"\"},\"colorscale\":[[0.0,\"#0d0887\"],[0.1111111111111111,\"#46039f\"],[0.2222222222222222,\"#7201a8\"],[0.3333333333333333,\"#9c179e\"],[0.4444444444444444,\"#bd3786\"],[0.5555555555555556,\"#d8576b\"],[0.6666666666666666,\"#ed7953\"],[0.7777777777777778,\"#fb9f3a\"],[0.8888888888888888,\"#fdca26\"],[1.0,\"#f0f921\"]]}],\"heatmap\":[{\"type\":\"heatmap\",\"colorbar\":{\"outlinewidth\":0,\"ticks\":\"\"},\"colorscale\":[[0.0,\"#0d0887\"],[0.1111111111111111,\"#46039f\"],[0.2222222222222222,\"#7201a8\"],[0.3333333333333333,\"#9c179e\"],[0.4444444444444444,\"#bd3786\"],[0.5555555555555556,\"#d8576b\"],[0.6666666666666666,\"#ed7953\"],[0.7777777777777778,\"#fb9f3a\"],[0.8888888888888888,\"#fdca26\"],[1.0,\"#f0f921\"]]}],\"contourcarpet\":[{\"type\":\"contourcarpet\",\"colorbar\":{\"outlinewidth\":0,\"ticks\":\"\"}}],\"contour\":[{\"type\":\"contour\",\"colorbar\":{\"outlinewidth\":0,\"ticks\":\"\"},\"colorscale\":[[0.0,\"#0d0887\"],[0.1111111111111111,\"#46039f\"],[0.2222222222222222,\"#7201a8\"],[0.3333333333333333,\"#9c179e\"],[0.4444444444444444,\"#bd3786\"],[0.5555555555555556,\"#d8576b\"],[0.6666666666666666,\"#ed7953\"],[0.7777777777777778,\"#fb9f3a\"],[0.8888888888888888,\"#fdca26\"],[1.0,\"#f0f921\"]]}],\"surface\":[{\"type\":\"surface\",\"colorbar\":{\"outlinewidth\":0,\"ticks\":\"\"},\"colorscale\":[[0.0,\"#0d0887\"],[0.1111111111111111,\"#46039f\"],[0.2222222222222222,\"#7201a8\"],[0.3333333333333333,\"#9c179e\"],[0.4444444444444444,\"#bd3786\"],[0.5555555555555556,\"#d8576b\"],[0.6666666666666666,\"#ed7953\"],[0.7777777777777778,\"#fb9f3a\"],[0.8888888888888888,\"#fdca26\"],[1.0,\"#f0f921\"]]}],\"mesh3d\":[{\"type\":\"mesh3d\",\"colorbar\":{\"outlinewidth\":0,\"ticks\":\"\"}}],\"scatter\":[{\"fillpattern\":{\"fillmode\":\"overlay\",\"size\":10,\"solidity\":0.2},\"type\":\"scatter\"}],\"parcoords\":[{\"type\":\"parcoords\",\"line\":{\"colorbar\":{\"outlinewidth\":0,\"ticks\":\"\"}}}],\"scatterpolargl\":[{\"type\":\"scatterpolargl\",\"marker\":{\"colorbar\":{\"outlinewidth\":0,\"ticks\":\"\"}}}],\"bar\":[{\"error_x\":{\"color\":\"#2a3f5f\"},\"error_y\":{\"color\":\"#2a3f5f\"},\"marker\":{\"line\":{\"color\":\"#E5ECF6\",\"width\":0.5},\"pattern\":{\"fillmode\":\"overlay\",\"size\":10,\"solidity\":0.2}},\"type\":\"bar\"}],\"scattergeo\":[{\"type\":\"scattergeo\",\"marker\":{\"colorbar\":{\"outlinewidth\":0,\"ticks\":\"\"}}}],\"scatterpolar\":[{\"type\":\"scatterpolar\",\"marker\":{\"colorbar\":{\"outlinewidth\":0,\"ticks\":\"\"}}}],\"histogram\":[{\"marker\":{\"pattern\":{\"fillmode\":\"overlay\",\"size\":10,\"solidity\":0.2}},\"type\":\"histogram\"}],\"scattergl\":[{\"type\":\"scattergl\",\"marker\":{\"colorbar\":{\"outlinewidth\":0,\"ticks\":\"\"}}}],\"scatter3d\":[{\"type\":\"scatter3d\",\"line\":{\"colorbar\":{\"outlinewidth\":0,\"ticks\":\"\"}},\"marker\":{\"colorbar\":{\"outlinewidth\":0,\"ticks\":\"\"}}}],\"scattermap\":[{\"type\":\"scattermap\",\"marker\":{\"colorbar\":{\"outlinewidth\":0,\"ticks\":\"\"}}}],\"scattermapbox\":[{\"type\":\"scattermapbox\",\"marker\":{\"colorbar\":{\"outlinewidth\":0,\"ticks\":\"\"}}}],\"scatterternary\":[{\"type\":\"scatterternary\",\"marker\":{\"colorbar\":{\"outlinewidth\":0,\"ticks\":\"\"}}}],\"scattercarpet\":[{\"type\":\"scattercarpet\",\"marker\":{\"colorbar\":{\"outlinewidth\":0,\"ticks\":\"\"}}}],\"carpet\":[{\"aaxis\":{\"endlinecolor\":\"#2a3f5f\",\"gridcolor\":\"white\",\"linecolor\":\"white\",\"minorgridcolor\":\"white\",\"startlinecolor\":\"#2a3f5f\"},\"baxis\":{\"endlinecolor\":\"#2a3f5f\",\"gridcolor\":\"white\",\"linecolor\":\"white\",\"minorgridcolor\":\"white\",\"startlinecolor\":\"#2a3f5f\"},\"type\":\"carpet\"}],\"table\":[{\"cells\":{\"fill\":{\"color\":\"#EBF0F8\"},\"line\":{\"color\":\"white\"}},\"header\":{\"fill\":{\"color\":\"#C8D4E3\"},\"line\":{\"color\":\"white\"}},\"type\":\"table\"}],\"barpolar\":[{\"marker\":{\"line\":{\"color\":\"#E5ECF6\",\"width\":0.5},\"pattern\":{\"fillmode\":\"overlay\",\"size\":10,\"solidity\":0.2}},\"type\":\"barpolar\"}],\"pie\":[{\"automargin\":true,\"type\":\"pie\"}]},\"layout\":{\"autotypenumbers\":\"strict\",\"colorway\":[\"#636efa\",\"#EF553B\",\"#00cc96\",\"#ab63fa\",\"#FFA15A\",\"#19d3f3\",\"#FF6692\",\"#B6E880\",\"#FF97FF\",\"#FECB52\"],\"font\":{\"color\":\"#2a3f5f\"},\"hovermode\":\"closest\",\"hoverlabel\":{\"align\":\"left\"},\"paper_bgcolor\":\"white\",\"plot_bgcolor\":\"#E5ECF6\",\"polar\":{\"bgcolor\":\"#E5ECF6\",\"angularaxis\":{\"gridcolor\":\"white\",\"linecolor\":\"white\",\"ticks\":\"\"},\"radialaxis\":{\"gridcolor\":\"white\",\"linecolor\":\"white\",\"ticks\":\"\"}},\"ternary\":{\"bgcolor\":\"#E5ECF6\",\"aaxis\":{\"gridcolor\":\"white\",\"linecolor\":\"white\",\"ticks\":\"\"},\"baxis\":{\"gridcolor\":\"white\",\"linecolor\":\"white\",\"ticks\":\"\"},\"caxis\":{\"gridcolor\":\"white\",\"linecolor\":\"white\",\"ticks\":\"\"}},\"coloraxis\":{\"colorbar\":{\"outlinewidth\":0,\"ticks\":\"\"}},\"colorscale\":{\"sequential\":[[0.0,\"#0d0887\"],[0.1111111111111111,\"#46039f\"],[0.2222222222222222,\"#7201a8\"],[0.3333333333333333,\"#9c179e\"],[0.4444444444444444,\"#bd3786\"],[0.5555555555555556,\"#d8576b\"],[0.6666666666666666,\"#ed7953\"],[0.7777777777777778,\"#fb9f3a\"],[0.8888888888888888,\"#fdca26\"],[1.0,\"#f0f921\"]],\"sequentialminus\":[[0.0,\"#0d0887\"],[0.1111111111111111,\"#46039f\"],[0.2222222222222222,\"#7201a8\"],[0.3333333333333333,\"#9c179e\"],[0.4444444444444444,\"#bd3786\"],[0.5555555555555556,\"#d8576b\"],[0.6666666666666666,\"#ed7953\"],[0.7777777777777778,\"#fb9f3a\"],[0.8888888888888888,\"#fdca26\"],[1.0,\"#f0f921\"]],\"diverging\":[[0,\"#8e0152\"],[0.1,\"#c51b7d\"],[0.2,\"#de77ae\"],[0.3,\"#f1b6da\"],[0.4,\"#fde0ef\"],[0.5,\"#f7f7f7\"],[0.6,\"#e6f5d0\"],[0.7,\"#b8e186\"],[0.8,\"#7fbc41\"],[0.9,\"#4d9221\"],[1,\"#276419\"]]},\"xaxis\":{\"gridcolor\":\"white\",\"linecolor\":\"white\",\"ticks\":\"\",\"title\":{\"standoff\":15},\"zerolinecolor\":\"white\",\"automargin\":true,\"zerolinewidth\":2},\"yaxis\":{\"gridcolor\":\"white\",\"linecolor\":\"white\",\"ticks\":\"\",\"title\":{\"standoff\":15},\"zerolinecolor\":\"white\",\"automargin\":true,\"zerolinewidth\":2},\"scene\":{\"xaxis\":{\"backgroundcolor\":\"#E5ECF6\",\"gridcolor\":\"white\",\"linecolor\":\"white\",\"showbackground\":true,\"ticks\":\"\",\"zerolinecolor\":\"white\",\"gridwidth\":2},\"yaxis\":{\"backgroundcolor\":\"#E5ECF6\",\"gridcolor\":\"white\",\"linecolor\":\"white\",\"showbackground\":true,\"ticks\":\"\",\"zerolinecolor\":\"white\",\"gridwidth\":2},\"zaxis\":{\"backgroundcolor\":\"#E5ECF6\",\"gridcolor\":\"white\",\"linecolor\":\"white\",\"showbackground\":true,\"ticks\":\"\",\"zerolinecolor\":\"white\",\"gridwidth\":2}},\"shapedefaults\":{\"line\":{\"color\":\"#2a3f5f\"}},\"annotationdefaults\":{\"arrowcolor\":\"#2a3f5f\",\"arrowhead\":0,\"arrowwidth\":1},\"geo\":{\"bgcolor\":\"white\",\"landcolor\":\"#E5ECF6\",\"subunitcolor\":\"white\",\"showland\":true,\"showlakes\":true,\"lakecolor\":\"white\"},\"title\":{\"x\":0.05},\"mapbox\":{\"style\":\"light\"}}},\"xaxis\":{\"title\":{\"text\":\"Epochs\"}},\"yaxis\":{\"title\":{\"text\":\"Loss\"}},\"title\":{\"text\":\"Training vs Validation Loss\"}},                        {\"responsive\": true}                    ).then(function(){\n",
       "                            \n",
       "var gd = document.getElementById('f67d03de-a5c7-4112-a454-c411ad64e97f');\n",
       "var x = new MutationObserver(function (mutations, observer) {{\n",
       "        var display = window.getComputedStyle(gd).display;\n",
       "        if (!display || display === 'none') {{\n",
       "            console.log([gd, 'removed!']);\n",
       "            Plotly.purge(gd);\n",
       "            observer.disconnect();\n",
       "        }}\n",
       "}});\n",
       "\n",
       "// Listen for the removal of the full notebook cells\n",
       "var notebookContainer = gd.closest('#notebook-container');\n",
       "if (notebookContainer) {{\n",
       "    x.observe(notebookContainer, {childList: true});\n",
       "}}\n",
       "\n",
       "// Listen for the clearing of the current output cell\n",
       "var outputEl = gd.closest('.output');\n",
       "if (outputEl) {{\n",
       "    x.observe(outputEl, {childList: true});\n",
       "}}\n",
       "\n",
       "                        })                };            </script>        </div>"
      ]
     },
     "metadata": {},
     "output_type": "display_data"
    }
   ],
   "source": [
    "X_train, X_test, y_train, y_test = train_test_split(\n",
    "    exp3_embeded_data,\n",
    "    exp3_embeded_labels,\n",
    "    test_size=0.2,\n",
    "    random_state=42,\n",
    "    stratify=exp3_embeded_labels\n",
    ")\n",
    "\n",
    "X_train = X_train.reshape(X_train.shape[0], X_train.shape[1], 1)\n",
    "X_test = X_test.reshape(X_test.shape[0], X_test.shape[1], 1)\n",
    "\n",
    "cnn_model = create_cnn_model()\n",
    "\n",
    "cnn_model.compile(optimizer=Adam(), loss=BinaryCrossentropy(), metrics=['accuracy'])\n",
    "\n",
    "history = cnn_model.fit(X_train, y_train, epochs=50, batch_size=32, validation_split=0.1)\n",
    "\n",
    "fig = go.Figure()\n",
    "fig.add_trace(go.Scatter(y=history.history['loss'], mode='lines', name='Training Loss'))\n",
    "fig.add_trace(go.Scatter(y=history.history['val_loss'], mode='lines', name='Validation Loss'))\n",
    "fig.update_layout(xaxis_title='Epochs', yaxis_title='Loss', title='Training vs Validation Loss')\n",
    "fig.show()"
   ]
  },
  {
   "cell_type": "code",
   "execution_count": 57,
   "metadata": {},
   "outputs": [
    {
     "data": {
      "text/plain": [
       "np.int64(44)"
      ]
     },
     "execution_count": 57,
     "metadata": {},
     "output_type": "execute_result"
    }
   ],
   "source": [
    "optimal_epochs = np.argmin(history.history['val_loss']) + 1\n",
    "optimal_epochs"
   ]
  },
  {
   "cell_type": "code",
   "execution_count": 58,
   "metadata": {
    "colab": {
     "base_uri": "https://localhost:8080/"
    },
    "id": "bmW7hEr1QCeA",
    "outputId": "2963cdd7-c8a6-40d0-cb12-a8db21b38cde"
   },
   "outputs": [
    {
     "name": "stdout",
     "output_type": "stream",
     "text": [
      "\u001b[1m118/118\u001b[0m \u001b[32m━━━━━━━━━━━━━━━━━━━━\u001b[0m\u001b[37m\u001b[0m \u001b[1m0s\u001b[0m 3ms/step - accuracy: 0.8745 - loss: 0.3130   \n",
      "Test Loss: 0.3163, Test Accuracy: 0.8666\n"
     ]
    }
   ],
   "source": [
    "optimal_epochs = 44\n",
    "\n",
    "cnn_model = create_cnn_model()\n",
    "\n",
    "cnn_model.compile(optimizer=Adam(), loss=BinaryCrossentropy(), metrics=['accuracy'])\n",
    "\n",
    "cnn_model.fit(X_train, y_train, epochs=optimal_epochs, batch_size=32, verbose=0)\n",
    "\n",
    "results = cnn_model.evaluate(X_test, y_test)\n",
    "\n",
    "print(f'Test Loss: {results[0]:.4f}, Test Accuracy: {results[1]:.4f}')"
   ]
  },
  {
   "cell_type": "markdown",
   "metadata": {
    "id": "sU1-ubuhaGu_"
   },
   "source": [
    "### My Observation:\n",
    "\n",
    "---\n",
    "\n",
    "Introducing non-linearity to k-mer representation learning allows the model to capture more enriched embeddings, leading to improved results. I tested the learned embeddings from the autoencoder on the CNN model.\n",
    "\n",
    "**Before using the learned embeddings:**  \n",
    "- **Test Loss:** 0.2430  \n",
    "- **Test Accuracy:** 0.9035 \n",
    "- The model converged after **8 epochs**.\n",
    "**After using the learned embeddings:**  \n",
    "- **Test Loss:** 0.3313  \n",
    "- **Test Accuracy:** 0.8661  \n",
    "- The model did **not converge** after **50 epochs**. It may reach or exceed the previous performance with more training epochs.\n",
    "\n",
    "I do not expect the autoencoder embeddings to be perfect since they are based on a simple k-mer representation, but the results are promising.\n"
   ]
  },
  {
   "cell_type": "markdown",
   "metadata": {
    "id": "d4_N3QZyyx2R"
   },
   "source": [
    "# **12. Cross-Species**"
   ]
  },
  {
   "cell_type": "code",
   "execution_count": 59,
   "metadata": {
    "colab": {
     "base_uri": "https://localhost:8080/"
    },
    "id": "3gHrphifyxUa",
    "outputId": "1a4cc3d0-bcf2-43d9-ef34-ecb109180855"
   },
   "outputs": [
    {
     "name": "stdout",
     "output_type": "stream",
     "text": [
      "Invalid char detected at GCCCCGCTGACTTGGGGGGCCGGAATCCCGTTGGACGGCCTCTGGGCATGCTCAGTAGCGGCGGCAGCGGCGGTGCGGGCGGCGGTGACGCGCGCGCGGCAGCTGAGGGGACTGGAGGACGGCGGGAGGGGGCGGGGGCGCAGGAGGTGGGNCCGCCGTCGCCGTCAGGGCCCCAGGGAGCGCGGGGCGCCGCTGCTGCTGTTCTTCGGCTCGGTTCTGTCTACCGGGCAGCGCCGGGGCCGGCGGCTGCG\n",
      "Invalid char detected at GATATCGTCACCATCCATCTACTCATTGAAGTTGGCAAAATGTGGGCTGAAGATAAGCTTAGATGATTGGAAGCTAGCAGGGACCTACTACTATGATTCCATCGATCTGTCTGAAAACGAGATCTCAGGGAGTCCGGCTAAGTTCCTCAGCCAGANGAAGTATCTGATGGAGTTCCGAGCGGCAGGGAACAAACTCCGATTCGATTTGGGGAAGCTGACGTTTGTGAGGACTCTTGAAACCTTGGATTTGT\n",
      "Invalid char detected at AGGAATGAAGGAAGCAACTGATGGTTATGATGAGAACAGAATCTTGGGCCANGGAGGCCAAGGAACAGTCTACAAAGGTATATTACCGGACAACTCCATAGTTGCTATAAAGAAAGCTCGGCTTGGAGACAATAGCCAAGTAGAGCAGTTCATCAATGAAGTGCTTGTGCTTTCACAAATCAACCATAGGAACGTGGTCAAGCTCTTGGGCTGCTGTCTAGAGACTGAAGTTCCCTTGTTGGTCTATGAGT\n"
     ]
    }
   ],
   "source": [
    "species_data = {\n",
    "    \"Bacillus\": {\n",
    "        \"prom\": \"https://raw.githubusercontent.com/solovictor/CNNPromoterData/master/Bacillus_prom.fa\",\n",
    "        \"non_prom\": \"https://raw.githubusercontent.com/solovictor/CNNPromoterData/master/Bacillus_non_prom.fa\"\n",
    "    },\n",
    "    \"Ecoli\": {\n",
    "        \"prom\": \"https://raw.githubusercontent.com/solovictor/CNNPromoterData/master/Ecoli_prom.fa\",\n",
    "        \"non_prom\": \"https://raw.githubusercontent.com/solovictor/CNNPromoterData/master/Ecoli_non_prom.fa\"\n",
    "    },\n",
    "    \"Mouse\": {\n",
    "        \"tata\": \"https://raw.githubusercontent.com/solovictor/CNNPromoterData/master/Mouse_tata.fa\",\n",
    "        \"non_tata\": \"https://raw.githubusercontent.com/solovictor/CNNPromoterData/master/Mouse_non_tata.fa\",\n",
    "        \"non_prom\": \"https://raw.githubusercontent.com/solovictor/CNNPromoterData/master/Mouse_non_nonprom_big.fa\"\n",
    "    },\n",
    "    \"Human\": {\n",
    "        \"non_tata\": \"https://raw.githubusercontent.com/solovictor/CNNPromoterData/master/human_non_tata.fa\",\n",
    "        \"non_prom\": \"https://raw.githubusercontent.com/solovictor/CNNPromoterData/master/human_nonprom_big.fa\"\n",
    "    },\n",
    "    \"Arabidopsis\": {\n",
    "        \"tata\": \"https://raw.githubusercontent.com/solovictor/CNNPromoterData/refs/heads/master/Arabidopsis_tata.fa\",\n",
    "        \"non_tata\": \"https://raw.githubusercontent.com/solovictor/CNNPromoterData/refs/heads/master/Arabidopsis_non_tata.fa\",\n",
    "        \"non_prom\": \"https://raw.githubusercontent.com/solovictor/CNNPromoterData/refs/heads/master/Arabidopsis_non_prom_big.fa\"\n",
    "    },\n",
    "}\n",
    "k = 4\n",
    "\n",
    "all_species_data = {}\n",
    "\n",
    "\n",
    "\n",
    "for species, urls in species_data.items():\n",
    "    positive_encoded = []\n",
    "    if \"prom\" in urls:\n",
    "        positive_encoded.append(encode_sequences(remove_invalid(read_fasta(urls[\"prom\"])), k, encoding=\"kmer\"))\n",
    "    if \"tata\" in urls:\n",
    "        positive_encoded.append(encode_sequences(remove_invalid(read_fasta(urls[\"tata\"])), k, encoding=\"kmer\"))\n",
    "    if \"non_tata\" in urls:\n",
    "        positive_encoded.append(encode_sequences(remove_invalid(read_fasta(urls[\"non_tata\"])), k, encoding=\"kmer\"))\n",
    "\n",
    "    negative_encoded = encode_sequences(remove_invalid(read_fasta(urls[\"non_prom\"])), k, encoding=\"kmer\")\n",
    "\n",
    "    positive_encoded = np.vstack(positive_encoded) if len(positive_encoded) > 1 else positive_encoded[0]\n",
    "\n",
    "    data = np.vstack([positive_encoded, negative_encoded])\n",
    "    labels = np.concatenate([np.ones(len(positive_encoded)), np.zeros(len(negative_encoded))])\n",
    "\n",
    "    all_species_data[species] = {\"data\": data, \"labels\": labels}"
   ]
  },
  {
   "cell_type": "code",
   "execution_count": 60,
   "metadata": {
    "id": "j3cn6U5fRd-Q"
   },
   "outputs": [],
   "source": [
    "def train_and_evaluate_lr(all_species_data):\n",
    "    species_names = list(all_species_data.keys())\n",
    "    results = np.zeros((len(species_names), len(species_names), 2))\n",
    "    for i, species_train in enumerate(species_names):\n",
    "        X_train, X_test_within_species, y_train, y_test_within_species = train_test_split(\n",
    "            all_species_data[species_train]['data'],\n",
    "            all_species_data[species_train]['labels'],\n",
    "            test_size=0.20,\n",
    "            random_state=42\n",
    "        )\n",
    "\n",
    "        model = LogisticRegression(max_iter=10000)\n",
    "        OS = RandomOverSampler(random_state=42)\n",
    "        X_full_train, y_full_train = OS.fit_resample(X_train, y_train)\n",
    "        model.fit(X_full_train, y_full_train)\n",
    "\n",
    "        for j, species_test in enumerate(species_names):\n",
    "            if species_test == species_train:\n",
    "              X_test = X_test_within_species\n",
    "              y_test = y_test_within_species\n",
    "            else:\n",
    "              X_test = all_species_data[species_test]['data']\n",
    "              y_test = all_species_data[species_test]['labels']\n",
    "\n",
    "            y_pred = model.predict(X_test)\n",
    "\n",
    "            bal_acc = balanced_accuracy_score(y_test, y_pred)\n",
    "            f1 = f1_score(y_test, y_pred, average='macro')\n",
    "\n",
    "            results[i, j, 0] = bal_acc\n",
    "            results[i, j, 1] = f1\n",
    "\n",
    "    return species_names, results"
   ]
  },
  {
   "cell_type": "code",
   "execution_count": 61,
   "metadata": {
    "colab": {
     "base_uri": "https://localhost:8080/"
    },
    "id": "hme6pm4RXsXq",
    "outputId": "9de5eb12-fd5e-40a2-f2b6-993dbea226cb"
   },
   "outputs": [
    {
     "name": "stdout",
     "output_type": "stream",
     "text": [
      "Balanced Accuracy Table:\n",
      "             Bacillus     Ecoli     Mouse     Human  Arabidopsis\n",
      "Bacillus     0.814808  0.635785  0.438869  0.448258     0.659366\n",
      "Ecoli        0.674160  0.873854  0.214186  0.314764     0.526491\n",
      "Mouse        0.389840  0.213802  0.841776  0.756512     0.490325\n",
      "Human        0.361107  0.270099  0.829031  0.807933     0.496186\n",
      "Arabidopsis  0.624747  0.612729  0.465180  0.464287     0.893024\n",
      "\n",
      "Macro F1 Score Table:\n",
      "             Bacillus     Ecoli     Mouse     Human  Arabidopsis\n",
      "Bacillus     0.790522  0.666076  0.346121  0.365242     0.663122\n",
      "Ecoli        0.526473  0.850778  0.216968  0.314034     0.342152\n",
      "Mouse        0.363239  0.224345  0.845997  0.749891     0.375217\n",
      "Human        0.355560  0.260874  0.840426  0.815041     0.402183\n",
      "Arabidopsis  0.599043  0.621385  0.375134  0.380551     0.889922\n"
     ]
    }
   ],
   "source": [
    "species_names, results = train_and_evaluate_lr(all_species_data)\n",
    "bal_acc_table = pd.DataFrame(results[:, :, 0], index=species_names, columns=species_names)\n",
    "f1_table = pd.DataFrame(results[:, :, 1], index=species_names, columns=species_names)\n",
    "\n",
    "print(\"Balanced Accuracy Table:\")\n",
    "print(bal_acc_table)\n",
    "\n",
    "print(\"\\nMacro F1 Score Table:\")\n",
    "print(f1_table)"
   ]
  },
  {
   "cell_type": "code",
   "execution_count": 62,
   "metadata": {
    "colab": {
     "base_uri": "https://localhost:8080/",
     "height": 1000
    },
    "id": "klqsSSySPi_k",
    "outputId": "dd68a18d-7d2f-4d3d-ebd9-6736f58f32f3"
   },
   "outputs": [
    {
     "data": {
      "application/vnd.plotly.v1+json": {
       "config": {
        "plotlyServerURL": "https://plot.ly"
       },
       "data": [
        {
         "coloraxis": "coloraxis",
         "hovertemplate": "Test Species: %{x}<br>Train Species: %{y}<br>Balanced Accuracy: %{z}<extra></extra>",
         "name": "0",
         "type": "heatmap",
         "x": [
          "Bacillus",
          "Ecoli",
          "Mouse",
          "Human",
          "Arabidopsis"
         ],
         "xaxis": "x",
         "y": [
          "Bacillus",
          "Ecoli",
          "Mouse",
          "Human",
          "Arabidopsis"
         ],
         "yaxis": "y",
         "z": {
          "bdata": "pUac/OgS6j+U29jpWVjkPxTkoBtsFtw/d1sxb0Ow3D9btc5ghhnlP21B9Pq2kuU/R++ZNpz26z9qHv4McGrLPxHqQwEXJdQ/EouB5QPZ4D+l59N+JfPYPyLnY2PZXcs/RCwAHtXv6j9cslJBWDXoP4nqxDN9Yd8/H1EKiWEc1z+I9UFYS0nRP+xdrMJrh+o/Ma+bI5ba6T9HFmnFgcHfP6lTG6/s/eM/UHc2hXmb4z+yc2/Ug8XdP1l5eavftt0/GJ39DaaT7D8=",
          "dtype": "f8",
          "shape": "5, 5"
         }
        }
       ],
       "layout": {
        "coloraxis": {
         "colorbar": {
          "title": {
           "text": "Balanced Accuracy"
          }
         },
         "colorscale": [
          [
           0,
           "#440154"
          ],
          [
           0.1111111111111111,
           "#482878"
          ],
          [
           0.2222222222222222,
           "#3e4989"
          ],
          [
           0.3333333333333333,
           "#31688e"
          ],
          [
           0.4444444444444444,
           "#26828e"
          ],
          [
           0.5555555555555556,
           "#1f9e89"
          ],
          [
           0.6666666666666666,
           "#35b779"
          ],
          [
           0.7777777777777778,
           "#6ece58"
          ],
          [
           0.8888888888888888,
           "#b5de2b"
          ],
          [
           1,
           "#fde725"
          ]
         ]
        },
        "template": {
         "data": {
          "bar": [
           {
            "error_x": {
             "color": "#2a3f5f"
            },
            "error_y": {
             "color": "#2a3f5f"
            },
            "marker": {
             "line": {
              "color": "#E5ECF6",
              "width": 0.5
             },
             "pattern": {
              "fillmode": "overlay",
              "size": 10,
              "solidity": 0.2
             }
            },
            "type": "bar"
           }
          ],
          "barpolar": [
           {
            "marker": {
             "line": {
              "color": "#E5ECF6",
              "width": 0.5
             },
             "pattern": {
              "fillmode": "overlay",
              "size": 10,
              "solidity": 0.2
             }
            },
            "type": "barpolar"
           }
          ],
          "carpet": [
           {
            "aaxis": {
             "endlinecolor": "#2a3f5f",
             "gridcolor": "white",
             "linecolor": "white",
             "minorgridcolor": "white",
             "startlinecolor": "#2a3f5f"
            },
            "baxis": {
             "endlinecolor": "#2a3f5f",
             "gridcolor": "white",
             "linecolor": "white",
             "minorgridcolor": "white",
             "startlinecolor": "#2a3f5f"
            },
            "type": "carpet"
           }
          ],
          "choropleth": [
           {
            "colorbar": {
             "outlinewidth": 0,
             "ticks": ""
            },
            "type": "choropleth"
           }
          ],
          "contour": [
           {
            "colorbar": {
             "outlinewidth": 0,
             "ticks": ""
            },
            "colorscale": [
             [
              0,
              "#0d0887"
             ],
             [
              0.1111111111111111,
              "#46039f"
             ],
             [
              0.2222222222222222,
              "#7201a8"
             ],
             [
              0.3333333333333333,
              "#9c179e"
             ],
             [
              0.4444444444444444,
              "#bd3786"
             ],
             [
              0.5555555555555556,
              "#d8576b"
             ],
             [
              0.6666666666666666,
              "#ed7953"
             ],
             [
              0.7777777777777778,
              "#fb9f3a"
             ],
             [
              0.8888888888888888,
              "#fdca26"
             ],
             [
              1,
              "#f0f921"
             ]
            ],
            "type": "contour"
           }
          ],
          "contourcarpet": [
           {
            "colorbar": {
             "outlinewidth": 0,
             "ticks": ""
            },
            "type": "contourcarpet"
           }
          ],
          "heatmap": [
           {
            "colorbar": {
             "outlinewidth": 0,
             "ticks": ""
            },
            "colorscale": [
             [
              0,
              "#0d0887"
             ],
             [
              0.1111111111111111,
              "#46039f"
             ],
             [
              0.2222222222222222,
              "#7201a8"
             ],
             [
              0.3333333333333333,
              "#9c179e"
             ],
             [
              0.4444444444444444,
              "#bd3786"
             ],
             [
              0.5555555555555556,
              "#d8576b"
             ],
             [
              0.6666666666666666,
              "#ed7953"
             ],
             [
              0.7777777777777778,
              "#fb9f3a"
             ],
             [
              0.8888888888888888,
              "#fdca26"
             ],
             [
              1,
              "#f0f921"
             ]
            ],
            "type": "heatmap"
           }
          ],
          "histogram": [
           {
            "marker": {
             "pattern": {
              "fillmode": "overlay",
              "size": 10,
              "solidity": 0.2
             }
            },
            "type": "histogram"
           }
          ],
          "histogram2d": [
           {
            "colorbar": {
             "outlinewidth": 0,
             "ticks": ""
            },
            "colorscale": [
             [
              0,
              "#0d0887"
             ],
             [
              0.1111111111111111,
              "#46039f"
             ],
             [
              0.2222222222222222,
              "#7201a8"
             ],
             [
              0.3333333333333333,
              "#9c179e"
             ],
             [
              0.4444444444444444,
              "#bd3786"
             ],
             [
              0.5555555555555556,
              "#d8576b"
             ],
             [
              0.6666666666666666,
              "#ed7953"
             ],
             [
              0.7777777777777778,
              "#fb9f3a"
             ],
             [
              0.8888888888888888,
              "#fdca26"
             ],
             [
              1,
              "#f0f921"
             ]
            ],
            "type": "histogram2d"
           }
          ],
          "histogram2dcontour": [
           {
            "colorbar": {
             "outlinewidth": 0,
             "ticks": ""
            },
            "colorscale": [
             [
              0,
              "#0d0887"
             ],
             [
              0.1111111111111111,
              "#46039f"
             ],
             [
              0.2222222222222222,
              "#7201a8"
             ],
             [
              0.3333333333333333,
              "#9c179e"
             ],
             [
              0.4444444444444444,
              "#bd3786"
             ],
             [
              0.5555555555555556,
              "#d8576b"
             ],
             [
              0.6666666666666666,
              "#ed7953"
             ],
             [
              0.7777777777777778,
              "#fb9f3a"
             ],
             [
              0.8888888888888888,
              "#fdca26"
             ],
             [
              1,
              "#f0f921"
             ]
            ],
            "type": "histogram2dcontour"
           }
          ],
          "mesh3d": [
           {
            "colorbar": {
             "outlinewidth": 0,
             "ticks": ""
            },
            "type": "mesh3d"
           }
          ],
          "parcoords": [
           {
            "line": {
             "colorbar": {
              "outlinewidth": 0,
              "ticks": ""
             }
            },
            "type": "parcoords"
           }
          ],
          "pie": [
           {
            "automargin": true,
            "type": "pie"
           }
          ],
          "scatter": [
           {
            "fillpattern": {
             "fillmode": "overlay",
             "size": 10,
             "solidity": 0.2
            },
            "type": "scatter"
           }
          ],
          "scatter3d": [
           {
            "line": {
             "colorbar": {
              "outlinewidth": 0,
              "ticks": ""
             }
            },
            "marker": {
             "colorbar": {
              "outlinewidth": 0,
              "ticks": ""
             }
            },
            "type": "scatter3d"
           }
          ],
          "scattercarpet": [
           {
            "marker": {
             "colorbar": {
              "outlinewidth": 0,
              "ticks": ""
             }
            },
            "type": "scattercarpet"
           }
          ],
          "scattergeo": [
           {
            "marker": {
             "colorbar": {
              "outlinewidth": 0,
              "ticks": ""
             }
            },
            "type": "scattergeo"
           }
          ],
          "scattergl": [
           {
            "marker": {
             "colorbar": {
              "outlinewidth": 0,
              "ticks": ""
             }
            },
            "type": "scattergl"
           }
          ],
          "scattermap": [
           {
            "marker": {
             "colorbar": {
              "outlinewidth": 0,
              "ticks": ""
             }
            },
            "type": "scattermap"
           }
          ],
          "scattermapbox": [
           {
            "marker": {
             "colorbar": {
              "outlinewidth": 0,
              "ticks": ""
             }
            },
            "type": "scattermapbox"
           }
          ],
          "scatterpolar": [
           {
            "marker": {
             "colorbar": {
              "outlinewidth": 0,
              "ticks": ""
             }
            },
            "type": "scatterpolar"
           }
          ],
          "scatterpolargl": [
           {
            "marker": {
             "colorbar": {
              "outlinewidth": 0,
              "ticks": ""
             }
            },
            "type": "scatterpolargl"
           }
          ],
          "scatterternary": [
           {
            "marker": {
             "colorbar": {
              "outlinewidth": 0,
              "ticks": ""
             }
            },
            "type": "scatterternary"
           }
          ],
          "surface": [
           {
            "colorbar": {
             "outlinewidth": 0,
             "ticks": ""
            },
            "colorscale": [
             [
              0,
              "#0d0887"
             ],
             [
              0.1111111111111111,
              "#46039f"
             ],
             [
              0.2222222222222222,
              "#7201a8"
             ],
             [
              0.3333333333333333,
              "#9c179e"
             ],
             [
              0.4444444444444444,
              "#bd3786"
             ],
             [
              0.5555555555555556,
              "#d8576b"
             ],
             [
              0.6666666666666666,
              "#ed7953"
             ],
             [
              0.7777777777777778,
              "#fb9f3a"
             ],
             [
              0.8888888888888888,
              "#fdca26"
             ],
             [
              1,
              "#f0f921"
             ]
            ],
            "type": "surface"
           }
          ],
          "table": [
           {
            "cells": {
             "fill": {
              "color": "#EBF0F8"
             },
             "line": {
              "color": "white"
             }
            },
            "header": {
             "fill": {
              "color": "#C8D4E3"
             },
             "line": {
              "color": "white"
             }
            },
            "type": "table"
           }
          ]
         },
         "layout": {
          "annotationdefaults": {
           "arrowcolor": "#2a3f5f",
           "arrowhead": 0,
           "arrowwidth": 1
          },
          "autotypenumbers": "strict",
          "coloraxis": {
           "colorbar": {
            "outlinewidth": 0,
            "ticks": ""
           }
          },
          "colorscale": {
           "diverging": [
            [
             0,
             "#8e0152"
            ],
            [
             0.1,
             "#c51b7d"
            ],
            [
             0.2,
             "#de77ae"
            ],
            [
             0.3,
             "#f1b6da"
            ],
            [
             0.4,
             "#fde0ef"
            ],
            [
             0.5,
             "#f7f7f7"
            ],
            [
             0.6,
             "#e6f5d0"
            ],
            [
             0.7,
             "#b8e186"
            ],
            [
             0.8,
             "#7fbc41"
            ],
            [
             0.9,
             "#4d9221"
            ],
            [
             1,
             "#276419"
            ]
           ],
           "sequential": [
            [
             0,
             "#0d0887"
            ],
            [
             0.1111111111111111,
             "#46039f"
            ],
            [
             0.2222222222222222,
             "#7201a8"
            ],
            [
             0.3333333333333333,
             "#9c179e"
            ],
            [
             0.4444444444444444,
             "#bd3786"
            ],
            [
             0.5555555555555556,
             "#d8576b"
            ],
            [
             0.6666666666666666,
             "#ed7953"
            ],
            [
             0.7777777777777778,
             "#fb9f3a"
            ],
            [
             0.8888888888888888,
             "#fdca26"
            ],
            [
             1,
             "#f0f921"
            ]
           ],
           "sequentialminus": [
            [
             0,
             "#0d0887"
            ],
            [
             0.1111111111111111,
             "#46039f"
            ],
            [
             0.2222222222222222,
             "#7201a8"
            ],
            [
             0.3333333333333333,
             "#9c179e"
            ],
            [
             0.4444444444444444,
             "#bd3786"
            ],
            [
             0.5555555555555556,
             "#d8576b"
            ],
            [
             0.6666666666666666,
             "#ed7953"
            ],
            [
             0.7777777777777778,
             "#fb9f3a"
            ],
            [
             0.8888888888888888,
             "#fdca26"
            ],
            [
             1,
             "#f0f921"
            ]
           ]
          },
          "colorway": [
           "#636efa",
           "#EF553B",
           "#00cc96",
           "#ab63fa",
           "#FFA15A",
           "#19d3f3",
           "#FF6692",
           "#B6E880",
           "#FF97FF",
           "#FECB52"
          ],
          "font": {
           "color": "#2a3f5f"
          },
          "geo": {
           "bgcolor": "white",
           "lakecolor": "white",
           "landcolor": "#E5ECF6",
           "showlakes": true,
           "showland": true,
           "subunitcolor": "white"
          },
          "hoverlabel": {
           "align": "left"
          },
          "hovermode": "closest",
          "mapbox": {
           "style": "light"
          },
          "paper_bgcolor": "white",
          "plot_bgcolor": "#E5ECF6",
          "polar": {
           "angularaxis": {
            "gridcolor": "white",
            "linecolor": "white",
            "ticks": ""
           },
           "bgcolor": "#E5ECF6",
           "radialaxis": {
            "gridcolor": "white",
            "linecolor": "white",
            "ticks": ""
           }
          },
          "scene": {
           "xaxis": {
            "backgroundcolor": "#E5ECF6",
            "gridcolor": "white",
            "gridwidth": 2,
            "linecolor": "white",
            "showbackground": true,
            "ticks": "",
            "zerolinecolor": "white"
           },
           "yaxis": {
            "backgroundcolor": "#E5ECF6",
            "gridcolor": "white",
            "gridwidth": 2,
            "linecolor": "white",
            "showbackground": true,
            "ticks": "",
            "zerolinecolor": "white"
           },
           "zaxis": {
            "backgroundcolor": "#E5ECF6",
            "gridcolor": "white",
            "gridwidth": 2,
            "linecolor": "white",
            "showbackground": true,
            "ticks": "",
            "zerolinecolor": "white"
           }
          },
          "shapedefaults": {
           "line": {
            "color": "#2a3f5f"
           }
          },
          "ternary": {
           "aaxis": {
            "gridcolor": "white",
            "linecolor": "white",
            "ticks": ""
           },
           "baxis": {
            "gridcolor": "white",
            "linecolor": "white",
            "ticks": ""
           },
           "bgcolor": "#E5ECF6",
           "caxis": {
            "gridcolor": "white",
            "linecolor": "white",
            "ticks": ""
           }
          },
          "title": {
           "x": 0.05
          },
          "xaxis": {
           "automargin": true,
           "gridcolor": "white",
           "linecolor": "white",
           "ticks": "",
           "title": {
            "standoff": 15
           },
           "zerolinecolor": "white",
           "zerolinewidth": 2
          },
          "yaxis": {
           "automargin": true,
           "gridcolor": "white",
           "linecolor": "white",
           "ticks": "",
           "title": {
            "standoff": 15
           },
           "zerolinecolor": "white",
           "zerolinewidth": 2
          }
         }
        },
        "title": {
         "text": "Balanced Accuracy Heatmap"
        },
        "xaxis": {
         "anchor": "y",
         "constrain": "domain",
         "domain": [
          0,
          1
         ],
         "scaleanchor": "y",
         "title": {
          "text": "Test Species"
         }
        },
        "yaxis": {
         "anchor": "x",
         "autorange": "reversed",
         "constrain": "domain",
         "domain": [
          0,
          1
         ],
         "title": {
          "text": "Train Species"
         }
        }
       }
      },
      "text/html": [
       "<div>            <script src=\"https://cdnjs.cloudflare.com/ajax/libs/mathjax/2.7.5/MathJax.js?config=TeX-AMS-MML_SVG\"></script><script type=\"text/javascript\">if (window.MathJax && window.MathJax.Hub && window.MathJax.Hub.Config) {window.MathJax.Hub.Config({SVG: {font: \"STIX-Web\"}});}</script>                <script type=\"text/javascript\">window.PlotlyConfig = {MathJaxConfig: 'local'};</script>\n",
       "        <script charset=\"utf-8\" src=\"https://cdn.plot.ly/plotly-3.0.0.min.js\"></script>                <div id=\"0d4536f0-7c0d-4c67-b932-e139565d45c8\" class=\"plotly-graph-div\" style=\"height:525px; width:100%;\"></div>            <script type=\"text/javascript\">                window.PLOTLYENV=window.PLOTLYENV || {};                                if (document.getElementById(\"0d4536f0-7c0d-4c67-b932-e139565d45c8\")) {                    Plotly.newPlot(                        \"0d4536f0-7c0d-4c67-b932-e139565d45c8\",                        [{\"coloraxis\":\"coloraxis\",\"name\":\"0\",\"x\":[\"Bacillus\",\"Ecoli\",\"Mouse\",\"Human\",\"Arabidopsis\"],\"y\":[\"Bacillus\",\"Ecoli\",\"Mouse\",\"Human\",\"Arabidopsis\"],\"z\":{\"dtype\":\"f8\",\"bdata\":\"pUac\\u002fOgS6j+U29jpWVjkPxTkoBtsFtw\\u002fd1sxb0Ow3D9btc5ghhnlP21B9Pq2kuU\\u002fR++ZNpz26z9qHv4McGrLPxHqQwEXJdQ\\u002fEouB5QPZ4D+l59N+JfPYPyLnY2PZXcs\\u002fRCwAHtXv6j9cslJBWDXoP4nqxDN9Yd8\\u002fH1EKiWEc1z+I9UFYS0nRP+xdrMJrh+o\\u002fMa+bI5ba6T9HFmnFgcHfP6lTG6\\u002fs\\u002feM\\u002fUHc2hXmb4z+yc2\\u002fUg8XdP1l5eavftt0\\u002fGJ39DaaT7D8=\",\"shape\":\"5, 5\"},\"type\":\"heatmap\",\"xaxis\":\"x\",\"yaxis\":\"y\",\"hovertemplate\":\"Test Species: %{x}\\u003cbr\\u003eTrain Species: %{y}\\u003cbr\\u003eBalanced Accuracy: %{z}\\u003cextra\\u003e\\u003c\\u002fextra\\u003e\"}],                        {\"template\":{\"data\":{\"histogram2dcontour\":[{\"type\":\"histogram2dcontour\",\"colorbar\":{\"outlinewidth\":0,\"ticks\":\"\"},\"colorscale\":[[0.0,\"#0d0887\"],[0.1111111111111111,\"#46039f\"],[0.2222222222222222,\"#7201a8\"],[0.3333333333333333,\"#9c179e\"],[0.4444444444444444,\"#bd3786\"],[0.5555555555555556,\"#d8576b\"],[0.6666666666666666,\"#ed7953\"],[0.7777777777777778,\"#fb9f3a\"],[0.8888888888888888,\"#fdca26\"],[1.0,\"#f0f921\"]]}],\"choropleth\":[{\"type\":\"choropleth\",\"colorbar\":{\"outlinewidth\":0,\"ticks\":\"\"}}],\"histogram2d\":[{\"type\":\"histogram2d\",\"colorbar\":{\"outlinewidth\":0,\"ticks\":\"\"},\"colorscale\":[[0.0,\"#0d0887\"],[0.1111111111111111,\"#46039f\"],[0.2222222222222222,\"#7201a8\"],[0.3333333333333333,\"#9c179e\"],[0.4444444444444444,\"#bd3786\"],[0.5555555555555556,\"#d8576b\"],[0.6666666666666666,\"#ed7953\"],[0.7777777777777778,\"#fb9f3a\"],[0.8888888888888888,\"#fdca26\"],[1.0,\"#f0f921\"]]}],\"heatmap\":[{\"type\":\"heatmap\",\"colorbar\":{\"outlinewidth\":0,\"ticks\":\"\"},\"colorscale\":[[0.0,\"#0d0887\"],[0.1111111111111111,\"#46039f\"],[0.2222222222222222,\"#7201a8\"],[0.3333333333333333,\"#9c179e\"],[0.4444444444444444,\"#bd3786\"],[0.5555555555555556,\"#d8576b\"],[0.6666666666666666,\"#ed7953\"],[0.7777777777777778,\"#fb9f3a\"],[0.8888888888888888,\"#fdca26\"],[1.0,\"#f0f921\"]]}],\"contourcarpet\":[{\"type\":\"contourcarpet\",\"colorbar\":{\"outlinewidth\":0,\"ticks\":\"\"}}],\"contour\":[{\"type\":\"contour\",\"colorbar\":{\"outlinewidth\":0,\"ticks\":\"\"},\"colorscale\":[[0.0,\"#0d0887\"],[0.1111111111111111,\"#46039f\"],[0.2222222222222222,\"#7201a8\"],[0.3333333333333333,\"#9c179e\"],[0.4444444444444444,\"#bd3786\"],[0.5555555555555556,\"#d8576b\"],[0.6666666666666666,\"#ed7953\"],[0.7777777777777778,\"#fb9f3a\"],[0.8888888888888888,\"#fdca26\"],[1.0,\"#f0f921\"]]}],\"surface\":[{\"type\":\"surface\",\"colorbar\":{\"outlinewidth\":0,\"ticks\":\"\"},\"colorscale\":[[0.0,\"#0d0887\"],[0.1111111111111111,\"#46039f\"],[0.2222222222222222,\"#7201a8\"],[0.3333333333333333,\"#9c179e\"],[0.4444444444444444,\"#bd3786\"],[0.5555555555555556,\"#d8576b\"],[0.6666666666666666,\"#ed7953\"],[0.7777777777777778,\"#fb9f3a\"],[0.8888888888888888,\"#fdca26\"],[1.0,\"#f0f921\"]]}],\"mesh3d\":[{\"type\":\"mesh3d\",\"colorbar\":{\"outlinewidth\":0,\"ticks\":\"\"}}],\"scatter\":[{\"fillpattern\":{\"fillmode\":\"overlay\",\"size\":10,\"solidity\":0.2},\"type\":\"scatter\"}],\"parcoords\":[{\"type\":\"parcoords\",\"line\":{\"colorbar\":{\"outlinewidth\":0,\"ticks\":\"\"}}}],\"scatterpolargl\":[{\"type\":\"scatterpolargl\",\"marker\":{\"colorbar\":{\"outlinewidth\":0,\"ticks\":\"\"}}}],\"bar\":[{\"error_x\":{\"color\":\"#2a3f5f\"},\"error_y\":{\"color\":\"#2a3f5f\"},\"marker\":{\"line\":{\"color\":\"#E5ECF6\",\"width\":0.5},\"pattern\":{\"fillmode\":\"overlay\",\"size\":10,\"solidity\":0.2}},\"type\":\"bar\"}],\"scattergeo\":[{\"type\":\"scattergeo\",\"marker\":{\"colorbar\":{\"outlinewidth\":0,\"ticks\":\"\"}}}],\"scatterpolar\":[{\"type\":\"scatterpolar\",\"marker\":{\"colorbar\":{\"outlinewidth\":0,\"ticks\":\"\"}}}],\"histogram\":[{\"marker\":{\"pattern\":{\"fillmode\":\"overlay\",\"size\":10,\"solidity\":0.2}},\"type\":\"histogram\"}],\"scattergl\":[{\"type\":\"scattergl\",\"marker\":{\"colorbar\":{\"outlinewidth\":0,\"ticks\":\"\"}}}],\"scatter3d\":[{\"type\":\"scatter3d\",\"line\":{\"colorbar\":{\"outlinewidth\":0,\"ticks\":\"\"}},\"marker\":{\"colorbar\":{\"outlinewidth\":0,\"ticks\":\"\"}}}],\"scattermap\":[{\"type\":\"scattermap\",\"marker\":{\"colorbar\":{\"outlinewidth\":0,\"ticks\":\"\"}}}],\"scattermapbox\":[{\"type\":\"scattermapbox\",\"marker\":{\"colorbar\":{\"outlinewidth\":0,\"ticks\":\"\"}}}],\"scatterternary\":[{\"type\":\"scatterternary\",\"marker\":{\"colorbar\":{\"outlinewidth\":0,\"ticks\":\"\"}}}],\"scattercarpet\":[{\"type\":\"scattercarpet\",\"marker\":{\"colorbar\":{\"outlinewidth\":0,\"ticks\":\"\"}}}],\"carpet\":[{\"aaxis\":{\"endlinecolor\":\"#2a3f5f\",\"gridcolor\":\"white\",\"linecolor\":\"white\",\"minorgridcolor\":\"white\",\"startlinecolor\":\"#2a3f5f\"},\"baxis\":{\"endlinecolor\":\"#2a3f5f\",\"gridcolor\":\"white\",\"linecolor\":\"white\",\"minorgridcolor\":\"white\",\"startlinecolor\":\"#2a3f5f\"},\"type\":\"carpet\"}],\"table\":[{\"cells\":{\"fill\":{\"color\":\"#EBF0F8\"},\"line\":{\"color\":\"white\"}},\"header\":{\"fill\":{\"color\":\"#C8D4E3\"},\"line\":{\"color\":\"white\"}},\"type\":\"table\"}],\"barpolar\":[{\"marker\":{\"line\":{\"color\":\"#E5ECF6\",\"width\":0.5},\"pattern\":{\"fillmode\":\"overlay\",\"size\":10,\"solidity\":0.2}},\"type\":\"barpolar\"}],\"pie\":[{\"automargin\":true,\"type\":\"pie\"}]},\"layout\":{\"autotypenumbers\":\"strict\",\"colorway\":[\"#636efa\",\"#EF553B\",\"#00cc96\",\"#ab63fa\",\"#FFA15A\",\"#19d3f3\",\"#FF6692\",\"#B6E880\",\"#FF97FF\",\"#FECB52\"],\"font\":{\"color\":\"#2a3f5f\"},\"hovermode\":\"closest\",\"hoverlabel\":{\"align\":\"left\"},\"paper_bgcolor\":\"white\",\"plot_bgcolor\":\"#E5ECF6\",\"polar\":{\"bgcolor\":\"#E5ECF6\",\"angularaxis\":{\"gridcolor\":\"white\",\"linecolor\":\"white\",\"ticks\":\"\"},\"radialaxis\":{\"gridcolor\":\"white\",\"linecolor\":\"white\",\"ticks\":\"\"}},\"ternary\":{\"bgcolor\":\"#E5ECF6\",\"aaxis\":{\"gridcolor\":\"white\",\"linecolor\":\"white\",\"ticks\":\"\"},\"baxis\":{\"gridcolor\":\"white\",\"linecolor\":\"white\",\"ticks\":\"\"},\"caxis\":{\"gridcolor\":\"white\",\"linecolor\":\"white\",\"ticks\":\"\"}},\"coloraxis\":{\"colorbar\":{\"outlinewidth\":0,\"ticks\":\"\"}},\"colorscale\":{\"sequential\":[[0.0,\"#0d0887\"],[0.1111111111111111,\"#46039f\"],[0.2222222222222222,\"#7201a8\"],[0.3333333333333333,\"#9c179e\"],[0.4444444444444444,\"#bd3786\"],[0.5555555555555556,\"#d8576b\"],[0.6666666666666666,\"#ed7953\"],[0.7777777777777778,\"#fb9f3a\"],[0.8888888888888888,\"#fdca26\"],[1.0,\"#f0f921\"]],\"sequentialminus\":[[0.0,\"#0d0887\"],[0.1111111111111111,\"#46039f\"],[0.2222222222222222,\"#7201a8\"],[0.3333333333333333,\"#9c179e\"],[0.4444444444444444,\"#bd3786\"],[0.5555555555555556,\"#d8576b\"],[0.6666666666666666,\"#ed7953\"],[0.7777777777777778,\"#fb9f3a\"],[0.8888888888888888,\"#fdca26\"],[1.0,\"#f0f921\"]],\"diverging\":[[0,\"#8e0152\"],[0.1,\"#c51b7d\"],[0.2,\"#de77ae\"],[0.3,\"#f1b6da\"],[0.4,\"#fde0ef\"],[0.5,\"#f7f7f7\"],[0.6,\"#e6f5d0\"],[0.7,\"#b8e186\"],[0.8,\"#7fbc41\"],[0.9,\"#4d9221\"],[1,\"#276419\"]]},\"xaxis\":{\"gridcolor\":\"white\",\"linecolor\":\"white\",\"ticks\":\"\",\"title\":{\"standoff\":15},\"zerolinecolor\":\"white\",\"automargin\":true,\"zerolinewidth\":2},\"yaxis\":{\"gridcolor\":\"white\",\"linecolor\":\"white\",\"ticks\":\"\",\"title\":{\"standoff\":15},\"zerolinecolor\":\"white\",\"automargin\":true,\"zerolinewidth\":2},\"scene\":{\"xaxis\":{\"backgroundcolor\":\"#E5ECF6\",\"gridcolor\":\"white\",\"linecolor\":\"white\",\"showbackground\":true,\"ticks\":\"\",\"zerolinecolor\":\"white\",\"gridwidth\":2},\"yaxis\":{\"backgroundcolor\":\"#E5ECF6\",\"gridcolor\":\"white\",\"linecolor\":\"white\",\"showbackground\":true,\"ticks\":\"\",\"zerolinecolor\":\"white\",\"gridwidth\":2},\"zaxis\":{\"backgroundcolor\":\"#E5ECF6\",\"gridcolor\":\"white\",\"linecolor\":\"white\",\"showbackground\":true,\"ticks\":\"\",\"zerolinecolor\":\"white\",\"gridwidth\":2}},\"shapedefaults\":{\"line\":{\"color\":\"#2a3f5f\"}},\"annotationdefaults\":{\"arrowcolor\":\"#2a3f5f\",\"arrowhead\":0,\"arrowwidth\":1},\"geo\":{\"bgcolor\":\"white\",\"landcolor\":\"#E5ECF6\",\"subunitcolor\":\"white\",\"showland\":true,\"showlakes\":true,\"lakecolor\":\"white\"},\"title\":{\"x\":0.05},\"mapbox\":{\"style\":\"light\"}}},\"xaxis\":{\"anchor\":\"y\",\"domain\":[0.0,1.0],\"scaleanchor\":\"y\",\"constrain\":\"domain\",\"title\":{\"text\":\"Test Species\"}},\"yaxis\":{\"anchor\":\"x\",\"domain\":[0.0,1.0],\"autorange\":\"reversed\",\"constrain\":\"domain\",\"title\":{\"text\":\"Train Species\"}},\"coloraxis\":{\"colorbar\":{\"title\":{\"text\":\"Balanced Accuracy\"}},\"colorscale\":[[0.0,\"#440154\"],[0.1111111111111111,\"#482878\"],[0.2222222222222222,\"#3e4989\"],[0.3333333333333333,\"#31688e\"],[0.4444444444444444,\"#26828e\"],[0.5555555555555556,\"#1f9e89\"],[0.6666666666666666,\"#35b779\"],[0.7777777777777778,\"#6ece58\"],[0.8888888888888888,\"#b5de2b\"],[1.0,\"#fde725\"]]},\"title\":{\"text\":\"Balanced Accuracy Heatmap\"}},                        {\"responsive\": true}                    ).then(function(){\n",
       "                            \n",
       "var gd = document.getElementById('0d4536f0-7c0d-4c67-b932-e139565d45c8');\n",
       "var x = new MutationObserver(function (mutations, observer) {{\n",
       "        var display = window.getComputedStyle(gd).display;\n",
       "        if (!display || display === 'none') {{\n",
       "            console.log([gd, 'removed!']);\n",
       "            Plotly.purge(gd);\n",
       "            observer.disconnect();\n",
       "        }}\n",
       "}});\n",
       "\n",
       "// Listen for the removal of the full notebook cells\n",
       "var notebookContainer = gd.closest('#notebook-container');\n",
       "if (notebookContainer) {{\n",
       "    x.observe(notebookContainer, {childList: true});\n",
       "}}\n",
       "\n",
       "// Listen for the clearing of the current output cell\n",
       "var outputEl = gd.closest('.output');\n",
       "if (outputEl) {{\n",
       "    x.observe(outputEl, {childList: true});\n",
       "}}\n",
       "\n",
       "                        })                };            </script>        </div>"
      ]
     },
     "metadata": {},
     "output_type": "display_data"
    },
    {
     "data": {
      "application/vnd.plotly.v1+json": {
       "config": {
        "plotlyServerURL": "https://plot.ly"
       },
       "data": [
        {
         "coloraxis": "coloraxis",
         "hovertemplate": "Test Species: %{x}<br>Train Species: %{y}<br>Macro F1 Score: %{z}<extra></extra>",
         "name": "0",
         "type": "heatmap",
         "x": [
          "Bacillus",
          "Ecoli",
          "Mouse",
          "Human",
          "Arabidopsis"
         ],
         "xaxis": "x",
         "y": [
          "Bacillus",
          "Ecoli",
          "Mouse",
          "Human",
          "Arabidopsis"
         ],
         "yaxis": "y",
         "z": {
          "bdata": "KlYt3fRL6T9nbCqLflDlPzga7QrZJtY/D6qR9CFg1z/uwDJlSzjlP3aNHaLe2OA/ukbiP5I56z+cmFcPmsXLP0wmcBkgGdQ/tR3zLtDl1T8QzbzxTD/XP1S6p6RTt8w/c7YY6WcS6z9wdxXiGv/nP49I0TCMA9g/T0P0gH/B1j/WqLRjKrLQPzCP7TrF5Oo/vjYUDtAU6j9wLjijXb3ZP/ysgqdcK+M/YWVstGLi4z+I9rz/MgLYP1vaCAjyWtg/sFdlhz567D8=",
          "dtype": "f8",
          "shape": "5, 5"
         }
        }
       ],
       "layout": {
        "coloraxis": {
         "colorbar": {
          "title": {
           "text": "Macro F1 Score"
          }
         },
         "colorscale": [
          [
           0,
           "#440154"
          ],
          [
           0.1111111111111111,
           "#482878"
          ],
          [
           0.2222222222222222,
           "#3e4989"
          ],
          [
           0.3333333333333333,
           "#31688e"
          ],
          [
           0.4444444444444444,
           "#26828e"
          ],
          [
           0.5555555555555556,
           "#1f9e89"
          ],
          [
           0.6666666666666666,
           "#35b779"
          ],
          [
           0.7777777777777778,
           "#6ece58"
          ],
          [
           0.8888888888888888,
           "#b5de2b"
          ],
          [
           1,
           "#fde725"
          ]
         ]
        },
        "template": {
         "data": {
          "bar": [
           {
            "error_x": {
             "color": "#2a3f5f"
            },
            "error_y": {
             "color": "#2a3f5f"
            },
            "marker": {
             "line": {
              "color": "#E5ECF6",
              "width": 0.5
             },
             "pattern": {
              "fillmode": "overlay",
              "size": 10,
              "solidity": 0.2
             }
            },
            "type": "bar"
           }
          ],
          "barpolar": [
           {
            "marker": {
             "line": {
              "color": "#E5ECF6",
              "width": 0.5
             },
             "pattern": {
              "fillmode": "overlay",
              "size": 10,
              "solidity": 0.2
             }
            },
            "type": "barpolar"
           }
          ],
          "carpet": [
           {
            "aaxis": {
             "endlinecolor": "#2a3f5f",
             "gridcolor": "white",
             "linecolor": "white",
             "minorgridcolor": "white",
             "startlinecolor": "#2a3f5f"
            },
            "baxis": {
             "endlinecolor": "#2a3f5f",
             "gridcolor": "white",
             "linecolor": "white",
             "minorgridcolor": "white",
             "startlinecolor": "#2a3f5f"
            },
            "type": "carpet"
           }
          ],
          "choropleth": [
           {
            "colorbar": {
             "outlinewidth": 0,
             "ticks": ""
            },
            "type": "choropleth"
           }
          ],
          "contour": [
           {
            "colorbar": {
             "outlinewidth": 0,
             "ticks": ""
            },
            "colorscale": [
             [
              0,
              "#0d0887"
             ],
             [
              0.1111111111111111,
              "#46039f"
             ],
             [
              0.2222222222222222,
              "#7201a8"
             ],
             [
              0.3333333333333333,
              "#9c179e"
             ],
             [
              0.4444444444444444,
              "#bd3786"
             ],
             [
              0.5555555555555556,
              "#d8576b"
             ],
             [
              0.6666666666666666,
              "#ed7953"
             ],
             [
              0.7777777777777778,
              "#fb9f3a"
             ],
             [
              0.8888888888888888,
              "#fdca26"
             ],
             [
              1,
              "#f0f921"
             ]
            ],
            "type": "contour"
           }
          ],
          "contourcarpet": [
           {
            "colorbar": {
             "outlinewidth": 0,
             "ticks": ""
            },
            "type": "contourcarpet"
           }
          ],
          "heatmap": [
           {
            "colorbar": {
             "outlinewidth": 0,
             "ticks": ""
            },
            "colorscale": [
             [
              0,
              "#0d0887"
             ],
             [
              0.1111111111111111,
              "#46039f"
             ],
             [
              0.2222222222222222,
              "#7201a8"
             ],
             [
              0.3333333333333333,
              "#9c179e"
             ],
             [
              0.4444444444444444,
              "#bd3786"
             ],
             [
              0.5555555555555556,
              "#d8576b"
             ],
             [
              0.6666666666666666,
              "#ed7953"
             ],
             [
              0.7777777777777778,
              "#fb9f3a"
             ],
             [
              0.8888888888888888,
              "#fdca26"
             ],
             [
              1,
              "#f0f921"
             ]
            ],
            "type": "heatmap"
           }
          ],
          "histogram": [
           {
            "marker": {
             "pattern": {
              "fillmode": "overlay",
              "size": 10,
              "solidity": 0.2
             }
            },
            "type": "histogram"
           }
          ],
          "histogram2d": [
           {
            "colorbar": {
             "outlinewidth": 0,
             "ticks": ""
            },
            "colorscale": [
             [
              0,
              "#0d0887"
             ],
             [
              0.1111111111111111,
              "#46039f"
             ],
             [
              0.2222222222222222,
              "#7201a8"
             ],
             [
              0.3333333333333333,
              "#9c179e"
             ],
             [
              0.4444444444444444,
              "#bd3786"
             ],
             [
              0.5555555555555556,
              "#d8576b"
             ],
             [
              0.6666666666666666,
              "#ed7953"
             ],
             [
              0.7777777777777778,
              "#fb9f3a"
             ],
             [
              0.8888888888888888,
              "#fdca26"
             ],
             [
              1,
              "#f0f921"
             ]
            ],
            "type": "histogram2d"
           }
          ],
          "histogram2dcontour": [
           {
            "colorbar": {
             "outlinewidth": 0,
             "ticks": ""
            },
            "colorscale": [
             [
              0,
              "#0d0887"
             ],
             [
              0.1111111111111111,
              "#46039f"
             ],
             [
              0.2222222222222222,
              "#7201a8"
             ],
             [
              0.3333333333333333,
              "#9c179e"
             ],
             [
              0.4444444444444444,
              "#bd3786"
             ],
             [
              0.5555555555555556,
              "#d8576b"
             ],
             [
              0.6666666666666666,
              "#ed7953"
             ],
             [
              0.7777777777777778,
              "#fb9f3a"
             ],
             [
              0.8888888888888888,
              "#fdca26"
             ],
             [
              1,
              "#f0f921"
             ]
            ],
            "type": "histogram2dcontour"
           }
          ],
          "mesh3d": [
           {
            "colorbar": {
             "outlinewidth": 0,
             "ticks": ""
            },
            "type": "mesh3d"
           }
          ],
          "parcoords": [
           {
            "line": {
             "colorbar": {
              "outlinewidth": 0,
              "ticks": ""
             }
            },
            "type": "parcoords"
           }
          ],
          "pie": [
           {
            "automargin": true,
            "type": "pie"
           }
          ],
          "scatter": [
           {
            "fillpattern": {
             "fillmode": "overlay",
             "size": 10,
             "solidity": 0.2
            },
            "type": "scatter"
           }
          ],
          "scatter3d": [
           {
            "line": {
             "colorbar": {
              "outlinewidth": 0,
              "ticks": ""
             }
            },
            "marker": {
             "colorbar": {
              "outlinewidth": 0,
              "ticks": ""
             }
            },
            "type": "scatter3d"
           }
          ],
          "scattercarpet": [
           {
            "marker": {
             "colorbar": {
              "outlinewidth": 0,
              "ticks": ""
             }
            },
            "type": "scattercarpet"
           }
          ],
          "scattergeo": [
           {
            "marker": {
             "colorbar": {
              "outlinewidth": 0,
              "ticks": ""
             }
            },
            "type": "scattergeo"
           }
          ],
          "scattergl": [
           {
            "marker": {
             "colorbar": {
              "outlinewidth": 0,
              "ticks": ""
             }
            },
            "type": "scattergl"
           }
          ],
          "scattermap": [
           {
            "marker": {
             "colorbar": {
              "outlinewidth": 0,
              "ticks": ""
             }
            },
            "type": "scattermap"
           }
          ],
          "scattermapbox": [
           {
            "marker": {
             "colorbar": {
              "outlinewidth": 0,
              "ticks": ""
             }
            },
            "type": "scattermapbox"
           }
          ],
          "scatterpolar": [
           {
            "marker": {
             "colorbar": {
              "outlinewidth": 0,
              "ticks": ""
             }
            },
            "type": "scatterpolar"
           }
          ],
          "scatterpolargl": [
           {
            "marker": {
             "colorbar": {
              "outlinewidth": 0,
              "ticks": ""
             }
            },
            "type": "scatterpolargl"
           }
          ],
          "scatterternary": [
           {
            "marker": {
             "colorbar": {
              "outlinewidth": 0,
              "ticks": ""
             }
            },
            "type": "scatterternary"
           }
          ],
          "surface": [
           {
            "colorbar": {
             "outlinewidth": 0,
             "ticks": ""
            },
            "colorscale": [
             [
              0,
              "#0d0887"
             ],
             [
              0.1111111111111111,
              "#46039f"
             ],
             [
              0.2222222222222222,
              "#7201a8"
             ],
             [
              0.3333333333333333,
              "#9c179e"
             ],
             [
              0.4444444444444444,
              "#bd3786"
             ],
             [
              0.5555555555555556,
              "#d8576b"
             ],
             [
              0.6666666666666666,
              "#ed7953"
             ],
             [
              0.7777777777777778,
              "#fb9f3a"
             ],
             [
              0.8888888888888888,
              "#fdca26"
             ],
             [
              1,
              "#f0f921"
             ]
            ],
            "type": "surface"
           }
          ],
          "table": [
           {
            "cells": {
             "fill": {
              "color": "#EBF0F8"
             },
             "line": {
              "color": "white"
             }
            },
            "header": {
             "fill": {
              "color": "#C8D4E3"
             },
             "line": {
              "color": "white"
             }
            },
            "type": "table"
           }
          ]
         },
         "layout": {
          "annotationdefaults": {
           "arrowcolor": "#2a3f5f",
           "arrowhead": 0,
           "arrowwidth": 1
          },
          "autotypenumbers": "strict",
          "coloraxis": {
           "colorbar": {
            "outlinewidth": 0,
            "ticks": ""
           }
          },
          "colorscale": {
           "diverging": [
            [
             0,
             "#8e0152"
            ],
            [
             0.1,
             "#c51b7d"
            ],
            [
             0.2,
             "#de77ae"
            ],
            [
             0.3,
             "#f1b6da"
            ],
            [
             0.4,
             "#fde0ef"
            ],
            [
             0.5,
             "#f7f7f7"
            ],
            [
             0.6,
             "#e6f5d0"
            ],
            [
             0.7,
             "#b8e186"
            ],
            [
             0.8,
             "#7fbc41"
            ],
            [
             0.9,
             "#4d9221"
            ],
            [
             1,
             "#276419"
            ]
           ],
           "sequential": [
            [
             0,
             "#0d0887"
            ],
            [
             0.1111111111111111,
             "#46039f"
            ],
            [
             0.2222222222222222,
             "#7201a8"
            ],
            [
             0.3333333333333333,
             "#9c179e"
            ],
            [
             0.4444444444444444,
             "#bd3786"
            ],
            [
             0.5555555555555556,
             "#d8576b"
            ],
            [
             0.6666666666666666,
             "#ed7953"
            ],
            [
             0.7777777777777778,
             "#fb9f3a"
            ],
            [
             0.8888888888888888,
             "#fdca26"
            ],
            [
             1,
             "#f0f921"
            ]
           ],
           "sequentialminus": [
            [
             0,
             "#0d0887"
            ],
            [
             0.1111111111111111,
             "#46039f"
            ],
            [
             0.2222222222222222,
             "#7201a8"
            ],
            [
             0.3333333333333333,
             "#9c179e"
            ],
            [
             0.4444444444444444,
             "#bd3786"
            ],
            [
             0.5555555555555556,
             "#d8576b"
            ],
            [
             0.6666666666666666,
             "#ed7953"
            ],
            [
             0.7777777777777778,
             "#fb9f3a"
            ],
            [
             0.8888888888888888,
             "#fdca26"
            ],
            [
             1,
             "#f0f921"
            ]
           ]
          },
          "colorway": [
           "#636efa",
           "#EF553B",
           "#00cc96",
           "#ab63fa",
           "#FFA15A",
           "#19d3f3",
           "#FF6692",
           "#B6E880",
           "#FF97FF",
           "#FECB52"
          ],
          "font": {
           "color": "#2a3f5f"
          },
          "geo": {
           "bgcolor": "white",
           "lakecolor": "white",
           "landcolor": "#E5ECF6",
           "showlakes": true,
           "showland": true,
           "subunitcolor": "white"
          },
          "hoverlabel": {
           "align": "left"
          },
          "hovermode": "closest",
          "mapbox": {
           "style": "light"
          },
          "paper_bgcolor": "white",
          "plot_bgcolor": "#E5ECF6",
          "polar": {
           "angularaxis": {
            "gridcolor": "white",
            "linecolor": "white",
            "ticks": ""
           },
           "bgcolor": "#E5ECF6",
           "radialaxis": {
            "gridcolor": "white",
            "linecolor": "white",
            "ticks": ""
           }
          },
          "scene": {
           "xaxis": {
            "backgroundcolor": "#E5ECF6",
            "gridcolor": "white",
            "gridwidth": 2,
            "linecolor": "white",
            "showbackground": true,
            "ticks": "",
            "zerolinecolor": "white"
           },
           "yaxis": {
            "backgroundcolor": "#E5ECF6",
            "gridcolor": "white",
            "gridwidth": 2,
            "linecolor": "white",
            "showbackground": true,
            "ticks": "",
            "zerolinecolor": "white"
           },
           "zaxis": {
            "backgroundcolor": "#E5ECF6",
            "gridcolor": "white",
            "gridwidth": 2,
            "linecolor": "white",
            "showbackground": true,
            "ticks": "",
            "zerolinecolor": "white"
           }
          },
          "shapedefaults": {
           "line": {
            "color": "#2a3f5f"
           }
          },
          "ternary": {
           "aaxis": {
            "gridcolor": "white",
            "linecolor": "white",
            "ticks": ""
           },
           "baxis": {
            "gridcolor": "white",
            "linecolor": "white",
            "ticks": ""
           },
           "bgcolor": "#E5ECF6",
           "caxis": {
            "gridcolor": "white",
            "linecolor": "white",
            "ticks": ""
           }
          },
          "title": {
           "x": 0.05
          },
          "xaxis": {
           "automargin": true,
           "gridcolor": "white",
           "linecolor": "white",
           "ticks": "",
           "title": {
            "standoff": 15
           },
           "zerolinecolor": "white",
           "zerolinewidth": 2
          },
          "yaxis": {
           "automargin": true,
           "gridcolor": "white",
           "linecolor": "white",
           "ticks": "",
           "title": {
            "standoff": 15
           },
           "zerolinecolor": "white",
           "zerolinewidth": 2
          }
         }
        },
        "title": {
         "text": "Macro F1 Score Heatmap"
        },
        "xaxis": {
         "anchor": "y",
         "constrain": "domain",
         "domain": [
          0,
          1
         ],
         "scaleanchor": "y",
         "title": {
          "text": "Test Species"
         }
        },
        "yaxis": {
         "anchor": "x",
         "autorange": "reversed",
         "constrain": "domain",
         "domain": [
          0,
          1
         ],
         "title": {
          "text": "Train Species"
         }
        }
       }
      },
      "text/html": [
       "<div>            <script src=\"https://cdnjs.cloudflare.com/ajax/libs/mathjax/2.7.5/MathJax.js?config=TeX-AMS-MML_SVG\"></script><script type=\"text/javascript\">if (window.MathJax && window.MathJax.Hub && window.MathJax.Hub.Config) {window.MathJax.Hub.Config({SVG: {font: \"STIX-Web\"}});}</script>                <script type=\"text/javascript\">window.PlotlyConfig = {MathJaxConfig: 'local'};</script>\n",
       "        <script charset=\"utf-8\" src=\"https://cdn.plot.ly/plotly-3.0.0.min.js\"></script>                <div id=\"06bed9c1-6f4f-4088-bf03-205901cbace1\" class=\"plotly-graph-div\" style=\"height:525px; width:100%;\"></div>            <script type=\"text/javascript\">                window.PLOTLYENV=window.PLOTLYENV || {};                                if (document.getElementById(\"06bed9c1-6f4f-4088-bf03-205901cbace1\")) {                    Plotly.newPlot(                        \"06bed9c1-6f4f-4088-bf03-205901cbace1\",                        [{\"coloraxis\":\"coloraxis\",\"name\":\"0\",\"x\":[\"Bacillus\",\"Ecoli\",\"Mouse\",\"Human\",\"Arabidopsis\"],\"y\":[\"Bacillus\",\"Ecoli\",\"Mouse\",\"Human\",\"Arabidopsis\"],\"z\":{\"dtype\":\"f8\",\"bdata\":\"KlYt3fRL6T9nbCqLflDlPzga7QrZJtY\\u002fD6qR9CFg1z\\u002fuwDJlSzjlP3aNHaLe2OA\\u002fukbiP5I56z+cmFcPmsXLP0wmcBkgGdQ\\u002ftR3zLtDl1T8QzbzxTD\\u002fXP1S6p6RTt8w\\u002fc7YY6WcS6z9wdxXiGv\\u002fnP49I0TCMA9g\\u002fT0P0gH\\u002fB1j\\u002fWqLRjKrLQPzCP7TrF5Oo\\u002fvjYUDtAU6j9wLjijXb3ZP\\u002fysgqdcK+M\\u002fYWVstGLi4z+I9rz\\u002fMgLYP1vaCAjyWtg\\u002fsFdlhz567D8=\",\"shape\":\"5, 5\"},\"type\":\"heatmap\",\"xaxis\":\"x\",\"yaxis\":\"y\",\"hovertemplate\":\"Test Species: %{x}\\u003cbr\\u003eTrain Species: %{y}\\u003cbr\\u003eMacro F1 Score: %{z}\\u003cextra\\u003e\\u003c\\u002fextra\\u003e\"}],                        {\"template\":{\"data\":{\"histogram2dcontour\":[{\"type\":\"histogram2dcontour\",\"colorbar\":{\"outlinewidth\":0,\"ticks\":\"\"},\"colorscale\":[[0.0,\"#0d0887\"],[0.1111111111111111,\"#46039f\"],[0.2222222222222222,\"#7201a8\"],[0.3333333333333333,\"#9c179e\"],[0.4444444444444444,\"#bd3786\"],[0.5555555555555556,\"#d8576b\"],[0.6666666666666666,\"#ed7953\"],[0.7777777777777778,\"#fb9f3a\"],[0.8888888888888888,\"#fdca26\"],[1.0,\"#f0f921\"]]}],\"choropleth\":[{\"type\":\"choropleth\",\"colorbar\":{\"outlinewidth\":0,\"ticks\":\"\"}}],\"histogram2d\":[{\"type\":\"histogram2d\",\"colorbar\":{\"outlinewidth\":0,\"ticks\":\"\"},\"colorscale\":[[0.0,\"#0d0887\"],[0.1111111111111111,\"#46039f\"],[0.2222222222222222,\"#7201a8\"],[0.3333333333333333,\"#9c179e\"],[0.4444444444444444,\"#bd3786\"],[0.5555555555555556,\"#d8576b\"],[0.6666666666666666,\"#ed7953\"],[0.7777777777777778,\"#fb9f3a\"],[0.8888888888888888,\"#fdca26\"],[1.0,\"#f0f921\"]]}],\"heatmap\":[{\"type\":\"heatmap\",\"colorbar\":{\"outlinewidth\":0,\"ticks\":\"\"},\"colorscale\":[[0.0,\"#0d0887\"],[0.1111111111111111,\"#46039f\"],[0.2222222222222222,\"#7201a8\"],[0.3333333333333333,\"#9c179e\"],[0.4444444444444444,\"#bd3786\"],[0.5555555555555556,\"#d8576b\"],[0.6666666666666666,\"#ed7953\"],[0.7777777777777778,\"#fb9f3a\"],[0.8888888888888888,\"#fdca26\"],[1.0,\"#f0f921\"]]}],\"contourcarpet\":[{\"type\":\"contourcarpet\",\"colorbar\":{\"outlinewidth\":0,\"ticks\":\"\"}}],\"contour\":[{\"type\":\"contour\",\"colorbar\":{\"outlinewidth\":0,\"ticks\":\"\"},\"colorscale\":[[0.0,\"#0d0887\"],[0.1111111111111111,\"#46039f\"],[0.2222222222222222,\"#7201a8\"],[0.3333333333333333,\"#9c179e\"],[0.4444444444444444,\"#bd3786\"],[0.5555555555555556,\"#d8576b\"],[0.6666666666666666,\"#ed7953\"],[0.7777777777777778,\"#fb9f3a\"],[0.8888888888888888,\"#fdca26\"],[1.0,\"#f0f921\"]]}],\"surface\":[{\"type\":\"surface\",\"colorbar\":{\"outlinewidth\":0,\"ticks\":\"\"},\"colorscale\":[[0.0,\"#0d0887\"],[0.1111111111111111,\"#46039f\"],[0.2222222222222222,\"#7201a8\"],[0.3333333333333333,\"#9c179e\"],[0.4444444444444444,\"#bd3786\"],[0.5555555555555556,\"#d8576b\"],[0.6666666666666666,\"#ed7953\"],[0.7777777777777778,\"#fb9f3a\"],[0.8888888888888888,\"#fdca26\"],[1.0,\"#f0f921\"]]}],\"mesh3d\":[{\"type\":\"mesh3d\",\"colorbar\":{\"outlinewidth\":0,\"ticks\":\"\"}}],\"scatter\":[{\"fillpattern\":{\"fillmode\":\"overlay\",\"size\":10,\"solidity\":0.2},\"type\":\"scatter\"}],\"parcoords\":[{\"type\":\"parcoords\",\"line\":{\"colorbar\":{\"outlinewidth\":0,\"ticks\":\"\"}}}],\"scatterpolargl\":[{\"type\":\"scatterpolargl\",\"marker\":{\"colorbar\":{\"outlinewidth\":0,\"ticks\":\"\"}}}],\"bar\":[{\"error_x\":{\"color\":\"#2a3f5f\"},\"error_y\":{\"color\":\"#2a3f5f\"},\"marker\":{\"line\":{\"color\":\"#E5ECF6\",\"width\":0.5},\"pattern\":{\"fillmode\":\"overlay\",\"size\":10,\"solidity\":0.2}},\"type\":\"bar\"}],\"scattergeo\":[{\"type\":\"scattergeo\",\"marker\":{\"colorbar\":{\"outlinewidth\":0,\"ticks\":\"\"}}}],\"scatterpolar\":[{\"type\":\"scatterpolar\",\"marker\":{\"colorbar\":{\"outlinewidth\":0,\"ticks\":\"\"}}}],\"histogram\":[{\"marker\":{\"pattern\":{\"fillmode\":\"overlay\",\"size\":10,\"solidity\":0.2}},\"type\":\"histogram\"}],\"scattergl\":[{\"type\":\"scattergl\",\"marker\":{\"colorbar\":{\"outlinewidth\":0,\"ticks\":\"\"}}}],\"scatter3d\":[{\"type\":\"scatter3d\",\"line\":{\"colorbar\":{\"outlinewidth\":0,\"ticks\":\"\"}},\"marker\":{\"colorbar\":{\"outlinewidth\":0,\"ticks\":\"\"}}}],\"scattermap\":[{\"type\":\"scattermap\",\"marker\":{\"colorbar\":{\"outlinewidth\":0,\"ticks\":\"\"}}}],\"scattermapbox\":[{\"type\":\"scattermapbox\",\"marker\":{\"colorbar\":{\"outlinewidth\":0,\"ticks\":\"\"}}}],\"scatterternary\":[{\"type\":\"scatterternary\",\"marker\":{\"colorbar\":{\"outlinewidth\":0,\"ticks\":\"\"}}}],\"scattercarpet\":[{\"type\":\"scattercarpet\",\"marker\":{\"colorbar\":{\"outlinewidth\":0,\"ticks\":\"\"}}}],\"carpet\":[{\"aaxis\":{\"endlinecolor\":\"#2a3f5f\",\"gridcolor\":\"white\",\"linecolor\":\"white\",\"minorgridcolor\":\"white\",\"startlinecolor\":\"#2a3f5f\"},\"baxis\":{\"endlinecolor\":\"#2a3f5f\",\"gridcolor\":\"white\",\"linecolor\":\"white\",\"minorgridcolor\":\"white\",\"startlinecolor\":\"#2a3f5f\"},\"type\":\"carpet\"}],\"table\":[{\"cells\":{\"fill\":{\"color\":\"#EBF0F8\"},\"line\":{\"color\":\"white\"}},\"header\":{\"fill\":{\"color\":\"#C8D4E3\"},\"line\":{\"color\":\"white\"}},\"type\":\"table\"}],\"barpolar\":[{\"marker\":{\"line\":{\"color\":\"#E5ECF6\",\"width\":0.5},\"pattern\":{\"fillmode\":\"overlay\",\"size\":10,\"solidity\":0.2}},\"type\":\"barpolar\"}],\"pie\":[{\"automargin\":true,\"type\":\"pie\"}]},\"layout\":{\"autotypenumbers\":\"strict\",\"colorway\":[\"#636efa\",\"#EF553B\",\"#00cc96\",\"#ab63fa\",\"#FFA15A\",\"#19d3f3\",\"#FF6692\",\"#B6E880\",\"#FF97FF\",\"#FECB52\"],\"font\":{\"color\":\"#2a3f5f\"},\"hovermode\":\"closest\",\"hoverlabel\":{\"align\":\"left\"},\"paper_bgcolor\":\"white\",\"plot_bgcolor\":\"#E5ECF6\",\"polar\":{\"bgcolor\":\"#E5ECF6\",\"angularaxis\":{\"gridcolor\":\"white\",\"linecolor\":\"white\",\"ticks\":\"\"},\"radialaxis\":{\"gridcolor\":\"white\",\"linecolor\":\"white\",\"ticks\":\"\"}},\"ternary\":{\"bgcolor\":\"#E5ECF6\",\"aaxis\":{\"gridcolor\":\"white\",\"linecolor\":\"white\",\"ticks\":\"\"},\"baxis\":{\"gridcolor\":\"white\",\"linecolor\":\"white\",\"ticks\":\"\"},\"caxis\":{\"gridcolor\":\"white\",\"linecolor\":\"white\",\"ticks\":\"\"}},\"coloraxis\":{\"colorbar\":{\"outlinewidth\":0,\"ticks\":\"\"}},\"colorscale\":{\"sequential\":[[0.0,\"#0d0887\"],[0.1111111111111111,\"#46039f\"],[0.2222222222222222,\"#7201a8\"],[0.3333333333333333,\"#9c179e\"],[0.4444444444444444,\"#bd3786\"],[0.5555555555555556,\"#d8576b\"],[0.6666666666666666,\"#ed7953\"],[0.7777777777777778,\"#fb9f3a\"],[0.8888888888888888,\"#fdca26\"],[1.0,\"#f0f921\"]],\"sequentialminus\":[[0.0,\"#0d0887\"],[0.1111111111111111,\"#46039f\"],[0.2222222222222222,\"#7201a8\"],[0.3333333333333333,\"#9c179e\"],[0.4444444444444444,\"#bd3786\"],[0.5555555555555556,\"#d8576b\"],[0.6666666666666666,\"#ed7953\"],[0.7777777777777778,\"#fb9f3a\"],[0.8888888888888888,\"#fdca26\"],[1.0,\"#f0f921\"]],\"diverging\":[[0,\"#8e0152\"],[0.1,\"#c51b7d\"],[0.2,\"#de77ae\"],[0.3,\"#f1b6da\"],[0.4,\"#fde0ef\"],[0.5,\"#f7f7f7\"],[0.6,\"#e6f5d0\"],[0.7,\"#b8e186\"],[0.8,\"#7fbc41\"],[0.9,\"#4d9221\"],[1,\"#276419\"]]},\"xaxis\":{\"gridcolor\":\"white\",\"linecolor\":\"white\",\"ticks\":\"\",\"title\":{\"standoff\":15},\"zerolinecolor\":\"white\",\"automargin\":true,\"zerolinewidth\":2},\"yaxis\":{\"gridcolor\":\"white\",\"linecolor\":\"white\",\"ticks\":\"\",\"title\":{\"standoff\":15},\"zerolinecolor\":\"white\",\"automargin\":true,\"zerolinewidth\":2},\"scene\":{\"xaxis\":{\"backgroundcolor\":\"#E5ECF6\",\"gridcolor\":\"white\",\"linecolor\":\"white\",\"showbackground\":true,\"ticks\":\"\",\"zerolinecolor\":\"white\",\"gridwidth\":2},\"yaxis\":{\"backgroundcolor\":\"#E5ECF6\",\"gridcolor\":\"white\",\"linecolor\":\"white\",\"showbackground\":true,\"ticks\":\"\",\"zerolinecolor\":\"white\",\"gridwidth\":2},\"zaxis\":{\"backgroundcolor\":\"#E5ECF6\",\"gridcolor\":\"white\",\"linecolor\":\"white\",\"showbackground\":true,\"ticks\":\"\",\"zerolinecolor\":\"white\",\"gridwidth\":2}},\"shapedefaults\":{\"line\":{\"color\":\"#2a3f5f\"}},\"annotationdefaults\":{\"arrowcolor\":\"#2a3f5f\",\"arrowhead\":0,\"arrowwidth\":1},\"geo\":{\"bgcolor\":\"white\",\"landcolor\":\"#E5ECF6\",\"subunitcolor\":\"white\",\"showland\":true,\"showlakes\":true,\"lakecolor\":\"white\"},\"title\":{\"x\":0.05},\"mapbox\":{\"style\":\"light\"}}},\"xaxis\":{\"anchor\":\"y\",\"domain\":[0.0,1.0],\"scaleanchor\":\"y\",\"constrain\":\"domain\",\"title\":{\"text\":\"Test Species\"}},\"yaxis\":{\"anchor\":\"x\",\"domain\":[0.0,1.0],\"autorange\":\"reversed\",\"constrain\":\"domain\",\"title\":{\"text\":\"Train Species\"}},\"coloraxis\":{\"colorbar\":{\"title\":{\"text\":\"Macro F1 Score\"}},\"colorscale\":[[0.0,\"#440154\"],[0.1111111111111111,\"#482878\"],[0.2222222222222222,\"#3e4989\"],[0.3333333333333333,\"#31688e\"],[0.4444444444444444,\"#26828e\"],[0.5555555555555556,\"#1f9e89\"],[0.6666666666666666,\"#35b779\"],[0.7777777777777778,\"#6ece58\"],[0.8888888888888888,\"#b5de2b\"],[1.0,\"#fde725\"]]},\"title\":{\"text\":\"Macro F1 Score Heatmap\"}},                        {\"responsive\": true}                    ).then(function(){\n",
       "                            \n",
       "var gd = document.getElementById('06bed9c1-6f4f-4088-bf03-205901cbace1');\n",
       "var x = new MutationObserver(function (mutations, observer) {{\n",
       "        var display = window.getComputedStyle(gd).display;\n",
       "        if (!display || display === 'none') {{\n",
       "            console.log([gd, 'removed!']);\n",
       "            Plotly.purge(gd);\n",
       "            observer.disconnect();\n",
       "        }}\n",
       "}});\n",
       "\n",
       "// Listen for the removal of the full notebook cells\n",
       "var notebookContainer = gd.closest('#notebook-container');\n",
       "if (notebookContainer) {{\n",
       "    x.observe(notebookContainer, {childList: true});\n",
       "}}\n",
       "\n",
       "// Listen for the clearing of the current output cell\n",
       "var outputEl = gd.closest('.output');\n",
       "if (outputEl) {{\n",
       "    x.observe(outputEl, {childList: true});\n",
       "}}\n",
       "\n",
       "                        })                };            </script>        </div>"
      ]
     },
     "metadata": {},
     "output_type": "display_data"
    }
   ],
   "source": [
    "balanced_accuracy_df = pd.DataFrame(bal_acc_table, index=['Bacillus', 'Ecoli', 'Mouse', 'Human', 'Arabidopsis'])\n",
    "macro_f1_df = pd.DataFrame(f1_table, index=['Bacillus', 'Ecoli', 'Mouse', 'Human', 'Arabidopsis'])\n",
    "\n",
    "fig_balanced_accuracy = px.imshow(balanced_accuracy_df,\n",
    "                                  labels=dict(x=\"Test Species\", y=\"Train Species\", color=\"Balanced Accuracy\"),\n",
    "                                  color_continuous_scale='Viridis',\n",
    "                                  title=\"Balanced Accuracy Heatmap\")\n",
    "fig_balanced_accuracy.show()\n",
    "\n",
    "fig_macro_f1 = px.imshow(macro_f1_df,\n",
    "                         labels=dict(x=\"Test Species\", y=\"Train Species\", color=\"Macro F1 Score\"),\n",
    "                         color_continuous_scale='Viridis',\n",
    "                         title=\"Macro F1 Score Heatmap\")\n",
    "fig_macro_f1.show()"
   ]
  },
  {
   "cell_type": "markdown",
   "metadata": {
    "id": "F77FwOHdcd_A"
   },
   "source": [
    "My Observation based on simple *Logistic Regression* with *RandomOverSampler*:\n",
    "\n",
    "**Within-species performance is strong:**\n",
    "\n",
    "The model performs well when trained and evaluated on the same species, showing high balanced accuracy and macro F1 scores on the diagonal. For example:\n",
    "\n",
    "*  **Bacillus**: Balanced Accuracy 0.815, F1 0.791\n",
    "*  **Ecoli**: Balanced Accuracy 0.874, F1 0.851\n",
    "*  **Arabidopsis**: Balanced Accuracy 0.893, F1 0.890\n",
    "\n",
    "**Cross-species generalization remains challenging:**\n",
    "\n",
    "There is a significant drop in performance when the model is tested on species different from the one it was trained on. For example, training on Bacillus and testing on Mouse results in:\n",
    "\n",
    "*  Balanced Accuracy: 0.439, F1: 0.346\n",
    "*  **Ecoli**: Balanced Accuracy 0.315, F1 0.314 when tested on Human.\n",
    "\n",
    "**Prokaryote-to-eukaryote transfer is particularly poor:**\n",
    "\n",
    "When trained on prokaryotic species like Bacillus or Ecoli, the model shows very low performance when evaluated on eukaryotic species:\n",
    "\n",
    "*  **Bacillus -> Mouse:** Balanced Accuracy: 0.439, F1: 0.346\n",
    "*  **Ecoli -> Human:** Balanced Accuracy: 0.315, F1: 0.314\n",
    "\n",
    "**Better performance between similar species:**\n",
    "\n",
    "The model performs reasonably better when tested within similar species groups. For example, between **Mouse and Human:**\n",
    "\n",
    "*  Balanced Accuracy: 0.757-0.829\n",
    "*  F1: 0.750-0.840\n",
    "\n",
    "**Arabidopsis to other species:**\n",
    "\n",
    "Arabidopsis shows moderate transferability to Bacillus and Ecoli, with balanced accuracy around 0.61–0.62, but still lags behind within-species performance:\n",
    "\n",
    "*  Balanced Accuracy: 0.625 (Bacillus), 0.613 (Ecoli)\n",
    "*  F1: 0.599 (Bacillus), 0.621 (Ecoli)\n",
    "\n",
    "The model performs well within species, but cross-species transfer is limited, particularly when moving between prokaryotes and eukaryotes."
   ]
  }
 ],
 "metadata": {
  "accelerator": "GPU",
  "colab": {
   "collapsed_sections": [
    "KSVuYbkkI6Xs"
   ],
   "gpuType": "T4",
   "provenance": []
  },
  "kernelspec": {
   "display_name": "Python 3 (ipykernel)",
   "language": "python",
   "name": "python3"
  },
  "language_info": {
   "codemirror_mode": {
    "name": "ipython",
    "version": 3
   },
   "file_extension": ".py",
   "mimetype": "text/x-python",
   "name": "python",
   "nbconvert_exporter": "python",
   "pygments_lexer": "ipython3",
   "version": "3.12.3"
  }
 },
 "nbformat": 4,
 "nbformat_minor": 4
}
